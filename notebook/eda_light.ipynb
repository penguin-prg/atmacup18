{
 "cells": [
  {
   "cell_type": "code",
   "execution_count": 1,
   "metadata": {},
   "outputs": [],
   "source": [
    "import cv2\n",
    "import matplotlib.pyplot as plt\n",
    "import numpy as np\n",
    "import polars as pl"
   ]
  },
  {
   "cell_type": "code",
   "execution_count": 2,
   "metadata": {},
   "outputs": [
    {
     "name": "stdout",
     "output_type": "stream",
     "text": [
      "(43371, 32)\n"
     ]
    },
    {
     "data": {
      "text/html": [
       "<div><style>\n",
       ".dataframe > thead > tr,\n",
       ".dataframe > tbody > tr {\n",
       "  text-align: right;\n",
       "  white-space: pre-wrap;\n",
       "}\n",
       "</style>\n",
       "<small>shape: (5, 32)</small><table border=\"1\" class=\"dataframe\"><thead><tr><th>ID</th><th>vEgo</th><th>aEgo</th><th>steeringAngleDeg</th><th>steeringTorque</th><th>brake</th><th>brakePressed</th><th>gas</th><th>gasPressed</th><th>gearShifter</th><th>leftBlinker</th><th>rightBlinker</th><th>x_0</th><th>y_0</th><th>z_0</th><th>x_1</th><th>y_1</th><th>z_1</th><th>x_2</th><th>y_2</th><th>z_2</th><th>x_3</th><th>y_3</th><th>z_3</th><th>x_4</th><th>y_4</th><th>z_4</th><th>x_5</th><th>y_5</th><th>z_5</th><th>sceneID</th><th>offset</th></tr><tr><td>str</td><td>f64</td><td>f64</td><td>f64</td><td>f64</td><td>f64</td><td>bool</td><td>f64</td><td>bool</td><td>str</td><td>bool</td><td>bool</td><td>f64</td><td>f64</td><td>f64</td><td>f64</td><td>f64</td><td>f64</td><td>f64</td><td>f64</td><td>f64</td><td>f64</td><td>f64</td><td>f64</td><td>f64</td><td>f64</td><td>f64</td><td>f64</td><td>f64</td><td>f64</td><td>str</td><td>f32</td></tr></thead><tbody><tr><td>&quot;00066be8e20318869c38c66be46663…</td><td>5.701526</td><td>1.538456</td><td>-2.165777</td><td>-139.0</td><td>0.0</td><td>false</td><td>0.25</td><td>true</td><td>&quot;drive&quot;</td><td>false</td><td>false</td><td>2.82959</td><td>0.032226</td><td>0.045187</td><td>6.231999</td><td>0.065895</td><td>0.107974</td><td>9.785009</td><td>0.124972</td><td>0.203649</td><td>13.485472</td><td>0.163448</td><td>0.302818</td><td>17.574227</td><td>0.174289</td><td>0.406331</td><td>21.951269</td><td>0.199503</td><td>0.485079</td><td>&quot;00066be8e20318869c38c66be46663…</td><td>320.0</td></tr><tr><td>&quot;00066be8e20318869c38c66be46663…</td><td>11.176292</td><td>0.279881</td><td>-11.625697</td><td>-44.0</td><td>0.0</td><td>false</td><td>0.0</td><td>false</td><td>&quot;drive&quot;</td><td>false</td><td>true</td><td>4.970268</td><td>-0.007936</td><td>0.005028</td><td>10.350489</td><td>-0.032374</td><td>-0.020701</td><td>15.770054</td><td>0.084073</td><td>0.008645</td><td>21.132415</td><td>0.391343</td><td>0.036335</td><td>26.316489</td><td>0.843124</td><td>0.065</td><td>31.383814</td><td>1.42507</td><td>0.073083</td><td>&quot;00066be8e20318869c38c66be46663…</td><td>420.0</td></tr><tr><td>&quot;00066be8e20318869c38c66be46663…</td><td>10.472548</td><td>0.231099</td><td>-2.985105</td><td>-132.0</td><td>0.0</td><td>false</td><td>0.18</td><td>true</td><td>&quot;drive&quot;</td><td>false</td><td>false</td><td>4.815701</td><td>-0.000813</td><td>0.017577</td><td>10.153522</td><td>-0.0278</td><td>0.026165</td><td>15.446539</td><td>-0.155987</td><td>0.040397</td><td>20.61816</td><td>-0.356932</td><td>0.058765</td><td>25.677387</td><td>-0.576985</td><td>0.102859</td><td>30.460033</td><td>-0.841894</td><td>0.152889</td><td>&quot;00066be8e20318869c38c66be46663…</td><td>520.0</td></tr><tr><td>&quot;000fb056f97572d384bae4f5fc1e0f…</td><td>6.055565</td><td>-0.117775</td><td>7.632668</td><td>173.0</td><td>0.0</td><td>false</td><td>0.0</td><td>false</td><td>&quot;drive&quot;</td><td>false</td><td>false</td><td>2.812608</td><td>0.033731</td><td>0.0059</td><td>5.975378</td><td>0.137848</td><td>0.01621</td><td>9.186793</td><td>0.322997</td><td>0.031626</td><td>12.37311</td><td>0.603145</td><td>0.031858</td><td>15.703514</td><td>0.960717</td><td>0.043479</td><td>19.311182</td><td>1.374655</td><td>0.058754</td><td>&quot;000fb056f97572d384bae4f5fc1e0f…</td><td>120.0</td></tr><tr><td>&quot;000fb056f97572d384bae4f5fc1e0f…</td><td>3.316744</td><td>1.276733</td><td>-31.725477</td><td>-114.0</td><td>0.0</td><td>false</td><td>0.255</td><td>true</td><td>&quot;drive&quot;</td><td>false</td><td>false</td><td>1.55186</td><td>-0.041849</td><td>-0.008847</td><td>3.675162</td><td>-0.125189</td><td>-0.013725</td><td>6.113567</td><td>-0.239161</td><td>-0.012887</td><td>8.770783</td><td>-0.381813</td><td>-0.003898</td><td>11.619313</td><td>-0.554488</td><td>0.011393</td><td>14.657048</td><td>-0.7788</td><td>0.044243</td><td>&quot;000fb056f97572d384bae4f5fc1e0f…</td><td>20.0</td></tr></tbody></table></div>"
      ],
      "text/plain": [
       "shape: (5, 32)\n",
       "┌────────────┬───────────┬───────────┬────────────┬───┬───────────┬──────────┬────────────┬────────┐\n",
       "│ ID         ┆ vEgo      ┆ aEgo      ┆ steeringAn ┆ … ┆ y_5       ┆ z_5      ┆ sceneID    ┆ offset │\n",
       "│ ---        ┆ ---       ┆ ---       ┆ gleDeg     ┆   ┆ ---       ┆ ---      ┆ ---        ┆ ---    │\n",
       "│ str        ┆ f64       ┆ f64       ┆ ---        ┆   ┆ f64       ┆ f64      ┆ str        ┆ f32    │\n",
       "│            ┆           ┆           ┆ f64        ┆   ┆           ┆          ┆            ┆        │\n",
       "╞════════════╪═══════════╪═══════════╪════════════╪═══╪═══════════╪══════════╪════════════╪════════╡\n",
       "│ 00066be8e2 ┆ 5.701526  ┆ 1.538456  ┆ -2.165777  ┆ … ┆ 0.199503  ┆ 0.485079 ┆ 00066be8e2 ┆ 320.0  │\n",
       "│ 0318869c38 ┆           ┆           ┆            ┆   ┆           ┆          ┆ 0318869c38 ┆        │\n",
       "│ c66be46663 ┆           ┆           ┆            ┆   ┆           ┆          ┆ c66be46663 ┆        │\n",
       "│ …          ┆           ┆           ┆            ┆   ┆           ┆          ┆ …          ┆        │\n",
       "│ 00066be8e2 ┆ 11.176292 ┆ 0.279881  ┆ -11.625697 ┆ … ┆ 1.42507   ┆ 0.073083 ┆ 00066be8e2 ┆ 420.0  │\n",
       "│ 0318869c38 ┆           ┆           ┆            ┆   ┆           ┆          ┆ 0318869c38 ┆        │\n",
       "│ c66be46663 ┆           ┆           ┆            ┆   ┆           ┆          ┆ c66be46663 ┆        │\n",
       "│ …          ┆           ┆           ┆            ┆   ┆           ┆          ┆ …          ┆        │\n",
       "│ 00066be8e2 ┆ 10.472548 ┆ 0.231099  ┆ -2.985105  ┆ … ┆ -0.841894 ┆ 0.152889 ┆ 00066be8e2 ┆ 520.0  │\n",
       "│ 0318869c38 ┆           ┆           ┆            ┆   ┆           ┆          ┆ 0318869c38 ┆        │\n",
       "│ c66be46663 ┆           ┆           ┆            ┆   ┆           ┆          ┆ c66be46663 ┆        │\n",
       "│ …          ┆           ┆           ┆            ┆   ┆           ┆          ┆ …          ┆        │\n",
       "│ 000fb056f9 ┆ 6.055565  ┆ -0.117775 ┆ 7.632668   ┆ … ┆ 1.374655  ┆ 0.058754 ┆ 000fb056f9 ┆ 120.0  │\n",
       "│ 7572d384ba ┆           ┆           ┆            ┆   ┆           ┆          ┆ 7572d384ba ┆        │\n",
       "│ e4f5fc1e0f ┆           ┆           ┆            ┆   ┆           ┆          ┆ e4f5fc1e0f ┆        │\n",
       "│ …          ┆           ┆           ┆            ┆   ┆           ┆          ┆ …          ┆        │\n",
       "│ 000fb056f9 ┆ 3.316744  ┆ 1.276733  ┆ -31.725477 ┆ … ┆ -0.7788   ┆ 0.044243 ┆ 000fb056f9 ┆ 20.0   │\n",
       "│ 7572d384ba ┆           ┆           ┆            ┆   ┆           ┆          ┆ 7572d384ba ┆        │\n",
       "│ e4f5fc1e0f ┆           ┆           ┆            ┆   ┆           ┆          ┆ e4f5fc1e0f ┆        │\n",
       "│ …          ┆           ┆           ┆            ┆   ┆           ┆          ┆ …          ┆        │\n",
       "└────────────┴───────────┴───────────┴────────────┴───┴───────────┴──────────┴────────────┴────────┘"
      ]
     },
     "execution_count": 2,
     "metadata": {},
     "output_type": "execute_result"
    }
   ],
   "source": [
    "train = pl.read_csv(\"/kaggle/input/atmaCup#18_dataset/train_features.csv\")\n",
    "train = (\n",
    "    train.with_columns(\n",
    "        pl.col(\"ID\").str.split_exact(\"_\", n=1).struct.rename_fields([\"sceneID\", \"offset\"]).alias(\"fields\")\n",
    "    )\n",
    "    .unnest(\"fields\")\n",
    "    .with_columns(pl.col(\"offset\").cast(pl.Float32))\n",
    ")\n",
    "print(train.shape)\n",
    "train.head()"
   ]
  },
  {
   "cell_type": "code",
   "execution_count": null,
   "metadata": {},
   "outputs": [
    {
     "name": "stderr",
     "output_type": "stream",
     "text": [
      "100%|██████████| 43371/43371 [00:00<00:00, 131777.00it/s]\n"
     ]
    }
   ],
   "source": [
    "import json\n",
    "\n",
    "from tqdm import tqdm\n",
    "\n",
    "counts = []\n",
    "for ID in tqdm(train[\"ID\"].unique()):\n",
    "    path = \"/kaggle/input/atmaCup#18_dataset/traffic_lights/\" + ID + \".json\"\n",
    "    with open(path) as f:\n",
    "        data = json.load(f)\n",
    "    counts.append(len(data))"
   ]
  },
  {
   "cell_type": "code",
   "execution_count": 10,
   "metadata": {},
   "outputs": [
    {
     "data": {
      "image/png": "[encoded data removed]",
      "text/plain": [
       "<Figure size 640x480 with 1 Axes>"
      ]
     },
     "metadata": {},
     "output_type": "display_data"
    }
   ],
   "source": [
    "plt.hist(counts, bins=20)\n",
    "plt.show()"
   ]
  },
  {
   "cell_type": "code",
   "execution_count": 12,
   "metadata": {},
   "outputs": [
    {
     "data": {
      "text/plain": [
       "0.15452721864840563"
      ]
     },
     "execution_count": 12,
     "metadata": {},
     "output_type": "execute_result"
    }
   ],
   "source": [
    "(np.array(counts) > 0).mean()"
   ]
  },
  {
   "cell_type": "code",
   "execution_count": null,
   "metadata": {},
   "outputs": [],
   "source": []
  },
  {
   "cell_type": "code",
   "execution_count": null,
   "metadata": {},
   "outputs": [],
   "source": []
  }
 ],
 "metadata": {
  "kernelspec": {
   "display_name": "base",
   "language": "python",
   "name": "python3"
  },
  "language_info": {
   "codemirror_mode": {
    "name": "ipython",
    "version": 3
   },
   "file_extension": ".py",
   "mimetype": "text/x-python",
   "name": "python",
   "nbconvert_exporter": "python",
   "pygments_lexer": "ipython3",
   "version": "3.10.14"
  }
 },
 "nbformat": 4,
 "nbformat_minor": 2
}
