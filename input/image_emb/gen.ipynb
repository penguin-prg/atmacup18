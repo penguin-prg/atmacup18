{
 "cells": [
  {
   "cell_type": "code",
   "execution_count": 1,
   "metadata": {},
   "outputs": [],
   "source": [
    "import os\n",
    "from glob import glob\n",
    "\n",
    "import cv2\n",
    "import numpy as np\n",
    "import polars as pl\n",
    "import timm\n",
    "import torch\n",
    "from tqdm import tqdm"
   ]
  },
  {
   "cell_type": "code",
   "execution_count": 2,
   "metadata": {},
   "outputs": [
    {
     "data": {
      "text/plain": [
       "45098"
      ]
     },
     "execution_count": 2,
     "metadata": {},
     "output_type": "execute_result"
    }
   ],
   "source": [
    "pathes = glob(os.path.join(\"/kaggle/input/atmaCup#18_dataset\", \"images\", \"*\", \"image_t.png\"))\n",
    "len(pathes)"
   ]
  },
  {
   "cell_type": "code",
   "execution_count": 3,
   "metadata": {},
   "outputs": [
    {
     "name": "stderr",
     "output_type": "stream",
     "text": [
      "/opt/conda/lib/python3.10/site-packages/torch/cuda/__init__.py:230: UserWarning: \n",
      "NVIDIA GeForce RTX 4090 with CUDA capability sm_89 is not compatible with the current PyTorch installation.\n",
      "The current PyTorch install supports CUDA capabilities sm_60 sm_70 sm_75 compute_70 compute_75.\n",
      "If you want to use the NVIDIA GeForce RTX 4090 GPU with PyTorch, please check the instructions at https://pytorch.org/get-started/locally/\n",
      "\n",
      "  warnings.warn(\n"
     ]
    }
   ],
   "source": [
    "model = timm.create_model(\"resnet18d\", pretrained=True, num_classes=-1).eval()\n",
    "model = model.to(\"cuda\")"
   ]
  },
  {
   "cell_type": "code",
   "execution_count": 4,
   "metadata": {},
   "outputs": [],
   "source": [
    "class CustomDataset(torch.utils.data.Dataset):\n",
    "    def __init__(self, pathes):\n",
    "        self.pathes = pathes\n",
    "\n",
    "    def __len__(self):\n",
    "        return len(self.pathes)\n",
    "\n",
    "    def __getitem__(self, idx):\n",
    "        path = self.pathes[idx]\n",
    "        img = cv2.imread(path, cv2.IMREAD_COLOR)\n",
    "        img = cv2.cvtColor(img, cv2.COLOR_BGR2RGB)\n",
    "        img = cv2.resize(img, (224, 224))\n",
    "        img = img / 255.0\n",
    "        img = img.transpose(2, 0, 1)\n",
    "        img = torch.tensor(img, dtype=torch.float32)\n",
    "        return img"
   ]
  },
  {
   "cell_type": "code",
   "execution_count": 5,
   "metadata": {},
   "outputs": [
    {
     "name": "stderr",
     "output_type": "stream",
     "text": [
      "100%|██████████| 705/705 [00:43<00:00, 16.09it/s]\n"
     ]
    }
   ],
   "source": [
    "dataloder = torch.utils.data.DataLoader(\n",
    "    CustomDataset(pathes),\n",
    "    batch_size=64,\n",
    "    shuffle=False,\n",
    ")\n",
    "\n",
    "features = []\n",
    "with torch.no_grad():\n",
    "    for imgs in tqdm(dataloder):\n",
    "        imgs = imgs.to(\"cuda\")\n",
    "        features.append(model(imgs).detach().cpu().numpy())\n"
   ]
  },
  {
   "cell_type": "code",
   "execution_count": 6,
   "metadata": {},
   "outputs": [],
   "source": [
    "features = np.concatenate(features)"
   ]
  },
  {
   "cell_type": "code",
   "execution_count": 7,
   "metadata": {},
   "outputs": [
    {
     "data": {
      "text/plain": [
       "(45098, 32)"
      ]
     },
     "execution_count": 7,
     "metadata": {},
     "output_type": "execute_result"
    }
   ],
   "source": [
    "from sklearn.decomposition import TruncatedSVD\n",
    "\n",
    "svd = TruncatedSVD(n_components=32, random_state=0)\n",
    "features = svd.fit_transform(features)\n",
    "features.shape"
   ]
  },
  {
   "cell_type": "code",
   "execution_count": 8,
   "metadata": {},
   "outputs": [
    {
     "data": {
      "text/html": [
       "<div><style>\n",
       ".dataframe > thead > tr,\n",
       ".dataframe > tbody > tr {\n",
       "  text-align: right;\n",
       "  white-space: pre-wrap;\n",
       "}\n",
       "</style>\n",
       "<small>shape: (5, 33)</small><table border=\"1\" class=\"dataframe\"><thead><tr><th>img_emb_0</th><th>img_emb_1</th><th>img_emb_2</th><th>img_emb_3</th><th>img_emb_4</th><th>img_emb_5</th><th>img_emb_6</th><th>img_emb_7</th><th>img_emb_8</th><th>img_emb_9</th><th>img_emb_10</th><th>img_emb_11</th><th>img_emb_12</th><th>img_emb_13</th><th>img_emb_14</th><th>img_emb_15</th><th>img_emb_16</th><th>img_emb_17</th><th>img_emb_18</th><th>img_emb_19</th><th>img_emb_20</th><th>img_emb_21</th><th>img_emb_22</th><th>img_emb_23</th><th>img_emb_24</th><th>img_emb_25</th><th>img_emb_26</th><th>img_emb_27</th><th>img_emb_28</th><th>img_emb_29</th><th>img_emb_30</th><th>img_emb_31</th><th>ID</th></tr><tr><td>f32</td><td>f32</td><td>f32</td><td>f32</td><td>f32</td><td>f32</td><td>f32</td><td>f32</td><td>f32</td><td>f32</td><td>f32</td><td>f32</td><td>f32</td><td>f32</td><td>f32</td><td>f32</td><td>f32</td><td>f32</td><td>f32</td><td>f32</td><td>f32</td><td>f32</td><td>f32</td><td>f32</td><td>f32</td><td>f32</td><td>f32</td><td>f32</td><td>f32</td><td>f32</td><td>f32</td><td>f32</td><td>str</td></tr></thead><tbody><tr><td>6.421825</td><td>0.945972</td><td>-0.026925</td><td>1.059455</td><td>1.082559</td><td>-1.088256</td><td>-1.550975</td><td>-0.100807</td><td>-0.132713</td><td>-0.383449</td><td>0.102457</td><td>1.369587</td><td>-0.371239</td><td>-0.137833</td><td>-0.191333</td><td>-0.107892</td><td>-0.217118</td><td>0.671512</td><td>0.218856</td><td>-0.088977</td><td>0.061951</td><td>0.365553</td><td>0.336992</td><td>0.311474</td><td>0.405945</td><td>-0.091794</td><td>-0.050762</td><td>0.325328</td><td>-0.115107</td><td>0.140964</td><td>0.032567</td><td>0.25402</td><td>&quot;df13d930da7d18b027295cb7acca9f…</td></tr><tr><td>7.042717</td><td>-1.296742</td><td>1.216432</td><td>2.543397</td><td>-0.2359</td><td>-0.42828</td><td>0.017613</td><td>1.593839</td><td>-0.877097</td><td>0.352018</td><td>-1.033763</td><td>-0.769155</td><td>-0.487338</td><td>-1.313721</td><td>-0.641589</td><td>-0.33523</td><td>0.034287</td><td>-0.053777</td><td>0.05448</td><td>-0.59476</td><td>0.106501</td><td>0.493268</td><td>-0.093137</td><td>-0.561625</td><td>0.175695</td><td>-0.401975</td><td>0.113649</td><td>0.074851</td><td>0.242077</td><td>-0.154483</td><td>0.079947</td><td>-0.107651</td><td>&quot;4f82b8c1252927a89a89f862d61471…</td></tr><tr><td>7.550829</td><td>1.405917</td><td>-0.725527</td><td>0.817095</td><td>0.378958</td><td>0.642951</td><td>-1.211553</td><td>-0.050206</td><td>1.51725</td><td>0.47686</td><td>0.299116</td><td>-0.783766</td><td>0.589219</td><td>-0.533846</td><td>0.42364</td><td>-0.574574</td><td>-0.327105</td><td>0.014507</td><td>0.36235</td><td>0.459348</td><td>0.655586</td><td>-0.697103</td><td>0.083823</td><td>-0.548894</td><td>-0.123053</td><td>-0.412186</td><td>0.974848</td><td>0.067295</td><td>0.254798</td><td>-0.508267</td><td>0.032507</td><td>-0.155088</td><td>&quot;db2711eb0a03d53978b4e788f64c78…</td></tr><tr><td>8.582917</td><td>-1.604584</td><td>-0.966825</td><td>0.785558</td><td>1.564791</td><td>-0.616406</td><td>-0.51183</td><td>-0.927535</td><td>-0.31958</td><td>0.676131</td><td>-0.349427</td><td>-0.725266</td><td>1.338446</td><td>-0.01426</td><td>0.32007</td><td>0.344096</td><td>-0.4406</td><td>-0.308975</td><td>0.590363</td><td>1.060933</td><td>-0.240136</td><td>-0.139033</td><td>0.342027</td><td>-0.001298</td><td>0.376357</td><td>-0.8234</td><td>-0.021138</td><td>-0.994519</td><td>-0.225066</td><td>0.523157</td><td>0.234012</td><td>-0.368881</td><td>&quot;aaee0f37200b7b87496fe7b86b05ed…</td></tr><tr><td>7.533806</td><td>1.712595</td><td>-0.549584</td><td>0.089194</td><td>-0.175475</td><td>-0.189765</td><td>0.151349</td><td>-0.436834</td><td>0.531711</td><td>-0.855186</td><td>0.019512</td><td>-0.834142</td><td>0.136501</td><td>0.008242</td><td>-0.174233</td><td>-0.430688</td><td>-0.309291</td><td>0.495387</td><td>-0.078007</td><td>-0.431799</td><td>-0.043789</td><td>-0.136899</td><td>-0.681444</td><td>-0.171332</td><td>0.161765</td><td>0.216772</td><td>-0.42054</td><td>0.287003</td><td>-0.32044</td><td>-0.177328</td><td>-0.434106</td><td>0.479419</td><td>&quot;f71c2b3852d0f381b4122e3d5ece59…</td></tr></tbody></table></div>"
      ],
      "text/plain": [
       "shape: (5, 33)\n",
       "┌───────────┬───────────┬───────────┬───────────┬───┬───────────┬───────────┬───────────┬──────────┐\n",
       "│ img_emb_0 ┆ img_emb_1 ┆ img_emb_2 ┆ img_emb_3 ┆ … ┆ img_emb_2 ┆ img_emb_3 ┆ img_emb_3 ┆ ID       │\n",
       "│ ---       ┆ ---       ┆ ---       ┆ ---       ┆   ┆ 9         ┆ 0         ┆ 1         ┆ ---      │\n",
       "│ f32       ┆ f32       ┆ f32       ┆ f32       ┆   ┆ ---       ┆ ---       ┆ ---       ┆ str      │\n",
       "│           ┆           ┆           ┆           ┆   ┆ f32       ┆ f32       ┆ f32       ┆          │\n",
       "╞═══════════╪═══════════╪═══════════╪═══════════╪═══╪═══════════╪═══════════╪═══════════╪══════════╡\n",
       "│ 6.421825  ┆ 0.945972  ┆ -0.026925 ┆ 1.059455  ┆ … ┆ 0.140964  ┆ 0.032567  ┆ 0.25402   ┆ df13d930 │\n",
       "│           ┆           ┆           ┆           ┆   ┆           ┆           ┆           ┆ da7d18b0 │\n",
       "│           ┆           ┆           ┆           ┆   ┆           ┆           ┆           ┆ 27295cb7 │\n",
       "│           ┆           ┆           ┆           ┆   ┆           ┆           ┆           ┆ acca9f…  │\n",
       "│ 7.042717  ┆ -1.296742 ┆ 1.216432  ┆ 2.543397  ┆ … ┆ -0.154483 ┆ 0.079947  ┆ -0.107651 ┆ 4f82b8c1 │\n",
       "│           ┆           ┆           ┆           ┆   ┆           ┆           ┆           ┆ 252927a8 │\n",
       "│           ┆           ┆           ┆           ┆   ┆           ┆           ┆           ┆ 9a89f862 │\n",
       "│           ┆           ┆           ┆           ┆   ┆           ┆           ┆           ┆ d61471…  │\n",
       "│ 7.550829  ┆ 1.405917  ┆ -0.725527 ┆ 0.817095  ┆ … ┆ -0.508267 ┆ 0.032507  ┆ -0.155088 ┆ db2711eb │\n",
       "│           ┆           ┆           ┆           ┆   ┆           ┆           ┆           ┆ 0a03d539 │\n",
       "│           ┆           ┆           ┆           ┆   ┆           ┆           ┆           ┆ 78b4e788 │\n",
       "│           ┆           ┆           ┆           ┆   ┆           ┆           ┆           ┆ f64c78…  │\n",
       "│ 8.582917  ┆ -1.604584 ┆ -0.966825 ┆ 0.785558  ┆ … ┆ 0.523157  ┆ 0.234012  ┆ -0.368881 ┆ aaee0f37 │\n",
       "│           ┆           ┆           ┆           ┆   ┆           ┆           ┆           ┆ 200b7b87 │\n",
       "│           ┆           ┆           ┆           ┆   ┆           ┆           ┆           ┆ 496fe7b8 │\n",
       "│           ┆           ┆           ┆           ┆   ┆           ┆           ┆           ┆ 6b05ed…  │\n",
       "│ 7.533806  ┆ 1.712595  ┆ -0.549584 ┆ 0.089194  ┆ … ┆ -0.177328 ┆ -0.434106 ┆ 0.479419  ┆ f71c2b38 │\n",
       "│           ┆           ┆           ┆           ┆   ┆           ┆           ┆           ┆ 52d0f381 │\n",
       "│           ┆           ┆           ┆           ┆   ┆           ┆           ┆           ┆ b4122e3d │\n",
       "│           ┆           ┆           ┆           ┆   ┆           ┆           ┆           ┆ 5ece59…  │\n",
       "└───────────┴───────────┴───────────┴───────────┴───┴───────────┴───────────┴───────────┴──────────┘"
      ]
     },
     "execution_count": 8,
     "metadata": {},
     "output_type": "execute_result"
    }
   ],
   "source": [
    "df = pl.DataFrame(features, schema=[f\"img_emb_{i}\" for i in range(32)])\n",
    "ids = [path.split(\"/\")[-2] for path in pathes]\n",
    "df = df.with_columns(pl.Series(\"ID\", ids))\n",
    "df.head()"
   ]
  },
  {
   "cell_type": "code",
   "execution_count": 9,
   "metadata": {},
   "outputs": [],
   "source": [
    "df.write_csv(\"image_emb_svd32.csv\")"
   ]
  },
  {
   "cell_type": "code",
   "execution_count": null,
   "metadata": {},
   "outputs": [],
   "source": []
  }
 ],
 "metadata": {
  "kernelspec": {
   "display_name": "base",
   "language": "python",
   "name": "python3"
  },
  "language_info": {
   "codemirror_mode": {
    "name": "ipython",
    "version": 3
   },
   "file_extension": ".py",
   "mimetype": "text/x-python",
   "name": "python",
   "nbconvert_exporter": "python",
   "pygments_lexer": "ipython3",
   "version": "3.10.14"
  }
 },
 "nbformat": 4,
 "nbformat_minor": 2
}
