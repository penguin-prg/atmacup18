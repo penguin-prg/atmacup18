{
 "cells": [
  {
   "cell_type": "code",
   "execution_count": 1,
   "metadata": {},
   "outputs": [],
   "source": [
    "import os\n",
    "\n",
    "import cv2\n",
    "import matplotlib.pyplot as plt\n",
    "import numpy as np\n",
    "import polars as pl"
   ]
  },
  {
   "cell_type": "code",
   "execution_count": 2,
   "metadata": {},
   "outputs": [
    {
     "data": {
      "text/plain": [
       "45098"
      ]
     },
     "execution_count": 2,
     "metadata": {},
     "output_type": "execute_result"
    }
   ],
   "source": [
    "from glob import glob\n",
    "\n",
    "path = glob(os.path.join(\"/kaggle/input/atmaCup#18_dataset\", \"images\", \"*\", \"image_t.png\"))\n",
    "len(path)"
   ]
  },
  {
   "cell_type": "code",
   "execution_count": 3,
   "metadata": {},
   "outputs": [
    {
     "name": "stderr",
     "output_type": "stream",
     "text": [
      "  0%|          | 0/705 [00:00<?, ?it/s]/opt/conda/lib/python3.10/site-packages/torch/cuda/__init__.py:230: UserWarning: \n",
      "NVIDIA GeForce RTX 4090 with CUDA capability sm_89 is not compatible with the current PyTorch installation.\n",
      "The current PyTorch install supports CUDA capabilities sm_60 sm_70 sm_75 compute_70 compute_75.\n",
      "If you want to use the NVIDIA GeForce RTX 4090 GPU with PyTorch, please check the instructions at https://pytorch.org/get-started/locally/\n",
      "\n",
      "  warnings.warn(\n",
      "100%|██████████| 705/705 [04:06<00:00,  2.86it/s]\n"
     ]
    }
   ],
   "source": [
    "import json\n",
    "import os\n",
    "\n",
    "from tqdm import tqdm\n",
    "from ultralytics import YOLO\n",
    "\n",
    "os.makedirs(\"det\", exist_ok=True)\n",
    "\n",
    "model = YOLO(\"yolo11x.pt\")\n",
    "\n",
    "bs = 64\n",
    "for s in tqdm(range(0, len(path), bs)):\n",
    "    this_path = path[s : s + bs]\n",
    "\n",
    "    results = model.predict(\n",
    "        this_path,\n",
    "        classes=[0, 1, 2, 3, 5, 7, 9, 11, 12],\n",
    "        verbose=False,\n",
    "        conf=0.25,\n",
    "        # imgsz=1024,\n",
    "    )\n",
    "\n",
    "    for i, p in enumerate(this_path):\n",
    "        ID = p.split(\"/\")[-2]\n",
    "        save_data = []\n",
    "        for box in results[i].boxes:\n",
    "            x1, y1, x2, y2 = map(int, box.xyxy[0])\n",
    "            conf = float(box.conf[0])\n",
    "            cls = int(box.cls[0])\n",
    "            save_data.append(\n",
    "                {\n",
    "                    \"x1\": x1,\n",
    "                    \"y1\": y1,\n",
    "                    \"x2\": x2,\n",
    "                    \"y2\": y2,\n",
    "                    \"conf\": conf,\n",
    "                    \"cls\": results[i].names[cls],\n",
    "                }\n",
    "            )\n",
    "\n",
    "        with open(f\"det/{ID}.json\", \"w\") as f:\n",
    "            json.dump(save_data, f, indent=4)"
   ]
  },
  {
   "cell_type": "code",
   "execution_count": null,
   "metadata": {},
   "outputs": [],
   "source": []
  },
  {
   "cell_type": "code",
   "execution_count": null,
   "metadata": {},
   "outputs": [],
   "source": []
  }
 ],
 "metadata": {
  "kernelspec": {
   "display_name": "base",
   "language": "python",
   "name": "python3"
  },
  "language_info": {
   "codemirror_mode": {
    "name": "ipython",
    "version": 3
   },
   "file_extension": ".py",
   "mimetype": "text/x-python",
   "name": "python",
   "nbconvert_exporter": "python",
   "pygments_lexer": "ipython3",
   "version": "3.10.14"
  }
 },
 "nbformat": 4,
 "nbformat_minor": 2
}
