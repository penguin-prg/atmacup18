{
 "cells": [
  {
   "cell_type": "code",
   "execution_count": null,
   "metadata": {},
   "outputs": [],
   "source": [
    "import numpy as np\n",
    "import polars as pl"
   ]
  },
  {
   "cell_type": "code",
   "execution_count": 8,
   "metadata": {},
   "outputs": [
    {
     "data": {
      "text/html": [
       "<div><style>\n",
       ".dataframe > thead > tr,\n",
       ".dataframe > tbody > tr {\n",
       "  text-align: right;\n",
       "  white-space: pre-wrap;\n",
       "}\n",
       "</style>\n",
       "<small>shape: (1, 2)</small><table border=\"1\" class=\"dataframe\"><thead><tr><th>ID</th><th>Description</th></tr><tr><td>str</td><td>str</td></tr></thead><tbody><tr><td>&quot;00066be8e20318869c38c66be46663…</td><td>&quot;The center and right portions …</td></tr></tbody></table></div>"
      ],
      "text/plain": [
       "shape: (1, 2)\n",
       "┌─────────────────────────────────┬─────────────────────────────────┐\n",
       "│ ID                              ┆ Description                     │\n",
       "│ ---                             ┆ ---                             │\n",
       "│ str                             ┆ str                             │\n",
       "╞═════════════════════════════════╪═════════════════════════════════╡\n",
       "│ 00066be8e20318869c38c66be46663… ┆ The center and right portions … │\n",
       "└─────────────────────────────────┴─────────────────────────────────┘"
      ]
     },
     "execution_count": 8,
     "metadata": {},
     "output_type": "execute_result"
    }
   ],
   "source": [
    "df = pl.read_csv(\"future_position_descriptions.csv\")\n",
    "df.head(1)"
   ]
  },
  {
   "cell_type": "code",
   "execution_count": null,
   "metadata": {},
   "outputs": [],
   "source": [
    "# tfidf -> svd\n",
    "from sklearn.decomposition import TruncatedSVD\n",
    "from sklearn.feature_extraction.text import TfidfVectorizer\n",
    "\n",
    "vectorizer = TfidfVectorizer(stop_words=\"english\")\n",
    "X = vectorizer.fit_transform(df[\"Description\"].to_list())\n",
    "svd = TruncatedSVD(n_components=32)\n",
    "X = svd.fit_transform(X)"
   ]
  },
  {
   "cell_type": "code",
   "execution_count": 5,
   "metadata": {},
   "outputs": [
    {
     "data": {
      "text/plain": [
       "(45098, 32)"
      ]
     },
     "execution_count": 5,
     "metadata": {},
     "output_type": "execute_result"
    }
   ],
   "source": [
    "X.shape"
   ]
  },
  {
   "cell_type": "code",
   "execution_count": 9,
   "metadata": {},
   "outputs": [],
   "source": [
    "vlm_df = pl.DataFrame(X, schema=[f\"vlm_svd_{i}\" for i in range(32)])\n",
    "vlm_df = vlm_df.with_columns(pl.Series(\"ID\", df[\"ID\"]))"
   ]
  },
  {
   "cell_type": "code",
   "execution_count": 10,
   "metadata": {},
   "outputs": [
    {
     "data": {
      "text/html": [
       "<div><style>\n",
       ".dataframe > thead > tr,\n",
       ".dataframe > tbody > tr {\n",
       "  text-align: right;\n",
       "  white-space: pre-wrap;\n",
       "}\n",
       "</style>\n",
       "<small>shape: (1, 33)</small><table border=\"1\" class=\"dataframe\"><thead><tr><th>vlm_svd_0</th><th>vlm_svd_1</th><th>vlm_svd_2</th><th>vlm_svd_3</th><th>vlm_svd_4</th><th>vlm_svd_5</th><th>vlm_svd_6</th><th>vlm_svd_7</th><th>vlm_svd_8</th><th>vlm_svd_9</th><th>vlm_svd_10</th><th>vlm_svd_11</th><th>vlm_svd_12</th><th>vlm_svd_13</th><th>vlm_svd_14</th><th>vlm_svd_15</th><th>vlm_svd_16</th><th>vlm_svd_17</th><th>vlm_svd_18</th><th>vlm_svd_19</th><th>vlm_svd_20</th><th>vlm_svd_21</th><th>vlm_svd_22</th><th>vlm_svd_23</th><th>vlm_svd_24</th><th>vlm_svd_25</th><th>vlm_svd_26</th><th>vlm_svd_27</th><th>vlm_svd_28</th><th>vlm_svd_29</th><th>vlm_svd_30</th><th>vlm_svd_31</th><th>ID</th></tr><tr><td>f64</td><td>f64</td><td>f64</td><td>f64</td><td>f64</td><td>f64</td><td>f64</td><td>f64</td><td>f64</td><td>f64</td><td>f64</td><td>f64</td><td>f64</td><td>f64</td><td>f64</td><td>f64</td><td>f64</td><td>f64</td><td>f64</td><td>f64</td><td>f64</td><td>f64</td><td>f64</td><td>f64</td><td>f64</td><td>f64</td><td>f64</td><td>f64</td><td>f64</td><td>f64</td><td>f64</td><td>f64</td><td>str</td></tr></thead><tbody><tr><td>0.354436</td><td>0.005188</td><td>0.005424</td><td>-0.170833</td><td>0.05523</td><td>0.088377</td><td>-0.018378</td><td>-0.019379</td><td>0.010477</td><td>-0.048484</td><td>-0.123945</td><td>-0.008</td><td>-0.052822</td><td>-0.01359</td><td>-0.01253</td><td>-0.050051</td><td>0.031472</td><td>-0.009266</td><td>-0.000254</td><td>-0.067036</td><td>0.024151</td><td>0.061267</td><td>-0.026678</td><td>-0.053421</td><td>0.004611</td><td>-0.042295</td><td>-0.042563</td><td>0.118235</td><td>-0.016544</td><td>-0.024801</td><td>0.025701</td><td>-0.018872</td><td>&quot;00066be8e20318869c38c66be46663…</td></tr></tbody></table></div>"
      ],
      "text/plain": [
       "shape: (1, 33)\n",
       "┌───────────┬───────────┬───────────┬───────────┬───┬───────────┬───────────┬───────────┬──────────┐\n",
       "│ vlm_svd_0 ┆ vlm_svd_1 ┆ vlm_svd_2 ┆ vlm_svd_3 ┆ … ┆ vlm_svd_2 ┆ vlm_svd_3 ┆ vlm_svd_3 ┆ ID       │\n",
       "│ ---       ┆ ---       ┆ ---       ┆ ---       ┆   ┆ 9         ┆ 0         ┆ 1         ┆ ---      │\n",
       "│ f64       ┆ f64       ┆ f64       ┆ f64       ┆   ┆ ---       ┆ ---       ┆ ---       ┆ str      │\n",
       "│           ┆           ┆           ┆           ┆   ┆ f64       ┆ f64       ┆ f64       ┆          │\n",
       "╞═══════════╪═══════════╪═══════════╪═══════════╪═══╪═══════════╪═══════════╪═══════════╪══════════╡\n",
       "│ 0.354436  ┆ 0.005188  ┆ 0.005424  ┆ -0.170833 ┆ … ┆ -0.024801 ┆ 0.025701  ┆ -0.018872 ┆ 00066be8 │\n",
       "│           ┆           ┆           ┆           ┆   ┆           ┆           ┆           ┆ e2031886 │\n",
       "│           ┆           ┆           ┆           ┆   ┆           ┆           ┆           ┆ 9c38c66b │\n",
       "│           ┆           ┆           ┆           ┆   ┆           ┆           ┆           ┆ e46663…  │\n",
       "└───────────┴───────────┴───────────┴───────────┴───┴───────────┴───────────┴───────────┴──────────┘"
      ]
     },
     "execution_count": 10,
     "metadata": {},
     "output_type": "execute_result"
    }
   ],
   "source": [
    "vlm_df.head(1)"
   ]
  },
  {
   "cell_type": "code",
   "execution_count": 11,
   "metadata": {},
   "outputs": [],
   "source": [
    "vlm_df.write_csv(\"vlm_svd.csv\")"
   ]
  },
  {
   "cell_type": "code",
   "execution_count": null,
   "metadata": {},
   "outputs": [],
   "source": []
  }
 ],
 "metadata": {
  "kernelspec": {
   "display_name": "base",
   "language": "python",
   "name": "python3"
  },
  "language_info": {
   "codemirror_mode": {
    "name": "ipython",
    "version": 3
   },
   "file_extension": ".py",
   "mimetype": "text/x-python",
   "name": "python",
   "nbconvert_exporter": "python",
   "pygments_lexer": "ipython3",
   "version": "3.10.14"
  }
 },
 "nbformat": 4,
 "nbformat_minor": 2
}
