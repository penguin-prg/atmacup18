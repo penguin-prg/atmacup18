{
 "cells": [
  {
   "cell_type": "code",
   "execution_count": 1,
   "metadata": {},
   "outputs": [],
   "source": [
    "import json\n",
    "\n",
    "import numpy as np\n",
    "import polars as pl"
   ]
  },
  {
   "cell_type": "code",
   "execution_count": 2,
   "metadata": {},
   "outputs": [
    {
     "name": "stdout",
     "output_type": "stream",
     "text": [
      "(43371, 32)\n"
     ]
    },
    {
     "data": {
      "text/html": [
       "<div><style>\n",
       ".dataframe > thead > tr,\n",
       ".dataframe > tbody > tr {\n",
       "  text-align: right;\n",
       "  white-space: pre-wrap;\n",
       "}\n",
       "</style>\n",
       "<small>shape: (5, 32)</small><table border=\"1\" class=\"dataframe\"><thead><tr><th>ID</th><th>vEgo</th><th>aEgo</th><th>steeringAngleDeg</th><th>steeringTorque</th><th>brake</th><th>brakePressed</th><th>gas</th><th>gasPressed</th><th>gearShifter</th><th>leftBlinker</th><th>rightBlinker</th><th>x_0</th><th>y_0</th><th>z_0</th><th>x_1</th><th>y_1</th><th>z_1</th><th>x_2</th><th>y_2</th><th>z_2</th><th>x_3</th><th>y_3</th><th>z_3</th><th>x_4</th><th>y_4</th><th>z_4</th><th>x_5</th><th>y_5</th><th>z_5</th><th>sceneID</th><th>offset</th></tr><tr><td>str</td><td>f64</td><td>f64</td><td>f64</td><td>f64</td><td>f64</td><td>bool</td><td>f64</td><td>bool</td><td>str</td><td>bool</td><td>bool</td><td>f64</td><td>f64</td><td>f64</td><td>f64</td><td>f64</td><td>f64</td><td>f64</td><td>f64</td><td>f64</td><td>f64</td><td>f64</td><td>f64</td><td>f64</td><td>f64</td><td>f64</td><td>f64</td><td>f64</td><td>f64</td><td>str</td><td>f32</td></tr></thead><tbody><tr><td>&quot;00066be8e20318869c38c66be46663…</td><td>5.701526</td><td>1.538456</td><td>-2.165777</td><td>-139.0</td><td>0.0</td><td>false</td><td>0.25</td><td>true</td><td>&quot;drive&quot;</td><td>false</td><td>false</td><td>2.82959</td><td>0.032226</td><td>0.045187</td><td>6.231999</td><td>0.065895</td><td>0.107974</td><td>9.785009</td><td>0.124972</td><td>0.203649</td><td>13.485472</td><td>0.163448</td><td>0.302818</td><td>17.574227</td><td>0.174289</td><td>0.406331</td><td>21.951269</td><td>0.199503</td><td>0.485079</td><td>&quot;00066be8e20318869c38c66be46663…</td><td>320.0</td></tr><tr><td>&quot;00066be8e20318869c38c66be46663…</td><td>11.176292</td><td>0.279881</td><td>-11.625697</td><td>-44.0</td><td>0.0</td><td>false</td><td>0.0</td><td>false</td><td>&quot;drive&quot;</td><td>false</td><td>true</td><td>4.970268</td><td>-0.007936</td><td>0.005028</td><td>10.350489</td><td>-0.032374</td><td>-0.020701</td><td>15.770054</td><td>0.084073</td><td>0.008645</td><td>21.132415</td><td>0.391343</td><td>0.036335</td><td>26.316489</td><td>0.843124</td><td>0.065</td><td>31.383814</td><td>1.42507</td><td>0.073083</td><td>&quot;00066be8e20318869c38c66be46663…</td><td>420.0</td></tr><tr><td>&quot;00066be8e20318869c38c66be46663…</td><td>10.472548</td><td>0.231099</td><td>-2.985105</td><td>-132.0</td><td>0.0</td><td>false</td><td>0.18</td><td>true</td><td>&quot;drive&quot;</td><td>false</td><td>false</td><td>4.815701</td><td>-0.000813</td><td>0.017577</td><td>10.153522</td><td>-0.0278</td><td>0.026165</td><td>15.446539</td><td>-0.155987</td><td>0.040397</td><td>20.61816</td><td>-0.356932</td><td>0.058765</td><td>25.677387</td><td>-0.576985</td><td>0.102859</td><td>30.460033</td><td>-0.841894</td><td>0.152889</td><td>&quot;00066be8e20318869c38c66be46663…</td><td>520.0</td></tr><tr><td>&quot;000fb056f97572d384bae4f5fc1e0f…</td><td>6.055565</td><td>-0.117775</td><td>7.632668</td><td>173.0</td><td>0.0</td><td>false</td><td>0.0</td><td>false</td><td>&quot;drive&quot;</td><td>false</td><td>false</td><td>2.812608</td><td>0.033731</td><td>0.0059</td><td>5.975378</td><td>0.137848</td><td>0.01621</td><td>9.186793</td><td>0.322997</td><td>0.031626</td><td>12.37311</td><td>0.603145</td><td>0.031858</td><td>15.703514</td><td>0.960717</td><td>0.043479</td><td>19.311182</td><td>1.374655</td><td>0.058754</td><td>&quot;000fb056f97572d384bae4f5fc1e0f…</td><td>120.0</td></tr><tr><td>&quot;000fb056f97572d384bae4f5fc1e0f…</td><td>3.316744</td><td>1.276733</td><td>-31.725477</td><td>-114.0</td><td>0.0</td><td>false</td><td>0.255</td><td>true</td><td>&quot;drive&quot;</td><td>false</td><td>false</td><td>1.55186</td><td>-0.041849</td><td>-0.008847</td><td>3.675162</td><td>-0.125189</td><td>-0.013725</td><td>6.113567</td><td>-0.239161</td><td>-0.012887</td><td>8.770783</td><td>-0.381813</td><td>-0.003898</td><td>11.619313</td><td>-0.554488</td><td>0.011393</td><td>14.657048</td><td>-0.7788</td><td>0.044243</td><td>&quot;000fb056f97572d384bae4f5fc1e0f…</td><td>20.0</td></tr></tbody></table></div>"
      ],
      "text/plain": [
       "shape: (5, 32)\n",
       "┌────────────┬───────────┬───────────┬────────────┬───┬───────────┬──────────┬────────────┬────────┐\n",
       "│ ID         ┆ vEgo      ┆ aEgo      ┆ steeringAn ┆ … ┆ y_5       ┆ z_5      ┆ sceneID    ┆ offset │\n",
       "│ ---        ┆ ---       ┆ ---       ┆ gleDeg     ┆   ┆ ---       ┆ ---      ┆ ---        ┆ ---    │\n",
       "│ str        ┆ f64       ┆ f64       ┆ ---        ┆   ┆ f64       ┆ f64      ┆ str        ┆ f32    │\n",
       "│            ┆           ┆           ┆ f64        ┆   ┆           ┆          ┆            ┆        │\n",
       "╞════════════╪═══════════╪═══════════╪════════════╪═══╪═══════════╪══════════╪════════════╪════════╡\n",
       "│ 00066be8e2 ┆ 5.701526  ┆ 1.538456  ┆ -2.165777  ┆ … ┆ 0.199503  ┆ 0.485079 ┆ 00066be8e2 ┆ 320.0  │\n",
       "│ 0318869c38 ┆           ┆           ┆            ┆   ┆           ┆          ┆ 0318869c38 ┆        │\n",
       "│ c66be46663 ┆           ┆           ┆            ┆   ┆           ┆          ┆ c66be46663 ┆        │\n",
       "│ …          ┆           ┆           ┆            ┆   ┆           ┆          ┆ …          ┆        │\n",
       "│ 00066be8e2 ┆ 11.176292 ┆ 0.279881  ┆ -11.625697 ┆ … ┆ 1.42507   ┆ 0.073083 ┆ 00066be8e2 ┆ 420.0  │\n",
       "│ 0318869c38 ┆           ┆           ┆            ┆   ┆           ┆          ┆ 0318869c38 ┆        │\n",
       "│ c66be46663 ┆           ┆           ┆            ┆   ┆           ┆          ┆ c66be46663 ┆        │\n",
       "│ …          ┆           ┆           ┆            ┆   ┆           ┆          ┆ …          ┆        │\n",
       "│ 00066be8e2 ┆ 10.472548 ┆ 0.231099  ┆ -2.985105  ┆ … ┆ -0.841894 ┆ 0.152889 ┆ 00066be8e2 ┆ 520.0  │\n",
       "│ 0318869c38 ┆           ┆           ┆            ┆   ┆           ┆          ┆ 0318869c38 ┆        │\n",
       "│ c66be46663 ┆           ┆           ┆            ┆   ┆           ┆          ┆ c66be46663 ┆        │\n",
       "│ …          ┆           ┆           ┆            ┆   ┆           ┆          ┆ …          ┆        │\n",
       "│ 000fb056f9 ┆ 6.055565  ┆ -0.117775 ┆ 7.632668   ┆ … ┆ 1.374655  ┆ 0.058754 ┆ 000fb056f9 ┆ 120.0  │\n",
       "│ 7572d384ba ┆           ┆           ┆            ┆   ┆           ┆          ┆ 7572d384ba ┆        │\n",
       "│ e4f5fc1e0f ┆           ┆           ┆            ┆   ┆           ┆          ┆ e4f5fc1e0f ┆        │\n",
       "│ …          ┆           ┆           ┆            ┆   ┆           ┆          ┆ …          ┆        │\n",
       "│ 000fb056f9 ┆ 3.316744  ┆ 1.276733  ┆ -31.725477 ┆ … ┆ -0.7788   ┆ 0.044243 ┆ 000fb056f9 ┆ 20.0   │\n",
       "│ 7572d384ba ┆           ┆           ┆            ┆   ┆           ┆          ┆ 7572d384ba ┆        │\n",
       "│ e4f5fc1e0f ┆           ┆           ┆            ┆   ┆           ┆          ┆ e4f5fc1e0f ┆        │\n",
       "│ …          ┆           ┆           ┆            ┆   ┆           ┆          ┆ …          ┆        │\n",
       "└────────────┴───────────┴───────────┴────────────┴───┴───────────┴──────────┴────────────┴────────┘"
      ]
     },
     "execution_count": 2,
     "metadata": {},
     "output_type": "execute_result"
    }
   ],
   "source": [
    "train = pl.read_csv(\"/kaggle/input/atmaCup#18_dataset/train_features.csv\")\n",
    "train = (\n",
    "    train.with_columns(\n",
    "        pl.col(\"ID\").str.split_exact(\"_\", n=1).struct.rename_fields([\"sceneID\", \"offset\"]).alias(\"fields\")\n",
    "    )\n",
    "    .unnest(\"fields\")\n",
    "    .with_columns(pl.col(\"offset\").cast(pl.Float32))\n",
    ")\n",
    "print(train.shape)\n",
    "train.head()"
   ]
  },
  {
   "cell_type": "code",
   "execution_count": 3,
   "metadata": {},
   "outputs": [
    {
     "name": "stderr",
     "output_type": "stream",
     "text": [
      "  0%|          | 0/43371 [00:00<?, ?it/s]"
     ]
    },
    {
     "name": "stderr",
     "output_type": "stream",
     "text": [
      "100%|██████████| 43371/43371 [00:05<00:00, 7381.96it/s]\n"
     ]
    }
   ],
   "source": [
    "from tqdm import tqdm\n",
    "\n",
    "df = []\n",
    "for ID in tqdm(train[\"ID\"].unique()):\n",
    "    path = \"/kaggle/input/atmaCup#18_dataset/traffic_lights/\" + ID + \".json\"\n",
    "    with open(path) as f:\n",
    "        data = json.load(f)\n",
    "\n",
    "    # bboxの中央が一番中心に近いものを選択\n",
    "    min_distance = 1000\n",
    "    min_bbox = None\n",
    "    for bbox in data:\n",
    "        left, top, right, bottom = bbox[\"bbox\"]\n",
    "        x = (left + right) / 2\n",
    "        distance = abs(64 - x)\n",
    "        if distance < min_distance:\n",
    "            min_distance = distance\n",
    "            min_bbox = bbox\n",
    "\n",
    "    if min_bbox is not None:\n",
    "        dic = {\n",
    "            \"ID\": ID,\n",
    "            \"traffic_class\": min_bbox[\"class\"],\n",
    "            \"traffic_left\": min_bbox[\"bbox\"][0],\n",
    "            \"traffic_top\": min_bbox[\"bbox\"][1],\n",
    "            \"traffic_right\": min_bbox[\"bbox\"][2],\n",
    "            \"traffic_bottom\": min_bbox[\"bbox\"][3],\n",
    "            \"traffic_x\": (min_bbox[\"bbox\"][0] + min_bbox[\"bbox\"][2]) / 2,\n",
    "            \"traffic_y\": (min_bbox[\"bbox\"][1] + min_bbox[\"bbox\"][3]) / 2,\n",
    "            \"traffic_width\": min_bbox[\"bbox\"][2] - min_bbox[\"bbox\"][0],\n",
    "            \"traffic_height\": min_bbox[\"bbox\"][3] - min_bbox[\"bbox\"][1],\n",
    "            \"traffic_aspect_ratio\": (min_bbox[\"bbox\"][2] - min_bbox[\"bbox\"][0])\n",
    "            / (min_bbox[\"bbox\"][3] - min_bbox[\"bbox\"][1]),\n",
    "            \"traffic_size\": (min_bbox[\"bbox\"][2] - min_bbox[\"bbox\"][0]) * (min_bbox[\"bbox\"][3] - min_bbox[\"bbox\"][1]),\n",
    "            \"traffic_count\": len(data),\n",
    "        }\n",
    "        df.append(dic)\n",
    "df = pl.DataFrame(df)"
   ]
  },
  {
   "cell_type": "code",
   "execution_count": 4,
   "metadata": {},
   "outputs": [
    {
     "data": {
      "text/html": [
       "<div><style>\n",
       ".dataframe > thead > tr,\n",
       ".dataframe > tbody > tr {\n",
       "  text-align: right;\n",
       "  white-space: pre-wrap;\n",
       "}\n",
       "</style>\n",
       "<small>shape: (6_702, 13)</small><table border=\"1\" class=\"dataframe\"><thead><tr><th>ID</th><th>traffic_class</th><th>traffic_left</th><th>traffic_top</th><th>traffic_right</th><th>traffic_bottom</th><th>traffic_x</th><th>traffic_y</th><th>traffic_width</th><th>traffic_height</th><th>traffic_aspect_ratio</th><th>traffic_size</th><th>traffic_count</th></tr><tr><td>str</td><td>str</td><td>f64</td><td>f64</td><td>f64</td><td>f64</td><td>f64</td><td>f64</td><td>f64</td><td>f64</td><td>f64</td><td>f64</td><td>i64</td></tr></thead><tbody><tr><td>&quot;151ad8af335e13aea1b78457e8981a…</td><td>&quot;red&quot;</td><td>61.312279</td><td>11.054235</td><td>62.241833</td><td>11.549029</td><td>61.777056</td><td>11.301632</td><td>0.929554</td><td>0.494794</td><td>1.878669</td><td>0.459938</td><td>1</td></tr><tr><td>&quot;68d18d5eac76dc9ebb53abeac90fe4…</td><td>&quot;red&quot;</td><td>98.159027</td><td>0.364187</td><td>101.745415</td><td>1.787217</td><td>99.952221</td><td>1.075702</td><td>3.586388</td><td>1.42303</td><td>2.520247</td><td>5.103537</td><td>1</td></tr><tr><td>&quot;9f96b054204fc3e920c3bdbb79524c…</td><td>&quot;red&quot;</td><td>59.883232</td><td>0.064853</td><td>63.007294</td><td>0.981673</td><td>61.445263</td><td>0.523263</td><td>3.124062</td><td>0.916819</td><td>3.4075</td><td>2.8642</td><td>2</td></tr><tr><td>&quot;62e0f968295c01cd961afb508476aa…</td><td>&quot;green&quot;</td><td>62.902729</td><td>2.260682</td><td>66.143303</td><td>3.58838</td><td>64.523016</td><td>2.924531</td><td>3.240574</td><td>1.327697</td><td>2.440748</td><td>4.302501</td><td>3</td></tr><tr><td>&quot;cc5dcd9c428a8ea7f7e1bd18167279…</td><td>&quot;green&quot;</td><td>27.388376</td><td>2.244328</td><td>29.750156</td><td>3.332453</td><td>28.569266</td><td>2.788391</td><td>2.36178</td><td>1.088126</td><td>2.170503</td><td>2.569914</td><td>4</td></tr><tr><td>&hellip;</td><td>&hellip;</td><td>&hellip;</td><td>&hellip;</td><td>&hellip;</td><td>&hellip;</td><td>&hellip;</td><td>&hellip;</td><td>&hellip;</td><td>&hellip;</td><td>&hellip;</td><td>&hellip;</td><td>&hellip;</td></tr><tr><td>&quot;bd3bec73628aecdfde2423fba116c5…</td><td>&quot;empty&quot;</td><td>95.072571</td><td>2.871063</td><td>101.936646</td><td>5.449689</td><td>98.504608</td><td>4.160376</td><td>6.864075</td><td>2.578627</td><td>2.661911</td><td>17.699886</td><td>1</td></tr><tr><td>&quot;b8593dd7e1fa3c6eb67f47fa23ce54…</td><td>&quot;red&quot;</td><td>72.196838</td><td>2.09381</td><td>74.722435</td><td>3.359355</td><td>73.459637</td><td>2.726583</td><td>2.525597</td><td>1.265546</td><td>1.995658</td><td>3.196258</td><td>1</td></tr><tr><td>&quot;97f01fd21b484819f03eae93451e57…</td><td>&quot;green&quot;</td><td>63.668262</td><td>4.259882</td><td>66.181068</td><td>5.514286</td><td>64.924665</td><td>4.887084</td><td>2.512806</td><td>1.254404</td><td>2.003188</td><td>3.152073</td><td>2</td></tr><tr><td>&quot;55e4c6312f53cf8a4a35adc004bdbc…</td><td>&quot;empty&quot;</td><td>65.605865</td><td>2.881765</td><td>68.124924</td><td>3.8708</td><td>66.865395</td><td>3.376283</td><td>2.519058</td><td>0.989036</td><td>2.546984</td><td>2.491439</td><td>1</td></tr><tr><td>&quot;b9f2c8449d73295d36c85cedae4d2c…</td><td>&quot;left&quot;</td><td>62.67527</td><td>2.156713</td><td>65.107895</td><td>3.92759</td><td>63.891582</td><td>3.042151</td><td>2.432625</td><td>1.770877</td><td>1.373683</td><td>4.30788</td><td>3</td></tr></tbody></table></div>"
      ],
      "text/plain": [
       "shape: (6_702, 13)\n",
       "┌───────────┬───────────┬───────────┬───────────┬───┬───────────┬───────────┬───────────┬──────────┐\n",
       "│ ID        ┆ traffic_c ┆ traffic_l ┆ traffic_t ┆ … ┆ traffic_h ┆ traffic_a ┆ traffic_s ┆ traffic_ │\n",
       "│ ---       ┆ lass      ┆ eft       ┆ op        ┆   ┆ eight     ┆ spect_rat ┆ ize       ┆ count    │\n",
       "│ str       ┆ ---       ┆ ---       ┆ ---       ┆   ┆ ---       ┆ io        ┆ ---       ┆ ---      │\n",
       "│           ┆ str       ┆ f64       ┆ f64       ┆   ┆ f64       ┆ ---       ┆ f64       ┆ i64      │\n",
       "│           ┆           ┆           ┆           ┆   ┆           ┆ f64       ┆           ┆          │\n",
       "╞═══════════╪═══════════╪═══════════╪═══════════╪═══╪═══════════╪═══════════╪═══════════╪══════════╡\n",
       "│ 151ad8af3 ┆ red       ┆ 61.312279 ┆ 11.054235 ┆ … ┆ 0.494794  ┆ 1.878669  ┆ 0.459938  ┆ 1        │\n",
       "│ 35e13aea1 ┆           ┆           ┆           ┆   ┆           ┆           ┆           ┆          │\n",
       "│ b78457e89 ┆           ┆           ┆           ┆   ┆           ┆           ┆           ┆          │\n",
       "│ 81a…      ┆           ┆           ┆           ┆   ┆           ┆           ┆           ┆          │\n",
       "│ 68d18d5ea ┆ red       ┆ 98.159027 ┆ 0.364187  ┆ … ┆ 1.42303   ┆ 2.520247  ┆ 5.103537  ┆ 1        │\n",
       "│ c76dc9ebb ┆           ┆           ┆           ┆   ┆           ┆           ┆           ┆          │\n",
       "│ 53abeac90 ┆           ┆           ┆           ┆   ┆           ┆           ┆           ┆          │\n",
       "│ fe4…      ┆           ┆           ┆           ┆   ┆           ┆           ┆           ┆          │\n",
       "│ 9f96b0542 ┆ red       ┆ 59.883232 ┆ 0.064853  ┆ … ┆ 0.916819  ┆ 3.4075    ┆ 2.8642    ┆ 2        │\n",
       "│ 04fc3e920 ┆           ┆           ┆           ┆   ┆           ┆           ┆           ┆          │\n",
       "│ c3bdbb795 ┆           ┆           ┆           ┆   ┆           ┆           ┆           ┆          │\n",
       "│ 24c…      ┆           ┆           ┆           ┆   ┆           ┆           ┆           ┆          │\n",
       "│ 62e0f9682 ┆ green     ┆ 62.902729 ┆ 2.260682  ┆ … ┆ 1.327697  ┆ 2.440748  ┆ 4.302501  ┆ 3        │\n",
       "│ 95c01cd96 ┆           ┆           ┆           ┆   ┆           ┆           ┆           ┆          │\n",
       "│ 1afb50847 ┆           ┆           ┆           ┆   ┆           ┆           ┆           ┆          │\n",
       "│ 6aa…      ┆           ┆           ┆           ┆   ┆           ┆           ┆           ┆          │\n",
       "│ cc5dcd9c4 ┆ green     ┆ 27.388376 ┆ 2.244328  ┆ … ┆ 1.088126  ┆ 2.170503  ┆ 2.569914  ┆ 4        │\n",
       "│ 28a8ea7f7 ┆           ┆           ┆           ┆   ┆           ┆           ┆           ┆          │\n",
       "│ e1bd18167 ┆           ┆           ┆           ┆   ┆           ┆           ┆           ┆          │\n",
       "│ 279…      ┆           ┆           ┆           ┆   ┆           ┆           ┆           ┆          │\n",
       "│ …         ┆ …         ┆ …         ┆ …         ┆ … ┆ …         ┆ …         ┆ …         ┆ …        │\n",
       "│ bd3bec736 ┆ empty     ┆ 95.072571 ┆ 2.871063  ┆ … ┆ 2.578627  ┆ 2.661911  ┆ 17.699886 ┆ 1        │\n",
       "│ 28aecdfde ┆           ┆           ┆           ┆   ┆           ┆           ┆           ┆          │\n",
       "│ 2423fba11 ┆           ┆           ┆           ┆   ┆           ┆           ┆           ┆          │\n",
       "│ 6c5…      ┆           ┆           ┆           ┆   ┆           ┆           ┆           ┆          │\n",
       "│ b8593dd7e ┆ red       ┆ 72.196838 ┆ 2.09381   ┆ … ┆ 1.265546  ┆ 1.995658  ┆ 3.196258  ┆ 1        │\n",
       "│ 1fa3c6eb6 ┆           ┆           ┆           ┆   ┆           ┆           ┆           ┆          │\n",
       "│ 7f47fa23c ┆           ┆           ┆           ┆   ┆           ┆           ┆           ┆          │\n",
       "│ e54…      ┆           ┆           ┆           ┆   ┆           ┆           ┆           ┆          │\n",
       "│ 97f01fd21 ┆ green     ┆ 63.668262 ┆ 4.259882  ┆ … ┆ 1.254404  ┆ 2.003188  ┆ 3.152073  ┆ 2        │\n",
       "│ b484819f0 ┆           ┆           ┆           ┆   ┆           ┆           ┆           ┆          │\n",
       "│ 3eae93451 ┆           ┆           ┆           ┆   ┆           ┆           ┆           ┆          │\n",
       "│ e57…      ┆           ┆           ┆           ┆   ┆           ┆           ┆           ┆          │\n",
       "│ 55e4c6312 ┆ empty     ┆ 65.605865 ┆ 2.881765  ┆ … ┆ 0.989036  ┆ 2.546984  ┆ 2.491439  ┆ 1        │\n",
       "│ f53cf8a4a ┆           ┆           ┆           ┆   ┆           ┆           ┆           ┆          │\n",
       "│ 35adc004b ┆           ┆           ┆           ┆   ┆           ┆           ┆           ┆          │\n",
       "│ dbc…      ┆           ┆           ┆           ┆   ┆           ┆           ┆           ┆          │\n",
       "│ b9f2c8449 ┆ left      ┆ 62.67527  ┆ 2.156713  ┆ … ┆ 1.770877  ┆ 1.373683  ┆ 4.30788   ┆ 3        │\n",
       "│ d73295d36 ┆           ┆           ┆           ┆   ┆           ┆           ┆           ┆          │\n",
       "│ c85cedae4 ┆           ┆           ┆           ┆   ┆           ┆           ┆           ┆          │\n",
       "│ d2c…      ┆           ┆           ┆           ┆   ┆           ┆           ┆           ┆          │\n",
       "└───────────┴───────────┴───────────┴───────────┴───┴───────────┴───────────┴───────────┴──────────┘"
      ]
     },
     "execution_count": 4,
     "metadata": {},
     "output_type": "execute_result"
    }
   ],
   "source": [
    "df"
   ]
  },
  {
   "cell_type": "code",
   "execution_count": 5,
   "metadata": {},
   "outputs": [],
   "source": [
    "df.write_csv(\"traffic_lights.csv\")"
   ]
  },
  {
   "cell_type": "code",
   "execution_count": null,
   "metadata": {},
   "outputs": [],
   "source": []
  }
 ],
 "metadata": {
  "kernelspec": {
   "display_name": "base",
   "language": "python",
   "name": "python3"
  },
  "language_info": {
   "codemirror_mode": {
    "name": "ipython",
    "version": 3
   },
   "file_extension": ".py",
   "mimetype": "text/x-python",
   "name": "python",
   "nbconvert_exporter": "python",
   "pygments_lexer": "ipython3",
   "version": "3.10.14"
  }
 },
 "nbformat": 4,
 "nbformat_minor": 2
}
