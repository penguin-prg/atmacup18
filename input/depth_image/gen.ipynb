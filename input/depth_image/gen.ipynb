{
 "cells": [
  {
   "cell_type": "markdown",
   "metadata": {},
   "source": [
    "@inoichan\n",
    "https://www.guruguru.science/competitions/25/discussions/a85b8a5a-2041-4a1b-84fc-5ad5492c3978/\n"
   ]
  },
  {
   "cell_type": "code",
   "execution_count": 1,
   "metadata": {},
   "outputs": [
    {
     "name": "stderr",
     "output_type": "stream",
     "text": [
      "2024-11-18 11:14:39.917755: I tensorflow/core/util/port.cc:113] oneDNN custom operations are on. You may see slightly different numerical results due to floating-point round-off errors from different computation orders. To turn them off, set the environment variable `TF_ENABLE_ONEDNN_OPTS=0`.\n",
      "2024-11-18 11:14:39.941980: I tensorflow/core/platform/cpu_feature_guard.cc:210] This TensorFlow binary is optimized to use available CPU instructions in performance-critical operations.\n",
      "To enable the following instructions: AVX2 AVX_VNNI FMA, in other operations, rebuild TensorFlow with the appropriate compiler flags.\n",
      "/opt/conda/lib/python3.10/site-packages/torch/cuda/__init__.py:230: UserWarning: \n",
      "NVIDIA GeForce RTX 4090 with CUDA capability sm_89 is not compatible with the current PyTorch installation.\n",
      "The current PyTorch install supports CUDA capabilities sm_60 sm_70 sm_75 compute_70 compute_75.\n",
      "If you want to use the NVIDIA GeForce RTX 4090 GPU with PyTorch, please check the instructions at https://pytorch.org/get-started/locally/\n",
      "\n",
      "  warnings.warn(\n",
      "  0%|          | 2/45098 [00:10<53:07:29,  4.24s/it] You seem to be using the pipelines sequentially on GPU. In order to maximize efficiency please use a dataset\n",
      "100%|██████████| 45098/45098 [37:25<00:00, 20.09it/s]\n"
     ]
    }
   ],
   "source": [
    "import os\n",
    "import sys\n",
    "from glob import glob\n",
    "\n",
    "import matplotlib.pyplot as plt\n",
    "import pandas as pd\n",
    "from PIL import Image\n",
    "from tqdm import tqdm\n",
    "from transformers import pipeline\n",
    "\n",
    "# ==================================\n",
    "# Dataの前処理に関するConfig\n",
    "# ==================================\n",
    "PATH_TO_DATASET = \"../\"\n",
    "\n",
    "\n",
    "def get_relative_path(path):\n",
    "    return os.path.join(PATH_TO_DATASET, path)\n",
    "\n",
    "\n",
    "# 画像へのパス\n",
    "image_path_root_list = [\n",
    "    get_relative_path(\"atmaCup#18_dataset/images/{ID}/image_t.png\"),\n",
    "    get_relative_path(\"atmaCup#18_dataset/images/{ID}/image_t-0.5.png\"),\n",
    "    get_relative_path(\"atmaCup#18_dataset/images/{ID}/image_t-1.0.png\"),\n",
    "]\n",
    "\n",
    "# 特徴量のパス\n",
    "train_feature_path = get_relative_path(\"atmaCup#18_dataset/train_features.csv\")\n",
    "traffic_light_path = get_relative_path(\"atmaCup#18_dataset/traffic_lights/{ID}.json\")\n",
    "\n",
    "# 信号機の情報へのパス\n",
    "test_feature_path = get_relative_path(\"atmaCup#18_dataset/test_features.csv\")\n",
    "\n",
    "\n",
    "# ========================================\n",
    "# DataFrameの読み込み\n",
    "# ========================================\n",
    "df_feature_train = pd.read_csv(train_feature_path)\n",
    "df_feature_test = pd.read_csv(test_feature_path)\n",
    "\n",
    "# =======================================\n",
    "# 画像のパスの追加\n",
    "# =======================================\n",
    "df_feature_train[\"img_path_t_00\"] = [image_path_root_list[0].format(ID=ID) for ID in df_feature_train.ID]\n",
    "df_feature_train[\"img_path_t_05\"] = [image_path_root_list[1].format(ID=ID) for ID in df_feature_train.ID]\n",
    "df_feature_train[\"img_path_t_10\"] = [image_path_root_list[2].format(ID=ID) for ID in df_feature_train.ID]\n",
    "\n",
    "df_feature_test[\"img_path_t_00\"] = [image_path_root_list[0].format(ID=ID) for ID in df_feature_test.ID]\n",
    "df_feature_test[\"img_path_t_05\"] = [image_path_root_list[1].format(ID=ID) for ID in df_feature_test.ID]\n",
    "df_feature_test[\"img_path_t_10\"] = [image_path_root_list[2].format(ID=ID) for ID in df_feature_test.ID]\n",
    "\n",
    "df_feature = pd.concat([df_feature_train, df_feature_test], axis=0, ignore_index=True)\n",
    "\n",
    "# =======================================\n",
    "# Depth Mapの生成と保存\n",
    "# =======================================\n",
    "depth_anything_v2 = pipeline(task=\"depth-estimation\", model=\"depth-anything/Depth-Anything-V2-Small-hf\", device=0)\n",
    "\n",
    "for i in tqdm(range(len(df_feature))):\n",
    "    row = df_feature.iloc[i]\n",
    "\n",
    "    for t, image_path_root in enumerate(image_path_root_list):\n",
    "        img_pil = Image.open(image_path_root.format(ID=row.ID))\n",
    "        pred = depth_anything_v2(img_pil)\n",
    "\n",
    "        depth_path = f\"depth/{row.ID}/{t}.png\"\n",
    "        os.makedirs(os.path.dirname(depth_path), exist_ok=True)\n",
    "        pred[\"depth\"].save(depth_path)"
   ]
  }
 ],
 "metadata": {
  "kernelspec": {
   "display_name": "base",
   "language": "python",
   "name": "python3"
  },
  "language_info": {
   "codemirror_mode": {
    "name": "ipython",
    "version": 3
   },
   "file_extension": ".py",
   "mimetype": "text/x-python",
   "name": "python",
   "nbconvert_exporter": "python",
   "pygments_lexer": "ipython3",
   "version": "3.10.14"
  }
 },
 "nbformat": 4,
 "nbformat_minor": 2
}
