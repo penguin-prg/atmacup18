{
 "cells": [
  {
   "cell_type": "code",
   "execution_count": 36,
   "metadata": {},
   "outputs": [
    {
     "name": "stdout",
     "output_type": "stream",
     "text": [
      "/kaggle/working\n"
     ]
    }
   ],
   "source": [
    "!rm -r /kaggle/working/*\n",
    "%cd /kaggle/working"
   ]
  },
  {
   "cell_type": "code",
   "execution_count": 37,
   "metadata": {},
   "outputs": [],
   "source": [
    "import os\n",
    "import sys\n",
    "\n",
    "PACKAGE_DIR = \"/kaggle/src\"\n",
    "sys.path.append(PACKAGE_DIR)\n",
    "sys.path.append(os.path.join(PACKAGE_DIR, \"Penguin-ML-Library\"))"
   ]
  },
  {
   "cell_type": "code",
   "execution_count": 38,
   "metadata": {},
   "outputs": [
    {
     "name": "stdout",
     "output_type": "stream",
     "text": [
      "ensemble_001\n"
     ]
    },
    {
     "name": "stderr",
     "output_type": "stream",
     "text": [
      "set seed: 46\n"
     ]
    },
    {
     "name": "stdout",
     "output_type": "stream",
     "text": [
      "{'cnn': {'execution': {'best_exp_id': 'exp_022',\n",
      "                       'exp_id': 'exp_022',\n",
      "                       'seed': 46},\n",
      "         'optimizer': {'lr': 0.01},\n",
      "         'trainer': {'device': 'cuda',\n",
      "                     'direction': 'minimize',\n",
      "                     'es_patience': 20,\n",
      "                     'loss_window': 100000,\n",
      "                     'max_epoch': 15,\n",
      "                     'monitor': 'valid_MeanAbsoluteError'}},\n",
      " 'dataset': {'competition_dir': '/kaggle/input/atmaCup#18_dataset',\n",
      "             'train_fold_path': '/kaggle/input/cv-split/train_folds.csv'},\n",
      " 'deberta': {'execution': {'best_exp_id': 'exp_018',\n",
      "                           'exp_id': 'exp_018',\n",
      "                           'seed': 46}},\n",
      " 'ensemble': {'execution': {'best_exp_id': 'ensemble_001',\n",
      "                            'exp_id': 'ensemble_001',\n",
      "                            'seed': 46},\n",
      "              'weights': {'cnn': 0.5, 'xgboost': 0.5}},\n",
      " 'lightgbm': {'execution': {'best_exp_id': 'exp_017',\n",
      "                            'exp_id': 'exp_017',\n",
      "                            'seed': 46},\n",
      "              'params': {'boosting_type': 'gbdt',\n",
      "                         'colsample_bytree': 0.7,\n",
      "                         'learning_rate': 0.01,\n",
      "                         'max_depth': 7,\n",
      "                         'metric': 'mae',\n",
      "                         'min_child_samples': 20,\n",
      "                         'n_estimators': 1000000,\n",
      "                         'objective': 'regression',\n",
      "                         'random_state': 42,\n",
      "                         'reg_alpha': 0.1,\n",
      "                         'reg_lambda': 0.1,\n",
      "                         'subsample': 1.0,\n",
      "                         'subsample_freq': 0,\n",
      "                         'verbosity': -1}},\n",
      " 'output_dir': '/kaggle/output/ensemble_001',\n",
      " 'wandb': {'project': 'atmaCup18'}}\n"
     ]
    }
   ],
   "source": [
    "from pprint import pprint\n",
    "\n",
    "import yaml\n",
    "from penguinml.utils.logger import get_logger, init_logger\n",
    "from penguinml.utils.set_seed import seed_base\n",
    "\n",
    "MODEL_NAME = \"ensemble\"\n",
    "CFG = yaml.safe_load(open(os.path.join(PACKAGE_DIR, \"config.yaml\"), \"r\"))\n",
    "print(CFG[MODEL_NAME][\"execution\"][\"exp_id\"])\n",
    "CFG[\"output_dir\"] = f\"/kaggle/output/{CFG[MODEL_NAME]['execution']['exp_id']}\"\n",
    "!rm -r {CFG[\"output_dir\"]}\n",
    "os.makedirs(CFG[\"output_dir\"], exist_ok=True)\n",
    "\n",
    "init_logger(f\"{ CFG[MODEL_NAME]['execution']['exp_id']}.log\")\n",
    "logger = get_logger(\"main\")\n",
    "seed_base(CFG[MODEL_NAME][\"execution\"][\"seed\"])\n",
    "\n",
    "pprint(CFG)"
   ]
  },
  {
   "cell_type": "code",
   "execution_count": 39,
   "metadata": {},
   "outputs": [],
   "source": [
    "import warnings\n",
    "\n",
    "import numpy as np\n",
    "import polars as pl\n",
    "\n",
    "from const import TARGET_COLS\n",
    "\n",
    "warnings.filterwarnings(\"ignore\")"
   ]
  },
  {
   "cell_type": "code",
   "execution_count": 40,
   "metadata": {},
   "outputs": [],
   "source": [
    "train = pl.read_csv(os.path.join(CFG[\"dataset\"][\"competition_dir\"], \"train_features.csv\")).sort(\"ID\")"
   ]
  },
  {
   "cell_type": "code",
   "execution_count": 41,
   "metadata": {},
   "outputs": [],
   "source": [
    "weights = [0.3, 0.4, 0.3]"
   ]
  },
  {
   "cell_type": "code",
   "execution_count": 42,
   "metadata": {},
   "outputs": [],
   "source": [
    "oof_xgb = pl.read_csv(os.path.join(\"/kaggle/output\", CFG[\"lightgbm\"][\"execution\"][\"best_exp_id\"], \"oof.csv\")).sort(\n",
    "    \"ID\"\n",
    ")\n",
    "oof_cnn = pl.read_csv(\"/kaggle/output/exp_022/oof.csv\").sort(\"ID\")\n",
    "oof_cnn2 = pl.read_csv(\"/kaggle/output/exp_014/oof.csv\").sort(\"ID\")\n",
    "\n",
    "oof = oof_xgb.clone()\n",
    "oof = oof.with_columns(\n",
    "    [oof_xgb[c] * weights[0] + oof_cnn[c] * weights[1] + oof_cnn2[c] * weights[2] for c in TARGET_COLS]\n",
    ")\n",
    "oof.write_csv(os.path.join(CFG[\"output_dir\"], \"oof.csv\"))"
   ]
  },
  {
   "cell_type": "code",
   "execution_count": 43,
   "metadata": {},
   "outputs": [],
   "source": [
    "sub_xgb = pl.read_csv(\n",
    "    os.path.join(\"/kaggle/output\", CFG[\"lightgbm\"][\"execution\"][\"best_exp_id\"], \"submission.csv\")\n",
    ").sort(\"ID\")\n",
    "sub_cnn = pl.read_csv(\"/kaggle/output/exp_022/submission.csv\").sort(\"ID\")\n",
    "sub_cnn2 = pl.read_csv(\"/kaggle/output/exp_014/submission.csv\").sort(\"ID\")\n",
    "\n",
    "sub = sub_xgb.clone()\n",
    "sub = sub.with_columns(\n",
    "    [sub_xgb[c] * weights[0] + sub_cnn[c] * weights[1] + sub_cnn2[c] * weights[2] for c in TARGET_COLS]\n",
    ")\n",
    "sub.to_pandas()[TARGET_COLS].to_csv(os.path.join(CFG[\"output_dir\"], \"submission.csv\"), index=False)"
   ]
  },
  {
   "cell_type": "code",
   "execution_count": 44,
   "metadata": {},
   "outputs": [
    {
     "data": {
      "text/plain": [
       "0.19059015157662482"
      ]
     },
     "execution_count": 44,
     "metadata": {},
     "output_type": "execute_result"
    }
   ],
   "source": [
    "mae = np.mean(np.abs(train[TARGET_COLS].to_numpy() - oof[[c for c in TARGET_COLS]].to_numpy()))\n",
    "mae"
   ]
  },
  {
   "cell_type": "code",
   "execution_count": null,
   "metadata": {},
   "outputs": [],
   "source": []
  },
  {
   "cell_type": "code",
   "execution_count": null,
   "metadata": {},
   "outputs": [],
   "source": []
  }
 ],
 "metadata": {
  "kernelspec": {
   "display_name": "base",
   "language": "python",
   "name": "python3"
  },
  "language_info": {
   "codemirror_mode": {
    "name": "ipython",
    "version": 3
   },
   "file_extension": ".py",
   "mimetype": "text/x-python",
   "name": "python",
   "nbconvert_exporter": "python",
   "pygments_lexer": "ipython3",
   "version": "3.10.14"
  }
 },
 "nbformat": 4,
 "nbformat_minor": 2
}
