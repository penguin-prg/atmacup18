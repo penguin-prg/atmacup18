{
 "cells": [
  {
   "cell_type": "code",
   "execution_count": 1,
   "metadata": {},
   "outputs": [
    {
     "name": "stdout",
     "output_type": "stream",
     "text": [
      "/kaggle/working\n"
     ]
    }
   ],
   "source": [
    "!rm -r /kaggle/working/*\n",
    "%cd /kaggle/working"
   ]
  },
  {
   "cell_type": "code",
   "execution_count": 2,
   "metadata": {},
   "outputs": [],
   "source": [
    "import os\n",
    "import sys\n",
    "\n",
    "PACKAGE_DIR = \"/kaggle/src\"\n",
    "sys.path.append(PACKAGE_DIR)\n",
    "sys.path.append(os.path.join(PACKAGE_DIR, \"Penguin-ML-Library\"))"
   ]
  },
  {
   "cell_type": "code",
   "execution_count": 3,
   "metadata": {},
   "outputs": [
    {
     "name": "stderr",
     "output_type": "stream",
     "text": [
      "2024-11-16 09:52:02.674959: I tensorflow/core/util/port.cc:113] oneDNN custom operations are on. You may see slightly different numerical results due to floating-point round-off errors from different computation orders. To turn them off, set the environment variable `TF_ENABLE_ONEDNN_OPTS=0`.\n",
      "2024-11-16 09:52:02.701368: I tensorflow/core/platform/cpu_feature_guard.cc:210] This TensorFlow binary is optimized to use available CPU instructions in performance-critical operations.\n",
      "To enable the following instructions: AVX2 AVX_VNNI FMA, in other operations, rebuild TensorFlow with the appropriate compiler flags.\n"
     ]
    },
    {
     "name": "stdout",
     "output_type": "stream",
     "text": [
      "exp_006\n"
     ]
    },
    {
     "name": "stderr",
     "output_type": "stream",
     "text": [
      "/opt/conda/lib/python3.10/pty.py:89: RuntimeWarning: os.fork() was called. os.fork() is incompatible with multithreaded code, and JAX is multithreaded, so this will likely lead to a deadlock.\n",
      "  pid, fd = os.forkpty()\n",
      "set seed: 46\n"
     ]
    }
   ],
   "source": [
    "import yaml\n",
    "from penguinml.utils.logger import get_logger, init_logger\n",
    "from penguinml.utils.set_seed import seed_base\n",
    "\n",
    "MODEL_NAME = \"xgboost\"\n",
    "CFG = yaml.safe_load(open(os.path.join(PACKAGE_DIR, \"config.yaml\"), \"r\"))\n",
    "print(CFG[MODEL_NAME][\"execution\"][\"exp_id\"])\n",
    "CFG[\"output_dir\"] = f\"/kaggle/output/{CFG[MODEL_NAME]['execution']['exp_id']}\"\n",
    "!rm -r {CFG[\"output_dir\"]}\n",
    "os.makedirs(CFG[\"output_dir\"], exist_ok=True)\n",
    "\n",
    "init_logger(f\"{ CFG[MODEL_NAME]['execution']['exp_id']}.log\")\n",
    "logger = get_logger(\"main\")\n",
    "seed_base(CFG[MODEL_NAME][\"execution\"][\"seed\"])"
   ]
  },
  {
   "cell_type": "code",
   "execution_count": 4,
   "metadata": {},
   "outputs": [],
   "source": [
    "import warnings\n",
    "\n",
    "import numpy as np\n",
    "import polars as pl\n",
    "\n",
    "warnings.filterwarnings(\"ignore\")"
   ]
  },
  {
   "cell_type": "code",
   "execution_count": 5,
   "metadata": {},
   "outputs": [
    {
     "name": "stdout",
     "output_type": "stream",
     "text": [
      "(43371, 32)\n"
     ]
    },
    {
     "data": {
      "text/html": [
       "<div><style>\n",
       ".dataframe > thead > tr,\n",
       ".dataframe > tbody > tr {\n",
       "  text-align: right;\n",
       "  white-space: pre-wrap;\n",
       "}\n",
       "</style>\n",
       "<small>shape: (1, 32)</small><table border=\"1\" class=\"dataframe\"><thead><tr><th>ID</th><th>vEgo</th><th>aEgo</th><th>steeringAngleDeg</th><th>steeringTorque</th><th>brake</th><th>brakePressed</th><th>gas</th><th>gasPressed</th><th>gearShifter</th><th>leftBlinker</th><th>rightBlinker</th><th>x_0</th><th>y_0</th><th>z_0</th><th>x_1</th><th>y_1</th><th>z_1</th><th>x_2</th><th>y_2</th><th>z_2</th><th>x_3</th><th>y_3</th><th>z_3</th><th>x_4</th><th>y_4</th><th>z_4</th><th>x_5</th><th>y_5</th><th>z_5</th><th>sceneID</th><th>offset</th></tr><tr><td>str</td><td>f64</td><td>f64</td><td>f64</td><td>f64</td><td>f64</td><td>bool</td><td>f64</td><td>bool</td><td>str</td><td>bool</td><td>bool</td><td>f64</td><td>f64</td><td>f64</td><td>f64</td><td>f64</td><td>f64</td><td>f64</td><td>f64</td><td>f64</td><td>f64</td><td>f64</td><td>f64</td><td>f64</td><td>f64</td><td>f64</td><td>f64</td><td>f64</td><td>f64</td><td>str</td><td>f32</td></tr></thead><tbody><tr><td>&quot;00066be8e20318869c38c66be46663…</td><td>5.701526</td><td>1.538456</td><td>-2.165777</td><td>-139.0</td><td>0.0</td><td>false</td><td>0.25</td><td>true</td><td>&quot;drive&quot;</td><td>false</td><td>false</td><td>2.82959</td><td>0.032226</td><td>0.045187</td><td>6.231999</td><td>0.065895</td><td>0.107974</td><td>9.785009</td><td>0.124972</td><td>0.203649</td><td>13.485472</td><td>0.163448</td><td>0.302818</td><td>17.574227</td><td>0.174289</td><td>0.406331</td><td>21.951269</td><td>0.199503</td><td>0.485079</td><td>&quot;00066be8e20318869c38c66be46663…</td><td>320.0</td></tr></tbody></table></div>"
      ],
      "text/plain": [
       "shape: (1, 32)\n",
       "┌─────────────┬──────────┬──────────┬─────────────┬───┬──────────┬──────────┬─────────────┬────────┐\n",
       "│ ID          ┆ vEgo     ┆ aEgo     ┆ steeringAng ┆ … ┆ y_5      ┆ z_5      ┆ sceneID     ┆ offset │\n",
       "│ ---         ┆ ---      ┆ ---      ┆ leDeg       ┆   ┆ ---      ┆ ---      ┆ ---         ┆ ---    │\n",
       "│ str         ┆ f64      ┆ f64      ┆ ---         ┆   ┆ f64      ┆ f64      ┆ str         ┆ f32    │\n",
       "│             ┆          ┆          ┆ f64         ┆   ┆          ┆          ┆             ┆        │\n",
       "╞═════════════╪══════════╪══════════╪═════════════╪═══╪══════════╪══════════╪═════════════╪════════╡\n",
       "│ 00066be8e20 ┆ 5.701526 ┆ 1.538456 ┆ -2.165777   ┆ … ┆ 0.199503 ┆ 0.485079 ┆ 00066be8e20 ┆ 320.0  │\n",
       "│ 318869c38c6 ┆          ┆          ┆             ┆   ┆          ┆          ┆ 318869c38c6 ┆        │\n",
       "│ 6be46663…   ┆          ┆          ┆             ┆   ┆          ┆          ┆ 6be46663…   ┆        │\n",
       "└─────────────┴──────────┴──────────┴─────────────┴───┴──────────┴──────────┴─────────────┴────────┘"
      ]
     },
     "execution_count": 5,
     "metadata": {},
     "output_type": "execute_result"
    }
   ],
   "source": [
    "train = pl.read_csv(os.path.join(CFG[\"dataset\"][\"competition_dir\"], \"train_features.csv\"))\n",
    "train = (\n",
    "    train.with_columns(\n",
    "        pl.col(\"ID\").str.split_exact(\"_\", n=1).struct.rename_fields([\"sceneID\", \"offset\"]).alias(\"fields\")\n",
    "    )\n",
    "    .unnest(\"fields\")\n",
    "    .with_columns(pl.col(\"offset\").cast(pl.Float32))\n",
    ")\n",
    "print(train.shape)\n",
    "train.head(1)"
   ]
  },
  {
   "cell_type": "markdown",
   "metadata": {},
   "source": [
    "## 特徴量生成\n"
   ]
  },
  {
   "cell_type": "code",
   "execution_count": 6,
   "metadata": {},
   "outputs": [],
   "source": [
    "from penguinml.utils.contena import FeatureContena\n",
    "\n",
    "features = FeatureContena()\n",
    "basic_features = [\n",
    "    \"vEgo\",\n",
    "    \"aEgo\",\n",
    "    \"steeringAngleDeg\",\n",
    "    \"steeringTorque\",\n",
    "    \"brake\",\n",
    "    \"brakePressed\",\n",
    "    \"gas\",\n",
    "    \"gasPressed\",\n",
    "    \"leftBlinker\",\n",
    "    \"rightBlinker\",\n",
    "    \"offset\",\n",
    "]\n",
    "for c in basic_features:\n",
    "    train = train.with_columns(pl.col(c).cast(pl.Float32))\n",
    "features.add_num_features(basic_features)\n",
    "features.add_cat_features([\"gearShifter\"])"
   ]
  },
  {
   "cell_type": "code",
   "execution_count": null,
   "metadata": {},
   "outputs": [],
   "source": [
    "# 前後のフレームとのラグ特徴量\n",
    "train = train.sort([\"sceneID\", \"offset\"])\n",
    "for c in basic_features:\n",
    "    for diff in range(-1, 0):\n",
    "        if diff == 0:\n",
    "            continue\n",
    "        train = train.with_columns(\n",
    "            pl.col(c).diff(n=diff).over(\"sceneID\").alias(f\"{c}_diff_{diff}\"),\n",
    "            pl.col(c).diff(n=diff).over(\"sceneID\").alias(f\"{c}_shift_{diff}\"),\n",
    "        )\n",
    "        features.add_num_features([f\"{c}_diff_{diff}\", f\"{c}_shift_{diff}\"])"
   ]
  },
  {
   "cell_type": "code",
   "execution_count": 8,
   "metadata": {},
   "outputs": [],
   "source": [
    "# train = train.with_columns(\n",
    "#     (pl.col(\"vEgo\") / pl.col(\"aEgo\")).alias(\"vEgo/aEgo\"),\n",
    "# )\n",
    "# features.add_num_features([\"vEgo/aEgo\"])"
   ]
  },
  {
   "cell_type": "markdown",
   "metadata": {},
   "source": [
    "## ターゲット列を分解\n"
   ]
  },
  {
   "cell_type": "code",
   "execution_count": 9,
   "metadata": {},
   "outputs": [
    {
     "data": {
      "text/html": [
       "<div><style>\n",
       ".dataframe > thead > tr,\n",
       ".dataframe > tbody > tr {\n",
       "  text-align: right;\n",
       "  white-space: pre-wrap;\n",
       "}\n",
       "</style>\n",
       "<small>shape: (1, 41)</small><table border=\"1\" class=\"dataframe\"><thead><tr><th>ID</th><th>target_name</th><th>target</th><th>vEgo</th><th>aEgo</th><th>steeringAngleDeg</th><th>steeringTorque</th><th>brake</th><th>brakePressed</th><th>gas</th><th>gasPressed</th><th>gearShifter</th><th>leftBlinker</th><th>rightBlinker</th><th>sceneID</th><th>offset</th><th>vEgo_diff_-1</th><th>vEgo_shift_-1</th><th>aEgo_diff_-1</th><th>aEgo_shift_-1</th><th>steeringAngleDeg_diff_-1</th><th>steeringAngleDeg_shift_-1</th><th>steeringTorque_diff_-1</th><th>steeringTorque_shift_-1</th><th>brake_diff_-1</th><th>brake_shift_-1</th><th>brakePressed_diff_-1</th><th>brakePressed_shift_-1</th><th>gas_diff_-1</th><th>gas_shift_-1</th><th>gasPressed_diff_-1</th><th>gasPressed_shift_-1</th><th>leftBlinker_diff_-1</th><th>leftBlinker_shift_-1</th><th>rightBlinker_diff_-1</th><th>rightBlinker_shift_-1</th><th>offset_diff_-1</th><th>offset_shift_-1</th><th>dt</th><th>xyz</th><th>target_name_original</th></tr><tr><td>str</td><td>str</td><td>f64</td><td>f32</td><td>f32</td><td>f32</td><td>f32</td><td>f32</td><td>f32</td><td>f32</td><td>f32</td><td>str</td><td>f32</td><td>f32</td><td>str</td><td>f32</td><td>f32</td><td>f32</td><td>f32</td><td>f32</td><td>f32</td><td>f32</td><td>f32</td><td>f32</td><td>f32</td><td>f32</td><td>f32</td><td>f32</td><td>f32</td><td>f32</td><td>f32</td><td>f32</td><td>f32</td><td>f32</td><td>f32</td><td>f32</td><td>f32</td><td>f32</td><td>f32</td><td>str</td><td>str</td></tr></thead><tbody><tr><td>&quot;00066be8e20318869c38c66be46663…</td><td>&quot;x_0&quot;</td><td>2.82959</td><td>5.701526</td><td>1.538456</td><td>-2.165777</td><td>-139.0</td><td>0.0</td><td>0.0</td><td>0.25</td><td>1.0</td><td>&quot;drive&quot;</td><td>0.0</td><td>0.0</td><td>&quot;00066be8e20318869c38c66be46663…</td><td>320.0</td><td>-5.474767</td><td>-5.474767</td><td>1.258575</td><td>1.258575</td><td>9.45992</td><td>9.45992</td><td>-95.0</td><td>-95.0</td><td>0.0</td><td>0.0</td><td>0.0</td><td>0.0</td><td>0.25</td><td>0.25</td><td>1.0</td><td>1.0</td><td>0.0</td><td>0.0</td><td>-1.0</td><td>-1.0</td><td>-100.0</td><td>-100.0</td><td>0.5</td><td>&quot;x&quot;</td><td>&quot;x_0&quot;</td></tr></tbody></table></div>"
      ],
      "text/plain": [
       "shape: (1, 41)\n",
       "┌───────────────┬─────────────┬─────────┬──────────┬───┬───────────────┬─────┬─────┬───────────────┐\n",
       "│ ID            ┆ target_name ┆ target  ┆ vEgo     ┆ … ┆ offset_shift_ ┆ dt  ┆ xyz ┆ target_name_o │\n",
       "│ ---           ┆ ---         ┆ ---     ┆ ---      ┆   ┆ -1            ┆ --- ┆ --- ┆ riginal       │\n",
       "│ str           ┆ str         ┆ f64     ┆ f32      ┆   ┆ ---           ┆ f32 ┆ str ┆ ---           │\n",
       "│               ┆             ┆         ┆          ┆   ┆ f32           ┆     ┆     ┆ str           │\n",
       "╞═══════════════╪═════════════╪═════════╪══════════╪═══╪═══════════════╪═════╪═════╪═══════════════╡\n",
       "│ 00066be8e2031 ┆ x_0         ┆ 2.82959 ┆ 5.701526 ┆ … ┆ -100.0        ┆ 0.5 ┆ x   ┆ x_0           │\n",
       "│ 8869c38c66be4 ┆             ┆         ┆          ┆   ┆               ┆     ┆     ┆               │\n",
       "│ 6663…         ┆             ┆         ┆          ┆   ┆               ┆     ┆     ┆               │\n",
       "└───────────────┴─────────────┴─────────┴──────────┴───┴───────────────┴─────┴─────┴───────────────┘"
      ]
     },
     "execution_count": 9,
     "metadata": {},
     "output_type": "execute_result"
    }
   ],
   "source": [
    "from const import TARGET_COLS\n",
    "\n",
    "train = (\n",
    "    train.unpivot(index=\"ID\", on=TARGET_COLS, variable_name=\"target_name\", value_name=\"target\")\n",
    "    .join(\n",
    "        train.drop(TARGET_COLS),\n",
    "        on=\"ID\",\n",
    "        how=\"left\",\n",
    "    )\n",
    "    .with_columns(\n",
    "        (\n",
    "            pl.col(\"target_name\").map_elements(lambda x: float(x.split(\"_\")[1]), return_dtype=pl.Float32) * 0.5 + 0.5\n",
    "        ).alias(\"dt\"),\n",
    "        pl.col(\"target_name\").map_elements(lambda x: x.split(\"_\")[0], return_dtype=str).alias(\"xyz\"),\n",
    "    )\n",
    "    .with_columns(\n",
    "        pl.col(\"target_name\").alias(\"target_name_original\"),\n",
    "    )\n",
    ")\n",
    "features.add_cat_features([\"target_name\", \"xyz\"])\n",
    "train.head(1)"
   ]
  },
  {
   "cell_type": "code",
   "execution_count": 10,
   "metadata": {},
   "outputs": [],
   "source": [
    "# dt秒後の特徴\n",
    "train = train.with_columns(\n",
    "    # vt\n",
    "    (pl.col(\"vEgo\") * pl.col(\"dt\").cast(pl.Float32)).alias(\"linear_movement@dt\"),\n",
    "    # vt + 0.5at^2\n",
    "    ((pl.col(\"vEgo\") + 0.5 * pl.col(\"aEgo\") * pl.col(\"dt\").cast(pl.Float32) ** 2).alias(\"movement@dt\")),\n",
    "    # v + at\n",
    "    (pl.col(\"vEgo\") + pl.col(\"aEgo\") * pl.col(\"dt\").cast(pl.Float32)).alias(\"velocity@dt\"),\n",
    "    # # cos\n",
    "    # (pl.col(\"steeringAngleDeg\").map_elements(lambda x: np.cos(np.deg2rad(x)), return_dtype=pl.Float32)).alias(\"cos\"),\n",
    "    # # sin\n",
    "    # (pl.col(\"steeringAngleDeg\").map_elements(lambda x: np.sin(np.deg2rad(x)), return_dtype=pl.Float32)).alias(\"sin\"),\n",
    ").with_columns(\n",
    "    # (pl.col(\"movement@dt\") * pl.col(\"cos\")).alias(\"movement@dt*cos\"),\n",
    "    # (pl.col(\"movement@dt\") * pl.col(\"sin\")).alias(\"movement@dt*sin\"),\n",
    "    # (pl.col(\"linear_movement@dt\") * pl.col(\"cos\")).alias(\"linear_movement@dt*cos\"),\n",
    "    # (pl.col(\"linear_movement@dt\") * pl.col(\"sin\")).alias(\"linear_movement@dt*sin\"),\n",
    "    # (pl.col(\"velocity@dt\") * pl.col(\"cos\")).alias(\"velocity@dt*cos\"),\n",
    "    # (pl.col(\"velocity@dt\") * pl.col(\"sin\")).alias(\"velocity@dt*sin\"),\n",
    ")\n",
    "\n",
    "features.add_num_features(\n",
    "    [\n",
    "        \"linear_movement@dt\",\n",
    "        \"movement@dt\",\n",
    "        \"velocity@dt\",\n",
    "        # \"cos\",\n",
    "        # \"sin\",\n",
    "        # \"movement@dt*cos\",\n",
    "        # \"movement@dt*sin\",\n",
    "        # \"linear_movement@dt*cos\",\n",
    "        # \"linear_movement@dt*sin\",\n",
    "        # \"velocity@dt*cos\",\n",
    "        # \"velocity@dt*sin\",\n",
    "    ]\n",
    ")"
   ]
  },
  {
   "cell_type": "code",
   "execution_count": 11,
   "metadata": {},
   "outputs": [],
   "source": [
    "# シーン内の集約特徴量\n",
    "for c in features.num_features():\n",
    "    train = train.with_columns(\n",
    "        pl.col(c).mean().over(\"sceneID\").alias(f\"{c}_mean\"),\n",
    "        pl.col(c).std().over(\"sceneID\").alias(f\"{c}_std\"),\n",
    "        pl.col(c).max().over(\"sceneID\").alias(f\"{c}_max\"),\n",
    "        pl.col(c).min().over(\"sceneID\").alias(f\"{c}_min\"),\n",
    "    )\n",
    "    features.add_num_features([f\"{c}_mean\", f\"{c}_std\", f\"{c}_max\", f\"{c}_min\"])"
   ]
  },
  {
   "cell_type": "code",
   "execution_count": 12,
   "metadata": {},
   "outputs": [],
   "source": [
    "from const import CATEGORY_MAPPING\n",
    "\n",
    "for c in features.num_features():\n",
    "    train = train.with_columns(pl.col(c).cast(pl.Float32))\n",
    "\n",
    "for c in features.cat_features():\n",
    "    mapping = CATEGORY_MAPPING[c]\n",
    "    train = train.with_columns(pl.col(c).replace_strict(mapping).cast(pl.Int32))"
   ]
  },
  {
   "cell_type": "markdown",
   "metadata": {},
   "source": [
    "## CV Split\n"
   ]
  },
  {
   "cell_type": "code",
   "execution_count": 13,
   "metadata": {},
   "outputs": [],
   "source": [
    "train_folds = pl.read_csv(CFG[\"dataset\"][\"train_fold_path\"])\n",
    "train = train.join(train_folds, on=\"sceneID\", how=\"left\")\n",
    "assert train[\"fold\"].null_count() == 0"
   ]
  },
  {
   "cell_type": "markdown",
   "metadata": {},
   "source": [
    "## Training\n"
   ]
  },
  {
   "cell_type": "code",
   "execution_count": 14,
   "metadata": {},
   "outputs": [
    {
     "name": "stderr",
     "output_type": "stream",
     "text": [
      "  0%|          | 0/18 [00:00<?, ?it/s]"
     ]
    },
    {
     "name": "stdout",
     "output_type": "stream",
     "text": [
      "====================x_5====================\n",
      "== fold 0 ==\n",
      "[0]\tvalidation_0-mae:17.66787\n",
      "[1748]\tvalidation_0-mae:0.69594\n",
      "== fold 1 ==\n",
      "[0]\tvalidation_0-mae:17.69330\n",
      "[2630]\tvalidation_0-mae:0.72663\n",
      "== fold 2 ==\n",
      "[0]\tvalidation_0-mae:17.90410\n",
      "[3804]\tvalidation_0-mae:0.71260\n",
      "== fold 3 ==\n",
      "[0]\tvalidation_0-mae:17.77282\n",
      "[2623]\tvalidation_0-mae:0.70398\n",
      "== fold 4 ==\n",
      "[0]\tvalidation_0-mae:17.38763\n",
      "[2279]\tvalidation_0-mae:0.71572\n"
     ]
    },
    {
     "name": "stderr",
     "output_type": "stream",
     "text": [
      "  6%|▌         | 1/18 [01:19<22:34, 79.65s/it]"
     ]
    },
    {
     "name": "stdout",
     "output_type": "stream",
     "text": [
      "====================y_5====================\n",
      "== fold 0 ==\n",
      "[0]\tvalidation_0-mae:0.99784\n",
      "[1597]\tvalidation_0-mae:0.46579\n",
      "== fold 1 ==\n",
      "[0]\tvalidation_0-mae:1.07323\n",
      "[1729]\tvalidation_0-mae:0.48548\n",
      "== fold 2 ==\n",
      "[0]\tvalidation_0-mae:1.06209\n",
      "[1664]\tvalidation_0-mae:0.48569\n",
      "== fold 3 ==\n",
      "[0]\tvalidation_0-mae:1.00584\n",
      "[2655]\tvalidation_0-mae:0.48122\n",
      "== fold 4 ==\n",
      "[0]\tvalidation_0-mae:1.09607\n",
      "[1657]\tvalidation_0-mae:0.49961\n"
     ]
    },
    {
     "name": "stderr",
     "output_type": "stream",
     "text": [
      " 11%|█         | 2/18 [02:13<17:13, 64.61s/it]"
     ]
    },
    {
     "name": "stdout",
     "output_type": "stream",
     "text": [
      "====================z_5====================\n",
      "== fold 0 ==\n",
      "[0]\tvalidation_0-mae:0.18292\n",
      "[473]\tvalidation_0-mae:0.17740\n",
      "== fold 1 ==\n",
      "[0]\tvalidation_0-mae:0.18178\n",
      "[681]\tvalidation_0-mae:0.17457\n",
      "== fold 2 ==\n",
      "[0]\tvalidation_0-mae:0.18551\n",
      "[795]\tvalidation_0-mae:0.17843\n",
      "== fold 3 ==\n",
      "[0]\tvalidation_0-mae:0.18896\n",
      "[777]\tvalidation_0-mae:0.18310\n",
      "== fold 4 ==\n",
      "[0]\tvalidation_0-mae:0.18486\n",
      "[788]\tvalidation_0-mae:0.17884\n"
     ]
    },
    {
     "name": "stderr",
     "output_type": "stream",
     "text": [
      " 17%|█▋        | 3/18 [02:35<11:18, 45.22s/it]"
     ]
    },
    {
     "name": "stdout",
     "output_type": "stream",
     "text": [
      "====================x_4====================\n",
      "== fold 0 ==\n",
      "[0]\tvalidation_0-mae:14.67363\n",
      "[3967]\tvalidation_0-mae:0.52296\n",
      "== fold 1 ==\n",
      "[0]\tvalidation_0-mae:14.69701\n",
      "[2503]\tvalidation_0-mae:0.53930\n",
      "== fold 2 ==\n",
      "[0]\tvalidation_0-mae:14.86732\n",
      "[5088]\tvalidation_0-mae:0.53086\n",
      "== fold 3 ==\n",
      "[0]\tvalidation_0-mae:14.76484\n",
      "[3331]\tvalidation_0-mae:0.52452\n",
      "== fold 4 ==\n",
      "[0]\tvalidation_0-mae:14.43916\n",
      "[3253]\tvalidation_0-mae:0.53314\n"
     ]
    },
    {
     "name": "stderr",
     "output_type": "stream",
     "text": [
      " 22%|██▏       | 4/18 [04:19<15:57, 68.37s/it]"
     ]
    },
    {
     "name": "stdout",
     "output_type": "stream",
     "text": [
      "====================y_4====================\n",
      "== fold 0 ==\n",
      "[0]\tvalidation_0-mae:0.72716\n",
      "[2419]\tvalidation_0-mae:0.32325\n",
      "== fold 1 ==\n",
      "[0]\tvalidation_0-mae:0.77817\n",
      "[1755]\tvalidation_0-mae:0.33433\n",
      "== fold 2 ==\n",
      "[0]\tvalidation_0-mae:0.77434\n",
      "[1698]\tvalidation_0-mae:0.33663\n",
      "== fold 3 ==\n",
      "[0]\tvalidation_0-mae:0.72850\n",
      "[2090]\tvalidation_0-mae:0.33235\n",
      "== fold 4 ==\n",
      "[0]\tvalidation_0-mae:0.79461\n",
      "[1865]\tvalidation_0-mae:0.34520\n"
     ]
    },
    {
     "name": "stderr",
     "output_type": "stream",
     "text": [
      " 28%|██▊       | 5/18 [05:18<14:04, 64.97s/it]"
     ]
    },
    {
     "name": "stdout",
     "output_type": "stream",
     "text": [
      "====================z_4====================\n",
      "== fold 0 ==\n",
      "[0]\tvalidation_0-mae:0.14817\n",
      "[683]\tvalidation_0-mae:0.14396\n",
      "== fold 1 ==\n",
      "[0]\tvalidation_0-mae:0.14718\n",
      "[809]\tvalidation_0-mae:0.14194\n",
      "== fold 2 ==\n",
      "[0]\tvalidation_0-mae:0.15077\n",
      "[435]\tvalidation_0-mae:0.14561\n",
      "== fold 3 ==\n",
      "[0]\tvalidation_0-mae:0.15403\n",
      "[644]\tvalidation_0-mae:0.14948\n",
      "== fold 4 ==\n",
      "[0]\tvalidation_0-mae:0.15036\n",
      "[829]\tvalidation_0-mae:0.14538\n"
     ]
    },
    {
     "name": "stderr",
     "output_type": "stream",
     "text": [
      " 33%|███▎      | 6/18 [05:40<10:03, 50.26s/it]"
     ]
    },
    {
     "name": "stdout",
     "output_type": "stream",
     "text": [
      "====================x_3====================\n",
      "== fold 0 ==\n",
      "[0]\tvalidation_0-mae:11.68011\n",
      "[3463]\tvalidation_0-mae:0.36888\n",
      "== fold 1 ==\n",
      "[0]\tvalidation_0-mae:11.69991\n",
      "[2270]\tvalidation_0-mae:0.37380\n",
      "== fold 2 ==\n",
      "[0]\tvalidation_0-mae:11.83293\n",
      "[2718]\tvalidation_0-mae:0.36994\n",
      "== fold 3 ==\n",
      "[0]\tvalidation_0-mae:11.75277\n",
      "[4264]\tvalidation_0-mae:0.36635\n",
      "== fold 4 ==\n",
      "[0]\tvalidation_0-mae:11.48912\n",
      "[2331]\tvalidation_0-mae:0.37293\n"
     ]
    },
    {
     "name": "stderr",
     "output_type": "stream",
     "text": [
      " 39%|███▉      | 7/18 [07:06<11:22, 62.04s/it]"
     ]
    },
    {
     "name": "stdout",
     "output_type": "stream",
     "text": [
      "====================y_3====================\n",
      "== fold 0 ==\n",
      "[0]\tvalidation_0-mae:0.49626\n",
      "[1950]\tvalidation_0-mae:0.21119\n",
      "== fold 1 ==\n",
      "[0]\tvalidation_0-mae:0.52888\n",
      "[1544]\tvalidation_0-mae:0.21731\n",
      "== fold 2 ==\n",
      "[0]\tvalidation_0-mae:0.52808\n",
      "[2413]\tvalidation_0-mae:0.21833\n",
      "== fold 3 ==\n",
      "[0]\tvalidation_0-mae:0.49421\n",
      "[1647]\tvalidation_0-mae:0.21704\n",
      "== fold 4 ==\n",
      "[0]\tvalidation_0-mae:0.53921\n",
      "[3097]\tvalidation_0-mae:0.22368\n"
     ]
    },
    {
     "name": "stderr",
     "output_type": "stream",
     "text": [
      " 44%|████▍     | 8/18 [08:08<10:19, 61.92s/it]"
     ]
    },
    {
     "name": "stdout",
     "output_type": "stream",
     "text": [
      "====================z_3====================\n",
      "== fold 0 ==\n",
      "[0]\tvalidation_0-mae:0.11537\n",
      "[897]\tvalidation_0-mae:0.11243\n",
      "== fold 1 ==\n",
      "[0]\tvalidation_0-mae:0.11423\n",
      "[496]\tvalidation_0-mae:0.11040\n",
      "== fold 2 ==\n",
      "[0]\tvalidation_0-mae:0.11769\n",
      "[431]\tvalidation_0-mae:0.11404\n",
      "== fold 3 ==\n",
      "[0]\tvalidation_0-mae:0.12034\n",
      "[805]\tvalidation_0-mae:0.11701\n",
      "== fold 4 ==\n",
      "[0]\tvalidation_0-mae:0.11718\n",
      "[627]\tvalidation_0-mae:0.11386\n"
     ]
    },
    {
     "name": "stderr",
     "output_type": "stream",
     "text": [
      " 50%|█████     | 9/18 [08:29<07:21, 49.06s/it]"
     ]
    },
    {
     "name": "stdout",
     "output_type": "stream",
     "text": [
      "====================x_2====================\n",
      "== fold 0 ==\n",
      "[0]\tvalidation_0-mae:8.68596\n",
      "[2811]\tvalidation_0-mae:0.23631\n",
      "== fold 1 ==\n",
      "[0]\tvalidation_0-mae:8.70019\n",
      "[2196]\tvalidation_0-mae:0.23757\n",
      "== fold 2 ==\n",
      "[0]\tvalidation_0-mae:8.79898\n",
      "[1804]\tvalidation_0-mae:0.23564\n",
      "== fold 3 ==\n",
      "[0]\tvalidation_0-mae:8.74252\n",
      "[4585]\tvalidation_0-mae:0.23667\n",
      "== fold 4 ==\n",
      "[0]\tvalidation_0-mae:8.54055\n",
      "[1837]\tvalidation_0-mae:0.24001\n"
     ]
    },
    {
     "name": "stderr",
     "output_type": "stream",
     "text": [
      " 56%|█████▌    | 10/18 [09:46<07:42, 57.84s/it]"
     ]
    },
    {
     "name": "stdout",
     "output_type": "stream",
     "text": [
      "====================y_2====================\n",
      "== fold 0 ==\n",
      "[0]\tvalidation_0-mae:0.30688\n",
      "[1898]\tvalidation_0-mae:0.12912\n",
      "== fold 1 ==\n",
      "[0]\tvalidation_0-mae:0.32413\n",
      "[1890]\tvalidation_0-mae:0.13041\n",
      "== fold 2 ==\n",
      "[0]\tvalidation_0-mae:0.32518\n",
      "[2614]\tvalidation_0-mae:0.13334\n",
      "== fold 3 ==\n",
      "[0]\tvalidation_0-mae:0.30338\n",
      "[1453]\tvalidation_0-mae:0.13180\n",
      "== fold 4 ==\n",
      "[0]\tvalidation_0-mae:0.33145\n",
      "[1665]\tvalidation_0-mae:0.13522\n"
     ]
    },
    {
     "name": "stderr",
     "output_type": "stream",
     "text": [
      " 61%|██████    | 11/18 [10:43<06:42, 57.43s/it]"
     ]
    },
    {
     "name": "stdout",
     "output_type": "stream",
     "text": [
      "====================z_2====================\n",
      "== fold 0 ==\n",
      "[0]\tvalidation_0-mae:0.08426\n",
      "[352]\tvalidation_0-mae:0.08255\n",
      "== fold 1 ==\n",
      "[0]\tvalidation_0-mae:0.08309\n",
      "[593]\tvalidation_0-mae:0.08079\n",
      "== fold 2 ==\n",
      "[0]\tvalidation_0-mae:0.08595\n",
      "[457]\tvalidation_0-mae:0.08374\n",
      "== fold 3 ==\n",
      "[0]\tvalidation_0-mae:0.08784\n",
      "[950]\tvalidation_0-mae:0.08549\n",
      "== fold 4 ==\n",
      "[0]\tvalidation_0-mae:0.08493\n",
      "[440]\tvalidation_0-mae:0.08281\n"
     ]
    },
    {
     "name": "stderr",
     "output_type": "stream",
     "text": [
      " 67%|██████▋   | 12/18 [11:01<04:33, 45.51s/it]"
     ]
    },
    {
     "name": "stdout",
     "output_type": "stream",
     "text": [
      "====================x_1====================\n",
      "== fold 0 ==\n",
      "[0]\tvalidation_0-mae:5.69131\n",
      "[1228]\tvalidation_0-mae:0.13827\n",
      "== fold 1 ==\n",
      "[0]\tvalidation_0-mae:5.70208\n",
      "[1557]\tvalidation_0-mae:0.13917\n",
      "== fold 2 ==\n",
      "[0]\tvalidation_0-mae:5.76656\n",
      "[1493]\tvalidation_0-mae:0.14054\n",
      "== fold 3 ==\n",
      "[0]\tvalidation_0-mae:5.72882\n",
      "[2765]\tvalidation_0-mae:0.13850\n",
      "== fold 4 ==\n",
      "[0]\tvalidation_0-mae:5.59519\n",
      "[2144]\tvalidation_0-mae:0.13917\n"
     ]
    },
    {
     "name": "stderr",
     "output_type": "stream",
     "text": [
      " 72%|███████▏  | 13/18 [11:56<04:01, 48.33s/it]"
     ]
    },
    {
     "name": "stdout",
     "output_type": "stream",
     "text": [
      "====================y_1====================\n",
      "== fold 0 ==\n",
      "[0]\tvalidation_0-mae:0.16016\n",
      "[2099]\tvalidation_0-mae:0.07271\n",
      "== fold 1 ==\n",
      "[0]\tvalidation_0-mae:0.16662\n",
      "[1625]\tvalidation_0-mae:0.07102\n",
      "== fold 2 ==\n",
      "[0]\tvalidation_0-mae:0.16934\n",
      "[1712]\tvalidation_0-mae:0.07405\n",
      "== fold 3 ==\n",
      "[0]\tvalidation_0-mae:0.15773\n",
      "[1904]\tvalidation_0-mae:0.07329\n",
      "== fold 4 ==\n",
      "[0]\tvalidation_0-mae:0.17199\n",
      "[1789]\tvalidation_0-mae:0.07473\n"
     ]
    },
    {
     "name": "stderr",
     "output_type": "stream",
     "text": [
      " 78%|███████▊  | 14/18 [12:46<03:16, 49.04s/it]"
     ]
    },
    {
     "name": "stdout",
     "output_type": "stream",
     "text": [
      "====================z_1====================\n",
      "== fold 0 ==\n",
      "[0]\tvalidation_0-mae:0.05457\n",
      "[352]\tvalidation_0-mae:0.05366\n",
      "== fold 1 ==\n",
      "[0]\tvalidation_0-mae:0.05381\n",
      "[488]\tvalidation_0-mae:0.05260\n",
      "== fold 2 ==\n",
      "[0]\tvalidation_0-mae:0.05571\n",
      "[548]\tvalidation_0-mae:0.05445\n",
      "== fold 3 ==\n",
      "[0]\tvalidation_0-mae:0.05646\n",
      "[347]\tvalidation_0-mae:0.05528\n",
      "== fold 4 ==\n",
      "[0]\tvalidation_0-mae:0.05474\n",
      "[507]\tvalidation_0-mae:0.05359\n"
     ]
    },
    {
     "name": "stderr",
     "output_type": "stream",
     "text": [
      " 83%|████████▎ | 15/18 [13:01<01:56, 38.73s/it]"
     ]
    },
    {
     "name": "stdout",
     "output_type": "stream",
     "text": [
      "====================x_0====================\n",
      "== fold 0 ==\n",
      "[0]\tvalidation_0-mae:2.69628\n",
      "[1343]\tvalidation_0-mae:0.06444\n",
      "== fold 1 ==\n",
      "[0]\tvalidation_0-mae:2.70247\n",
      "[1997]\tvalidation_0-mae:0.06337\n",
      "== fold 2 ==\n",
      "[0]\tvalidation_0-mae:2.73223\n",
      "[1393]\tvalidation_0-mae:0.06607\n",
      "== fold 3 ==\n",
      "[0]\tvalidation_0-mae:2.71474\n",
      "[1313]\tvalidation_0-mae:0.06478\n",
      "== fold 4 ==\n",
      "[0]\tvalidation_0-mae:2.65160\n",
      "[1407]\tvalidation_0-mae:0.06476\n"
     ]
    },
    {
     "name": "stderr",
     "output_type": "stream",
     "text": [
      " 89%|████████▉ | 16/18 [13:44<01:19, 39.91s/it]"
     ]
    },
    {
     "name": "stdout",
     "output_type": "stream",
     "text": [
      "====================y_0====================\n",
      "== fold 0 ==\n",
      "[0]\tvalidation_0-mae:0.05734\n",
      "[1631]\tvalidation_0-mae:0.03201\n",
      "== fold 1 ==\n",
      "[0]\tvalidation_0-mae:0.05893\n",
      "[1674]\tvalidation_0-mae:0.03135\n",
      "== fold 2 ==\n",
      "[0]\tvalidation_0-mae:0.06033\n",
      "[1554]\tvalidation_0-mae:0.03257\n",
      "== fold 3 ==\n",
      "[0]\tvalidation_0-mae:0.05632\n",
      "[1170]\tvalidation_0-mae:0.03232\n",
      "== fold 4 ==\n",
      "[0]\tvalidation_0-mae:0.06154\n",
      "[1872]\tvalidation_0-mae:0.03321\n"
     ]
    },
    {
     "name": "stderr",
     "output_type": "stream",
     "text": [
      " 94%|█████████▍| 17/18 [14:31<00:41, 41.99s/it]"
     ]
    },
    {
     "name": "stdout",
     "output_type": "stream",
     "text": [
      "====================z_0====================\n",
      "== fold 0 ==\n",
      "[0]\tvalidation_0-mae:0.02616\n",
      "[334]\tvalidation_0-mae:0.02577\n",
      "== fold 1 ==\n",
      "[0]\tvalidation_0-mae:0.02584\n",
      "[540]\tvalidation_0-mae:0.02540\n",
      "== fold 2 ==\n",
      "[0]\tvalidation_0-mae:0.02683\n",
      "[432]\tvalidation_0-mae:0.02635\n",
      "== fold 3 ==\n",
      "[0]\tvalidation_0-mae:0.02686\n",
      "[424]\tvalidation_0-mae:0.02639\n",
      "== fold 4 ==\n",
      "[0]\tvalidation_0-mae:0.02610\n",
      "[508]\tvalidation_0-mae:0.02560\n"
     ]
    },
    {
     "name": "stderr",
     "output_type": "stream",
     "text": [
      "100%|██████████| 18/18 [14:45<00:00, 49.17s/it]\n"
     ]
    }
   ],
   "source": [
    "from penguinml.gbdt.xgboost import fit_xgb, inference_xgb\n",
    "from tqdm import tqdm\n",
    "\n",
    "dfs = []\n",
    "for c in tqdm(sorted(TARGET_COLS, key=lambda x: x.split(\"_\")[1], reverse=True)):\n",
    "    print(\"==\" * 10 + c + \"==\" * 10)\n",
    "    this_df = train.filter(pl.col(\"target_name_original\") == c)\n",
    "    oof, models = fit_xgb(\n",
    "        data=this_df,\n",
    "        features=features,\n",
    "        params=CFG[MODEL_NAME][\"params\"],\n",
    "        target_col=\"target\",\n",
    "        fold_col=\"fold\",\n",
    "        target_type=\"regression\",\n",
    "        verbose=50000,\n",
    "    )\n",
    "    this_df = this_df.with_columns(pl.Series(\"oof\", oof))\n",
    "    dfs.append(this_df)\n",
    "train = pl.concat(dfs)"
   ]
  },
  {
   "cell_type": "code",
   "execution_count": 15,
   "metadata": {},
   "outputs": [
    {
     "name": "stdout",
     "output_type": "stream",
     "text": [
      "MAE: 0.2180115893876533\n"
     ]
    }
   ],
   "source": [
    "mae = np.abs(train[\"oof\"] - train[\"target\"]).mean()\n",
    "print(f\"MAE: {mae}\")"
   ]
  },
  {
   "cell_type": "code",
   "execution_count": 16,
   "metadata": {},
   "outputs": [
    {
     "data": {
      "text/html": [
       "<div><style>\n",
       ".dataframe > thead > tr,\n",
       ".dataframe > tbody > tr {\n",
       "  text-align: right;\n",
       "  white-space: pre-wrap;\n",
       "}\n",
       "</style>\n",
       "<small>shape: (5, 19)</small><table border=\"1\" class=\"dataframe\"><thead><tr><th>ID</th><th>oof_x_5</th><th>oof_y_5</th><th>oof_z_5</th><th>oof_x_4</th><th>oof_y_4</th><th>oof_z_4</th><th>oof_x_3</th><th>oof_y_3</th><th>oof_z_3</th><th>oof_x_2</th><th>oof_y_2</th><th>oof_z_2</th><th>oof_x_1</th><th>oof_y_1</th><th>oof_z_1</th><th>oof_x_0</th><th>oof_y_0</th><th>oof_z_0</th></tr><tr><td>str</td><td>f32</td><td>f32</td><td>f32</td><td>f32</td><td>f32</td><td>f32</td><td>f32</td><td>f32</td><td>f32</td><td>f32</td><td>f32</td><td>f32</td><td>f32</td><td>f32</td><td>f32</td><td>f32</td><td>f32</td><td>f32</td></tr></thead><tbody><tr><td>&quot;00066be8e20318869c38c66be46663…</td><td>22.464357</td><td>-0.4018</td><td>0.188004</td><td>18.046217</td><td>-0.277361</td><td>0.119448</td><td>13.619493</td><td>-0.124755</td><td>0.101725</td><td>9.590807</td><td>-0.051544</td><td>0.042231</td><td>5.902345</td><td>-0.014749</td><td>0.019444</td><td>2.634666</td><td>0.00116</td><td>0.010888</td></tr><tr><td>&quot;00066be8e20318869c38c66be46663…</td><td>31.490473</td><td>-0.665967</td><td>0.121405</td><td>26.373646</td><td>-0.819956</td><td>0.146707</td><td>21.2544</td><td>-0.593322</td><td>0.113506</td><td>15.86466</td><td>-0.415264</td><td>0.057983</td><td>10.524738</td><td>-0.202545</td><td>0.029712</td><td>4.987913</td><td>-0.052315</td><td>0.017456</td></tr><tr><td>&quot;00066be8e20318869c38c66be46663…</td><td>32.024368</td><td>-0.366316</td><td>0.08195</td><td>26.741051</td><td>-0.280077</td><td>0.122031</td><td>21.160831</td><td>-0.168629</td><td>0.096127</td><td>15.562232</td><td>-0.116979</td><td>0.058289</td><td>10.162181</td><td>-0.053695</td><td>0.028867</td><td>4.733961</td><td>-0.014774</td><td>0.016387</td></tr><tr><td>&quot;000fb056f97572d384bae4f5fc1e0f…</td><td>15.165918</td><td>-0.864976</td><td>0.060343</td><td>11.628304</td><td>-0.617608</td><td>0.035401</td><td>9.022715</td><td>-0.43137</td><td>0.033625</td><td>6.327863</td><td>-0.243893</td><td>0.011998</td><td>3.859671</td><td>-0.135009</td><td>0.005838</td><td>1.613916</td><td>-0.050572</td><td>0.001827</td></tr><tr><td>&quot;000fb056f97572d384bae4f5fc1e0f…</td><td>18.061884</td><td>1.006505</td><td>-0.03569</td><td>14.987482</td><td>0.718921</td><td>-0.023693</td><td>11.832363</td><td>0.500763</td><td>-0.00857</td><td>8.563321</td><td>0.28102</td><td>-0.005479</td><td>5.775146</td><td>0.113057</td><td>-0.002916</td><td>2.759885</td><td>0.02393</td><td>-0.001398</td></tr></tbody></table></div>"
      ],
      "text/plain": [
       "shape: (5, 19)\n",
       "┌────────────┬───────────┬───────────┬──────────┬───┬───────────┬──────────┬───────────┬───────────┐\n",
       "│ ID         ┆ oof_x_5   ┆ oof_y_5   ┆ oof_z_5  ┆ … ┆ oof_z_1   ┆ oof_x_0  ┆ oof_y_0   ┆ oof_z_0   │\n",
       "│ ---        ┆ ---       ┆ ---       ┆ ---      ┆   ┆ ---       ┆ ---      ┆ ---       ┆ ---       │\n",
       "│ str        ┆ f32       ┆ f32       ┆ f32      ┆   ┆ f32       ┆ f32      ┆ f32       ┆ f32       │\n",
       "╞════════════╪═══════════╪═══════════╪══════════╪═══╪═══════════╪══════════╪═══════════╪═══════════╡\n",
       "│ 00066be8e2 ┆ 22.464357 ┆ -0.4018   ┆ 0.188004 ┆ … ┆ 0.019444  ┆ 2.634666 ┆ 0.00116   ┆ 0.010888  │\n",
       "│ 0318869c38 ┆           ┆           ┆          ┆   ┆           ┆          ┆           ┆           │\n",
       "│ c66be46663 ┆           ┆           ┆          ┆   ┆           ┆          ┆           ┆           │\n",
       "│ …          ┆           ┆           ┆          ┆   ┆           ┆          ┆           ┆           │\n",
       "│ 00066be8e2 ┆ 31.490473 ┆ -0.665967 ┆ 0.121405 ┆ … ┆ 0.029712  ┆ 4.987913 ┆ -0.052315 ┆ 0.017456  │\n",
       "│ 0318869c38 ┆           ┆           ┆          ┆   ┆           ┆          ┆           ┆           │\n",
       "│ c66be46663 ┆           ┆           ┆          ┆   ┆           ┆          ┆           ┆           │\n",
       "│ …          ┆           ┆           ┆          ┆   ┆           ┆          ┆           ┆           │\n",
       "│ 00066be8e2 ┆ 32.024368 ┆ -0.366316 ┆ 0.08195  ┆ … ┆ 0.028867  ┆ 4.733961 ┆ -0.014774 ┆ 0.016387  │\n",
       "│ 0318869c38 ┆           ┆           ┆          ┆   ┆           ┆          ┆           ┆           │\n",
       "│ c66be46663 ┆           ┆           ┆          ┆   ┆           ┆          ┆           ┆           │\n",
       "│ …          ┆           ┆           ┆          ┆   ┆           ┆          ┆           ┆           │\n",
       "│ 000fb056f9 ┆ 15.165918 ┆ -0.864976 ┆ 0.060343 ┆ … ┆ 0.005838  ┆ 1.613916 ┆ -0.050572 ┆ 0.001827  │\n",
       "│ 7572d384ba ┆           ┆           ┆          ┆   ┆           ┆          ┆           ┆           │\n",
       "│ e4f5fc1e0f ┆           ┆           ┆          ┆   ┆           ┆          ┆           ┆           │\n",
       "│ …          ┆           ┆           ┆          ┆   ┆           ┆          ┆           ┆           │\n",
       "│ 000fb056f9 ┆ 18.061884 ┆ 1.006505  ┆ -0.03569 ┆ … ┆ -0.002916 ┆ 2.759885 ┆ 0.02393   ┆ -0.001398 │\n",
       "│ 7572d384ba ┆           ┆           ┆          ┆   ┆           ┆          ┆           ┆           │\n",
       "│ e4f5fc1e0f ┆           ┆           ┆          ┆   ┆           ┆          ┆           ┆           │\n",
       "│ …          ┆           ┆           ┆          ┆   ┆           ┆          ┆           ┆           │\n",
       "└────────────┴───────────┴───────────┴──────────┴───┴───────────┴──────────┴───────────┴───────────┘"
      ]
     },
     "execution_count": 16,
     "metadata": {},
     "output_type": "execute_result"
    }
   ],
   "source": [
    "rev_dict = {v: \"oof_\" + k for k, v in CATEGORY_MAPPING[\"target_name\"].items()}\n",
    "oof_df = (\n",
    "    train.select([\"ID\", \"target_name\", \"oof\"])\n",
    "    .with_columns(pl.col(\"target_name\").replace_strict(rev_dict))\n",
    "    .pivot(index=\"ID\", columns=\"target_name\", values=\"oof\")\n",
    ")\n",
    "oof_df.head()"
   ]
  },
  {
   "cell_type": "code",
   "execution_count": 17,
   "metadata": {},
   "outputs": [],
   "source": [
    "oof_df.write_csv(os.path.join(CFG[\"output_dir\"], \"oof.csv\"))"
   ]
  },
  {
   "cell_type": "code",
   "execution_count": null,
   "metadata": {},
   "outputs": [],
   "source": []
  }
 ],
 "metadata": {
  "kernelspec": {
   "display_name": "base",
   "language": "python",
   "name": "python3"
  },
  "language_info": {
   "codemirror_mode": {
    "name": "ipython",
    "version": 3
   },
   "file_extension": ".py",
   "mimetype": "text/x-python",
   "name": "python",
   "nbconvert_exporter": "python",
   "pygments_lexer": "ipython3",
   "version": "3.10.14"
  }
 },
 "nbformat": 4,
 "nbformat_minor": 2
}
