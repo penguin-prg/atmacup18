{
 "cells": [
  {
   "cell_type": "code",
   "execution_count": 1,
   "metadata": {},
   "outputs": [
    {
     "name": "stdout",
     "output_type": "stream",
     "text": [
      "/kaggle/working\n"
     ]
    }
   ],
   "source": [
    "!rm -r /kaggle/working/*\n",
    "%cd /kaggle/working"
   ]
  },
  {
   "cell_type": "code",
   "execution_count": 2,
   "metadata": {},
   "outputs": [],
   "source": [
    "import os\n",
    "import sys\n",
    "\n",
    "PACKAGE_DIR = \"/kaggle/src\"\n",
    "sys.path.append(PACKAGE_DIR)\n",
    "sys.path.append(os.path.join(PACKAGE_DIR, \"Penguin-ML-Library\"))"
   ]
  },
  {
   "cell_type": "code",
   "execution_count": 3,
   "metadata": {},
   "outputs": [
    {
     "name": "stderr",
     "output_type": "stream",
     "text": [
      "2024-11-15 12:16:08.512275: I tensorflow/core/util/port.cc:113] oneDNN custom operations are on. You may see slightly different numerical results due to floating-point round-off errors from different computation orders. To turn them off, set the environment variable `TF_ENABLE_ONEDNN_OPTS=0`.\n",
      "2024-11-15 12:16:08.973448: I tensorflow/core/platform/cpu_feature_guard.cc:210] This TensorFlow binary is optimized to use available CPU instructions in performance-critical operations.\n",
      "To enable the following instructions: AVX2 AVX_VNNI FMA, in other operations, rebuild TensorFlow with the appropriate compiler flags.\n"
     ]
    },
    {
     "name": "stdout",
     "output_type": "stream",
     "text": [
      "exp_002\n",
      "rm: cannot remove '/kaggle/output/exp_002': No such file or directory\n"
     ]
    },
    {
     "name": "stderr",
     "output_type": "stream",
     "text": [
      "/opt/conda/lib/python3.10/pty.py:89: RuntimeWarning: os.fork() was called. os.fork() is incompatible with multithreaded code, and JAX is multithreaded, so this will likely lead to a deadlock.\n",
      "  pid, fd = os.forkpty()\n",
      "set seed: 46\n"
     ]
    }
   ],
   "source": [
    "import yaml\n",
    "from penguinml.utils.logger import get_logger, init_logger\n",
    "from penguinml.utils.set_seed import seed_base\n",
    "\n",
    "MODEL_NAME = \"xgboost\"\n",
    "CFG = yaml.safe_load(open(os.path.join(PACKAGE_DIR, \"config.yaml\"), \"r\"))\n",
    "print(CFG[MODEL_NAME][\"execution\"][\"exp_id\"])\n",
    "CFG[\"output_dir\"] = f\"/kaggle/output/{CFG[MODEL_NAME]['execution']['exp_id']}\"\n",
    "!rm -r {CFG[\"output_dir\"]}\n",
    "os.makedirs(CFG[\"output_dir\"], exist_ok=True)\n",
    "\n",
    "init_logger(f\"{ CFG[MODEL_NAME]['execution']['exp_id']}.log\")\n",
    "logger = get_logger(\"main\")\n",
    "seed_base(CFG[MODEL_NAME][\"execution\"][\"seed\"])"
   ]
  },
  {
   "cell_type": "code",
   "execution_count": 4,
   "metadata": {},
   "outputs": [],
   "source": [
    "import warnings\n",
    "\n",
    "import numpy as np\n",
    "import polars as pl\n",
    "\n",
    "warnings.filterwarnings(\"ignore\")"
   ]
  },
  {
   "cell_type": "code",
   "execution_count": 5,
   "metadata": {},
   "outputs": [
    {
     "name": "stdout",
     "output_type": "stream",
     "text": [
      "(43371, 32)\n"
     ]
    },
    {
     "data": {
      "text/html": [
       "<div><style>\n",
       ".dataframe > thead > tr,\n",
       ".dataframe > tbody > tr {\n",
       "  text-align: right;\n",
       "  white-space: pre-wrap;\n",
       "}\n",
       "</style>\n",
       "<small>shape: (1, 32)</small><table border=\"1\" class=\"dataframe\"><thead><tr><th>ID</th><th>vEgo</th><th>aEgo</th><th>steeringAngleDeg</th><th>steeringTorque</th><th>brake</th><th>brakePressed</th><th>gas</th><th>gasPressed</th><th>gearShifter</th><th>leftBlinker</th><th>rightBlinker</th><th>x_0</th><th>y_0</th><th>z_0</th><th>x_1</th><th>y_1</th><th>z_1</th><th>x_2</th><th>y_2</th><th>z_2</th><th>x_3</th><th>y_3</th><th>z_3</th><th>x_4</th><th>y_4</th><th>z_4</th><th>x_5</th><th>y_5</th><th>z_5</th><th>sceneID</th><th>offset</th></tr><tr><td>str</td><td>f64</td><td>f64</td><td>f64</td><td>f64</td><td>f64</td><td>bool</td><td>f64</td><td>bool</td><td>str</td><td>bool</td><td>bool</td><td>f64</td><td>f64</td><td>f64</td><td>f64</td><td>f64</td><td>f64</td><td>f64</td><td>f64</td><td>f64</td><td>f64</td><td>f64</td><td>f64</td><td>f64</td><td>f64</td><td>f64</td><td>f64</td><td>f64</td><td>f64</td><td>str</td><td>f32</td></tr></thead><tbody><tr><td>&quot;00066be8e20318869c38c66be46663…</td><td>5.701526</td><td>1.538456</td><td>-2.165777</td><td>-139.0</td><td>0.0</td><td>false</td><td>0.25</td><td>true</td><td>&quot;drive&quot;</td><td>false</td><td>false</td><td>2.82959</td><td>0.032226</td><td>0.045187</td><td>6.231999</td><td>0.065895</td><td>0.107974</td><td>9.785009</td><td>0.124972</td><td>0.203649</td><td>13.485472</td><td>0.163448</td><td>0.302818</td><td>17.574227</td><td>0.174289</td><td>0.406331</td><td>21.951269</td><td>0.199503</td><td>0.485079</td><td>&quot;00066be8e20318869c38c66be46663…</td><td>320.0</td></tr></tbody></table></div>"
      ],
      "text/plain": [
       "shape: (1, 32)\n",
       "┌─────────────┬──────────┬──────────┬─────────────┬───┬──────────┬──────────┬─────────────┬────────┐\n",
       "│ ID          ┆ vEgo     ┆ aEgo     ┆ steeringAng ┆ … ┆ y_5      ┆ z_5      ┆ sceneID     ┆ offset │\n",
       "│ ---         ┆ ---      ┆ ---      ┆ leDeg       ┆   ┆ ---      ┆ ---      ┆ ---         ┆ ---    │\n",
       "│ str         ┆ f64      ┆ f64      ┆ ---         ┆   ┆ f64      ┆ f64      ┆ str         ┆ f32    │\n",
       "│             ┆          ┆          ┆ f64         ┆   ┆          ┆          ┆             ┆        │\n",
       "╞═════════════╪══════════╪══════════╪═════════════╪═══╪══════════╪══════════╪═════════════╪════════╡\n",
       "│ 00066be8e20 ┆ 5.701526 ┆ 1.538456 ┆ -2.165777   ┆ … ┆ 0.199503 ┆ 0.485079 ┆ 00066be8e20 ┆ 320.0  │\n",
       "│ 318869c38c6 ┆          ┆          ┆             ┆   ┆          ┆          ┆ 318869c38c6 ┆        │\n",
       "│ 6be46663…   ┆          ┆          ┆             ┆   ┆          ┆          ┆ 6be46663…   ┆        │\n",
       "└─────────────┴──────────┴──────────┴─────────────┴───┴──────────┴──────────┴─────────────┴────────┘"
      ]
     },
     "execution_count": 5,
     "metadata": {},
     "output_type": "execute_result"
    }
   ],
   "source": [
    "train = pl.read_csv(os.path.join(CFG[\"dataset\"][\"competition_dir\"], \"train_features.csv\"))\n",
    "train = (\n",
    "    train.with_columns(\n",
    "        pl.col(\"ID\").str.split_exact(\"_\", n=1).struct.rename_fields([\"sceneID\", \"offset\"]).alias(\"fields\")\n",
    "    )\n",
    "    .unnest(\"fields\")\n",
    "    .with_columns(pl.col(\"offset\").cast(pl.Float32))\n",
    ")\n",
    "print(train.shape)\n",
    "train.head(1)"
   ]
  },
  {
   "cell_type": "markdown",
   "metadata": {},
   "source": [
    "## 特徴量生成\n"
   ]
  },
  {
   "cell_type": "code",
   "execution_count": 6,
   "metadata": {},
   "outputs": [],
   "source": [
    "from penguinml.utils.contena import FeatureContena\n",
    "\n",
    "features = FeatureContena()\n",
    "features.add_num_features(\n",
    "    [\n",
    "        \"vEgo\",\n",
    "        \"aEgo\",\n",
    "        \"steeringAngleDeg\",\n",
    "        \"steeringTorque\",\n",
    "        \"brake\",\n",
    "        \"brakePressed\",\n",
    "        \"gas\",\n",
    "        \"gasPressed\",\n",
    "        \"leftBlinker\",\n",
    "        \"rightBlinker\",\n",
    "        \"offset\",\n",
    "    ]\n",
    ")\n",
    "features.add_cat_features([\"gearShifter\"])"
   ]
  },
  {
   "cell_type": "markdown",
   "metadata": {},
   "source": [
    "## ターゲット列を分解\n"
   ]
  },
  {
   "cell_type": "code",
   "execution_count": 7,
   "metadata": {},
   "outputs": [
    {
     "data": {
      "text/html": [
       "<div><style>\n",
       ".dataframe > thead > tr,\n",
       ".dataframe > tbody > tr {\n",
       "  text-align: right;\n",
       "  white-space: pre-wrap;\n",
       "}\n",
       "</style>\n",
       "<small>shape: (1, 16)</small><table border=\"1\" class=\"dataframe\"><thead><tr><th>ID</th><th>target_name</th><th>target</th><th>vEgo</th><th>aEgo</th><th>steeringAngleDeg</th><th>steeringTorque</th><th>brake</th><th>brakePressed</th><th>gas</th><th>gasPressed</th><th>gearShifter</th><th>leftBlinker</th><th>rightBlinker</th><th>sceneID</th><th>offset</th></tr><tr><td>str</td><td>str</td><td>f64</td><td>f64</td><td>f64</td><td>f64</td><td>f64</td><td>f64</td><td>bool</td><td>f64</td><td>bool</td><td>str</td><td>bool</td><td>bool</td><td>str</td><td>f32</td></tr></thead><tbody><tr><td>&quot;00066be8e20318869c38c66be46663…</td><td>&quot;x_0&quot;</td><td>2.82959</td><td>5.701526</td><td>1.538456</td><td>-2.165777</td><td>-139.0</td><td>0.0</td><td>false</td><td>0.25</td><td>true</td><td>&quot;drive&quot;</td><td>false</td><td>false</td><td>&quot;00066be8e20318869c38c66be46663…</td><td>320.0</td></tr></tbody></table></div>"
      ],
      "text/plain": [
       "shape: (1, 16)\n",
       "┌────────────┬────────────┬─────────┬──────────┬───┬────────────┬────────────┬────────────┬────────┐\n",
       "│ ID         ┆ target_nam ┆ target  ┆ vEgo     ┆ … ┆ leftBlinke ┆ rightBlink ┆ sceneID    ┆ offset │\n",
       "│ ---        ┆ e          ┆ ---     ┆ ---      ┆   ┆ r          ┆ er         ┆ ---        ┆ ---    │\n",
       "│ str        ┆ ---        ┆ f64     ┆ f64      ┆   ┆ ---        ┆ ---        ┆ str        ┆ f32    │\n",
       "│            ┆ str        ┆         ┆          ┆   ┆ bool       ┆ bool       ┆            ┆        │\n",
       "╞════════════╪════════════╪═════════╪══════════╪═══╪════════════╪════════════╪════════════╪════════╡\n",
       "│ 00066be8e2 ┆ x_0        ┆ 2.82959 ┆ 5.701526 ┆ … ┆ false      ┆ false      ┆ 00066be8e2 ┆ 320.0  │\n",
       "│ 0318869c38 ┆            ┆         ┆          ┆   ┆            ┆            ┆ 0318869c38 ┆        │\n",
       "│ c66be46663 ┆            ┆         ┆          ┆   ┆            ┆            ┆ c66be46663 ┆        │\n",
       "│ …          ┆            ┆         ┆          ┆   ┆            ┆            ┆ …          ┆        │\n",
       "└────────────┴────────────┴─────────┴──────────┴───┴────────────┴────────────┴────────────┴────────┘"
      ]
     },
     "execution_count": 7,
     "metadata": {},
     "output_type": "execute_result"
    }
   ],
   "source": [
    "from const import TARGET_COLS\n",
    "\n",
    "train = train.unpivot(index=\"ID\", on=TARGET_COLS, variable_name=\"target_name\", value_name=\"target\").join(\n",
    "    train.drop(TARGET_COLS),\n",
    "    on=\"ID\",\n",
    "    how=\"left\",\n",
    ")\n",
    "features.add_cat_feature(\"target_name\")\n",
    "train.head(1)"
   ]
  },
  {
   "cell_type": "code",
   "execution_count": 8,
   "metadata": {},
   "outputs": [],
   "source": [
    "from const import CATEGORY_MAPPING\n",
    "\n",
    "for c in features.num_features():\n",
    "    train = train.with_columns(pl.col(c).cast(pl.Float32))\n",
    "\n",
    "for c in features.cat_features():\n",
    "    mapping = CATEGORY_MAPPING[c]\n",
    "    train = train.with_columns(pl.col(c).replace_strict(mapping).cast(pl.Int32))"
   ]
  },
  {
   "cell_type": "markdown",
   "metadata": {},
   "source": [
    "## CV Split\n"
   ]
  },
  {
   "cell_type": "code",
   "execution_count": 9,
   "metadata": {},
   "outputs": [],
   "source": [
    "train_folds = pl.read_csv(CFG[\"dataset\"][\"train_fold_path\"])\n",
    "train = train.join(train_folds, on=\"sceneID\", how=\"left\")\n",
    "assert train[\"fold\"].null_count() == 0"
   ]
  },
  {
   "cell_type": "markdown",
   "metadata": {},
   "source": [
    "## Training\n"
   ]
  },
  {
   "cell_type": "code",
   "execution_count": 10,
   "metadata": {},
   "outputs": [
    {
     "name": "stdout",
     "output_type": "stream",
     "text": [
      "== fold 0 ==\n",
      "[0]\tvalidation_0-mae:5.36707\n",
      "[500]\tvalidation_0-mae:0.64552\n",
      "[1000]\tvalidation_0-mae:0.33295\n",
      "[1500]\tvalidation_0-mae:0.28369\n",
      "[2000]\tvalidation_0-mae:0.26632\n",
      "[2500]\tvalidation_0-mae:0.25919\n",
      "[3000]\tvalidation_0-mae:0.25609\n",
      "[3500]\tvalidation_0-mae:0.25454\n",
      "[4000]\tvalidation_0-mae:0.25310\n",
      "[4500]\tvalidation_0-mae:0.25105\n",
      "[5000]\tvalidation_0-mae:0.25036\n",
      "[5500]\tvalidation_0-mae:0.24975\n",
      "[6000]\tvalidation_0-mae:0.24935\n",
      "[6500]\tvalidation_0-mae:0.24909\n",
      "[7000]\tvalidation_0-mae:0.24890\n",
      "[7500]\tvalidation_0-mae:0.24861\n",
      "[8000]\tvalidation_0-mae:0.24817\n",
      "[8500]\tvalidation_0-mae:0.24790\n",
      "[9000]\tvalidation_0-mae:0.24768\n",
      "[9500]\tvalidation_0-mae:0.24749\n",
      "[10000]\tvalidation_0-mae:0.24727\n",
      "[10500]\tvalidation_0-mae:0.24704\n",
      "[11000]\tvalidation_0-mae:0.24677\n",
      "[11500]\tvalidation_0-mae:0.24653\n",
      "[12000]\tvalidation_0-mae:0.24628\n",
      "[12500]\tvalidation_0-mae:0.24618\n",
      "[12689]\tvalidation_0-mae:0.24618\n",
      "== fold 1 ==\n",
      "[0]\tvalidation_0-mae:5.26732\n",
      "[500]\tvalidation_0-mae:0.64024\n",
      "[1000]\tvalidation_0-mae:0.32480\n",
      "[1500]\tvalidation_0-mae:0.28434\n",
      "[2000]\tvalidation_0-mae:0.26741\n",
      "[2500]\tvalidation_0-mae:0.26178\n",
      "[3000]\tvalidation_0-mae:0.25809\n",
      "[3500]\tvalidation_0-mae:0.25581\n",
      "[4000]\tvalidation_0-mae:0.25512\n",
      "[4500]\tvalidation_0-mae:0.25446\n",
      "[5000]\tvalidation_0-mae:0.25373\n",
      "[5500]\tvalidation_0-mae:0.25290\n",
      "[6000]\tvalidation_0-mae:0.25248\n",
      "[6500]\tvalidation_0-mae:0.25212\n",
      "[7000]\tvalidation_0-mae:0.25184\n",
      "[7500]\tvalidation_0-mae:0.25145\n",
      "[8000]\tvalidation_0-mae:0.25109\n",
      "[8500]\tvalidation_0-mae:0.25076\n",
      "[9000]\tvalidation_0-mae:0.25050\n",
      "[9500]\tvalidation_0-mae:0.25028\n",
      "[10000]\tvalidation_0-mae:0.25008\n",
      "[10500]\tvalidation_0-mae:0.24993\n",
      "[11000]\tvalidation_0-mae:0.24975\n",
      "[11500]\tvalidation_0-mae:0.24952\n",
      "[12000]\tvalidation_0-mae:0.24942\n",
      "[12500]\tvalidation_0-mae:0.24928\n",
      "[13000]\tvalidation_0-mae:0.24918\n",
      "[13500]\tvalidation_0-mae:0.24908\n",
      "[14000]\tvalidation_0-mae:0.24898\n",
      "[14500]\tvalidation_0-mae:0.24892\n",
      "[15000]\tvalidation_0-mae:0.24887\n",
      "[15500]\tvalidation_0-mae:0.24884\n",
      "[16000]\tvalidation_0-mae:0.24876\n",
      "[16500]\tvalidation_0-mae:0.24872\n",
      "[17000]\tvalidation_0-mae:0.24856\n",
      "[17500]\tvalidation_0-mae:0.24849\n",
      "[18000]\tvalidation_0-mae:0.24846\n",
      "[18500]\tvalidation_0-mae:0.24843\n",
      "[19000]\tvalidation_0-mae:0.24839\n",
      "[19500]\tvalidation_0-mae:0.24836\n",
      "[20000]\tvalidation_0-mae:0.24830\n",
      "[20500]\tvalidation_0-mae:0.24822\n",
      "[21000]\tvalidation_0-mae:0.24817\n",
      "[21500]\tvalidation_0-mae:0.24815\n",
      "[22000]\tvalidation_0-mae:0.24811\n",
      "[22500]\tvalidation_0-mae:0.24809\n",
      "[23000]\tvalidation_0-mae:0.24807\n",
      "[23500]\tvalidation_0-mae:0.24804\n",
      "[24000]\tvalidation_0-mae:0.24803\n",
      "[24500]\tvalidation_0-mae:0.24794\n",
      "[25000]\tvalidation_0-mae:0.24791\n",
      "[25500]\tvalidation_0-mae:0.24790\n",
      "[25546]\tvalidation_0-mae:0.24790\n",
      "== fold 2 ==\n",
      "[0]\tvalidation_0-mae:5.36618\n",
      "[500]\tvalidation_0-mae:0.66839\n",
      "[1000]\tvalidation_0-mae:0.32463\n",
      "[1500]\tvalidation_0-mae:0.28554\n",
      "[2000]\tvalidation_0-mae:0.27148\n",
      "[2500]\tvalidation_0-mae:0.26486\n",
      "[3000]\tvalidation_0-mae:0.26089\n",
      "[3500]\tvalidation_0-mae:0.25803\n",
      "[4000]\tvalidation_0-mae:0.25696\n",
      "[4500]\tvalidation_0-mae:0.25559\n",
      "[5000]\tvalidation_0-mae:0.25479\n",
      "[5500]\tvalidation_0-mae:0.25448\n",
      "[6000]\tvalidation_0-mae:0.25412\n",
      "[6500]\tvalidation_0-mae:0.25391\n",
      "[7000]\tvalidation_0-mae:0.25351\n",
      "[7500]\tvalidation_0-mae:0.25316\n",
      "[8000]\tvalidation_0-mae:0.25298\n",
      "[8500]\tvalidation_0-mae:0.25277\n",
      "[9000]\tvalidation_0-mae:0.25262\n",
      "[9500]\tvalidation_0-mae:0.25242\n",
      "[10000]\tvalidation_0-mae:0.25226\n",
      "[10500]\tvalidation_0-mae:0.25204\n",
      "[11000]\tvalidation_0-mae:0.25188\n",
      "[11500]\tvalidation_0-mae:0.25179\n",
      "[12000]\tvalidation_0-mae:0.25169\n",
      "[12500]\tvalidation_0-mae:0.25157\n",
      "[13000]\tvalidation_0-mae:0.25147\n",
      "[13500]\tvalidation_0-mae:0.25138\n",
      "[14000]\tvalidation_0-mae:0.25123\n",
      "[14500]\tvalidation_0-mae:0.25114\n",
      "[15000]\tvalidation_0-mae:0.25105\n",
      "[15500]\tvalidation_0-mae:0.25095\n",
      "[16000]\tvalidation_0-mae:0.25085\n",
      "[16500]\tvalidation_0-mae:0.25073\n",
      "[17000]\tvalidation_0-mae:0.25061\n",
      "[17500]\tvalidation_0-mae:0.25046\n",
      "[18000]\tvalidation_0-mae:0.25041\n",
      "[18500]\tvalidation_0-mae:0.25035\n",
      "[19000]\tvalidation_0-mae:0.25027\n",
      "[19500]\tvalidation_0-mae:0.25016\n",
      "[20000]\tvalidation_0-mae:0.24999\n",
      "[20500]\tvalidation_0-mae:0.24993\n",
      "[21000]\tvalidation_0-mae:0.24988\n",
      "[21500]\tvalidation_0-mae:0.24983\n",
      "[22000]\tvalidation_0-mae:0.24972\n",
      "[22500]\tvalidation_0-mae:0.24970\n",
      "[23000]\tvalidation_0-mae:0.24966\n",
      "[23500]\tvalidation_0-mae:0.24963\n",
      "[24000]\tvalidation_0-mae:0.24959\n",
      "[24500]\tvalidation_0-mae:0.24956\n",
      "[25000]\tvalidation_0-mae:0.24952\n",
      "[25500]\tvalidation_0-mae:0.24946\n",
      "[26000]\tvalidation_0-mae:0.24942\n",
      "[26500]\tvalidation_0-mae:0.24935\n",
      "[27000]\tvalidation_0-mae:0.24930\n",
      "[27500]\tvalidation_0-mae:0.24923\n",
      "[28000]\tvalidation_0-mae:0.24918\n",
      "[28500]\tvalidation_0-mae:0.24915\n",
      "[29000]\tvalidation_0-mae:0.24907\n",
      "[29500]\tvalidation_0-mae:0.24899\n",
      "[30000]\tvalidation_0-mae:0.24894\n",
      "[30500]\tvalidation_0-mae:0.24889\n",
      "[31000]\tvalidation_0-mae:0.24882\n",
      "[31500]\tvalidation_0-mae:0.24875\n",
      "[32000]\tvalidation_0-mae:0.24873\n",
      "[32500]\tvalidation_0-mae:0.24869\n",
      "[33000]\tvalidation_0-mae:0.24867\n",
      "[33500]\tvalidation_0-mae:0.24866\n",
      "[34000]\tvalidation_0-mae:0.24860\n",
      "[34500]\tvalidation_0-mae:0.24858\n",
      "[35000]\tvalidation_0-mae:0.24854\n",
      "[35500]\tvalidation_0-mae:0.24852\n",
      "[36000]\tvalidation_0-mae:0.24847\n",
      "[36500]\tvalidation_0-mae:0.24845\n",
      "[37000]\tvalidation_0-mae:0.24842\n",
      "[37500]\tvalidation_0-mae:0.24839\n",
      "[38000]\tvalidation_0-mae:0.24837\n",
      "[38500]\tvalidation_0-mae:0.24834\n",
      "[39000]\tvalidation_0-mae:0.24830\n",
      "[39500]\tvalidation_0-mae:0.24824\n",
      "[39999]\tvalidation_0-mae:0.24820\n",
      "== fold 3 ==\n",
      "[0]\tvalidation_0-mae:5.40053\n",
      "[500]\tvalidation_0-mae:0.66837\n",
      "[1000]\tvalidation_0-mae:0.33795\n",
      "[1500]\tvalidation_0-mae:0.28649\n",
      "[2000]\tvalidation_0-mae:0.26887\n",
      "[2500]\tvalidation_0-mae:0.26237\n",
      "[3000]\tvalidation_0-mae:0.25882\n",
      "[3500]\tvalidation_0-mae:0.25656\n",
      "[4000]\tvalidation_0-mae:0.25543\n",
      "[4500]\tvalidation_0-mae:0.25452\n",
      "[5000]\tvalidation_0-mae:0.25374\n",
      "[5500]\tvalidation_0-mae:0.25300\n",
      "[6000]\tvalidation_0-mae:0.25242\n",
      "[6500]\tvalidation_0-mae:0.25169\n",
      "[7000]\tvalidation_0-mae:0.25131\n",
      "[7500]\tvalidation_0-mae:0.25092\n",
      "[8000]\tvalidation_0-mae:0.25058\n",
      "[8500]\tvalidation_0-mae:0.25044\n",
      "[9000]\tvalidation_0-mae:0.25025\n",
      "[9500]\tvalidation_0-mae:0.25016\n",
      "[10000]\tvalidation_0-mae:0.25006\n",
      "[10500]\tvalidation_0-mae:0.24999\n",
      "[11000]\tvalidation_0-mae:0.24983\n",
      "[11500]\tvalidation_0-mae:0.24973\n",
      "[12000]\tvalidation_0-mae:0.24967\n",
      "[12500]\tvalidation_0-mae:0.24961\n",
      "[13000]\tvalidation_0-mae:0.24957\n",
      "[13500]\tvalidation_0-mae:0.24952\n",
      "[14000]\tvalidation_0-mae:0.24945\n",
      "[14500]\tvalidation_0-mae:0.24940\n",
      "[15000]\tvalidation_0-mae:0.24935\n",
      "[15500]\tvalidation_0-mae:0.24924\n",
      "[16000]\tvalidation_0-mae:0.24916\n",
      "[16500]\tvalidation_0-mae:0.24909\n",
      "[17000]\tvalidation_0-mae:0.24905\n",
      "[17500]\tvalidation_0-mae:0.24899\n",
      "[18000]\tvalidation_0-mae:0.24897\n",
      "[18500]\tvalidation_0-mae:0.24892\n",
      "[19000]\tvalidation_0-mae:0.24888\n",
      "[19500]\tvalidation_0-mae:0.24882\n",
      "[20000]\tvalidation_0-mae:0.24877\n",
      "[20500]\tvalidation_0-mae:0.24873\n",
      "[21000]\tvalidation_0-mae:0.24868\n",
      "[21500]\tvalidation_0-mae:0.24863\n",
      "[22000]\tvalidation_0-mae:0.24857\n",
      "[22500]\tvalidation_0-mae:0.24853\n",
      "[23000]\tvalidation_0-mae:0.24847\n",
      "[23500]\tvalidation_0-mae:0.24842\n",
      "[24000]\tvalidation_0-mae:0.24837\n",
      "[24500]\tvalidation_0-mae:0.24835\n",
      "[25000]\tvalidation_0-mae:0.24830\n",
      "[25500]\tvalidation_0-mae:0.24824\n",
      "[26000]\tvalidation_0-mae:0.24821\n",
      "[26500]\tvalidation_0-mae:0.24816\n",
      "[27000]\tvalidation_0-mae:0.24811\n",
      "[27500]\tvalidation_0-mae:0.24809\n",
      "[28000]\tvalidation_0-mae:0.24805\n",
      "[28500]\tvalidation_0-mae:0.24802\n",
      "[29000]\tvalidation_0-mae:0.24800\n",
      "[29001]\tvalidation_0-mae:0.24800\n",
      "== fold 4 ==\n",
      "[0]\tvalidation_0-mae:5.24242\n",
      "[500]\tvalidation_0-mae:0.61642\n",
      "[1000]\tvalidation_0-mae:0.33903\n",
      "[1500]\tvalidation_0-mae:0.28772\n",
      "[2000]\tvalidation_0-mae:0.27250\n",
      "[2500]\tvalidation_0-mae:0.26588\n",
      "[3000]\tvalidation_0-mae:0.26282\n",
      "[3500]\tvalidation_0-mae:0.25976\n",
      "[4000]\tvalidation_0-mae:0.25861\n",
      "[4500]\tvalidation_0-mae:0.25764\n",
      "[5000]\tvalidation_0-mae:0.25681\n",
      "[5500]\tvalidation_0-mae:0.25586\n",
      "[6000]\tvalidation_0-mae:0.25557\n",
      "[6500]\tvalidation_0-mae:0.25524\n",
      "[7000]\tvalidation_0-mae:0.25497\n",
      "[7500]\tvalidation_0-mae:0.25476\n",
      "[8000]\tvalidation_0-mae:0.25452\n",
      "[8500]\tvalidation_0-mae:0.25440\n",
      "[9000]\tvalidation_0-mae:0.25416\n",
      "[9500]\tvalidation_0-mae:0.25403\n",
      "[10000]\tvalidation_0-mae:0.25387\n",
      "[10500]\tvalidation_0-mae:0.25378\n",
      "[11000]\tvalidation_0-mae:0.25365\n",
      "[11500]\tvalidation_0-mae:0.25349\n",
      "[12000]\tvalidation_0-mae:0.25334\n",
      "[12500]\tvalidation_0-mae:0.25322\n",
      "[13000]\tvalidation_0-mae:0.25313\n",
      "[13500]\tvalidation_0-mae:0.25299\n",
      "[14000]\tvalidation_0-mae:0.25291\n",
      "[14500]\tvalidation_0-mae:0.25278\n",
      "[15000]\tvalidation_0-mae:0.25266\n",
      "[15500]\tvalidation_0-mae:0.25255\n",
      "[16000]\tvalidation_0-mae:0.25245\n",
      "[16500]\tvalidation_0-mae:0.25233\n",
      "[17000]\tvalidation_0-mae:0.25226\n",
      "[17500]\tvalidation_0-mae:0.25216\n",
      "[18000]\tvalidation_0-mae:0.25207\n",
      "[18500]\tvalidation_0-mae:0.25198\n",
      "[19000]\tvalidation_0-mae:0.25193\n",
      "[19500]\tvalidation_0-mae:0.25190\n",
      "[20000]\tvalidation_0-mae:0.25186\n",
      "[20500]\tvalidation_0-mae:0.25182\n",
      "[21000]\tvalidation_0-mae:0.25177\n",
      "[21500]\tvalidation_0-mae:0.25174\n",
      "[22000]\tvalidation_0-mae:0.25166\n",
      "[22500]\tvalidation_0-mae:0.25157\n",
      "[23000]\tvalidation_0-mae:0.25153\n",
      "[23500]\tvalidation_0-mae:0.25149\n",
      "[24000]\tvalidation_0-mae:0.25142\n",
      "[24500]\tvalidation_0-mae:0.25136\n",
      "[25000]\tvalidation_0-mae:0.25130\n",
      "[25500]\tvalidation_0-mae:0.25125\n",
      "[26000]\tvalidation_0-mae:0.25121\n",
      "[26500]\tvalidation_0-mae:0.25117\n",
      "[26867]\tvalidation_0-mae:0.25115\n"
     ]
    }
   ],
   "source": [
    "from penguinml.gbdt.xgboost import fit_xgb, inference_xgb\n",
    "\n",
    "oof, models = fit_xgb(\n",
    "    data=train,\n",
    "    features=features,\n",
    "    params=CFG[MODEL_NAME][\"params\"],\n",
    "    target_col=\"target\",\n",
    "    fold_col=\"fold\",\n",
    "    target_type=\"regression\",\n",
    "    verbose=500,\n",
    ")"
   ]
  },
  {
   "cell_type": "code",
   "execution_count": 11,
   "metadata": {},
   "outputs": [
    {
     "name": "stdout",
     "output_type": "stream",
     "text": [
      "MAE: 0.24828348654153745\n"
     ]
    }
   ],
   "source": [
    "train = train.with_columns(pl.Series(\"oof\", oof))\n",
    "mae = np.abs(train[\"oof\"] - train[\"target\"]).mean()\n",
    "print(f\"MAE: {mae}\")"
   ]
  },
  {
   "cell_type": "code",
   "execution_count": 12,
   "metadata": {},
   "outputs": [
    {
     "data": {
      "text/html": [
       "<div><style>\n",
       ".dataframe > thead > tr,\n",
       ".dataframe > tbody > tr {\n",
       "  text-align: right;\n",
       "  white-space: pre-wrap;\n",
       "}\n",
       "</style>\n",
       "<small>shape: (5, 19)</small><table border=\"1\" class=\"dataframe\"><thead><tr><th>ID</th><th>oof_x_0</th><th>oof_y_0</th><th>oof_z_0</th><th>oof_x_1</th><th>oof_y_1</th><th>oof_z_1</th><th>oof_x_2</th><th>oof_y_2</th><th>oof_z_2</th><th>oof_x_3</th><th>oof_y_3</th><th>oof_z_3</th><th>oof_x_4</th><th>oof_y_4</th><th>oof_z_4</th><th>oof_x_5</th><th>oof_y_5</th><th>oof_z_5</th></tr><tr><td>str</td><td>f32</td><td>f32</td><td>f32</td><td>f32</td><td>f32</td><td>f32</td><td>f32</td><td>f32</td><td>f32</td><td>f32</td><td>f32</td><td>f32</td><td>f32</td><td>f32</td><td>f32</td><td>f32</td><td>f32</td><td>f32</td></tr></thead><tbody><tr><td>&quot;00066be8e20318869c38c66be46663…</td><td>2.656915</td><td>0.001131</td><td>0.009627</td><td>5.893553</td><td>-0.010587</td><td>0.030023</td><td>9.18194</td><td>-0.036831</td><td>0.040837</td><td>12.965926</td><td>-0.099607</td><td>0.094276</td><td>16.847355</td><td>-0.057929</td><td>0.116801</td><td>20.483335</td><td>-0.18686</td><td>0.146723</td></tr><tr><td>&quot;00066be8e20318869c38c66be46663…</td><td>5.027689</td><td>-0.044807</td><td>0.008551</td><td>10.35842</td><td>-0.186432</td><td>0.031583</td><td>15.757709</td><td>-0.385246</td><td>0.046305</td><td>21.02219</td><td>-0.590052</td><td>0.082346</td><td>26.734488</td><td>-0.719339</td><td>0.048438</td><td>31.204971</td><td>-0.587725</td><td>0.085927</td></tr><tr><td>&quot;00066be8e20318869c38c66be46663…</td><td>4.740214</td><td>-0.001124</td><td>0.015612</td><td>9.973149</td><td>-0.036259</td><td>0.011427</td><td>15.391037</td><td>-0.088586</td><td>0.026512</td><td>21.105867</td><td>-0.172469</td><td>0.036474</td><td>26.358244</td><td>-0.23055</td><td>0.038452</td><td>31.845316</td><td>-0.236904</td><td>0.03241</td></tr><tr><td>&quot;000fb056f97572d384bae4f5fc1e0f…</td><td>2.677717</td><td>0.02272</td><td>-0.019507</td><td>5.756206</td><td>0.108209</td><td>-0.021867</td><td>8.625203</td><td>0.347694</td><td>-0.053708</td><td>11.449796</td><td>0.729984</td><td>-0.0566</td><td>14.311791</td><td>0.583957</td><td>-0.027609</td><td>16.829885</td><td>1.22661</td><td>-0.022912</td></tr><tr><td>&quot;000fb056f97572d384bae4f5fc1e0f…</td><td>1.635082</td><td>-0.028752</td><td>0.032027</td><td>3.728339</td><td>-0.162773</td><td>0.070247</td><td>6.176766</td><td>-0.300228</td><td>0.078904</td><td>8.936589</td><td>-0.53805</td><td>0.103499</td><td>11.993236</td><td>-1.031518</td><td>0.151469</td><td>15.168142</td><td>-0.66102</td><td>0.173373</td></tr></tbody></table></div>"
      ],
      "text/plain": [
       "shape: (5, 19)\n",
       "┌───────────┬──────────┬───────────┬───────────┬───┬───────────┬───────────┬───────────┬───────────┐\n",
       "│ ID        ┆ oof_x_0  ┆ oof_y_0   ┆ oof_z_0   ┆ … ┆ oof_z_4   ┆ oof_x_5   ┆ oof_y_5   ┆ oof_z_5   │\n",
       "│ ---       ┆ ---      ┆ ---       ┆ ---       ┆   ┆ ---       ┆ ---       ┆ ---       ┆ ---       │\n",
       "│ str       ┆ f32      ┆ f32       ┆ f32       ┆   ┆ f32       ┆ f32       ┆ f32       ┆ f32       │\n",
       "╞═══════════╪══════════╪═══════════╪═══════════╪═══╪═══════════╪═══════════╪═══════════╪═══════════╡\n",
       "│ 00066be8e ┆ 2.656915 ┆ 0.001131  ┆ 0.009627  ┆ … ┆ 0.116801  ┆ 20.483335 ┆ -0.18686  ┆ 0.146723  │\n",
       "│ 20318869c ┆          ┆           ┆           ┆   ┆           ┆           ┆           ┆           │\n",
       "│ 38c66be46 ┆          ┆           ┆           ┆   ┆           ┆           ┆           ┆           │\n",
       "│ 663…      ┆          ┆           ┆           ┆   ┆           ┆           ┆           ┆           │\n",
       "│ 00066be8e ┆ 5.027689 ┆ -0.044807 ┆ 0.008551  ┆ … ┆ 0.048438  ┆ 31.204971 ┆ -0.587725 ┆ 0.085927  │\n",
       "│ 20318869c ┆          ┆           ┆           ┆   ┆           ┆           ┆           ┆           │\n",
       "│ 38c66be46 ┆          ┆           ┆           ┆   ┆           ┆           ┆           ┆           │\n",
       "│ 663…      ┆          ┆           ┆           ┆   ┆           ┆           ┆           ┆           │\n",
       "│ 00066be8e ┆ 4.740214 ┆ -0.001124 ┆ 0.015612  ┆ … ┆ 0.038452  ┆ 31.845316 ┆ -0.236904 ┆ 0.03241   │\n",
       "│ 20318869c ┆          ┆           ┆           ┆   ┆           ┆           ┆           ┆           │\n",
       "│ 38c66be46 ┆          ┆           ┆           ┆   ┆           ┆           ┆           ┆           │\n",
       "│ 663…      ┆          ┆           ┆           ┆   ┆           ┆           ┆           ┆           │\n",
       "│ 000fb056f ┆ 2.677717 ┆ 0.02272   ┆ -0.019507 ┆ … ┆ -0.027609 ┆ 16.829885 ┆ 1.22661   ┆ -0.022912 │\n",
       "│ 97572d384 ┆          ┆           ┆           ┆   ┆           ┆           ┆           ┆           │\n",
       "│ bae4f5fc1 ┆          ┆           ┆           ┆   ┆           ┆           ┆           ┆           │\n",
       "│ e0f…      ┆          ┆           ┆           ┆   ┆           ┆           ┆           ┆           │\n",
       "│ 000fb056f ┆ 1.635082 ┆ -0.028752 ┆ 0.032027  ┆ … ┆ 0.151469  ┆ 15.168142 ┆ -0.66102  ┆ 0.173373  │\n",
       "│ 97572d384 ┆          ┆           ┆           ┆   ┆           ┆           ┆           ┆           │\n",
       "│ bae4f5fc1 ┆          ┆           ┆           ┆   ┆           ┆           ┆           ┆           │\n",
       "│ e0f…      ┆          ┆           ┆           ┆   ┆           ┆           ┆           ┆           │\n",
       "└───────────┴──────────┴───────────┴───────────┴───┴───────────┴───────────┴───────────┴───────────┘"
      ]
     },
     "execution_count": 12,
     "metadata": {},
     "output_type": "execute_result"
    }
   ],
   "source": [
    "rev_dict = {v: \"oof_\" + k for k, v in CATEGORY_MAPPING[\"target_name\"].items()}\n",
    "oof_df = (\n",
    "    train.select([\"ID\", \"target_name\", \"oof\"])\n",
    "    .with_columns(pl.col(\"target_name\").replace_strict(rev_dict))\n",
    "    .pivot(index=\"ID\", columns=\"target_name\", values=\"oof\")\n",
    ")\n",
    "oof_df.head()"
   ]
  },
  {
   "cell_type": "code",
   "execution_count": 13,
   "metadata": {},
   "outputs": [],
   "source": [
    "oof_df.write_csv(os.path.join(CFG[\"output_dir\"], \"oof.csv\"))"
   ]
  },
  {
   "cell_type": "code",
   "execution_count": null,
   "metadata": {},
   "outputs": [],
   "source": []
  }
 ],
 "metadata": {
  "kernelspec": {
   "display_name": "base",
   "language": "python",
   "name": "python3"
  },
  "language_info": {
   "codemirror_mode": {
    "name": "ipython",
    "version": 3
   },
   "file_extension": ".py",
   "mimetype": "text/x-python",
   "name": "python",
   "nbconvert_exporter": "python",
   "pygments_lexer": "ipython3",
   "version": "3.10.14"
  }
 },
 "nbformat": 4,
 "nbformat_minor": 2
}
