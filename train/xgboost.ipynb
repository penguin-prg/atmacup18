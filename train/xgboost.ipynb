{
 "cells": [
  {
   "cell_type": "code",
   "execution_count": 1,
   "metadata": {},
   "outputs": [
    {
     "name": "stdout",
     "output_type": "stream",
     "text": [
      "/kaggle/working\n"
     ]
    }
   ],
   "source": [
    "!rm -r /kaggle/working/*\n",
    "%cd /kaggle/working"
   ]
  },
  {
   "cell_type": "code",
   "execution_count": 2,
   "metadata": {},
   "outputs": [],
   "source": [
    "import os\n",
    "import sys\n",
    "\n",
    "PACKAGE_DIR = \"/kaggle/src\"\n",
    "sys.path.append(PACKAGE_DIR)\n",
    "sys.path.append(os.path.join(PACKAGE_DIR, \"Penguin-ML-Library\"))"
   ]
  },
  {
   "cell_type": "code",
   "execution_count": 3,
   "metadata": {},
   "outputs": [
    {
     "name": "stderr",
     "output_type": "stream",
     "text": [
      "2024-11-16 07:40:08.147774: I tensorflow/core/util/port.cc:113] oneDNN custom operations are on. You may see slightly different numerical results due to floating-point round-off errors from different computation orders. To turn them off, set the environment variable `TF_ENABLE_ONEDNN_OPTS=0`.\n",
      "2024-11-16 07:40:08.174521: I tensorflow/core/platform/cpu_feature_guard.cc:210] This TensorFlow binary is optimized to use available CPU instructions in performance-critical operations.\n",
      "To enable the following instructions: AVX2 AVX_VNNI FMA, in other operations, rebuild TensorFlow with the appropriate compiler flags.\n"
     ]
    },
    {
     "name": "stdout",
     "output_type": "stream",
     "text": [
      "exp_004\n"
     ]
    },
    {
     "name": "stderr",
     "output_type": "stream",
     "text": [
      "/opt/conda/lib/python3.10/pty.py:89: RuntimeWarning: os.fork() was called. os.fork() is incompatible with multithreaded code, and JAX is multithreaded, so this will likely lead to a deadlock.\n",
      "  pid, fd = os.forkpty()\n",
      "set seed: 46\n"
     ]
    }
   ],
   "source": [
    "import yaml\n",
    "from penguinml.utils.logger import get_logger, init_logger\n",
    "from penguinml.utils.set_seed import seed_base\n",
    "\n",
    "MODEL_NAME = \"xgboost\"\n",
    "CFG = yaml.safe_load(open(os.path.join(PACKAGE_DIR, \"config.yaml\"), \"r\"))\n",
    "print(CFG[MODEL_NAME][\"execution\"][\"exp_id\"])\n",
    "CFG[\"output_dir\"] = f\"/kaggle/output/{CFG[MODEL_NAME]['execution']['exp_id']}\"\n",
    "!rm -r {CFG[\"output_dir\"]}\n",
    "os.makedirs(CFG[\"output_dir\"], exist_ok=True)\n",
    "\n",
    "init_logger(f\"{ CFG[MODEL_NAME]['execution']['exp_id']}.log\")\n",
    "logger = get_logger(\"main\")\n",
    "seed_base(CFG[MODEL_NAME][\"execution\"][\"seed\"])"
   ]
  },
  {
   "cell_type": "code",
   "execution_count": 4,
   "metadata": {},
   "outputs": [],
   "source": [
    "import warnings\n",
    "\n",
    "import numpy as np\n",
    "import polars as pl\n",
    "\n",
    "warnings.filterwarnings(\"ignore\")"
   ]
  },
  {
   "cell_type": "code",
   "execution_count": 5,
   "metadata": {},
   "outputs": [
    {
     "name": "stdout",
     "output_type": "stream",
     "text": [
      "(43371, 32)\n"
     ]
    },
    {
     "data": {
      "text/html": [
       "<div><style>\n",
       ".dataframe > thead > tr,\n",
       ".dataframe > tbody > tr {\n",
       "  text-align: right;\n",
       "  white-space: pre-wrap;\n",
       "}\n",
       "</style>\n",
       "<small>shape: (1, 32)</small><table border=\"1\" class=\"dataframe\"><thead><tr><th>ID</th><th>vEgo</th><th>aEgo</th><th>steeringAngleDeg</th><th>steeringTorque</th><th>brake</th><th>brakePressed</th><th>gas</th><th>gasPressed</th><th>gearShifter</th><th>leftBlinker</th><th>rightBlinker</th><th>x_0</th><th>y_0</th><th>z_0</th><th>x_1</th><th>y_1</th><th>z_1</th><th>x_2</th><th>y_2</th><th>z_2</th><th>x_3</th><th>y_3</th><th>z_3</th><th>x_4</th><th>y_4</th><th>z_4</th><th>x_5</th><th>y_5</th><th>z_5</th><th>sceneID</th><th>offset</th></tr><tr><td>str</td><td>f64</td><td>f64</td><td>f64</td><td>f64</td><td>f64</td><td>bool</td><td>f64</td><td>bool</td><td>str</td><td>bool</td><td>bool</td><td>f64</td><td>f64</td><td>f64</td><td>f64</td><td>f64</td><td>f64</td><td>f64</td><td>f64</td><td>f64</td><td>f64</td><td>f64</td><td>f64</td><td>f64</td><td>f64</td><td>f64</td><td>f64</td><td>f64</td><td>f64</td><td>str</td><td>f32</td></tr></thead><tbody><tr><td>&quot;00066be8e20318869c38c66be46663…</td><td>5.701526</td><td>1.538456</td><td>-2.165777</td><td>-139.0</td><td>0.0</td><td>false</td><td>0.25</td><td>true</td><td>&quot;drive&quot;</td><td>false</td><td>false</td><td>2.82959</td><td>0.032226</td><td>0.045187</td><td>6.231999</td><td>0.065895</td><td>0.107974</td><td>9.785009</td><td>0.124972</td><td>0.203649</td><td>13.485472</td><td>0.163448</td><td>0.302818</td><td>17.574227</td><td>0.174289</td><td>0.406331</td><td>21.951269</td><td>0.199503</td><td>0.485079</td><td>&quot;00066be8e20318869c38c66be46663…</td><td>320.0</td></tr></tbody></table></div>"
      ],
      "text/plain": [
       "shape: (1, 32)\n",
       "┌─────────────┬──────────┬──────────┬─────────────┬───┬──────────┬──────────┬─────────────┬────────┐\n",
       "│ ID          ┆ vEgo     ┆ aEgo     ┆ steeringAng ┆ … ┆ y_5      ┆ z_5      ┆ sceneID     ┆ offset │\n",
       "│ ---         ┆ ---      ┆ ---      ┆ leDeg       ┆   ┆ ---      ┆ ---      ┆ ---         ┆ ---    │\n",
       "│ str         ┆ f64      ┆ f64      ┆ ---         ┆   ┆ f64      ┆ f64      ┆ str         ┆ f32    │\n",
       "│             ┆          ┆          ┆ f64         ┆   ┆          ┆          ┆             ┆        │\n",
       "╞═════════════╪══════════╪══════════╪═════════════╪═══╪══════════╪══════════╪═════════════╪════════╡\n",
       "│ 00066be8e20 ┆ 5.701526 ┆ 1.538456 ┆ -2.165777   ┆ … ┆ 0.199503 ┆ 0.485079 ┆ 00066be8e20 ┆ 320.0  │\n",
       "│ 318869c38c6 ┆          ┆          ┆             ┆   ┆          ┆          ┆ 318869c38c6 ┆        │\n",
       "│ 6be46663…   ┆          ┆          ┆             ┆   ┆          ┆          ┆ 6be46663…   ┆        │\n",
       "└─────────────┴──────────┴──────────┴─────────────┴───┴──────────┴──────────┴─────────────┴────────┘"
      ]
     },
     "execution_count": 5,
     "metadata": {},
     "output_type": "execute_result"
    }
   ],
   "source": [
    "train = pl.read_csv(os.path.join(CFG[\"dataset\"][\"competition_dir\"], \"train_features.csv\"))\n",
    "train = (\n",
    "    train.with_columns(\n",
    "        pl.col(\"ID\").str.split_exact(\"_\", n=1).struct.rename_fields([\"sceneID\", \"offset\"]).alias(\"fields\")\n",
    "    )\n",
    "    .unnest(\"fields\")\n",
    "    .with_columns(pl.col(\"offset\").cast(pl.Float32))\n",
    ")\n",
    "print(train.shape)\n",
    "train.head(1)"
   ]
  },
  {
   "cell_type": "markdown",
   "metadata": {},
   "source": [
    "## 特徴量生成\n"
   ]
  },
  {
   "cell_type": "code",
   "execution_count": 6,
   "metadata": {},
   "outputs": [],
   "source": [
    "from penguinml.utils.contena import FeatureContena\n",
    "\n",
    "features = FeatureContena()\n",
    "features.add_num_features(\n",
    "    [\n",
    "        \"vEgo\",\n",
    "        \"aEgo\",\n",
    "        \"steeringAngleDeg\",\n",
    "        \"steeringTorque\",\n",
    "        \"brake\",\n",
    "        \"brakePressed\",\n",
    "        \"gas\",\n",
    "        \"gasPressed\",\n",
    "        \"leftBlinker\",\n",
    "        \"rightBlinker\",\n",
    "        \"offset\",\n",
    "    ]\n",
    ")\n",
    "features.add_cat_features([\"gearShifter\"])"
   ]
  },
  {
   "cell_type": "code",
   "execution_count": 7,
   "metadata": {},
   "outputs": [],
   "source": [
    "# train = train.with_columns(\n",
    "#     (pl.col(\"vEgo\") / pl.col(\"aEgo\")).alias(\"vEgo/aEgo\"),\n",
    "# )\n",
    "# features.add_num_features([\"vEgo/aEgo\"])"
   ]
  },
  {
   "cell_type": "markdown",
   "metadata": {},
   "source": [
    "## ターゲット列を分解\n"
   ]
  },
  {
   "cell_type": "code",
   "execution_count": 8,
   "metadata": {},
   "outputs": [
    {
     "data": {
      "text/html": [
       "<div><style>\n",
       ".dataframe > thead > tr,\n",
       ".dataframe > tbody > tr {\n",
       "  text-align: right;\n",
       "  white-space: pre-wrap;\n",
       "}\n",
       "</style>\n",
       "<small>shape: (1, 18)</small><table border=\"1\" class=\"dataframe\"><thead><tr><th>ID</th><th>target_name</th><th>target</th><th>vEgo</th><th>aEgo</th><th>steeringAngleDeg</th><th>steeringTorque</th><th>brake</th><th>brakePressed</th><th>gas</th><th>gasPressed</th><th>gearShifter</th><th>leftBlinker</th><th>rightBlinker</th><th>sceneID</th><th>offset</th><th>dt</th><th>xyz</th></tr><tr><td>str</td><td>str</td><td>f64</td><td>f64</td><td>f64</td><td>f64</td><td>f64</td><td>f64</td><td>bool</td><td>f64</td><td>bool</td><td>str</td><td>bool</td><td>bool</td><td>str</td><td>f32</td><td>f32</td><td>str</td></tr></thead><tbody><tr><td>&quot;00066be8e20318869c38c66be46663…</td><td>&quot;x_0&quot;</td><td>2.82959</td><td>5.701526</td><td>1.538456</td><td>-2.165777</td><td>-139.0</td><td>0.0</td><td>false</td><td>0.25</td><td>true</td><td>&quot;drive&quot;</td><td>false</td><td>false</td><td>&quot;00066be8e20318869c38c66be46663…</td><td>320.0</td><td>0.5</td><td>&quot;x&quot;</td></tr></tbody></table></div>"
      ],
      "text/plain": [
       "shape: (1, 18)\n",
       "┌───────────────────┬─────────────┬─────────┬──────────┬───┬──────────────────┬────────┬─────┬─────┐\n",
       "│ ID                ┆ target_name ┆ target  ┆ vEgo     ┆ … ┆ sceneID          ┆ offset ┆ dt  ┆ xyz │\n",
       "│ ---               ┆ ---         ┆ ---     ┆ ---      ┆   ┆ ---              ┆ ---    ┆ --- ┆ --- │\n",
       "│ str               ┆ str         ┆ f64     ┆ f64      ┆   ┆ str              ┆ f32    ┆ f32 ┆ str │\n",
       "╞═══════════════════╪═════════════╪═════════╪══════════╪═══╪══════════════════╪════════╪═════╪═════╡\n",
       "│ 00066be8e20318869 ┆ x_0         ┆ 2.82959 ┆ 5.701526 ┆ … ┆ 00066be8e2031886 ┆ 320.0  ┆ 0.5 ┆ x   │\n",
       "│ c38c66be46663…    ┆             ┆         ┆          ┆   ┆ 9c38c66be46663…  ┆        ┆     ┆     │\n",
       "└───────────────────┴─────────────┴─────────┴──────────┴───┴──────────────────┴────────┴─────┴─────┘"
      ]
     },
     "execution_count": 8,
     "metadata": {},
     "output_type": "execute_result"
    }
   ],
   "source": [
    "from const import TARGET_COLS\n",
    "\n",
    "train = (\n",
    "    train.unpivot(index=\"ID\", on=TARGET_COLS, variable_name=\"target_name\", value_name=\"target\")\n",
    "    .join(\n",
    "        train.drop(TARGET_COLS),\n",
    "        on=\"ID\",\n",
    "        how=\"left\",\n",
    "    )\n",
    "    .with_columns(\n",
    "        (\n",
    "            pl.col(\"target_name\").map_elements(lambda x: float(x.split(\"_\")[1]), return_dtype=pl.Float32) * 0.5 + 0.5\n",
    "        ).alias(\"dt\"),\n",
    "        pl.col(\"target_name\").map_elements(lambda x: x.split(\"_\")[0], return_dtype=str).alias(\"xyz\"),\n",
    "    )\n",
    ")\n",
    "features.add_cat_features([\"target_name\", \"xyz\"])\n",
    "train.head(1)"
   ]
  },
  {
   "cell_type": "code",
   "execution_count": 9,
   "metadata": {},
   "outputs": [],
   "source": [
    "# dt秒後の特徴\n",
    "train = train.with_columns(\n",
    "    # vt\n",
    "    (pl.col(\"vEgo\") * pl.col(\"dt\").cast(pl.Float32)).alias(\"linear_movement@dt\"),\n",
    "    # vt + 0.5at^2\n",
    "    ((pl.col(\"vEgo\") + 0.5 * pl.col(\"aEgo\") * pl.col(\"dt\").cast(pl.Float32) ** 2).alias(\"movement@dt\")),\n",
    "    # v + at\n",
    "    (pl.col(\"vEgo\") + pl.col(\"aEgo\") * pl.col(\"dt\").cast(pl.Float32)).alias(\"velocity@dt\"),\n",
    "    # # cos\n",
    "    # (pl.col(\"steeringAngleDeg\").map_elements(lambda x: np.cos(np.deg2rad(x)), return_dtype=pl.Float32)).alias(\"cos\"),\n",
    "    # # sin\n",
    "    # (pl.col(\"steeringAngleDeg\").map_elements(lambda x: np.sin(np.deg2rad(x)), return_dtype=pl.Float32)).alias(\"sin\"),\n",
    ").with_columns(\n",
    "    # (pl.col(\"movement@dt\") * pl.col(\"cos\")).alias(\"movement@dt*cos\"),\n",
    "    # (pl.col(\"movement@dt\") * pl.col(\"sin\")).alias(\"movement@dt*sin\"),\n",
    "    # (pl.col(\"linear_movement@dt\") * pl.col(\"cos\")).alias(\"linear_movement@dt*cos\"),\n",
    "    # (pl.col(\"linear_movement@dt\") * pl.col(\"sin\")).alias(\"linear_movement@dt*sin\"),\n",
    "    # (pl.col(\"velocity@dt\") * pl.col(\"cos\")).alias(\"velocity@dt*cos\"),\n",
    "    # (pl.col(\"velocity@dt\") * pl.col(\"sin\")).alias(\"velocity@dt*sin\"),\n",
    ")\n",
    "\n",
    "features.add_num_features(\n",
    "    [\n",
    "        \"linear_movement@dt\",\n",
    "        \"movement@dt\",\n",
    "        \"velocity@dt\",\n",
    "        # \"cos\",\n",
    "        # \"sin\",\n",
    "        # \"movement@dt*cos\",\n",
    "        # \"movement@dt*sin\",\n",
    "        # \"linear_movement@dt*cos\",\n",
    "        # \"linear_movement@dt*sin\",\n",
    "        # \"velocity@dt*cos\",\n",
    "        # \"velocity@dt*sin\",\n",
    "    ]\n",
    ")"
   ]
  },
  {
   "cell_type": "code",
   "execution_count": 10,
   "metadata": {},
   "outputs": [],
   "source": [
    "from const import CATEGORY_MAPPING\n",
    "\n",
    "for c in features.num_features():\n",
    "    train = train.with_columns(pl.col(c).cast(pl.Float32))\n",
    "\n",
    "for c in features.cat_features():\n",
    "    mapping = CATEGORY_MAPPING[c]\n",
    "    train = train.with_columns(pl.col(c).replace_strict(mapping).cast(pl.Int32))"
   ]
  },
  {
   "cell_type": "markdown",
   "metadata": {},
   "source": [
    "## CV Split\n"
   ]
  },
  {
   "cell_type": "code",
   "execution_count": 11,
   "metadata": {},
   "outputs": [],
   "source": [
    "train_folds = pl.read_csv(CFG[\"dataset\"][\"train_fold_path\"])\n",
    "train = train.join(train_folds, on=\"sceneID\", how=\"left\")\n",
    "assert train[\"fold\"].null_count() == 0"
   ]
  },
  {
   "cell_type": "markdown",
   "metadata": {},
   "source": [
    "## Training\n"
   ]
  },
  {
   "cell_type": "code",
   "execution_count": 12,
   "metadata": {},
   "outputs": [
    {
     "name": "stdout",
     "output_type": "stream",
     "text": [
      "== fold 0 ==\n",
      "[0]\tvalidation_0-mae:5.29701\n",
      "[500]\tvalidation_0-mae:0.25075\n",
      "[1000]\tvalidation_0-mae:0.24206\n",
      "[1500]\tvalidation_0-mae:0.23882\n",
      "[2000]\tvalidation_0-mae:0.23717\n",
      "[2500]\tvalidation_0-mae:0.23614\n",
      "[3000]\tvalidation_0-mae:0.23554\n",
      "[3500]\tvalidation_0-mae:0.23520\n",
      "[4000]\tvalidation_0-mae:0.23504\n",
      "[4500]\tvalidation_0-mae:0.23488\n",
      "[5000]\tvalidation_0-mae:0.23476\n",
      "[5500]\tvalidation_0-mae:0.23464\n",
      "[6000]\tvalidation_0-mae:0.23457\n",
      "[6500]\tvalidation_0-mae:0.23450\n",
      "[7000]\tvalidation_0-mae:0.23445\n",
      "[7500]\tvalidation_0-mae:0.23441\n",
      "[8000]\tvalidation_0-mae:0.23436\n",
      "[8500]\tvalidation_0-mae:0.23435\n",
      "[9000]\tvalidation_0-mae:0.23431\n",
      "[9500]\tvalidation_0-mae:0.23427\n",
      "[10000]\tvalidation_0-mae:0.23422\n",
      "[10500]\tvalidation_0-mae:0.23420\n",
      "[11000]\tvalidation_0-mae:0.23415\n",
      "[11500]\tvalidation_0-mae:0.23414\n",
      "[12000]\tvalidation_0-mae:0.23410\n",
      "[12500]\tvalidation_0-mae:0.23407\n",
      "[13000]\tvalidation_0-mae:0.23405\n",
      "[13500]\tvalidation_0-mae:0.23403\n",
      "[14000]\tvalidation_0-mae:0.23399\n",
      "[14500]\tvalidation_0-mae:0.23396\n",
      "[15000]\tvalidation_0-mae:0.23394\n",
      "[15500]\tvalidation_0-mae:0.23393\n",
      "[16000]\tvalidation_0-mae:0.23391\n",
      "[16500]\tvalidation_0-mae:0.23389\n",
      "[16720]\tvalidation_0-mae:0.23390\n",
      "== fold 1 ==\n",
      "[0]\tvalidation_0-mae:5.19932\n",
      "[500]\tvalidation_0-mae:0.25892\n",
      "[1000]\tvalidation_0-mae:0.24835\n",
      "[1500]\tvalidation_0-mae:0.24492\n",
      "[2000]\tvalidation_0-mae:0.24291\n",
      "[2500]\tvalidation_0-mae:0.24177\n",
      "[3000]\tvalidation_0-mae:0.24123\n",
      "[3500]\tvalidation_0-mae:0.24094\n",
      "[4000]\tvalidation_0-mae:0.24079\n",
      "[4500]\tvalidation_0-mae:0.24059\n",
      "[5000]\tvalidation_0-mae:0.24049\n",
      "[5500]\tvalidation_0-mae:0.24043\n",
      "[6000]\tvalidation_0-mae:0.24037\n",
      "[6500]\tvalidation_0-mae:0.24029\n",
      "[7000]\tvalidation_0-mae:0.24019\n",
      "[7500]\tvalidation_0-mae:0.24013\n",
      "[8000]\tvalidation_0-mae:0.24008\n",
      "[8500]\tvalidation_0-mae:0.24003\n",
      "[9000]\tvalidation_0-mae:0.23998\n",
      "[9500]\tvalidation_0-mae:0.23989\n",
      "[10000]\tvalidation_0-mae:0.23984\n",
      "[10500]\tvalidation_0-mae:0.23982\n",
      "[11000]\tvalidation_0-mae:0.23981\n",
      "[11010]\tvalidation_0-mae:0.23981\n",
      "== fold 2 ==\n",
      "[0]\tvalidation_0-mae:5.29952\n",
      "[500]\tvalidation_0-mae:0.25797\n",
      "[1000]\tvalidation_0-mae:0.24819\n",
      "[1500]\tvalidation_0-mae:0.24489\n",
      "[2000]\tvalidation_0-mae:0.24306\n",
      "[2500]\tvalidation_0-mae:0.24211\n",
      "[3000]\tvalidation_0-mae:0.24128\n",
      "[3500]\tvalidation_0-mae:0.24095\n",
      "[4000]\tvalidation_0-mae:0.24066\n",
      "[4500]\tvalidation_0-mae:0.24055\n",
      "[5000]\tvalidation_0-mae:0.24046\n",
      "[5500]\tvalidation_0-mae:0.24029\n",
      "[6000]\tvalidation_0-mae:0.24019\n",
      "[6500]\tvalidation_0-mae:0.24006\n",
      "[7000]\tvalidation_0-mae:0.23998\n",
      "[7500]\tvalidation_0-mae:0.23990\n",
      "[8000]\tvalidation_0-mae:0.23983\n",
      "[8500]\tvalidation_0-mae:0.23979\n",
      "[9000]\tvalidation_0-mae:0.23975\n",
      "[9500]\tvalidation_0-mae:0.23972\n",
      "[10000]\tvalidation_0-mae:0.23968\n",
      "[10500]\tvalidation_0-mae:0.23964\n",
      "[11000]\tvalidation_0-mae:0.23962\n",
      "[11500]\tvalidation_0-mae:0.23959\n",
      "[11765]\tvalidation_0-mae:0.23959\n",
      "== fold 3 ==\n",
      "[0]\tvalidation_0-mae:5.32957\n",
      "[500]\tvalidation_0-mae:0.25835\n",
      "[1000]\tvalidation_0-mae:0.24826\n",
      "[1500]\tvalidation_0-mae:0.24488\n",
      "[2000]\tvalidation_0-mae:0.24247\n",
      "[2500]\tvalidation_0-mae:0.24094\n",
      "[3000]\tvalidation_0-mae:0.24004\n",
      "[3500]\tvalidation_0-mae:0.23943\n",
      "[4000]\tvalidation_0-mae:0.23909\n",
      "[4500]\tvalidation_0-mae:0.23896\n",
      "[5000]\tvalidation_0-mae:0.23887\n",
      "[5500]\tvalidation_0-mae:0.23880\n",
      "[6000]\tvalidation_0-mae:0.23872\n",
      "[6500]\tvalidation_0-mae:0.23862\n",
      "[7000]\tvalidation_0-mae:0.23857\n",
      "[7500]\tvalidation_0-mae:0.23852\n",
      "[8000]\tvalidation_0-mae:0.23847\n",
      "[8500]\tvalidation_0-mae:0.23841\n",
      "[9000]\tvalidation_0-mae:0.23837\n",
      "[9500]\tvalidation_0-mae:0.23833\n",
      "[10000]\tvalidation_0-mae:0.23829\n",
      "[10500]\tvalidation_0-mae:0.23823\n",
      "[11000]\tvalidation_0-mae:0.23821\n",
      "[11500]\tvalidation_0-mae:0.23817\n",
      "[12000]\tvalidation_0-mae:0.23812\n",
      "[12500]\tvalidation_0-mae:0.23809\n",
      "[13000]\tvalidation_0-mae:0.23807\n",
      "[13500]\tvalidation_0-mae:0.23804\n",
      "[14000]\tvalidation_0-mae:0.23801\n",
      "[14500]\tvalidation_0-mae:0.23799\n",
      "[14919]\tvalidation_0-mae:0.23797\n",
      "== fold 4 ==\n",
      "[0]\tvalidation_0-mae:5.17094\n",
      "[500]\tvalidation_0-mae:0.26234\n",
      "[1000]\tvalidation_0-mae:0.25259\n",
      "[1500]\tvalidation_0-mae:0.24897\n",
      "[2000]\tvalidation_0-mae:0.24676\n",
      "[2500]\tvalidation_0-mae:0.24557\n",
      "[3000]\tvalidation_0-mae:0.24497\n",
      "[3500]\tvalidation_0-mae:0.24453\n",
      "[4000]\tvalidation_0-mae:0.24442\n",
      "[4500]\tvalidation_0-mae:0.24418\n",
      "[5000]\tvalidation_0-mae:0.24400\n",
      "[5500]\tvalidation_0-mae:0.24392\n",
      "[6000]\tvalidation_0-mae:0.24379\n",
      "[6500]\tvalidation_0-mae:0.24374\n",
      "[7000]\tvalidation_0-mae:0.24364\n",
      "[7500]\tvalidation_0-mae:0.24356\n",
      "[8000]\tvalidation_0-mae:0.24351\n",
      "[8500]\tvalidation_0-mae:0.24346\n",
      "[9000]\tvalidation_0-mae:0.24336\n",
      "[9500]\tvalidation_0-mae:0.24328\n",
      "[10000]\tvalidation_0-mae:0.24321\n",
      "[10500]\tvalidation_0-mae:0.24312\n",
      "[11000]\tvalidation_0-mae:0.24310\n",
      "[11500]\tvalidation_0-mae:0.24307\n",
      "[12000]\tvalidation_0-mae:0.24304\n",
      "[12500]\tvalidation_0-mae:0.24301\n",
      "[13000]\tvalidation_0-mae:0.24298\n",
      "[13500]\tvalidation_0-mae:0.24294\n",
      "[14000]\tvalidation_0-mae:0.24292\n",
      "[14500]\tvalidation_0-mae:0.24290\n",
      "[15000]\tvalidation_0-mae:0.24285\n",
      "[15500]\tvalidation_0-mae:0.24283\n",
      "[16000]\tvalidation_0-mae:0.24281\n",
      "[16087]\tvalidation_0-mae:0.24281\n"
     ]
    }
   ],
   "source": [
    "from penguinml.gbdt.xgboost import fit_xgb, inference_xgb\n",
    "\n",
    "oof, models = fit_xgb(\n",
    "    data=train,\n",
    "    features=features,\n",
    "    params=CFG[MODEL_NAME][\"params\"],\n",
    "    target_col=\"target\",\n",
    "    fold_col=\"fold\",\n",
    "    target_type=\"regression\",\n",
    "    verbose=500,\n",
    ")"
   ]
  },
  {
   "cell_type": "code",
   "execution_count": 13,
   "metadata": {},
   "outputs": [
    {
     "name": "stdout",
     "output_type": "stream",
     "text": [
      "MAE: 0.2388122073435013\n"
     ]
    }
   ],
   "source": [
    "train = train.with_columns(pl.Series(\"oof\", oof))\n",
    "mae = np.abs(train[\"oof\"] - train[\"target\"]).mean()\n",
    "print(f\"MAE: {mae}\")"
   ]
  },
  {
   "cell_type": "code",
   "execution_count": 14,
   "metadata": {},
   "outputs": [
    {
     "data": {
      "text/html": [
       "<div><style>\n",
       ".dataframe > thead > tr,\n",
       ".dataframe > tbody > tr {\n",
       "  text-align: right;\n",
       "  white-space: pre-wrap;\n",
       "}\n",
       "</style>\n",
       "<small>shape: (5, 19)</small><table border=\"1\" class=\"dataframe\"><thead><tr><th>ID</th><th>oof_x_0</th><th>oof_y_0</th><th>oof_z_0</th><th>oof_x_1</th><th>oof_y_1</th><th>oof_z_1</th><th>oof_x_2</th><th>oof_y_2</th><th>oof_z_2</th><th>oof_x_3</th><th>oof_y_3</th><th>oof_z_3</th><th>oof_x_4</th><th>oof_y_4</th><th>oof_z_4</th><th>oof_x_5</th><th>oof_y_5</th><th>oof_z_5</th></tr><tr><td>str</td><td>f32</td><td>f32</td><td>f32</td><td>f32</td><td>f32</td><td>f32</td><td>f32</td><td>f32</td><td>f32</td><td>f32</td><td>f32</td><td>f32</td><td>f32</td><td>f32</td><td>f32</td><td>f32</td><td>f32</td><td>f32</td></tr></thead><tbody><tr><td>&quot;00066be8e20318869c38c66be46663…</td><td>2.619193</td><td>0.005503</td><td>0.016248</td><td>5.709171</td><td>-0.021407</td><td>0.027979</td><td>9.384824</td><td>-0.066625</td><td>0.049146</td><td>13.116134</td><td>-0.096635</td><td>0.076645</td><td>17.184017</td><td>-0.133408</td><td>0.10006</td><td>20.90769</td><td>-0.102744</td><td>0.133919</td></tr><tr><td>&quot;00066be8e20318869c38c66be46663…</td><td>4.980537</td><td>-0.087843</td><td>-0.013717</td><td>10.552188</td><td>-0.246854</td><td>-0.016579</td><td>15.88108</td><td>-0.405631</td><td>0.014075</td><td>21.636904</td><td>-0.545328</td><td>0.029583</td><td>26.92944</td><td>-0.805948</td><td>0.055905</td><td>32.186825</td><td>-0.891835</td><td>0.102752</td></tr><tr><td>&quot;00066be8e20318869c38c66be46663…</td><td>4.754908</td><td>-0.009686</td><td>-0.000964</td><td>10.037226</td><td>-0.044956</td><td>0.012892</td><td>15.529456</td><td>-0.111825</td><td>0.008351</td><td>20.680161</td><td>-0.164509</td><td>0.012269</td><td>26.482872</td><td>-0.247309</td><td>0.009595</td><td>31.414513</td><td>-0.290712</td><td>0.017159</td></tr><tr><td>&quot;000fb056f97572d384bae4f5fc1e0f…</td><td>2.753625</td><td>0.031078</td><td>0.011407</td><td>5.753962</td><td>0.126395</td><td>0.017057</td><td>8.663917</td><td>0.356409</td><td>0.007485</td><td>11.375377</td><td>0.543853</td><td>0.011397</td><td>14.375825</td><td>0.778271</td><td>0.008568</td><td>16.92519</td><td>1.033594</td><td>-0.00986</td></tr><tr><td>&quot;000fb056f97572d384bae4f5fc1e0f…</td><td>1.597961</td><td>-0.020905</td><td>0.009247</td><td>3.722933</td><td>-0.13035</td><td>0.020496</td><td>6.272552</td><td>-0.296602</td><td>0.037438</td><td>8.883921</td><td>-0.580152</td><td>0.065665</td><td>11.769915</td><td>-0.676814</td><td>0.092813</td><td>14.704652</td><td>-0.756418</td><td>0.095967</td></tr></tbody></table></div>"
      ],
      "text/plain": [
       "shape: (5, 19)\n",
       "┌─────────────┬──────────┬───────────┬───────────┬───┬──────────┬───────────┬───────────┬──────────┐\n",
       "│ ID          ┆ oof_x_0  ┆ oof_y_0   ┆ oof_z_0   ┆ … ┆ oof_z_4  ┆ oof_x_5   ┆ oof_y_5   ┆ oof_z_5  │\n",
       "│ ---         ┆ ---      ┆ ---       ┆ ---       ┆   ┆ ---      ┆ ---       ┆ ---       ┆ ---      │\n",
       "│ str         ┆ f32      ┆ f32       ┆ f32       ┆   ┆ f32      ┆ f32       ┆ f32       ┆ f32      │\n",
       "╞═════════════╪══════════╪═══════════╪═══════════╪═══╪══════════╪═══════════╪═══════════╪══════════╡\n",
       "│ 00066be8e20 ┆ 2.619193 ┆ 0.005503  ┆ 0.016248  ┆ … ┆ 0.10006  ┆ 20.90769  ┆ -0.102744 ┆ 0.133919 │\n",
       "│ 318869c38c6 ┆          ┆           ┆           ┆   ┆          ┆           ┆           ┆          │\n",
       "│ 6be46663…   ┆          ┆           ┆           ┆   ┆          ┆           ┆           ┆          │\n",
       "│ 00066be8e20 ┆ 4.980537 ┆ -0.087843 ┆ -0.013717 ┆ … ┆ 0.055905 ┆ 32.186825 ┆ -0.891835 ┆ 0.102752 │\n",
       "│ 318869c38c6 ┆          ┆           ┆           ┆   ┆          ┆           ┆           ┆          │\n",
       "│ 6be46663…   ┆          ┆           ┆           ┆   ┆          ┆           ┆           ┆          │\n",
       "│ 00066be8e20 ┆ 4.754908 ┆ -0.009686 ┆ -0.000964 ┆ … ┆ 0.009595 ┆ 31.414513 ┆ -0.290712 ┆ 0.017159 │\n",
       "│ 318869c38c6 ┆          ┆           ┆           ┆   ┆          ┆           ┆           ┆          │\n",
       "│ 6be46663…   ┆          ┆           ┆           ┆   ┆          ┆           ┆           ┆          │\n",
       "│ 000fb056f97 ┆ 2.753625 ┆ 0.031078  ┆ 0.011407  ┆ … ┆ 0.008568 ┆ 16.92519  ┆ 1.033594  ┆ -0.00986 │\n",
       "│ 572d384bae4 ┆          ┆           ┆           ┆   ┆          ┆           ┆           ┆          │\n",
       "│ f5fc1e0f…   ┆          ┆           ┆           ┆   ┆          ┆           ┆           ┆          │\n",
       "│ 000fb056f97 ┆ 1.597961 ┆ -0.020905 ┆ 0.009247  ┆ … ┆ 0.092813 ┆ 14.704652 ┆ -0.756418 ┆ 0.095967 │\n",
       "│ 572d384bae4 ┆          ┆           ┆           ┆   ┆          ┆           ┆           ┆          │\n",
       "│ f5fc1e0f…   ┆          ┆           ┆           ┆   ┆          ┆           ┆           ┆          │\n",
       "└─────────────┴──────────┴───────────┴───────────┴───┴──────────┴───────────┴───────────┴──────────┘"
      ]
     },
     "execution_count": 14,
     "metadata": {},
     "output_type": "execute_result"
    }
   ],
   "source": [
    "rev_dict = {v: \"oof_\" + k for k, v in CATEGORY_MAPPING[\"target_name\"].items()}\n",
    "oof_df = (\n",
    "    train.select([\"ID\", \"target_name\", \"oof\"])\n",
    "    .with_columns(pl.col(\"target_name\").replace_strict(rev_dict))\n",
    "    .pivot(index=\"ID\", columns=\"target_name\", values=\"oof\")\n",
    ")\n",
    "oof_df.head()"
   ]
  },
  {
   "cell_type": "code",
   "execution_count": 15,
   "metadata": {},
   "outputs": [],
   "source": [
    "oof_df.write_csv(os.path.join(CFG[\"output_dir\"], \"oof.csv\"))"
   ]
  },
  {
   "cell_type": "code",
   "execution_count": null,
   "metadata": {},
   "outputs": [],
   "source": []
  }
 ],
 "metadata": {
  "kernelspec": {
   "display_name": "base",
   "language": "python",
   "name": "python3"
  },
  "language_info": {
   "codemirror_mode": {
    "name": "ipython",
    "version": 3
   },
   "file_extension": ".py",
   "mimetype": "text/x-python",
   "name": "python",
   "nbconvert_exporter": "python",
   "pygments_lexer": "ipython3",
   "version": "3.10.14"
  }
 },
 "nbformat": 4,
 "nbformat_minor": 2
}
