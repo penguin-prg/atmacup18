{
 "cells": [
  {
   "cell_type": "code",
   "execution_count": 1,
   "metadata": {},
   "outputs": [
    {
     "name": "stdout",
     "output_type": "stream",
     "text": [
      "/kaggle/working\n"
     ]
    }
   ],
   "source": [
    "!rm -r /kaggle/working/*\n",
    "%cd /kaggle/working"
   ]
  },
  {
   "cell_type": "code",
   "execution_count": 2,
   "metadata": {},
   "outputs": [],
   "source": [
    "import os\n",
    "import sys\n",
    "\n",
    "PACKAGE_DIR = \"/kaggle/src\"\n",
    "sys.path.append(PACKAGE_DIR)\n",
    "sys.path.append(os.path.join(PACKAGE_DIR, \"Penguin-ML-Library\"))"
   ]
  },
  {
   "cell_type": "code",
   "execution_count": 3,
   "metadata": {},
   "outputs": [
    {
     "name": "stderr",
     "output_type": "stream",
     "text": [
      "2024-11-16 09:00:26.884713: I tensorflow/core/util/port.cc:113] oneDNN custom operations are on. You may see slightly different numerical results due to floating-point round-off errors from different computation orders. To turn them off, set the environment variable `TF_ENABLE_ONEDNN_OPTS=0`.\n",
      "2024-11-16 09:00:26.911527: I tensorflow/core/platform/cpu_feature_guard.cc:210] This TensorFlow binary is optimized to use available CPU instructions in performance-critical operations.\n",
      "To enable the following instructions: AVX2 AVX_VNNI FMA, in other operations, rebuild TensorFlow with the appropriate compiler flags.\n"
     ]
    },
    {
     "name": "stdout",
     "output_type": "stream",
     "text": [
      "exp_004\n"
     ]
    },
    {
     "name": "stderr",
     "output_type": "stream",
     "text": [
      "/opt/conda/lib/python3.10/pty.py:89: RuntimeWarning: os.fork() was called. os.fork() is incompatible with multithreaded code, and JAX is multithreaded, so this will likely lead to a deadlock.\n",
      "  pid, fd = os.forkpty()\n",
      "set seed: 46\n"
     ]
    }
   ],
   "source": [
    "import yaml\n",
    "from penguinml.utils.logger import get_logger, init_logger\n",
    "from penguinml.utils.set_seed import seed_base\n",
    "\n",
    "MODEL_NAME = \"xgboost\"\n",
    "CFG = yaml.safe_load(open(os.path.join(PACKAGE_DIR, \"config.yaml\"), \"r\"))\n",
    "print(CFG[MODEL_NAME][\"execution\"][\"exp_id\"])\n",
    "CFG[\"output_dir\"] = f\"/kaggle/output/{CFG[MODEL_NAME]['execution']['exp_id']}\"\n",
    "!rm -r {CFG[\"output_dir\"]}\n",
    "os.makedirs(CFG[\"output_dir\"], exist_ok=True)\n",
    "\n",
    "init_logger(f\"{ CFG[MODEL_NAME]['execution']['exp_id']}.log\")\n",
    "logger = get_logger(\"main\")\n",
    "seed_base(CFG[MODEL_NAME][\"execution\"][\"seed\"])"
   ]
  },
  {
   "cell_type": "code",
   "execution_count": 4,
   "metadata": {},
   "outputs": [],
   "source": [
    "import warnings\n",
    "\n",
    "import numpy as np\n",
    "import polars as pl\n",
    "\n",
    "warnings.filterwarnings(\"ignore\")"
   ]
  },
  {
   "cell_type": "code",
   "execution_count": 5,
   "metadata": {},
   "outputs": [
    {
     "name": "stdout",
     "output_type": "stream",
     "text": [
      "(43371, 32)\n"
     ]
    },
    {
     "data": {
      "text/html": [
       "<div><style>\n",
       ".dataframe > thead > tr,\n",
       ".dataframe > tbody > tr {\n",
       "  text-align: right;\n",
       "  white-space: pre-wrap;\n",
       "}\n",
       "</style>\n",
       "<small>shape: (1, 32)</small><table border=\"1\" class=\"dataframe\"><thead><tr><th>ID</th><th>vEgo</th><th>aEgo</th><th>steeringAngleDeg</th><th>steeringTorque</th><th>brake</th><th>brakePressed</th><th>gas</th><th>gasPressed</th><th>gearShifter</th><th>leftBlinker</th><th>rightBlinker</th><th>x_0</th><th>y_0</th><th>z_0</th><th>x_1</th><th>y_1</th><th>z_1</th><th>x_2</th><th>y_2</th><th>z_2</th><th>x_3</th><th>y_3</th><th>z_3</th><th>x_4</th><th>y_4</th><th>z_4</th><th>x_5</th><th>y_5</th><th>z_5</th><th>sceneID</th><th>offset</th></tr><tr><td>str</td><td>f64</td><td>f64</td><td>f64</td><td>f64</td><td>f64</td><td>bool</td><td>f64</td><td>bool</td><td>str</td><td>bool</td><td>bool</td><td>f64</td><td>f64</td><td>f64</td><td>f64</td><td>f64</td><td>f64</td><td>f64</td><td>f64</td><td>f64</td><td>f64</td><td>f64</td><td>f64</td><td>f64</td><td>f64</td><td>f64</td><td>f64</td><td>f64</td><td>f64</td><td>str</td><td>f32</td></tr></thead><tbody><tr><td>&quot;00066be8e20318869c38c66be46663…</td><td>5.701526</td><td>1.538456</td><td>-2.165777</td><td>-139.0</td><td>0.0</td><td>false</td><td>0.25</td><td>true</td><td>&quot;drive&quot;</td><td>false</td><td>false</td><td>2.82959</td><td>0.032226</td><td>0.045187</td><td>6.231999</td><td>0.065895</td><td>0.107974</td><td>9.785009</td><td>0.124972</td><td>0.203649</td><td>13.485472</td><td>0.163448</td><td>0.302818</td><td>17.574227</td><td>0.174289</td><td>0.406331</td><td>21.951269</td><td>0.199503</td><td>0.485079</td><td>&quot;00066be8e20318869c38c66be46663…</td><td>320.0</td></tr></tbody></table></div>"
      ],
      "text/plain": [
       "shape: (1, 32)\n",
       "┌─────────────┬──────────┬──────────┬─────────────┬───┬──────────┬──────────┬─────────────┬────────┐\n",
       "│ ID          ┆ vEgo     ┆ aEgo     ┆ steeringAng ┆ … ┆ y_5      ┆ z_5      ┆ sceneID     ┆ offset │\n",
       "│ ---         ┆ ---      ┆ ---      ┆ leDeg       ┆   ┆ ---      ┆ ---      ┆ ---         ┆ ---    │\n",
       "│ str         ┆ f64      ┆ f64      ┆ ---         ┆   ┆ f64      ┆ f64      ┆ str         ┆ f32    │\n",
       "│             ┆          ┆          ┆ f64         ┆   ┆          ┆          ┆             ┆        │\n",
       "╞═════════════╪══════════╪══════════╪═════════════╪═══╪══════════╪══════════╪═════════════╪════════╡\n",
       "│ 00066be8e20 ┆ 5.701526 ┆ 1.538456 ┆ -2.165777   ┆ … ┆ 0.199503 ┆ 0.485079 ┆ 00066be8e20 ┆ 320.0  │\n",
       "│ 318869c38c6 ┆          ┆          ┆             ┆   ┆          ┆          ┆ 318869c38c6 ┆        │\n",
       "│ 6be46663…   ┆          ┆          ┆             ┆   ┆          ┆          ┆ 6be46663…   ┆        │\n",
       "└─────────────┴──────────┴──────────┴─────────────┴───┴──────────┴──────────┴─────────────┴────────┘"
      ]
     },
     "execution_count": 5,
     "metadata": {},
     "output_type": "execute_result"
    }
   ],
   "source": [
    "train = pl.read_csv(os.path.join(CFG[\"dataset\"][\"competition_dir\"], \"train_features.csv\"))\n",
    "train = (\n",
    "    train.with_columns(\n",
    "        pl.col(\"ID\").str.split_exact(\"_\", n=1).struct.rename_fields([\"sceneID\", \"offset\"]).alias(\"fields\")\n",
    "    )\n",
    "    .unnest(\"fields\")\n",
    "    .with_columns(pl.col(\"offset\").cast(pl.Float32))\n",
    ")\n",
    "print(train.shape)\n",
    "train.head(1)"
   ]
  },
  {
   "cell_type": "markdown",
   "metadata": {},
   "source": [
    "## 特徴量生成\n"
   ]
  },
  {
   "cell_type": "code",
   "execution_count": 6,
   "metadata": {},
   "outputs": [],
   "source": [
    "from penguinml.utils.contena import FeatureContena\n",
    "\n",
    "features = FeatureContena()\n",
    "features.add_num_features(\n",
    "    [\n",
    "        \"vEgo\",\n",
    "        \"aEgo\",\n",
    "        \"steeringAngleDeg\",\n",
    "        \"steeringTorque\",\n",
    "        \"brake\",\n",
    "        \"brakePressed\",\n",
    "        \"gas\",\n",
    "        \"gasPressed\",\n",
    "        \"leftBlinker\",\n",
    "        \"rightBlinker\",\n",
    "        \"offset\",\n",
    "    ]\n",
    ")\n",
    "features.add_cat_features([\"gearShifter\"])"
   ]
  },
  {
   "cell_type": "code",
   "execution_count": 7,
   "metadata": {},
   "outputs": [],
   "source": [
    "# train = train.with_columns(\n",
    "#     (pl.col(\"vEgo\") / pl.col(\"aEgo\")).alias(\"vEgo/aEgo\"),\n",
    "# )\n",
    "# features.add_num_features([\"vEgo/aEgo\"])"
   ]
  },
  {
   "cell_type": "markdown",
   "metadata": {},
   "source": [
    "## ターゲット列を分解\n"
   ]
  },
  {
   "cell_type": "code",
   "execution_count": 8,
   "metadata": {},
   "outputs": [
    {
     "data": {
      "text/html": [
       "<div><style>\n",
       ".dataframe > thead > tr,\n",
       ".dataframe > tbody > tr {\n",
       "  text-align: right;\n",
       "  white-space: pre-wrap;\n",
       "}\n",
       "</style>\n",
       "<small>shape: (1, 19)</small><table border=\"1\" class=\"dataframe\"><thead><tr><th>ID</th><th>target_name</th><th>target</th><th>vEgo</th><th>aEgo</th><th>steeringAngleDeg</th><th>steeringTorque</th><th>brake</th><th>brakePressed</th><th>gas</th><th>gasPressed</th><th>gearShifter</th><th>leftBlinker</th><th>rightBlinker</th><th>sceneID</th><th>offset</th><th>dt</th><th>xyz</th><th>target_name_original</th></tr><tr><td>str</td><td>str</td><td>f64</td><td>f64</td><td>f64</td><td>f64</td><td>f64</td><td>f64</td><td>bool</td><td>f64</td><td>bool</td><td>str</td><td>bool</td><td>bool</td><td>str</td><td>f32</td><td>f32</td><td>str</td><td>str</td></tr></thead><tbody><tr><td>&quot;00066be8e20318869c38c66be46663…</td><td>&quot;x_0&quot;</td><td>2.82959</td><td>5.701526</td><td>1.538456</td><td>-2.165777</td><td>-139.0</td><td>0.0</td><td>false</td><td>0.25</td><td>true</td><td>&quot;drive&quot;</td><td>false</td><td>false</td><td>&quot;00066be8e20318869c38c66be46663…</td><td>320.0</td><td>0.5</td><td>&quot;x&quot;</td><td>&quot;x_0&quot;</td></tr></tbody></table></div>"
      ],
      "text/plain": [
       "shape: (1, 19)\n",
       "┌───────────────────┬─────────────┬─────────┬──────────┬───┬────────┬─────┬─────┬──────────────────┐\n",
       "│ ID                ┆ target_name ┆ target  ┆ vEgo     ┆ … ┆ offset ┆ dt  ┆ xyz ┆ target_name_orig │\n",
       "│ ---               ┆ ---         ┆ ---     ┆ ---      ┆   ┆ ---    ┆ --- ┆ --- ┆ inal             │\n",
       "│ str               ┆ str         ┆ f64     ┆ f64      ┆   ┆ f32    ┆ f32 ┆ str ┆ ---              │\n",
       "│                   ┆             ┆         ┆          ┆   ┆        ┆     ┆     ┆ str              │\n",
       "╞═══════════════════╪═════════════╪═════════╪══════════╪═══╪════════╪═════╪═════╪══════════════════╡\n",
       "│ 00066be8e20318869 ┆ x_0         ┆ 2.82959 ┆ 5.701526 ┆ … ┆ 320.0  ┆ 0.5 ┆ x   ┆ x_0              │\n",
       "│ c38c66be46663…    ┆             ┆         ┆          ┆   ┆        ┆     ┆     ┆                  │\n",
       "└───────────────────┴─────────────┴─────────┴──────────┴───┴────────┴─────┴─────┴──────────────────┘"
      ]
     },
     "execution_count": 8,
     "metadata": {},
     "output_type": "execute_result"
    }
   ],
   "source": [
    "from const import TARGET_COLS\n",
    "\n",
    "train = (\n",
    "    train.unpivot(index=\"ID\", on=TARGET_COLS, variable_name=\"target_name\", value_name=\"target\")\n",
    "    .join(\n",
    "        train.drop(TARGET_COLS),\n",
    "        on=\"ID\",\n",
    "        how=\"left\",\n",
    "    )\n",
    "    .with_columns(\n",
    "        (\n",
    "            pl.col(\"target_name\").map_elements(lambda x: float(x.split(\"_\")[1]), return_dtype=pl.Float32) * 0.5 + 0.5\n",
    "        ).alias(\"dt\"),\n",
    "        pl.col(\"target_name\").map_elements(lambda x: x.split(\"_\")[0], return_dtype=str).alias(\"xyz\"),\n",
    "    )\n",
    "    .with_columns(\n",
    "        pl.col(\"target_name\").alias(\"target_name_original\"),\n",
    "    )\n",
    ")\n",
    "features.add_cat_features([\"target_name\", \"xyz\"])\n",
    "train.head(1)"
   ]
  },
  {
   "cell_type": "code",
   "execution_count": 9,
   "metadata": {},
   "outputs": [],
   "source": [
    "# dt秒後の特徴\n",
    "train = train.with_columns(\n",
    "    # vt\n",
    "    (pl.col(\"vEgo\") * pl.col(\"dt\").cast(pl.Float32)).alias(\"linear_movement@dt\"),\n",
    "    # vt + 0.5at^2\n",
    "    ((pl.col(\"vEgo\") + 0.5 * pl.col(\"aEgo\") * pl.col(\"dt\").cast(pl.Float32) ** 2).alias(\"movement@dt\")),\n",
    "    # v + at\n",
    "    (pl.col(\"vEgo\") + pl.col(\"aEgo\") * pl.col(\"dt\").cast(pl.Float32)).alias(\"velocity@dt\"),\n",
    "    # # cos\n",
    "    # (pl.col(\"steeringAngleDeg\").map_elements(lambda x: np.cos(np.deg2rad(x)), return_dtype=pl.Float32)).alias(\"cos\"),\n",
    "    # # sin\n",
    "    # (pl.col(\"steeringAngleDeg\").map_elements(lambda x: np.sin(np.deg2rad(x)), return_dtype=pl.Float32)).alias(\"sin\"),\n",
    ").with_columns(\n",
    "    # (pl.col(\"movement@dt\") * pl.col(\"cos\")).alias(\"movement@dt*cos\"),\n",
    "    # (pl.col(\"movement@dt\") * pl.col(\"sin\")).alias(\"movement@dt*sin\"),\n",
    "    # (pl.col(\"linear_movement@dt\") * pl.col(\"cos\")).alias(\"linear_movement@dt*cos\"),\n",
    "    # (pl.col(\"linear_movement@dt\") * pl.col(\"sin\")).alias(\"linear_movement@dt*sin\"),\n",
    "    # (pl.col(\"velocity@dt\") * pl.col(\"cos\")).alias(\"velocity@dt*cos\"),\n",
    "    # (pl.col(\"velocity@dt\") * pl.col(\"sin\")).alias(\"velocity@dt*sin\"),\n",
    ")\n",
    "\n",
    "features.add_num_features(\n",
    "    [\n",
    "        \"linear_movement@dt\",\n",
    "        \"movement@dt\",\n",
    "        \"velocity@dt\",\n",
    "        # \"cos\",\n",
    "        # \"sin\",\n",
    "        # \"movement@dt*cos\",\n",
    "        # \"movement@dt*sin\",\n",
    "        # \"linear_movement@dt*cos\",\n",
    "        # \"linear_movement@dt*sin\",\n",
    "        # \"velocity@dt*cos\",\n",
    "        # \"velocity@dt*sin\",\n",
    "    ]\n",
    ")"
   ]
  },
  {
   "cell_type": "code",
   "execution_count": 10,
   "metadata": {},
   "outputs": [],
   "source": [
    "# シーン内の集約特徴量\n",
    "for c in features.num_features():\n",
    "    train = train.with_columns(\n",
    "        pl.col(c).mean().over(\"sceneID\").alias(f\"{c}_mean\"),\n",
    "        pl.col(c).std().over(\"sceneID\").alias(f\"{c}_std\"),\n",
    "        pl.col(c).max().over(\"sceneID\").alias(f\"{c}_max\"),\n",
    "        pl.col(c).min().over(\"sceneID\").alias(f\"{c}_min\"),\n",
    "    )\n",
    "    features.add_num_features([f\"{c}_mean\", f\"{c}_std\", f\"{c}_max\", f\"{c}_min\"])"
   ]
  },
  {
   "cell_type": "code",
   "execution_count": 11,
   "metadata": {},
   "outputs": [],
   "source": [
    "from const import CATEGORY_MAPPING\n",
    "\n",
    "for c in features.num_features():\n",
    "    train = train.with_columns(pl.col(c).cast(pl.Float32))\n",
    "\n",
    "for c in features.cat_features():\n",
    "    mapping = CATEGORY_MAPPING[c]\n",
    "    train = train.with_columns(pl.col(c).replace_strict(mapping).cast(pl.Int32))"
   ]
  },
  {
   "cell_type": "markdown",
   "metadata": {},
   "source": [
    "## CV Split\n"
   ]
  },
  {
   "cell_type": "code",
   "execution_count": 12,
   "metadata": {},
   "outputs": [],
   "source": [
    "train_folds = pl.read_csv(CFG[\"dataset\"][\"train_fold_path\"])\n",
    "train = train.join(train_folds, on=\"sceneID\", how=\"left\")\n",
    "assert train[\"fold\"].null_count() == 0"
   ]
  },
  {
   "cell_type": "markdown",
   "metadata": {},
   "source": [
    "## Training\n"
   ]
  },
  {
   "cell_type": "code",
   "execution_count": 13,
   "metadata": {},
   "outputs": [
    {
     "name": "stderr",
     "output_type": "stream",
     "text": [
      "  0%|          | 0/18 [00:00<?, ?it/s]"
     ]
    },
    {
     "name": "stdout",
     "output_type": "stream",
     "text": [
      "====================x_5====================\n",
      "== fold 0 ==\n",
      "[0]\tvalidation_0-mae:17.67537\n",
      "[3691]\tvalidation_0-mae:0.81995\n",
      "== fold 1 ==\n",
      "[0]\tvalidation_0-mae:17.69783\n",
      "[2773]\tvalidation_0-mae:0.84933\n",
      "== fold 2 ==\n",
      "[0]\tvalidation_0-mae:17.91073\n",
      "[3519]\tvalidation_0-mae:0.84069\n",
      "== fold 3 ==\n",
      "[0]\tvalidation_0-mae:17.77506\n",
      "[1654]\tvalidation_0-mae:0.83085\n",
      "== fold 4 ==\n",
      "[0]\tvalidation_0-mae:17.39640\n",
      "[4027]\tvalidation_0-mae:0.84291\n"
     ]
    },
    {
     "name": "stderr",
     "output_type": "stream",
     "text": [
      "  6%|▌         | 1/18 [01:11<20:10, 71.19s/it]"
     ]
    },
    {
     "name": "stdout",
     "output_type": "stream",
     "text": [
      "====================y_5====================\n",
      "== fold 0 ==\n",
      "[0]\tvalidation_0-mae:0.99782\n",
      "[1683]\tvalidation_0-mae:0.47558\n",
      "== fold 1 ==\n",
      "[0]\tvalidation_0-mae:1.07299\n",
      "[1600]\tvalidation_0-mae:0.49444\n",
      "== fold 2 ==\n",
      "[0]\tvalidation_0-mae:1.06145\n",
      "[1587]\tvalidation_0-mae:0.49344\n",
      "== fold 3 ==\n",
      "[0]\tvalidation_0-mae:1.00633\n",
      "[2050]\tvalidation_0-mae:0.48799\n",
      "== fold 4 ==\n",
      "[0]\tvalidation_0-mae:1.09491\n",
      "[2210]\tvalidation_0-mae:0.50344\n"
     ]
    },
    {
     "name": "stderr",
     "output_type": "stream",
     "text": [
      " 11%|█         | 2/18 [01:55<14:43, 55.21s/it]"
     ]
    },
    {
     "name": "stdout",
     "output_type": "stream",
     "text": [
      "====================z_5====================\n",
      "== fold 0 ==\n",
      "[0]\tvalidation_0-mae:0.18290\n",
      "[383]\tvalidation_0-mae:0.17759\n",
      "== fold 1 ==\n",
      "[0]\tvalidation_0-mae:0.18177\n",
      "[456]\tvalidation_0-mae:0.17505\n",
      "== fold 2 ==\n",
      "[0]\tvalidation_0-mae:0.18544\n",
      "[448]\tvalidation_0-mae:0.17912\n",
      "== fold 3 ==\n",
      "[0]\tvalidation_0-mae:0.18894\n",
      "[432]\tvalidation_0-mae:0.18332\n",
      "== fold 4 ==\n",
      "[0]\tvalidation_0-mae:0.18484\n",
      "[380]\tvalidation_0-mae:0.17905\n"
     ]
    },
    {
     "name": "stderr",
     "output_type": "stream",
     "text": [
      " 17%|█▋        | 3/18 [02:06<08:49, 35.28s/it]"
     ]
    },
    {
     "name": "stdout",
     "output_type": "stream",
     "text": [
      "====================x_4====================\n",
      "== fold 0 ==\n",
      "[0]\tvalidation_0-mae:14.68608\n",
      "[4487]\tvalidation_0-mae:0.57647\n",
      "== fold 1 ==\n",
      "[0]\tvalidation_0-mae:14.70070\n",
      "[3982]\tvalidation_0-mae:0.59144\n",
      "== fold 2 ==\n",
      "[0]\tvalidation_0-mae:14.87083\n",
      "[3169]\tvalidation_0-mae:0.59043\n",
      "== fold 3 ==\n",
      "[0]\tvalidation_0-mae:14.76740\n",
      "[3249]\tvalidation_0-mae:0.58265\n",
      "== fold 4 ==\n",
      "[0]\tvalidation_0-mae:14.44664\n",
      "[4408]\tvalidation_0-mae:0.59365\n"
     ]
    },
    {
     "name": "stderr",
     "output_type": "stream",
     "text": [
      " 22%|██▏       | 4/18 [03:35<13:09, 56.38s/it]"
     ]
    },
    {
     "name": "stdout",
     "output_type": "stream",
     "text": [
      "====================y_4====================\n",
      "== fold 0 ==\n",
      "[0]\tvalidation_0-mae:0.72713\n",
      "[1828]\tvalidation_0-mae:0.32710\n",
      "== fold 1 ==\n",
      "[0]\tvalidation_0-mae:0.77953\n",
      "[1446]\tvalidation_0-mae:0.33787\n",
      "== fold 2 ==\n",
      "[0]\tvalidation_0-mae:0.77445\n",
      "[1281]\tvalidation_0-mae:0.33937\n",
      "== fold 3 ==\n",
      "[0]\tvalidation_0-mae:0.72922\n",
      "[1941]\tvalidation_0-mae:0.33529\n",
      "== fold 4 ==\n",
      "[0]\tvalidation_0-mae:0.79549\n",
      "[1830]\tvalidation_0-mae:0.34636\n"
     ]
    },
    {
     "name": "stderr",
     "output_type": "stream",
     "text": [
      " 28%|██▊       | 5/18 [04:15<10:55, 50.41s/it]"
     ]
    },
    {
     "name": "stdout",
     "output_type": "stream",
     "text": [
      "====================z_4====================\n",
      "== fold 0 ==\n",
      "[0]\tvalidation_0-mae:0.14814\n",
      "[454]\tvalidation_0-mae:0.14429\n",
      "== fold 1 ==\n",
      "[0]\tvalidation_0-mae:0.14715\n",
      "[541]\tvalidation_0-mae:0.14203\n",
      "== fold 2 ==\n",
      "[0]\tvalidation_0-mae:0.15076\n",
      "[468]\tvalidation_0-mae:0.14589\n",
      "== fold 3 ==\n",
      "[0]\tvalidation_0-mae:0.15401\n",
      "[839]\tvalidation_0-mae:0.14947\n",
      "== fold 4 ==\n",
      "[0]\tvalidation_0-mae:0.15034\n",
      "[412]\tvalidation_0-mae:0.14609\n"
     ]
    },
    {
     "name": "stderr",
     "output_type": "stream",
     "text": [
      " 33%|███▎      | 6/18 [04:29<07:37, 38.15s/it]"
     ]
    },
    {
     "name": "stdout",
     "output_type": "stream",
     "text": [
      "====================x_3====================\n",
      "== fold 0 ==\n",
      "[0]\tvalidation_0-mae:11.69217\n",
      "[1768]\tvalidation_0-mae:0.38390\n",
      "== fold 1 ==\n",
      "[0]\tvalidation_0-mae:11.70499\n",
      "[3265]\tvalidation_0-mae:0.39474\n",
      "== fold 2 ==\n",
      "[0]\tvalidation_0-mae:11.84051\n",
      "[3307]\tvalidation_0-mae:0.38953\n",
      "== fold 3 ==\n",
      "[0]\tvalidation_0-mae:11.76079\n",
      "[5185]\tvalidation_0-mae:0.38773\n",
      "== fold 4 ==\n",
      "[0]\tvalidation_0-mae:11.49621\n",
      "[2864]\tvalidation_0-mae:0.39457\n"
     ]
    },
    {
     "name": "stderr",
     "output_type": "stream",
     "text": [
      " 39%|███▉      | 7/18 [05:44<09:13, 50.28s/it]"
     ]
    },
    {
     "name": "stdout",
     "output_type": "stream",
     "text": [
      "====================y_3====================\n",
      "== fold 0 ==\n",
      "[0]\tvalidation_0-mae:0.49677\n",
      "[1686]\tvalidation_0-mae:0.21280\n",
      "== fold 1 ==\n",
      "[0]\tvalidation_0-mae:0.52904\n",
      "[1700]\tvalidation_0-mae:0.21655\n",
      "== fold 2 ==\n",
      "[0]\tvalidation_0-mae:0.52863\n",
      "[2222]\tvalidation_0-mae:0.21948\n",
      "== fold 3 ==\n",
      "[0]\tvalidation_0-mae:0.49479\n",
      "[1387]\tvalidation_0-mae:0.21776\n",
      "== fold 4 ==\n",
      "[0]\tvalidation_0-mae:0.54055\n",
      "[2357]\tvalidation_0-mae:0.22226\n"
     ]
    },
    {
     "name": "stderr",
     "output_type": "stream",
     "text": [
      " 44%|████▍     | 8/18 [06:29<08:05, 48.60s/it]"
     ]
    },
    {
     "name": "stdout",
     "output_type": "stream",
     "text": [
      "====================z_3====================\n",
      "== fold 0 ==\n",
      "[0]\tvalidation_0-mae:0.11534\n",
      "[365]\tvalidation_0-mae:0.11256\n",
      "== fold 1 ==\n",
      "[0]\tvalidation_0-mae:0.11421\n",
      "[582]\tvalidation_0-mae:0.11063\n",
      "== fold 2 ==\n",
      "[0]\tvalidation_0-mae:0.11769\n",
      "[399]\tvalidation_0-mae:0.11458\n",
      "== fold 3 ==\n",
      "[0]\tvalidation_0-mae:0.12032\n",
      "[667]\tvalidation_0-mae:0.11696\n",
      "== fold 4 ==\n",
      "[0]\tvalidation_0-mae:0.11716\n",
      "[816]\tvalidation_0-mae:0.11385\n"
     ]
    },
    {
     "name": "stderr",
     "output_type": "stream",
     "text": [
      " 50%|█████     | 9/18 [06:44<05:42, 38.03s/it]"
     ]
    },
    {
     "name": "stdout",
     "output_type": "stream",
     "text": [
      "====================x_2====================\n",
      "== fold 0 ==\n",
      "[0]\tvalidation_0-mae:8.69555\n",
      "[1769]\tvalidation_0-mae:0.23963\n",
      "== fold 1 ==\n",
      "[0]\tvalidation_0-mae:8.70621\n",
      "[4899]\tvalidation_0-mae:0.24302\n",
      "== fold 2 ==\n",
      "[0]\tvalidation_0-mae:8.80491\n",
      "[4200]\tvalidation_0-mae:0.24154\n",
      "== fold 3 ==\n",
      "[0]\tvalidation_0-mae:8.74942\n",
      "[4177]\tvalidation_0-mae:0.24044\n",
      "== fold 4 ==\n",
      "[0]\tvalidation_0-mae:8.54734\n",
      "[3761]\tvalidation_0-mae:0.24661\n"
     ]
    },
    {
     "name": "stderr",
     "output_type": "stream",
     "text": [
      " 56%|█████▌    | 10/18 [08:10<07:02, 52.86s/it]"
     ]
    },
    {
     "name": "stdout",
     "output_type": "stream",
     "text": [
      "====================y_2====================\n",
      "== fold 0 ==\n",
      "[0]\tvalidation_0-mae:0.30753\n",
      "[1388]\tvalidation_0-mae:0.12966\n",
      "== fold 1 ==\n",
      "[0]\tvalidation_0-mae:0.32486\n",
      "[1918]\tvalidation_0-mae:0.12937\n",
      "== fold 2 ==\n",
      "[0]\tvalidation_0-mae:0.32624\n",
      "[1886]\tvalidation_0-mae:0.13362\n",
      "== fold 3 ==\n",
      "[0]\tvalidation_0-mae:0.30421\n",
      "[1360]\tvalidation_0-mae:0.13124\n",
      "== fold 4 ==\n",
      "[0]\tvalidation_0-mae:0.33226\n",
      "[2333]\tvalidation_0-mae:0.13400\n"
     ]
    },
    {
     "name": "stderr",
     "output_type": "stream",
     "text": [
      " 61%|██████    | 11/18 [08:53<05:48, 49.72s/it]"
     ]
    },
    {
     "name": "stdout",
     "output_type": "stream",
     "text": [
      "====================z_2====================\n",
      "== fold 0 ==\n",
      "[0]\tvalidation_0-mae:0.08426\n",
      "[417]\tvalidation_0-mae:0.08258\n",
      "== fold 1 ==\n",
      "[0]\tvalidation_0-mae:0.08308\n",
      "[423]\tvalidation_0-mae:0.08088\n",
      "== fold 2 ==\n",
      "[0]\tvalidation_0-mae:0.08595\n",
      "[383]\tvalidation_0-mae:0.08387\n",
      "== fold 3 ==\n",
      "[0]\tvalidation_0-mae:0.08784\n",
      "[660]\tvalidation_0-mae:0.08569\n",
      "== fold 4 ==\n",
      "[0]\tvalidation_0-mae:0.08493\n",
      "[759]\tvalidation_0-mae:0.08277\n"
     ]
    },
    {
     "name": "stderr",
     "output_type": "stream",
     "text": [
      " 67%|██████▋   | 12/18 [09:07<03:52, 38.78s/it]"
     ]
    },
    {
     "name": "stdout",
     "output_type": "stream",
     "text": [
      "====================x_1====================\n",
      "== fold 0 ==\n",
      "[0]\tvalidation_0-mae:5.69810\n",
      "[1636]\tvalidation_0-mae:0.14098\n",
      "== fold 1 ==\n",
      "[0]\tvalidation_0-mae:5.70668\n",
      "[2564]\tvalidation_0-mae:0.14095\n",
      "== fold 2 ==\n",
      "[0]\tvalidation_0-mae:5.77049\n",
      "[5439]\tvalidation_0-mae:0.14185\n",
      "== fold 3 ==\n",
      "[0]\tvalidation_0-mae:5.73449\n",
      "[3527]\tvalidation_0-mae:0.13946\n",
      "== fold 4 ==\n",
      "[0]\tvalidation_0-mae:5.60044\n",
      "[2799]\tvalidation_0-mae:0.14164\n"
     ]
    },
    {
     "name": "stderr",
     "output_type": "stream",
     "text": [
      " 72%|███████▏  | 13/18 [10:19<04:05, 49.01s/it]"
     ]
    },
    {
     "name": "stdout",
     "output_type": "stream",
     "text": [
      "====================y_1====================\n",
      "== fold 0 ==\n",
      "[0]\tvalidation_0-mae:0.16069\n",
      "[1181]\tvalidation_0-mae:0.07308\n",
      "== fold 1 ==\n",
      "[0]\tvalidation_0-mae:0.16734\n",
      "[1926]\tvalidation_0-mae:0.07110\n",
      "== fold 2 ==\n",
      "[0]\tvalidation_0-mae:0.17003\n",
      "[1178]\tvalidation_0-mae:0.07459\n",
      "== fold 3 ==\n",
      "[0]\tvalidation_0-mae:0.15821\n",
      "[1467]\tvalidation_0-mae:0.07302\n",
      "== fold 4 ==\n",
      "[0]\tvalidation_0-mae:0.17257\n",
      "[1939]\tvalidation_0-mae:0.07461\n"
     ]
    },
    {
     "name": "stderr",
     "output_type": "stream",
     "text": [
      " 78%|███████▊  | 14/18 [10:57<03:02, 45.50s/it]"
     ]
    },
    {
     "name": "stdout",
     "output_type": "stream",
     "text": [
      "====================z_1====================\n",
      "== fold 0 ==\n",
      "[0]\tvalidation_0-mae:0.05456\n",
      "[316]\tvalidation_0-mae:0.05368\n",
      "== fold 1 ==\n",
      "[0]\tvalidation_0-mae:0.05379\n",
      "[431]\tvalidation_0-mae:0.05269\n",
      "== fold 2 ==\n",
      "[0]\tvalidation_0-mae:0.05571\n",
      "[400]\tvalidation_0-mae:0.05446\n",
      "== fold 3 ==\n",
      "[0]\tvalidation_0-mae:0.05645\n",
      "[1064]\tvalidation_0-mae:0.05522\n",
      "== fold 4 ==\n",
      "[0]\tvalidation_0-mae:0.05473\n",
      "[395]\tvalidation_0-mae:0.05366\n"
     ]
    },
    {
     "name": "stderr",
     "output_type": "stream",
     "text": [
      " 83%|████████▎ | 15/18 [11:10<01:47, 35.85s/it]"
     ]
    },
    {
     "name": "stdout",
     "output_type": "stream",
     "text": [
      "====================x_0====================\n",
      "== fold 0 ==\n",
      "[0]\tvalidation_0-mae:2.69955\n",
      "[1630]\tvalidation_0-mae:0.06531\n",
      "== fold 1 ==\n",
      "[0]\tvalidation_0-mae:2.70526\n",
      "[1607]\tvalidation_0-mae:0.06434\n",
      "== fold 2 ==\n",
      "[0]\tvalidation_0-mae:2.73485\n",
      "[1899]\tvalidation_0-mae:0.06698\n",
      "== fold 3 ==\n",
      "[0]\tvalidation_0-mae:2.71804\n",
      "[1899]\tvalidation_0-mae:0.06543\n",
      "== fold 4 ==\n",
      "[0]\tvalidation_0-mae:2.65464\n",
      "[1431]\tvalidation_0-mae:0.06587\n"
     ]
    },
    {
     "name": "stderr",
     "output_type": "stream",
     "text": [
      " 89%|████████▉ | 16/18 [11:50<01:13, 36.99s/it]"
     ]
    },
    {
     "name": "stdout",
     "output_type": "stream",
     "text": [
      "====================y_0====================\n",
      "== fold 0 ==\n",
      "[0]\tvalidation_0-mae:0.05748\n",
      "[1089]\tvalidation_0-mae:0.03220\n",
      "== fold 1 ==\n",
      "[0]\tvalidation_0-mae:0.05904\n",
      "[842]\tvalidation_0-mae:0.03153\n",
      "== fold 2 ==\n",
      "[0]\tvalidation_0-mae:0.06048\n",
      "[1011]\tvalidation_0-mae:0.03266\n",
      "== fold 3 ==\n",
      "[0]\tvalidation_0-mae:0.05639\n",
      "[1114]\tvalidation_0-mae:0.03184\n",
      "== fold 4 ==\n",
      "[0]\tvalidation_0-mae:0.06161\n",
      "[905]\tvalidation_0-mae:0.03332\n"
     ]
    },
    {
     "name": "stderr",
     "output_type": "stream",
     "text": [
      " 94%|█████████▍| 17/18 [12:15<00:33, 33.57s/it]"
     ]
    },
    {
     "name": "stdout",
     "output_type": "stream",
     "text": [
      "====================z_0====================\n",
      "== fold 0 ==\n",
      "[0]\tvalidation_0-mae:0.02615\n",
      "[369]\tvalidation_0-mae:0.02576\n",
      "== fold 1 ==\n",
      "[0]\tvalidation_0-mae:0.02584\n",
      "[365]\tvalidation_0-mae:0.02544\n",
      "== fold 2 ==\n",
      "[0]\tvalidation_0-mae:0.02683\n",
      "[405]\tvalidation_0-mae:0.02637\n",
      "== fold 3 ==\n",
      "[0]\tvalidation_0-mae:0.02685\n",
      "[446]\tvalidation_0-mae:0.02646\n",
      "== fold 4 ==\n",
      "[0]\tvalidation_0-mae:0.02610\n",
      "[334]\tvalidation_0-mae:0.02565\n"
     ]
    },
    {
     "name": "stderr",
     "output_type": "stream",
     "text": [
      "100%|██████████| 18/18 [12:26<00:00, 41.46s/it]\n"
     ]
    }
   ],
   "source": [
    "from penguinml.gbdt.xgboost import fit_xgb, inference_xgb\n",
    "from tqdm import tqdm\n",
    "\n",
    "dfs = []\n",
    "for c in tqdm(sorted(TARGET_COLS, key=lambda x: x.split(\"_\")[1], reverse=True)):\n",
    "    print(\"==\" * 10 + c + \"==\" * 10)\n",
    "    this_df = train.filter(pl.col(\"target_name_original\") == c)\n",
    "    oof, models = fit_xgb(\n",
    "        data=this_df,\n",
    "        features=features,\n",
    "        params=CFG[MODEL_NAME][\"params\"],\n",
    "        target_col=\"target\",\n",
    "        fold_col=\"fold\",\n",
    "        target_type=\"regression\",\n",
    "        verbose=50000,\n",
    "    )\n",
    "    this_df = this_df.with_columns(pl.Series(\"oof\", oof))\n",
    "    dfs.append(this_df)\n",
    "train = pl.concat(dfs)"
   ]
  },
  {
   "cell_type": "code",
   "execution_count": 14,
   "metadata": {},
   "outputs": [
    {
     "name": "stdout",
     "output_type": "stream",
     "text": [
      "MAE: 0.23028796363219692\n"
     ]
    }
   ],
   "source": [
    "mae = np.abs(train[\"oof\"] - train[\"target\"]).mean()\n",
    "print(f\"MAE: {mae}\")"
   ]
  },
  {
   "cell_type": "code",
   "execution_count": 15,
   "metadata": {},
   "outputs": [
    {
     "data": {
      "text/html": [
       "<div><style>\n",
       ".dataframe > thead > tr,\n",
       ".dataframe > tbody > tr {\n",
       "  text-align: right;\n",
       "  white-space: pre-wrap;\n",
       "}\n",
       "</style>\n",
       "<small>shape: (5, 19)</small><table border=\"1\" class=\"dataframe\"><thead><tr><th>ID</th><th>oof_x_5</th><th>oof_y_5</th><th>oof_z_5</th><th>oof_x_4</th><th>oof_y_4</th><th>oof_z_4</th><th>oof_x_3</th><th>oof_y_3</th><th>oof_z_3</th><th>oof_x_2</th><th>oof_y_2</th><th>oof_z_2</th><th>oof_x_1</th><th>oof_y_1</th><th>oof_z_1</th><th>oof_x_0</th><th>oof_y_0</th><th>oof_z_0</th></tr><tr><td>str</td><td>f32</td><td>f32</td><td>f32</td><td>f32</td><td>f32</td><td>f32</td><td>f32</td><td>f32</td><td>f32</td><td>f32</td><td>f32</td><td>f32</td><td>f32</td><td>f32</td><td>f32</td><td>f32</td><td>f32</td><td>f32</td></tr></thead><tbody><tr><td>&quot;00066be8e20318869c38c66be46663…</td><td>21.455189</td><td>-0.437528</td><td>0.127063</td><td>17.308624</td><td>-0.370154</td><td>0.085177</td><td>13.653478</td><td>-0.18745</td><td>0.047936</td><td>9.444977</td><td>-0.097</td><td>0.039624</td><td>5.862541</td><td>-0.042287</td><td>0.019358</td><td>2.66032</td><td>-0.009087</td><td>0.0112</td></tr><tr><td>&quot;00066be8e20318869c38c66be46663…</td><td>31.392342</td><td>-0.869482</td><td>0.064034</td><td>26.310242</td><td>-0.679434</td><td>0.088512</td><td>21.37081</td><td>-0.532647</td><td>0.08411</td><td>15.887778</td><td>-0.414633</td><td>0.055777</td><td>10.514678</td><td>-0.233034</td><td>0.035776</td><td>5.035405</td><td>-0.064468</td><td>0.01415</td></tr><tr><td>&quot;00066be8e20318869c38c66be46663…</td><td>31.893902</td><td>-0.479848</td><td>0.117592</td><td>26.509876</td><td>-0.386165</td><td>0.093717</td><td>20.977812</td><td>-0.236764</td><td>0.09642</td><td>15.277604</td><td>-0.138827</td><td>0.053336</td><td>10.118437</td><td>-0.061507</td><td>0.035542</td><td>4.717708</td><td>-0.016422</td><td>0.014091</td></tr><tr><td>&quot;000fb056f97572d384bae4f5fc1e0f…</td><td>16.974367</td><td>1.198038</td><td>-0.007766</td><td>14.297729</td><td>0.774844</td><td>-0.007069</td><td>11.57066</td><td>0.511329</td><td>-0.003318</td><td>8.653085</td><td>0.271812</td><td>-0.007948</td><td>5.767129</td><td>0.12537</td><td>-0.001532</td><td>2.725299</td><td>0.020627</td><td>-0.000482</td></tr><tr><td>&quot;000fb056f97572d384bae4f5fc1e0f…</td><td>15.56218</td><td>-0.60901</td><td>0.05184</td><td>11.542909</td><td>-0.437678</td><td>0.041353</td><td>8.824244</td><td>-0.426306</td><td>0.029741</td><td>6.19996</td><td>-0.210795</td><td>0.003604</td><td>3.841709</td><td>-0.104585</td><td>0.002361</td><td>1.598209</td><td>-0.039609</td><td>0.00284</td></tr></tbody></table></div>"
      ],
      "text/plain": [
       "shape: (5, 19)\n",
       "┌───────────┬───────────┬───────────┬───────────┬───┬───────────┬──────────┬───────────┬───────────┐\n",
       "│ ID        ┆ oof_x_5   ┆ oof_y_5   ┆ oof_z_5   ┆ … ┆ oof_z_1   ┆ oof_x_0  ┆ oof_y_0   ┆ oof_z_0   │\n",
       "│ ---       ┆ ---       ┆ ---       ┆ ---       ┆   ┆ ---       ┆ ---      ┆ ---       ┆ ---       │\n",
       "│ str       ┆ f32       ┆ f32       ┆ f32       ┆   ┆ f32       ┆ f32      ┆ f32       ┆ f32       │\n",
       "╞═══════════╪═══════════╪═══════════╪═══════════╪═══╪═══════════╪══════════╪═══════════╪═══════════╡\n",
       "│ 00066be8e ┆ 21.455189 ┆ -0.437528 ┆ 0.127063  ┆ … ┆ 0.019358  ┆ 2.66032  ┆ -0.009087 ┆ 0.0112    │\n",
       "│ 20318869c ┆           ┆           ┆           ┆   ┆           ┆          ┆           ┆           │\n",
       "│ 38c66be46 ┆           ┆           ┆           ┆   ┆           ┆          ┆           ┆           │\n",
       "│ 663…      ┆           ┆           ┆           ┆   ┆           ┆          ┆           ┆           │\n",
       "│ 00066be8e ┆ 31.392342 ┆ -0.869482 ┆ 0.064034  ┆ … ┆ 0.035776  ┆ 5.035405 ┆ -0.064468 ┆ 0.01415   │\n",
       "│ 20318869c ┆           ┆           ┆           ┆   ┆           ┆          ┆           ┆           │\n",
       "│ 38c66be46 ┆           ┆           ┆           ┆   ┆           ┆          ┆           ┆           │\n",
       "│ 663…      ┆           ┆           ┆           ┆   ┆           ┆          ┆           ┆           │\n",
       "│ 00066be8e ┆ 31.893902 ┆ -0.479848 ┆ 0.117592  ┆ … ┆ 0.035542  ┆ 4.717708 ┆ -0.016422 ┆ 0.014091  │\n",
       "│ 20318869c ┆           ┆           ┆           ┆   ┆           ┆          ┆           ┆           │\n",
       "│ 38c66be46 ┆           ┆           ┆           ┆   ┆           ┆          ┆           ┆           │\n",
       "│ 663…      ┆           ┆           ┆           ┆   ┆           ┆          ┆           ┆           │\n",
       "│ 000fb056f ┆ 16.974367 ┆ 1.198038  ┆ -0.007766 ┆ … ┆ -0.001532 ┆ 2.725299 ┆ 0.020627  ┆ -0.000482 │\n",
       "│ 97572d384 ┆           ┆           ┆           ┆   ┆           ┆          ┆           ┆           │\n",
       "│ bae4f5fc1 ┆           ┆           ┆           ┆   ┆           ┆          ┆           ┆           │\n",
       "│ e0f…      ┆           ┆           ┆           ┆   ┆           ┆          ┆           ┆           │\n",
       "│ 000fb056f ┆ 15.56218  ┆ -0.60901  ┆ 0.05184   ┆ … ┆ 0.002361  ┆ 1.598209 ┆ -0.039609 ┆ 0.00284   │\n",
       "│ 97572d384 ┆           ┆           ┆           ┆   ┆           ┆          ┆           ┆           │\n",
       "│ bae4f5fc1 ┆           ┆           ┆           ┆   ┆           ┆          ┆           ┆           │\n",
       "│ e0f…      ┆           ┆           ┆           ┆   ┆           ┆          ┆           ┆           │\n",
       "└───────────┴───────────┴───────────┴───────────┴───┴───────────┴──────────┴───────────┴───────────┘"
      ]
     },
     "execution_count": 15,
     "metadata": {},
     "output_type": "execute_result"
    }
   ],
   "source": [
    "rev_dict = {v: \"oof_\" + k for k, v in CATEGORY_MAPPING[\"target_name\"].items()}\n",
    "oof_df = (\n",
    "    train.select([\"ID\", \"target_name\", \"oof\"])\n",
    "    .with_columns(pl.col(\"target_name\").replace_strict(rev_dict))\n",
    "    .pivot(index=\"ID\", columns=\"target_name\", values=\"oof\")\n",
    ")\n",
    "oof_df.head()"
   ]
  },
  {
   "cell_type": "code",
   "execution_count": 16,
   "metadata": {},
   "outputs": [],
   "source": [
    "oof_df.write_csv(os.path.join(CFG[\"output_dir\"], \"oof.csv\"))"
   ]
  },
  {
   "cell_type": "code",
   "execution_count": null,
   "metadata": {},
   "outputs": [],
   "source": []
  }
 ],
 "metadata": {
  "kernelspec": {
   "display_name": "base",
   "language": "python",
   "name": "python3"
  },
  "language_info": {
   "codemirror_mode": {
    "name": "ipython",
    "version": 3
   },
   "file_extension": ".py",
   "mimetype": "text/x-python",
   "name": "python",
   "nbconvert_exporter": "python",
   "pygments_lexer": "ipython3",
   "version": "3.10.14"
  }
 },
 "nbformat": 4,
 "nbformat_minor": 2
}
