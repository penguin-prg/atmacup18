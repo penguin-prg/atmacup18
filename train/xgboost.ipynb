{
 "cells": [
  {
   "cell_type": "code",
   "execution_count": 1,
   "metadata": {},
   "outputs": [
    {
     "name": "stdout",
     "output_type": "stream",
     "text": [
      "/kaggle/working\n"
     ]
    }
   ],
   "source": [
    "!rm -r /kaggle/working/*\n",
    "%cd /kaggle/working"
   ]
  },
  {
   "cell_type": "code",
   "execution_count": 2,
   "metadata": {},
   "outputs": [],
   "source": [
    "import os\n",
    "import sys\n",
    "\n",
    "PACKAGE_DIR = \"/kaggle/src\"\n",
    "sys.path.append(PACKAGE_DIR)\n",
    "sys.path.append(os.path.join(PACKAGE_DIR, \"Penguin-ML-Library\"))"
   ]
  },
  {
   "cell_type": "code",
   "execution_count": 3,
   "metadata": {},
   "outputs": [
    {
     "name": "stderr",
     "output_type": "stream",
     "text": [
      "2024-11-16 08:11:38.417326: I tensorflow/core/util/port.cc:113] oneDNN custom operations are on. You may see slightly different numerical results due to floating-point round-off errors from different computation orders. To turn them off, set the environment variable `TF_ENABLE_ONEDNN_OPTS=0`.\n",
      "2024-11-16 08:11:38.444336: I tensorflow/core/platform/cpu_feature_guard.cc:210] This TensorFlow binary is optimized to use available CPU instructions in performance-critical operations.\n",
      "To enable the following instructions: AVX2 AVX_VNNI FMA, in other operations, rebuild TensorFlow with the appropriate compiler flags.\n"
     ]
    },
    {
     "name": "stdout",
     "output_type": "stream",
     "text": [
      "exp_004\n"
     ]
    },
    {
     "name": "stderr",
     "output_type": "stream",
     "text": [
      "/opt/conda/lib/python3.10/pty.py:89: RuntimeWarning: os.fork() was called. os.fork() is incompatible with multithreaded code, and JAX is multithreaded, so this will likely lead to a deadlock.\n",
      "  pid, fd = os.forkpty()\n",
      "set seed: 46\n"
     ]
    }
   ],
   "source": [
    "import yaml\n",
    "from penguinml.utils.logger import get_logger, init_logger\n",
    "from penguinml.utils.set_seed import seed_base\n",
    "\n",
    "MODEL_NAME = \"xgboost\"\n",
    "CFG = yaml.safe_load(open(os.path.join(PACKAGE_DIR, \"config.yaml\"), \"r\"))\n",
    "print(CFG[MODEL_NAME][\"execution\"][\"exp_id\"])\n",
    "CFG[\"output_dir\"] = f\"/kaggle/output/{CFG[MODEL_NAME]['execution']['exp_id']}\"\n",
    "!rm -r {CFG[\"output_dir\"]}\n",
    "os.makedirs(CFG[\"output_dir\"], exist_ok=True)\n",
    "\n",
    "init_logger(f\"{ CFG[MODEL_NAME]['execution']['exp_id']}.log\")\n",
    "logger = get_logger(\"main\")\n",
    "seed_base(CFG[MODEL_NAME][\"execution\"][\"seed\"])"
   ]
  },
  {
   "cell_type": "code",
   "execution_count": 4,
   "metadata": {},
   "outputs": [],
   "source": [
    "import warnings\n",
    "\n",
    "import numpy as np\n",
    "import polars as pl\n",
    "\n",
    "warnings.filterwarnings(\"ignore\")"
   ]
  },
  {
   "cell_type": "code",
   "execution_count": 5,
   "metadata": {},
   "outputs": [
    {
     "name": "stdout",
     "output_type": "stream",
     "text": [
      "(43371, 32)\n"
     ]
    },
    {
     "data": {
      "text/html": [
       "<div><style>\n",
       ".dataframe > thead > tr,\n",
       ".dataframe > tbody > tr {\n",
       "  text-align: right;\n",
       "  white-space: pre-wrap;\n",
       "}\n",
       "</style>\n",
       "<small>shape: (1, 32)</small><table border=\"1\" class=\"dataframe\"><thead><tr><th>ID</th><th>vEgo</th><th>aEgo</th><th>steeringAngleDeg</th><th>steeringTorque</th><th>brake</th><th>brakePressed</th><th>gas</th><th>gasPressed</th><th>gearShifter</th><th>leftBlinker</th><th>rightBlinker</th><th>x_0</th><th>y_0</th><th>z_0</th><th>x_1</th><th>y_1</th><th>z_1</th><th>x_2</th><th>y_2</th><th>z_2</th><th>x_3</th><th>y_3</th><th>z_3</th><th>x_4</th><th>y_4</th><th>z_4</th><th>x_5</th><th>y_5</th><th>z_5</th><th>sceneID</th><th>offset</th></tr><tr><td>str</td><td>f64</td><td>f64</td><td>f64</td><td>f64</td><td>f64</td><td>bool</td><td>f64</td><td>bool</td><td>str</td><td>bool</td><td>bool</td><td>f64</td><td>f64</td><td>f64</td><td>f64</td><td>f64</td><td>f64</td><td>f64</td><td>f64</td><td>f64</td><td>f64</td><td>f64</td><td>f64</td><td>f64</td><td>f64</td><td>f64</td><td>f64</td><td>f64</td><td>f64</td><td>str</td><td>f32</td></tr></thead><tbody><tr><td>&quot;00066be8e20318869c38c66be46663…</td><td>5.701526</td><td>1.538456</td><td>-2.165777</td><td>-139.0</td><td>0.0</td><td>false</td><td>0.25</td><td>true</td><td>&quot;drive&quot;</td><td>false</td><td>false</td><td>2.82959</td><td>0.032226</td><td>0.045187</td><td>6.231999</td><td>0.065895</td><td>0.107974</td><td>9.785009</td><td>0.124972</td><td>0.203649</td><td>13.485472</td><td>0.163448</td><td>0.302818</td><td>17.574227</td><td>0.174289</td><td>0.406331</td><td>21.951269</td><td>0.199503</td><td>0.485079</td><td>&quot;00066be8e20318869c38c66be46663…</td><td>320.0</td></tr></tbody></table></div>"
      ],
      "text/plain": [
       "shape: (1, 32)\n",
       "┌─────────────┬──────────┬──────────┬─────────────┬───┬──────────┬──────────┬─────────────┬────────┐\n",
       "│ ID          ┆ vEgo     ┆ aEgo     ┆ steeringAng ┆ … ┆ y_5      ┆ z_5      ┆ sceneID     ┆ offset │\n",
       "│ ---         ┆ ---      ┆ ---      ┆ leDeg       ┆   ┆ ---      ┆ ---      ┆ ---         ┆ ---    │\n",
       "│ str         ┆ f64      ┆ f64      ┆ ---         ┆   ┆ f64      ┆ f64      ┆ str         ┆ f32    │\n",
       "│             ┆          ┆          ┆ f64         ┆   ┆          ┆          ┆             ┆        │\n",
       "╞═════════════╪══════════╪══════════╪═════════════╪═══╪══════════╪══════════╪═════════════╪════════╡\n",
       "│ 00066be8e20 ┆ 5.701526 ┆ 1.538456 ┆ -2.165777   ┆ … ┆ 0.199503 ┆ 0.485079 ┆ 00066be8e20 ┆ 320.0  │\n",
       "│ 318869c38c6 ┆          ┆          ┆             ┆   ┆          ┆          ┆ 318869c38c6 ┆        │\n",
       "│ 6be46663…   ┆          ┆          ┆             ┆   ┆          ┆          ┆ 6be46663…   ┆        │\n",
       "└─────────────┴──────────┴──────────┴─────────────┴───┴──────────┴──────────┴─────────────┴────────┘"
      ]
     },
     "execution_count": 5,
     "metadata": {},
     "output_type": "execute_result"
    }
   ],
   "source": [
    "train = pl.read_csv(os.path.join(CFG[\"dataset\"][\"competition_dir\"], \"train_features.csv\"))\n",
    "train = (\n",
    "    train.with_columns(\n",
    "        pl.col(\"ID\").str.split_exact(\"_\", n=1).struct.rename_fields([\"sceneID\", \"offset\"]).alias(\"fields\")\n",
    "    )\n",
    "    .unnest(\"fields\")\n",
    "    .with_columns(pl.col(\"offset\").cast(pl.Float32))\n",
    ")\n",
    "print(train.shape)\n",
    "train.head(1)"
   ]
  },
  {
   "cell_type": "markdown",
   "metadata": {},
   "source": [
    "## 特徴量生成\n"
   ]
  },
  {
   "cell_type": "code",
   "execution_count": 6,
   "metadata": {},
   "outputs": [],
   "source": [
    "from penguinml.utils.contena import FeatureContena\n",
    "\n",
    "features = FeatureContena()\n",
    "features.add_num_features(\n",
    "    [\n",
    "        \"vEgo\",\n",
    "        \"aEgo\",\n",
    "        \"steeringAngleDeg\",\n",
    "        \"steeringTorque\",\n",
    "        \"brake\",\n",
    "        \"brakePressed\",\n",
    "        \"gas\",\n",
    "        \"gasPressed\",\n",
    "        \"leftBlinker\",\n",
    "        \"rightBlinker\",\n",
    "        \"offset\",\n",
    "    ]\n",
    ")\n",
    "features.add_cat_features([\"gearShifter\"])"
   ]
  },
  {
   "cell_type": "code",
   "execution_count": 7,
   "metadata": {},
   "outputs": [],
   "source": [
    "# train = train.with_columns(\n",
    "#     (pl.col(\"vEgo\") / pl.col(\"aEgo\")).alias(\"vEgo/aEgo\"),\n",
    "# )\n",
    "# features.add_num_features([\"vEgo/aEgo\"])"
   ]
  },
  {
   "cell_type": "markdown",
   "metadata": {},
   "source": [
    "## ターゲット列を分解\n"
   ]
  },
  {
   "cell_type": "code",
   "execution_count": 8,
   "metadata": {},
   "outputs": [
    {
     "data": {
      "text/html": [
       "<div><style>\n",
       ".dataframe > thead > tr,\n",
       ".dataframe > tbody > tr {\n",
       "  text-align: right;\n",
       "  white-space: pre-wrap;\n",
       "}\n",
       "</style>\n",
       "<small>shape: (1, 18)</small><table border=\"1\" class=\"dataframe\"><thead><tr><th>ID</th><th>target_name</th><th>target</th><th>vEgo</th><th>aEgo</th><th>steeringAngleDeg</th><th>steeringTorque</th><th>brake</th><th>brakePressed</th><th>gas</th><th>gasPressed</th><th>gearShifter</th><th>leftBlinker</th><th>rightBlinker</th><th>sceneID</th><th>offset</th><th>dt</th><th>xyz</th></tr><tr><td>str</td><td>str</td><td>f64</td><td>f64</td><td>f64</td><td>f64</td><td>f64</td><td>f64</td><td>bool</td><td>f64</td><td>bool</td><td>str</td><td>bool</td><td>bool</td><td>str</td><td>f32</td><td>f32</td><td>str</td></tr></thead><tbody><tr><td>&quot;00066be8e20318869c38c66be46663…</td><td>&quot;x_0&quot;</td><td>2.82959</td><td>5.701526</td><td>1.538456</td><td>-2.165777</td><td>-139.0</td><td>0.0</td><td>false</td><td>0.25</td><td>true</td><td>&quot;drive&quot;</td><td>false</td><td>false</td><td>&quot;00066be8e20318869c38c66be46663…</td><td>320.0</td><td>0.5</td><td>&quot;x&quot;</td></tr></tbody></table></div>"
      ],
      "text/plain": [
       "shape: (1, 18)\n",
       "┌───────────────────┬─────────────┬─────────┬──────────┬───┬──────────────────┬────────┬─────┬─────┐\n",
       "│ ID                ┆ target_name ┆ target  ┆ vEgo     ┆ … ┆ sceneID          ┆ offset ┆ dt  ┆ xyz │\n",
       "│ ---               ┆ ---         ┆ ---     ┆ ---      ┆   ┆ ---              ┆ ---    ┆ --- ┆ --- │\n",
       "│ str               ┆ str         ┆ f64     ┆ f64      ┆   ┆ str              ┆ f32    ┆ f32 ┆ str │\n",
       "╞═══════════════════╪═════════════╪═════════╪══════════╪═══╪══════════════════╪════════╪═════╪═════╡\n",
       "│ 00066be8e20318869 ┆ x_0         ┆ 2.82959 ┆ 5.701526 ┆ … ┆ 00066be8e2031886 ┆ 320.0  ┆ 0.5 ┆ x   │\n",
       "│ c38c66be46663…    ┆             ┆         ┆          ┆   ┆ 9c38c66be46663…  ┆        ┆     ┆     │\n",
       "└───────────────────┴─────────────┴─────────┴──────────┴───┴──────────────────┴────────┴─────┴─────┘"
      ]
     },
     "execution_count": 8,
     "metadata": {},
     "output_type": "execute_result"
    }
   ],
   "source": [
    "from const import TARGET_COLS\n",
    "\n",
    "train = (\n",
    "    train.unpivot(index=\"ID\", on=TARGET_COLS, variable_name=\"target_name\", value_name=\"target\")\n",
    "    .join(\n",
    "        train.drop(TARGET_COLS),\n",
    "        on=\"ID\",\n",
    "        how=\"left\",\n",
    "    )\n",
    "    .with_columns(\n",
    "        (\n",
    "            pl.col(\"target_name\").map_elements(lambda x: float(x.split(\"_\")[1]), return_dtype=pl.Float32) * 0.5 + 0.5\n",
    "        ).alias(\"dt\"),\n",
    "        pl.col(\"target_name\").map_elements(lambda x: x.split(\"_\")[0], return_dtype=str).alias(\"xyz\"),\n",
    "    )\n",
    ")\n",
    "features.add_cat_features([\"target_name\", \"xyz\"])\n",
    "train.head(1)"
   ]
  },
  {
   "cell_type": "code",
   "execution_count": 9,
   "metadata": {},
   "outputs": [],
   "source": [
    "# dt秒後の特徴\n",
    "train = train.with_columns(\n",
    "    # vt\n",
    "    (pl.col(\"vEgo\") * pl.col(\"dt\").cast(pl.Float32)).alias(\"linear_movement@dt\"),\n",
    "    # vt + 0.5at^2\n",
    "    ((pl.col(\"vEgo\") + 0.5 * pl.col(\"aEgo\") * pl.col(\"dt\").cast(pl.Float32) ** 2).alias(\"movement@dt\")),\n",
    "    # v + at\n",
    "    (pl.col(\"vEgo\") + pl.col(\"aEgo\") * pl.col(\"dt\").cast(pl.Float32)).alias(\"velocity@dt\"),\n",
    "    # # cos\n",
    "    # (pl.col(\"steeringAngleDeg\").map_elements(lambda x: np.cos(np.deg2rad(x)), return_dtype=pl.Float32)).alias(\"cos\"),\n",
    "    # # sin\n",
    "    # (pl.col(\"steeringAngleDeg\").map_elements(lambda x: np.sin(np.deg2rad(x)), return_dtype=pl.Float32)).alias(\"sin\"),\n",
    ").with_columns(\n",
    "    # (pl.col(\"movement@dt\") * pl.col(\"cos\")).alias(\"movement@dt*cos\"),\n",
    "    # (pl.col(\"movement@dt\") * pl.col(\"sin\")).alias(\"movement@dt*sin\"),\n",
    "    # (pl.col(\"linear_movement@dt\") * pl.col(\"cos\")).alias(\"linear_movement@dt*cos\"),\n",
    "    # (pl.col(\"linear_movement@dt\") * pl.col(\"sin\")).alias(\"linear_movement@dt*sin\"),\n",
    "    # (pl.col(\"velocity@dt\") * pl.col(\"cos\")).alias(\"velocity@dt*cos\"),\n",
    "    # (pl.col(\"velocity@dt\") * pl.col(\"sin\")).alias(\"velocity@dt*sin\"),\n",
    ")\n",
    "\n",
    "features.add_num_features(\n",
    "    [\n",
    "        \"linear_movement@dt\",\n",
    "        \"movement@dt\",\n",
    "        \"velocity@dt\",\n",
    "        # \"cos\",\n",
    "        # \"sin\",\n",
    "        # \"movement@dt*cos\",\n",
    "        # \"movement@dt*sin\",\n",
    "        # \"linear_movement@dt*cos\",\n",
    "        # \"linear_movement@dt*sin\",\n",
    "        # \"velocity@dt*cos\",\n",
    "        # \"velocity@dt*sin\",\n",
    "    ]\n",
    ")"
   ]
  },
  {
   "cell_type": "code",
   "execution_count": 10,
   "metadata": {},
   "outputs": [],
   "source": [
    "# シーン内の集約特徴量\n",
    "for c in features.num_features():\n",
    "    train = train.with_columns(\n",
    "        pl.col(c).mean().over(\"sceneID\").alias(f\"{c}_mean\"),\n",
    "        pl.col(c).std().over(\"sceneID\").alias(f\"{c}_std\"),\n",
    "        pl.col(c).max().over(\"sceneID\").alias(f\"{c}_max\"),\n",
    "        pl.col(c).min().over(\"sceneID\").alias(f\"{c}_min\"),\n",
    "    )\n",
    "    features.add_num_features([f\"{c}_mean\", f\"{c}_std\", f\"{c}_max\", f\"{c}_min\"])"
   ]
  },
  {
   "cell_type": "code",
   "execution_count": 11,
   "metadata": {},
   "outputs": [],
   "source": [
    "from const import CATEGORY_MAPPING\n",
    "\n",
    "for c in features.num_features():\n",
    "    train = train.with_columns(pl.col(c).cast(pl.Float32))\n",
    "\n",
    "for c in features.cat_features():\n",
    "    mapping = CATEGORY_MAPPING[c]\n",
    "    train = train.with_columns(pl.col(c).replace_strict(mapping).cast(pl.Int32))"
   ]
  },
  {
   "cell_type": "markdown",
   "metadata": {},
   "source": [
    "## CV Split\n"
   ]
  },
  {
   "cell_type": "code",
   "execution_count": 12,
   "metadata": {},
   "outputs": [],
   "source": [
    "train_folds = pl.read_csv(CFG[\"dataset\"][\"train_fold_path\"])\n",
    "train = train.join(train_folds, on=\"sceneID\", how=\"left\")\n",
    "assert train[\"fold\"].null_count() == 0"
   ]
  },
  {
   "cell_type": "markdown",
   "metadata": {},
   "source": [
    "## Training\n"
   ]
  },
  {
   "cell_type": "code",
   "execution_count": 13,
   "metadata": {},
   "outputs": [
    {
     "name": "stdout",
     "output_type": "stream",
     "text": [
      "== fold 0 ==\n",
      "[0]\tvalidation_0-mae:5.29805\n",
      "[500]\tvalidation_0-mae:0.25054\n",
      "[1000]\tvalidation_0-mae:0.24329\n",
      "[1500]\tvalidation_0-mae:0.24077\n",
      "[2000]\tvalidation_0-mae:0.23890\n",
      "[2500]\tvalidation_0-mae:0.23773\n",
      "[3000]\tvalidation_0-mae:0.23709\n",
      "[3500]\tvalidation_0-mae:0.23650\n",
      "[4000]\tvalidation_0-mae:0.23577\n",
      "[4500]\tvalidation_0-mae:0.23531\n",
      "[5000]\tvalidation_0-mae:0.23491\n",
      "[5500]\tvalidation_0-mae:0.23460\n",
      "[6000]\tvalidation_0-mae:0.23437\n",
      "[6500]\tvalidation_0-mae:0.23422\n",
      "[7000]\tvalidation_0-mae:0.23402\n",
      "[7500]\tvalidation_0-mae:0.23385\n",
      "[8000]\tvalidation_0-mae:0.23377\n",
      "[8500]\tvalidation_0-mae:0.23370\n",
      "[9000]\tvalidation_0-mae:0.23364\n",
      "[9500]\tvalidation_0-mae:0.23358\n",
      "[10000]\tvalidation_0-mae:0.23352\n",
      "[10500]\tvalidation_0-mae:0.23348\n",
      "[11000]\tvalidation_0-mae:0.23343\n",
      "[11500]\tvalidation_0-mae:0.23337\n",
      "[12000]\tvalidation_0-mae:0.23331\n",
      "[12500]\tvalidation_0-mae:0.23325\n",
      "[13000]\tvalidation_0-mae:0.23323\n",
      "[13500]\tvalidation_0-mae:0.23320\n",
      "[14000]\tvalidation_0-mae:0.23316\n",
      "[14500]\tvalidation_0-mae:0.23315\n",
      "[15000]\tvalidation_0-mae:0.23313\n",
      "[15500]\tvalidation_0-mae:0.23311\n",
      "[16000]\tvalidation_0-mae:0.23307\n",
      "[16500]\tvalidation_0-mae:0.23305\n",
      "[16958]\tvalidation_0-mae:0.23301\n",
      "== fold 1 ==\n",
      "[0]\tvalidation_0-mae:5.19924\n",
      "[500]\tvalidation_0-mae:0.25645\n",
      "[1000]\tvalidation_0-mae:0.24956\n",
      "[1500]\tvalidation_0-mae:0.24632\n",
      "[2000]\tvalidation_0-mae:0.24390\n",
      "[2500]\tvalidation_0-mae:0.24198\n",
      "[3000]\tvalidation_0-mae:0.24096\n",
      "[3500]\tvalidation_0-mae:0.24005\n",
      "[4000]\tvalidation_0-mae:0.23965\n",
      "[4500]\tvalidation_0-mae:0.23906\n",
      "[5000]\tvalidation_0-mae:0.23864\n",
      "[5500]\tvalidation_0-mae:0.23822\n",
      "[6000]\tvalidation_0-mae:0.23789\n",
      "[6500]\tvalidation_0-mae:0.23771\n",
      "[7000]\tvalidation_0-mae:0.23754\n",
      "[7500]\tvalidation_0-mae:0.23749\n",
      "[8000]\tvalidation_0-mae:0.23743\n",
      "[8500]\tvalidation_0-mae:0.23735\n",
      "[9000]\tvalidation_0-mae:0.23729\n",
      "[9500]\tvalidation_0-mae:0.23719\n",
      "[10000]\tvalidation_0-mae:0.23710\n",
      "[10500]\tvalidation_0-mae:0.23706\n",
      "[10819]\tvalidation_0-mae:0.23706\n",
      "== fold 2 ==\n",
      "[0]\tvalidation_0-mae:5.29711\n",
      "[500]\tvalidation_0-mae:0.25659\n",
      "[1000]\tvalidation_0-mae:0.24919\n",
      "[1500]\tvalidation_0-mae:0.24627\n",
      "[2000]\tvalidation_0-mae:0.24419\n",
      "[2500]\tvalidation_0-mae:0.24284\n",
      "[3000]\tvalidation_0-mae:0.24206\n",
      "[3500]\tvalidation_0-mae:0.24153\n",
      "[4000]\tvalidation_0-mae:0.24114\n",
      "[4500]\tvalidation_0-mae:0.24056\n",
      "[5000]\tvalidation_0-mae:0.24030\n",
      "[5500]\tvalidation_0-mae:0.24000\n",
      "[6000]\tvalidation_0-mae:0.23977\n",
      "[6500]\tvalidation_0-mae:0.23953\n",
      "[7000]\tvalidation_0-mae:0.23937\n",
      "[7500]\tvalidation_0-mae:0.23925\n",
      "[8000]\tvalidation_0-mae:0.23914\n",
      "[8500]\tvalidation_0-mae:0.23899\n",
      "[9000]\tvalidation_0-mae:0.23891\n",
      "[9500]\tvalidation_0-mae:0.23886\n",
      "[10000]\tvalidation_0-mae:0.23881\n",
      "[10500]\tvalidation_0-mae:0.23878\n",
      "[11000]\tvalidation_0-mae:0.23872\n",
      "[11500]\tvalidation_0-mae:0.23868\n",
      "[12000]\tvalidation_0-mae:0.23864\n",
      "[12278]\tvalidation_0-mae:0.23863\n",
      "== fold 3 ==\n",
      "[0]\tvalidation_0-mae:5.32860\n",
      "[500]\tvalidation_0-mae:0.25381\n",
      "[1000]\tvalidation_0-mae:0.24662\n",
      "[1500]\tvalidation_0-mae:0.24328\n",
      "[2000]\tvalidation_0-mae:0.24136\n",
      "[2500]\tvalidation_0-mae:0.24004\n",
      "[3000]\tvalidation_0-mae:0.23907\n",
      "[3500]\tvalidation_0-mae:0.23843\n",
      "[4000]\tvalidation_0-mae:0.23779\n",
      "[4500]\tvalidation_0-mae:0.23743\n",
      "[5000]\tvalidation_0-mae:0.23722\n",
      "[5500]\tvalidation_0-mae:0.23705\n",
      "[6000]\tvalidation_0-mae:0.23680\n",
      "[6500]\tvalidation_0-mae:0.23666\n",
      "[7000]\tvalidation_0-mae:0.23654\n",
      "[7500]\tvalidation_0-mae:0.23646\n",
      "[8000]\tvalidation_0-mae:0.23640\n",
      "[8500]\tvalidation_0-mae:0.23631\n",
      "[8769]\tvalidation_0-mae:0.23631\n",
      "== fold 4 ==\n",
      "[0]\tvalidation_0-mae:5.17157\n",
      "[500]\tvalidation_0-mae:0.25939\n",
      "[1000]\tvalidation_0-mae:0.25076\n",
      "[1500]\tvalidation_0-mae:0.24830\n",
      "[2000]\tvalidation_0-mae:0.24678\n",
      "[2500]\tvalidation_0-mae:0.24559\n",
      "[3000]\tvalidation_0-mae:0.24433\n",
      "[3500]\tvalidation_0-mae:0.24357\n",
      "[4000]\tvalidation_0-mae:0.24288\n",
      "[4500]\tvalidation_0-mae:0.24246\n",
      "[5000]\tvalidation_0-mae:0.24208\n",
      "[5500]\tvalidation_0-mae:0.24177\n",
      "[6000]\tvalidation_0-mae:0.24153\n",
      "[6500]\tvalidation_0-mae:0.24137\n",
      "[7000]\tvalidation_0-mae:0.24118\n",
      "[7500]\tvalidation_0-mae:0.24099\n",
      "[8000]\tvalidation_0-mae:0.24089\n",
      "[8500]\tvalidation_0-mae:0.24076\n",
      "[9000]\tvalidation_0-mae:0.24065\n",
      "[9500]\tvalidation_0-mae:0.24058\n",
      "[10000]\tvalidation_0-mae:0.24053\n",
      "[10500]\tvalidation_0-mae:0.24048\n",
      "[11000]\tvalidation_0-mae:0.24041\n",
      "[11500]\tvalidation_0-mae:0.24039\n",
      "[11836]\tvalidation_0-mae:0.24038\n"
     ]
    }
   ],
   "source": [
    "from penguinml.gbdt.xgboost import fit_xgb, inference_xgb\n",
    "\n",
    "oof, models = fit_xgb(\n",
    "    data=train,\n",
    "    features=features,\n",
    "    params=CFG[MODEL_NAME][\"params\"],\n",
    "    target_col=\"target\",\n",
    "    fold_col=\"fold\",\n",
    "    target_type=\"regression\",\n",
    "    verbose=500,\n",
    ")"
   ]
  },
  {
   "cell_type": "code",
   "execution_count": 14,
   "metadata": {},
   "outputs": [
    {
     "name": "stdout",
     "output_type": "stream",
     "text": [
      "MAE: 0.23707555571615227\n"
     ]
    }
   ],
   "source": [
    "train = train.with_columns(pl.Series(\"oof\", oof))\n",
    "mae = np.abs(train[\"oof\"] - train[\"target\"]).mean()\n",
    "print(f\"MAE: {mae}\")"
   ]
  },
  {
   "cell_type": "code",
   "execution_count": 15,
   "metadata": {},
   "outputs": [
    {
     "data": {
      "text/html": [
       "<div><style>\n",
       ".dataframe > thead > tr,\n",
       ".dataframe > tbody > tr {\n",
       "  text-align: right;\n",
       "  white-space: pre-wrap;\n",
       "}\n",
       "</style>\n",
       "<small>shape: (5, 19)</small><table border=\"1\" class=\"dataframe\"><thead><tr><th>ID</th><th>oof_x_0</th><th>oof_y_0</th><th>oof_z_0</th><th>oof_x_1</th><th>oof_y_1</th><th>oof_z_1</th><th>oof_x_2</th><th>oof_y_2</th><th>oof_z_2</th><th>oof_x_3</th><th>oof_y_3</th><th>oof_z_3</th><th>oof_x_4</th><th>oof_y_4</th><th>oof_z_4</th><th>oof_x_5</th><th>oof_y_5</th><th>oof_z_5</th></tr><tr><td>str</td><td>f32</td><td>f32</td><td>f32</td><td>f32</td><td>f32</td><td>f32</td><td>f32</td><td>f32</td><td>f32</td><td>f32</td><td>f32</td><td>f32</td><td>f32</td><td>f32</td><td>f32</td><td>f32</td><td>f32</td><td>f32</td></tr></thead><tbody><tr><td>&quot;00066be8e20318869c38c66be46663…</td><td>2.629818</td><td>0.00391</td><td>0.014268</td><td>5.769853</td><td>-0.040307</td><td>0.017609</td><td>9.291448</td><td>-0.140645</td><td>0.039321</td><td>13.017403</td><td>-0.165806</td><td>0.049215</td><td>16.937052</td><td>-0.202277</td><td>0.091763</td><td>20.794102</td><td>-0.298268</td><td>0.128603</td></tr><tr><td>&quot;00066be8e20318869c38c66be46663…</td><td>5.031529</td><td>-0.073858</td><td>0.019491</td><td>10.603745</td><td>-0.238442</td><td>0.018904</td><td>15.872522</td><td>-0.367398</td><td>0.024375</td><td>21.677544</td><td>-0.560382</td><td>0.02076</td><td>26.8946</td><td>-0.806922</td><td>0.063741</td><td>32.03125</td><td>-0.960939</td><td>0.09352</td></tr><tr><td>&quot;00066be8e20318869c38c66be46663…</td><td>4.796274</td><td>-0.008723</td><td>0.026489</td><td>10.030948</td><td>-0.058837</td><td>0.04866</td><td>15.43257</td><td>-0.144578</td><td>0.058833</td><td>20.783661</td><td>-0.23935</td><td>0.057182</td><td>26.314169</td><td>-0.331765</td><td>0.06442</td><td>31.80677</td><td>-0.426424</td><td>0.095997</td></tr><tr><td>&quot;000fb056f97572d384bae4f5fc1e0f…</td><td>2.708894</td><td>0.029134</td><td>0.0055</td><td>5.805068</td><td>0.144264</td><td>-0.006714</td><td>9.004313</td><td>0.372519</td><td>-0.005917</td><td>11.702635</td><td>0.655839</td><td>-0.013225</td><td>14.3967</td><td>1.001634</td><td>-0.015201</td><td>17.565283</td><td>1.022196</td><td>-0.016178</td></tr><tr><td>&quot;000fb056f97572d384bae4f5fc1e0f…</td><td>1.606922</td><td>-0.037045</td><td>0.001964</td><td>3.789706</td><td>-0.146485</td><td>0.016492</td><td>6.474997</td><td>-0.334222</td><td>0.044143</td><td>8.945249</td><td>-0.595784</td><td>0.07528</td><td>12.289054</td><td>-0.672116</td><td>0.068596</td><td>14.583475</td><td>-0.887518</td><td>0.098138</td></tr></tbody></table></div>"
      ],
      "text/plain": [
       "shape: (5, 19)\n",
       "┌────────────┬──────────┬───────────┬──────────┬───┬───────────┬───────────┬───────────┬───────────┐\n",
       "│ ID         ┆ oof_x_0  ┆ oof_y_0   ┆ oof_z_0  ┆ … ┆ oof_z_4   ┆ oof_x_5   ┆ oof_y_5   ┆ oof_z_5   │\n",
       "│ ---        ┆ ---      ┆ ---       ┆ ---      ┆   ┆ ---       ┆ ---       ┆ ---       ┆ ---       │\n",
       "│ str        ┆ f32      ┆ f32       ┆ f32      ┆   ┆ f32       ┆ f32       ┆ f32       ┆ f32       │\n",
       "╞════════════╪══════════╪═══════════╪══════════╪═══╪═══════════╪═══════════╪═══════════╪═══════════╡\n",
       "│ 00066be8e2 ┆ 2.629818 ┆ 0.00391   ┆ 0.014268 ┆ … ┆ 0.091763  ┆ 20.794102 ┆ -0.298268 ┆ 0.128603  │\n",
       "│ 0318869c38 ┆          ┆           ┆          ┆   ┆           ┆           ┆           ┆           │\n",
       "│ c66be46663 ┆          ┆           ┆          ┆   ┆           ┆           ┆           ┆           │\n",
       "│ …          ┆          ┆           ┆          ┆   ┆           ┆           ┆           ┆           │\n",
       "│ 00066be8e2 ┆ 5.031529 ┆ -0.073858 ┆ 0.019491 ┆ … ┆ 0.063741  ┆ 32.03125  ┆ -0.960939 ┆ 0.09352   │\n",
       "│ 0318869c38 ┆          ┆           ┆          ┆   ┆           ┆           ┆           ┆           │\n",
       "│ c66be46663 ┆          ┆           ┆          ┆   ┆           ┆           ┆           ┆           │\n",
       "│ …          ┆          ┆           ┆          ┆   ┆           ┆           ┆           ┆           │\n",
       "│ 00066be8e2 ┆ 4.796274 ┆ -0.008723 ┆ 0.026489 ┆ … ┆ 0.06442   ┆ 31.80677  ┆ -0.426424 ┆ 0.095997  │\n",
       "│ 0318869c38 ┆          ┆           ┆          ┆   ┆           ┆           ┆           ┆           │\n",
       "│ c66be46663 ┆          ┆           ┆          ┆   ┆           ┆           ┆           ┆           │\n",
       "│ …          ┆          ┆           ┆          ┆   ┆           ┆           ┆           ┆           │\n",
       "│ 000fb056f9 ┆ 2.708894 ┆ 0.029134  ┆ 0.0055   ┆ … ┆ -0.015201 ┆ 17.565283 ┆ 1.022196  ┆ -0.016178 │\n",
       "│ 7572d384ba ┆          ┆           ┆          ┆   ┆           ┆           ┆           ┆           │\n",
       "│ e4f5fc1e0f ┆          ┆           ┆          ┆   ┆           ┆           ┆           ┆           │\n",
       "│ …          ┆          ┆           ┆          ┆   ┆           ┆           ┆           ┆           │\n",
       "│ 000fb056f9 ┆ 1.606922 ┆ -0.037045 ┆ 0.001964 ┆ … ┆ 0.068596  ┆ 14.583475 ┆ -0.887518 ┆ 0.098138  │\n",
       "│ 7572d384ba ┆          ┆           ┆          ┆   ┆           ┆           ┆           ┆           │\n",
       "│ e4f5fc1e0f ┆          ┆           ┆          ┆   ┆           ┆           ┆           ┆           │\n",
       "│ …          ┆          ┆           ┆          ┆   ┆           ┆           ┆           ┆           │\n",
       "└────────────┴──────────┴───────────┴──────────┴───┴───────────┴───────────┴───────────┴───────────┘"
      ]
     },
     "execution_count": 15,
     "metadata": {},
     "output_type": "execute_result"
    }
   ],
   "source": [
    "rev_dict = {v: \"oof_\" + k for k, v in CATEGORY_MAPPING[\"target_name\"].items()}\n",
    "oof_df = (\n",
    "    train.select([\"ID\", \"target_name\", \"oof\"])\n",
    "    .with_columns(pl.col(\"target_name\").replace_strict(rev_dict))\n",
    "    .pivot(index=\"ID\", columns=\"target_name\", values=\"oof\")\n",
    ")\n",
    "oof_df.head()"
   ]
  },
  {
   "cell_type": "code",
   "execution_count": 16,
   "metadata": {},
   "outputs": [],
   "source": [
    "oof_df.write_csv(os.path.join(CFG[\"output_dir\"], \"oof.csv\"))"
   ]
  },
  {
   "cell_type": "code",
   "execution_count": null,
   "metadata": {},
   "outputs": [],
   "source": []
  }
 ],
 "metadata": {
  "kernelspec": {
   "display_name": "base",
   "language": "python",
   "name": "python3"
  },
  "language_info": {
   "codemirror_mode": {
    "name": "ipython",
    "version": 3
   },
   "file_extension": ".py",
   "mimetype": "text/x-python",
   "name": "python",
   "nbconvert_exporter": "python",
   "pygments_lexer": "ipython3",
   "version": "3.10.14"
  }
 },
 "nbformat": 4,
 "nbformat_minor": 2
}
