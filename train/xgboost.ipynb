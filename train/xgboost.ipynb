{
 "cells": [
  {
   "cell_type": "code",
   "execution_count": 1,
   "metadata": {},
   "outputs": [
    {
     "name": "stdout",
     "output_type": "stream",
     "text": [
      "rm: cannot remove '/kaggle/working/*': No such file or directory\n",
      "/kaggle/working\n"
     ]
    }
   ],
   "source": [
    "!rm -r /kaggle/working/*\n",
    "%cd /kaggle/working"
   ]
  },
  {
   "cell_type": "code",
   "execution_count": 2,
   "metadata": {},
   "outputs": [],
   "source": [
    "import os\n",
    "import sys\n",
    "\n",
    "PACKAGE_DIR = \"/kaggle/src\"\n",
    "sys.path.append(PACKAGE_DIR)\n",
    "sys.path.append(os.path.join(PACKAGE_DIR, \"Penguin-ML-Library\"))"
   ]
  },
  {
   "cell_type": "code",
   "execution_count": 3,
   "metadata": {},
   "outputs": [
    {
     "name": "stderr",
     "output_type": "stream",
     "text": [
      "2024-11-16 09:27:04.641922: I tensorflow/core/util/port.cc:113] oneDNN custom operations are on. You may see slightly different numerical results due to floating-point round-off errors from different computation orders. To turn them off, set the environment variable `TF_ENABLE_ONEDNN_OPTS=0`.\n",
      "2024-11-16 09:27:04.670105: I tensorflow/core/platform/cpu_feature_guard.cc:210] This TensorFlow binary is optimized to use available CPU instructions in performance-critical operations.\n",
      "To enable the following instructions: AVX2 AVX_VNNI FMA, in other operations, rebuild TensorFlow with the appropriate compiler flags.\n"
     ]
    },
    {
     "name": "stdout",
     "output_type": "stream",
     "text": [
      "exp_005\n"
     ]
    },
    {
     "name": "stderr",
     "output_type": "stream",
     "text": [
      "/opt/conda/lib/python3.10/pty.py:89: RuntimeWarning: os.fork() was called. os.fork() is incompatible with multithreaded code, and JAX is multithreaded, so this will likely lead to a deadlock.\n",
      "  pid, fd = os.forkpty()\n",
      "set seed: 46\n"
     ]
    }
   ],
   "source": [
    "import yaml\n",
    "from penguinml.utils.logger import get_logger, init_logger\n",
    "from penguinml.utils.set_seed import seed_base\n",
    "\n",
    "MODEL_NAME = \"xgboost\"\n",
    "CFG = yaml.safe_load(open(os.path.join(PACKAGE_DIR, \"config.yaml\"), \"r\"))\n",
    "print(CFG[MODEL_NAME][\"execution\"][\"exp_id\"])\n",
    "CFG[\"output_dir\"] = f\"/kaggle/output/{CFG[MODEL_NAME]['execution']['exp_id']}\"\n",
    "!rm -r {CFG[\"output_dir\"]}\n",
    "os.makedirs(CFG[\"output_dir\"], exist_ok=True)\n",
    "\n",
    "init_logger(f\"{ CFG[MODEL_NAME]['execution']['exp_id']}.log\")\n",
    "logger = get_logger(\"main\")\n",
    "seed_base(CFG[MODEL_NAME][\"execution\"][\"seed\"])"
   ]
  },
  {
   "cell_type": "code",
   "execution_count": 4,
   "metadata": {},
   "outputs": [],
   "source": [
    "import warnings\n",
    "\n",
    "import numpy as np\n",
    "import polars as pl\n",
    "\n",
    "warnings.filterwarnings(\"ignore\")"
   ]
  },
  {
   "cell_type": "code",
   "execution_count": 5,
   "metadata": {},
   "outputs": [
    {
     "name": "stdout",
     "output_type": "stream",
     "text": [
      "(43371, 32)\n"
     ]
    },
    {
     "data": {
      "text/html": [
       "<div><style>\n",
       ".dataframe > thead > tr,\n",
       ".dataframe > tbody > tr {\n",
       "  text-align: right;\n",
       "  white-space: pre-wrap;\n",
       "}\n",
       "</style>\n",
       "<small>shape: (1, 32)</small><table border=\"1\" class=\"dataframe\"><thead><tr><th>ID</th><th>vEgo</th><th>aEgo</th><th>steeringAngleDeg</th><th>steeringTorque</th><th>brake</th><th>brakePressed</th><th>gas</th><th>gasPressed</th><th>gearShifter</th><th>leftBlinker</th><th>rightBlinker</th><th>x_0</th><th>y_0</th><th>z_0</th><th>x_1</th><th>y_1</th><th>z_1</th><th>x_2</th><th>y_2</th><th>z_2</th><th>x_3</th><th>y_3</th><th>z_3</th><th>x_4</th><th>y_4</th><th>z_4</th><th>x_5</th><th>y_5</th><th>z_5</th><th>sceneID</th><th>offset</th></tr><tr><td>str</td><td>f64</td><td>f64</td><td>f64</td><td>f64</td><td>f64</td><td>bool</td><td>f64</td><td>bool</td><td>str</td><td>bool</td><td>bool</td><td>f64</td><td>f64</td><td>f64</td><td>f64</td><td>f64</td><td>f64</td><td>f64</td><td>f64</td><td>f64</td><td>f64</td><td>f64</td><td>f64</td><td>f64</td><td>f64</td><td>f64</td><td>f64</td><td>f64</td><td>f64</td><td>str</td><td>f32</td></tr></thead><tbody><tr><td>&quot;00066be8e20318869c38c66be46663…</td><td>5.701526</td><td>1.538456</td><td>-2.165777</td><td>-139.0</td><td>0.0</td><td>false</td><td>0.25</td><td>true</td><td>&quot;drive&quot;</td><td>false</td><td>false</td><td>2.82959</td><td>0.032226</td><td>0.045187</td><td>6.231999</td><td>0.065895</td><td>0.107974</td><td>9.785009</td><td>0.124972</td><td>0.203649</td><td>13.485472</td><td>0.163448</td><td>0.302818</td><td>17.574227</td><td>0.174289</td><td>0.406331</td><td>21.951269</td><td>0.199503</td><td>0.485079</td><td>&quot;00066be8e20318869c38c66be46663…</td><td>320.0</td></tr></tbody></table></div>"
      ],
      "text/plain": [
       "shape: (1, 32)\n",
       "┌─────────────┬──────────┬──────────┬─────────────┬───┬──────────┬──────────┬─────────────┬────────┐\n",
       "│ ID          ┆ vEgo     ┆ aEgo     ┆ steeringAng ┆ … ┆ y_5      ┆ z_5      ┆ sceneID     ┆ offset │\n",
       "│ ---         ┆ ---      ┆ ---      ┆ leDeg       ┆   ┆ ---      ┆ ---      ┆ ---         ┆ ---    │\n",
       "│ str         ┆ f64      ┆ f64      ┆ ---         ┆   ┆ f64      ┆ f64      ┆ str         ┆ f32    │\n",
       "│             ┆          ┆          ┆ f64         ┆   ┆          ┆          ┆             ┆        │\n",
       "╞═════════════╪══════════╪══════════╪═════════════╪═══╪══════════╪══════════╪═════════════╪════════╡\n",
       "│ 00066be8e20 ┆ 5.701526 ┆ 1.538456 ┆ -2.165777   ┆ … ┆ 0.199503 ┆ 0.485079 ┆ 00066be8e20 ┆ 320.0  │\n",
       "│ 318869c38c6 ┆          ┆          ┆             ┆   ┆          ┆          ┆ 318869c38c6 ┆        │\n",
       "│ 6be46663…   ┆          ┆          ┆             ┆   ┆          ┆          ┆ 6be46663…   ┆        │\n",
       "└─────────────┴──────────┴──────────┴─────────────┴───┴──────────┴──────────┴─────────────┴────────┘"
      ]
     },
     "execution_count": 5,
     "metadata": {},
     "output_type": "execute_result"
    }
   ],
   "source": [
    "train = pl.read_csv(os.path.join(CFG[\"dataset\"][\"competition_dir\"], \"train_features.csv\"))\n",
    "train = (\n",
    "    train.with_columns(\n",
    "        pl.col(\"ID\").str.split_exact(\"_\", n=1).struct.rename_fields([\"sceneID\", \"offset\"]).alias(\"fields\")\n",
    "    )\n",
    "    .unnest(\"fields\")\n",
    "    .with_columns(pl.col(\"offset\").cast(pl.Float32))\n",
    ")\n",
    "print(train.shape)\n",
    "train.head(1)"
   ]
  },
  {
   "cell_type": "markdown",
   "metadata": {},
   "source": [
    "## 特徴量生成\n"
   ]
  },
  {
   "cell_type": "code",
   "execution_count": 6,
   "metadata": {},
   "outputs": [],
   "source": [
    "from penguinml.utils.contena import FeatureContena\n",
    "\n",
    "features = FeatureContena()\n",
    "basic_features = [\n",
    "    \"vEgo\",\n",
    "    \"aEgo\",\n",
    "    \"steeringAngleDeg\",\n",
    "    \"steeringTorque\",\n",
    "    \"brake\",\n",
    "    \"brakePressed\",\n",
    "    \"gas\",\n",
    "    \"gasPressed\",\n",
    "    \"leftBlinker\",\n",
    "    \"rightBlinker\",\n",
    "    \"offset\",\n",
    "]\n",
    "for c in basic_features:\n",
    "    train = train.with_columns(pl.col(c).cast(pl.Float32))\n",
    "features.add_num_features(basic_features)\n",
    "features.add_cat_features([\"gearShifter\"])"
   ]
  },
  {
   "cell_type": "code",
   "execution_count": null,
   "metadata": {},
   "outputs": [],
   "source": [
    "# 前後のフレームとのラグ特徴量\n",
    "train = train.sort([\"sceneID\", \"offset\"])\n",
    "for c in basic_features:\n",
    "    for diff in [-1, 1]:\n",
    "        train = train.with_columns(\n",
    "            pl.col(c).diff(n=diff).over(\"sceneID\").alias(f\"{c}_diff_{diff}\"),\n",
    "            pl.col(c).diff(n=diff).over(\"sceneID\").alias(f\"{c}_shift_{diff}\"),\n",
    "        )\n",
    "        features.add_num_features([f\"{c}_diff_{diff}\", f\"{c}_shift_{diff}\"])"
   ]
  },
  {
   "cell_type": "code",
   "execution_count": 8,
   "metadata": {},
   "outputs": [],
   "source": [
    "# train = train.with_columns(\n",
    "#     (pl.col(\"vEgo\") / pl.col(\"aEgo\")).alias(\"vEgo/aEgo\"),\n",
    "# )\n",
    "# features.add_num_features([\"vEgo/aEgo\"])"
   ]
  },
  {
   "cell_type": "markdown",
   "metadata": {},
   "source": [
    "## ターゲット列を分解\n"
   ]
  },
  {
   "cell_type": "code",
   "execution_count": 9,
   "metadata": {},
   "outputs": [
    {
     "data": {
      "text/html": [
       "<div><style>\n",
       ".dataframe > thead > tr,\n",
       ".dataframe > tbody > tr {\n",
       "  text-align: right;\n",
       "  white-space: pre-wrap;\n",
       "}\n",
       "</style>\n",
       "<small>shape: (1, 63)</small><table border=\"1\" class=\"dataframe\"><thead><tr><th>ID</th><th>target_name</th><th>target</th><th>vEgo</th><th>aEgo</th><th>steeringAngleDeg</th><th>steeringTorque</th><th>brake</th><th>brakePressed</th><th>gas</th><th>gasPressed</th><th>gearShifter</th><th>leftBlinker</th><th>rightBlinker</th><th>sceneID</th><th>offset</th><th>vEgo_diff_-1</th><th>vEgo_shift_-1</th><th>vEgo_diff_1</th><th>vEgo_shift_1</th><th>aEgo_diff_-1</th><th>aEgo_shift_-1</th><th>aEgo_diff_1</th><th>aEgo_shift_1</th><th>steeringAngleDeg_diff_-1</th><th>steeringAngleDeg_shift_-1</th><th>steeringAngleDeg_diff_1</th><th>steeringAngleDeg_shift_1</th><th>steeringTorque_diff_-1</th><th>steeringTorque_shift_-1</th><th>steeringTorque_diff_1</th><th>steeringTorque_shift_1</th><th>brake_diff_-1</th><th>brake_shift_-1</th><th>brake_diff_1</th><th>brake_shift_1</th><th>brakePressed_diff_-1</th><th>brakePressed_shift_-1</th><th>brakePressed_diff_1</th><th>brakePressed_shift_1</th><th>gas_diff_-1</th><th>gas_shift_-1</th><th>gas_diff_1</th><th>gas_shift_1</th><th>gasPressed_diff_-1</th><th>gasPressed_shift_-1</th><th>gasPressed_diff_1</th><th>gasPressed_shift_1</th><th>leftBlinker_diff_-1</th><th>leftBlinker_shift_-1</th><th>leftBlinker_diff_1</th><th>leftBlinker_shift_1</th><th>rightBlinker_diff_-1</th><th>rightBlinker_shift_-1</th><th>rightBlinker_diff_1</th><th>rightBlinker_shift_1</th><th>offset_diff_-1</th><th>offset_shift_-1</th><th>offset_diff_1</th><th>offset_shift_1</th><th>dt</th><th>xyz</th><th>target_name_original</th></tr><tr><td>str</td><td>str</td><td>f64</td><td>f32</td><td>f32</td><td>f32</td><td>f32</td><td>f32</td><td>f32</td><td>f32</td><td>f32</td><td>str</td><td>f32</td><td>f32</td><td>str</td><td>f32</td><td>f32</td><td>f32</td><td>f32</td><td>f32</td><td>f32</td><td>f32</td><td>f32</td><td>f32</td><td>f32</td><td>f32</td><td>f32</td><td>f32</td><td>f32</td><td>f32</td><td>f32</td><td>f32</td><td>f32</td><td>f32</td><td>f32</td><td>f32</td><td>f32</td><td>f32</td><td>f32</td><td>f32</td><td>f32</td><td>f32</td><td>f32</td><td>f32</td><td>f32</td><td>f32</td><td>f32</td><td>f32</td><td>f32</td><td>f32</td><td>f32</td><td>f32</td><td>f32</td><td>f32</td><td>f32</td><td>f32</td><td>f32</td><td>f32</td><td>f32</td><td>f32</td><td>f32</td><td>str</td><td>str</td></tr></thead><tbody><tr><td>&quot;00066be8e20318869c38c66be46663…</td><td>&quot;x_0&quot;</td><td>2.82959</td><td>5.701526</td><td>1.538456</td><td>-2.165777</td><td>-139.0</td><td>0.0</td><td>0.0</td><td>0.25</td><td>1.0</td><td>&quot;drive&quot;</td><td>0.0</td><td>0.0</td><td>&quot;00066be8e20318869c38c66be46663…</td><td>320.0</td><td>-5.474767</td><td>-5.474767</td><td>null</td><td>null</td><td>1.258575</td><td>1.258575</td><td>null</td><td>null</td><td>9.45992</td><td>9.45992</td><td>null</td><td>null</td><td>-95.0</td><td>-95.0</td><td>null</td><td>null</td><td>0.0</td><td>0.0</td><td>null</td><td>null</td><td>0.0</td><td>0.0</td><td>null</td><td>null</td><td>0.25</td><td>0.25</td><td>null</td><td>null</td><td>1.0</td><td>1.0</td><td>null</td><td>null</td><td>0.0</td><td>0.0</td><td>null</td><td>null</td><td>-1.0</td><td>-1.0</td><td>null</td><td>null</td><td>-100.0</td><td>-100.0</td><td>null</td><td>null</td><td>0.5</td><td>&quot;x&quot;</td><td>&quot;x_0&quot;</td></tr></tbody></table></div>"
      ],
      "text/plain": [
       "shape: (1, 63)\n",
       "┌───────────────┬─────────────┬─────────┬──────────┬───┬───────────────┬─────┬─────┬───────────────┐\n",
       "│ ID            ┆ target_name ┆ target  ┆ vEgo     ┆ … ┆ offset_shift_ ┆ dt  ┆ xyz ┆ target_name_o │\n",
       "│ ---           ┆ ---         ┆ ---     ┆ ---      ┆   ┆ 1             ┆ --- ┆ --- ┆ riginal       │\n",
       "│ str           ┆ str         ┆ f64     ┆ f32      ┆   ┆ ---           ┆ f32 ┆ str ┆ ---           │\n",
       "│               ┆             ┆         ┆          ┆   ┆ f32           ┆     ┆     ┆ str           │\n",
       "╞═══════════════╪═════════════╪═════════╪══════════╪═══╪═══════════════╪═════╪═════╪═══════════════╡\n",
       "│ 00066be8e2031 ┆ x_0         ┆ 2.82959 ┆ 5.701526 ┆ … ┆ null          ┆ 0.5 ┆ x   ┆ x_0           │\n",
       "│ 8869c38c66be4 ┆             ┆         ┆          ┆   ┆               ┆     ┆     ┆               │\n",
       "│ 6663…         ┆             ┆         ┆          ┆   ┆               ┆     ┆     ┆               │\n",
       "└───────────────┴─────────────┴─────────┴──────────┴───┴───────────────┴─────┴─────┴───────────────┘"
      ]
     },
     "execution_count": 9,
     "metadata": {},
     "output_type": "execute_result"
    }
   ],
   "source": [
    "from const import TARGET_COLS\n",
    "\n",
    "train = (\n",
    "    train.unpivot(index=\"ID\", on=TARGET_COLS, variable_name=\"target_name\", value_name=\"target\")\n",
    "    .join(\n",
    "        train.drop(TARGET_COLS),\n",
    "        on=\"ID\",\n",
    "        how=\"left\",\n",
    "    )\n",
    "    .with_columns(\n",
    "        (\n",
    "            pl.col(\"target_name\").map_elements(lambda x: float(x.split(\"_\")[1]), return_dtype=pl.Float32) * 0.5 + 0.5\n",
    "        ).alias(\"dt\"),\n",
    "        pl.col(\"target_name\").map_elements(lambda x: x.split(\"_\")[0], return_dtype=str).alias(\"xyz\"),\n",
    "    )\n",
    "    .with_columns(\n",
    "        pl.col(\"target_name\").alias(\"target_name_original\"),\n",
    "    )\n",
    ")\n",
    "features.add_cat_features([\"target_name\", \"xyz\"])\n",
    "train.head(1)"
   ]
  },
  {
   "cell_type": "code",
   "execution_count": 10,
   "metadata": {},
   "outputs": [],
   "source": [
    "# dt秒後の特徴\n",
    "train = train.with_columns(\n",
    "    # vt\n",
    "    (pl.col(\"vEgo\") * pl.col(\"dt\").cast(pl.Float32)).alias(\"linear_movement@dt\"),\n",
    "    # vt + 0.5at^2\n",
    "    ((pl.col(\"vEgo\") + 0.5 * pl.col(\"aEgo\") * pl.col(\"dt\").cast(pl.Float32) ** 2).alias(\"movement@dt\")),\n",
    "    # v + at\n",
    "    (pl.col(\"vEgo\") + pl.col(\"aEgo\") * pl.col(\"dt\").cast(pl.Float32)).alias(\"velocity@dt\"),\n",
    "    # # cos\n",
    "    # (pl.col(\"steeringAngleDeg\").map_elements(lambda x: np.cos(np.deg2rad(x)), return_dtype=pl.Float32)).alias(\"cos\"),\n",
    "    # # sin\n",
    "    # (pl.col(\"steeringAngleDeg\").map_elements(lambda x: np.sin(np.deg2rad(x)), return_dtype=pl.Float32)).alias(\"sin\"),\n",
    ").with_columns(\n",
    "    # (pl.col(\"movement@dt\") * pl.col(\"cos\")).alias(\"movement@dt*cos\"),\n",
    "    # (pl.col(\"movement@dt\") * pl.col(\"sin\")).alias(\"movement@dt*sin\"),\n",
    "    # (pl.col(\"linear_movement@dt\") * pl.col(\"cos\")).alias(\"linear_movement@dt*cos\"),\n",
    "    # (pl.col(\"linear_movement@dt\") * pl.col(\"sin\")).alias(\"linear_movement@dt*sin\"),\n",
    "    # (pl.col(\"velocity@dt\") * pl.col(\"cos\")).alias(\"velocity@dt*cos\"),\n",
    "    # (pl.col(\"velocity@dt\") * pl.col(\"sin\")).alias(\"velocity@dt*sin\"),\n",
    ")\n",
    "\n",
    "features.add_num_features(\n",
    "    [\n",
    "        \"linear_movement@dt\",\n",
    "        \"movement@dt\",\n",
    "        \"velocity@dt\",\n",
    "        # \"cos\",\n",
    "        # \"sin\",\n",
    "        # \"movement@dt*cos\",\n",
    "        # \"movement@dt*sin\",\n",
    "        # \"linear_movement@dt*cos\",\n",
    "        # \"linear_movement@dt*sin\",\n",
    "        # \"velocity@dt*cos\",\n",
    "        # \"velocity@dt*sin\",\n",
    "    ]\n",
    ")"
   ]
  },
  {
   "cell_type": "code",
   "execution_count": 11,
   "metadata": {},
   "outputs": [],
   "source": [
    "# シーン内の集約特徴量\n",
    "for c in features.num_features():\n",
    "    train = train.with_columns(\n",
    "        pl.col(c).mean().over(\"sceneID\").alias(f\"{c}_mean\"),\n",
    "        pl.col(c).std().over(\"sceneID\").alias(f\"{c}_std\"),\n",
    "        pl.col(c).max().over(\"sceneID\").alias(f\"{c}_max\"),\n",
    "        pl.col(c).min().over(\"sceneID\").alias(f\"{c}_min\"),\n",
    "    )\n",
    "    features.add_num_features([f\"{c}_mean\", f\"{c}_std\", f\"{c}_max\", f\"{c}_min\"])"
   ]
  },
  {
   "cell_type": "code",
   "execution_count": 12,
   "metadata": {},
   "outputs": [],
   "source": [
    "from const import CATEGORY_MAPPING\n",
    "\n",
    "for c in features.num_features():\n",
    "    train = train.with_columns(pl.col(c).cast(pl.Float32))\n",
    "\n",
    "for c in features.cat_features():\n",
    "    mapping = CATEGORY_MAPPING[c]\n",
    "    train = train.with_columns(pl.col(c).replace_strict(mapping).cast(pl.Int32))"
   ]
  },
  {
   "cell_type": "markdown",
   "metadata": {},
   "source": [
    "## CV Split\n"
   ]
  },
  {
   "cell_type": "code",
   "execution_count": 13,
   "metadata": {},
   "outputs": [],
   "source": [
    "train_folds = pl.read_csv(CFG[\"dataset\"][\"train_fold_path\"])\n",
    "train = train.join(train_folds, on=\"sceneID\", how=\"left\")\n",
    "assert train[\"fold\"].null_count() == 0"
   ]
  },
  {
   "cell_type": "markdown",
   "metadata": {},
   "source": [
    "## Training\n"
   ]
  },
  {
   "cell_type": "code",
   "execution_count": 14,
   "metadata": {},
   "outputs": [
    {
     "name": "stderr",
     "output_type": "stream",
     "text": [
      "  0%|          | 0/18 [00:00<?, ?it/s]"
     ]
    },
    {
     "name": "stdout",
     "output_type": "stream",
     "text": [
      "====================x_5====================\n",
      "== fold 0 ==\n",
      "[0]\tvalidation_0-mae:17.66778\n",
      "[1895]\tvalidation_0-mae:0.70401\n",
      "== fold 1 ==\n",
      "[0]\tvalidation_0-mae:17.69517\n",
      "[5535]\tvalidation_0-mae:0.73028\n",
      "== fold 2 ==\n",
      "[0]\tvalidation_0-mae:17.90453\n",
      "[2608]\tvalidation_0-mae:0.71290\n",
      "== fold 3 ==\n",
      "[0]\tvalidation_0-mae:17.77304\n",
      "[3810]\tvalidation_0-mae:0.70447\n",
      "== fold 4 ==\n",
      "[0]\tvalidation_0-mae:17.38742\n",
      "[2172]\tvalidation_0-mae:0.71601\n"
     ]
    },
    {
     "name": "stderr",
     "output_type": "stream",
     "text": [
      "  6%|▌         | 1/18 [01:42<29:05, 102.66s/it]"
     ]
    },
    {
     "name": "stdout",
     "output_type": "stream",
     "text": [
      "====================y_5====================\n",
      "== fold 0 ==\n",
      "[0]\tvalidation_0-mae:0.99735\n",
      "[2055]\tvalidation_0-mae:0.46758\n",
      "== fold 1 ==\n",
      "[0]\tvalidation_0-mae:1.07295\n",
      "[1731]\tvalidation_0-mae:0.48668\n",
      "== fold 2 ==\n",
      "[0]\tvalidation_0-mae:1.06187\n",
      "[1978]\tvalidation_0-mae:0.48810\n",
      "== fold 3 ==\n",
      "[0]\tvalidation_0-mae:1.00575\n",
      "[2095]\tvalidation_0-mae:0.48441\n",
      "== fold 4 ==\n",
      "[0]\tvalidation_0-mae:1.09593\n",
      "[2027]\tvalidation_0-mae:0.50476\n"
     ]
    },
    {
     "name": "stderr",
     "output_type": "stream",
     "text": [
      " 11%|█         | 2/18 [02:45<21:09, 79.35s/it] "
     ]
    },
    {
     "name": "stdout",
     "output_type": "stream",
     "text": [
      "====================z_5====================\n",
      "== fold 0 ==\n",
      "[0]\tvalidation_0-mae:0.18287\n",
      "[596]\tvalidation_0-mae:0.17701\n",
      "== fold 1 ==\n",
      "[0]\tvalidation_0-mae:0.18177\n",
      "[686]\tvalidation_0-mae:0.17385\n",
      "== fold 2 ==\n",
      "[0]\tvalidation_0-mae:0.18548\n",
      "[576]\tvalidation_0-mae:0.17827\n",
      "== fold 3 ==\n",
      "[0]\tvalidation_0-mae:0.18892\n",
      "[466]\tvalidation_0-mae:0.18261\n",
      "== fold 4 ==\n",
      "[0]\tvalidation_0-mae:0.18483\n",
      "[771]\tvalidation_0-mae:0.17858\n"
     ]
    },
    {
     "name": "stderr",
     "output_type": "stream",
     "text": [
      " 17%|█▋        | 3/18 [03:07<13:18, 53.23s/it]"
     ]
    },
    {
     "name": "stdout",
     "output_type": "stream",
     "text": [
      "====================x_4====================\n",
      "== fold 0 ==\n",
      "[0]\tvalidation_0-mae:14.67618\n",
      "[2323]\tvalidation_0-mae:0.52349\n",
      "== fold 1 ==\n",
      "[0]\tvalidation_0-mae:14.69742\n",
      "[1592]\tvalidation_0-mae:0.54280\n",
      "== fold 2 ==\n",
      "[0]\tvalidation_0-mae:14.86726\n",
      "[1239]\tvalidation_0-mae:0.53287\n",
      "== fold 3 ==\n",
      "[0]\tvalidation_0-mae:14.76400\n",
      "[3341]\tvalidation_0-mae:0.52501\n",
      "== fold 4 ==\n",
      "[0]\tvalidation_0-mae:14.43963\n",
      "[2350]\tvalidation_0-mae:0.53366\n"
     ]
    },
    {
     "name": "stderr",
     "output_type": "stream",
     "text": [
      " 22%|██▏       | 4/18 [04:20<14:11, 60.80s/it]"
     ]
    },
    {
     "name": "stdout",
     "output_type": "stream",
     "text": [
      "====================y_4====================\n",
      "== fold 0 ==\n",
      "[0]\tvalidation_0-mae:0.72769\n",
      "[1552]\tvalidation_0-mae:0.32610\n",
      "== fold 1 ==\n",
      "[0]\tvalidation_0-mae:0.77965\n",
      "[3120]\tvalidation_0-mae:0.33300\n",
      "== fold 2 ==\n",
      "[0]\tvalidation_0-mae:0.77476\n",
      "[1400]\tvalidation_0-mae:0.33933\n",
      "== fold 3 ==\n",
      "[0]\tvalidation_0-mae:0.72906\n",
      "[2408]\tvalidation_0-mae:0.33388\n",
      "== fold 4 ==\n",
      "[0]\tvalidation_0-mae:0.79535\n",
      "[1676]\tvalidation_0-mae:0.34648\n"
     ]
    },
    {
     "name": "stderr",
     "output_type": "stream",
     "text": [
      " 28%|██▊       | 5/18 [05:29<13:52, 64.01s/it]"
     ]
    },
    {
     "name": "stdout",
     "output_type": "stream",
     "text": [
      "====================z_4====================\n",
      "== fold 0 ==\n",
      "[0]\tvalidation_0-mae:0.14811\n",
      "[691]\tvalidation_0-mae:0.14367\n",
      "== fold 1 ==\n",
      "[0]\tvalidation_0-mae:0.14714\n",
      "[674]\tvalidation_0-mae:0.14117\n",
      "== fold 2 ==\n",
      "[0]\tvalidation_0-mae:0.15075\n",
      "[873]\tvalidation_0-mae:0.14517\n",
      "== fold 3 ==\n",
      "[0]\tvalidation_0-mae:0.15399\n",
      "[677]\tvalidation_0-mae:0.14911\n",
      "== fold 4 ==\n",
      "[0]\tvalidation_0-mae:0.15034\n",
      "[805]\tvalidation_0-mae:0.14519\n"
     ]
    },
    {
     "name": "stderr",
     "output_type": "stream",
     "text": [
      " 33%|███▎      | 6/18 [05:57<10:18, 51.56s/it]"
     ]
    },
    {
     "name": "stdout",
     "output_type": "stream",
     "text": [
      "====================x_3====================\n",
      "== fold 0 ==\n",
      "[0]\tvalidation_0-mae:11.68096\n",
      "[2559]\tvalidation_0-mae:0.36533\n",
      "== fold 1 ==\n",
      "[0]\tvalidation_0-mae:11.69995\n",
      "[2397]\tvalidation_0-mae:0.37446\n",
      "== fold 2 ==\n",
      "[0]\tvalidation_0-mae:11.83326\n",
      "[1981]\tvalidation_0-mae:0.36907\n",
      "== fold 3 ==\n",
      "[0]\tvalidation_0-mae:11.75288\n",
      "[3807]\tvalidation_0-mae:0.36548\n",
      "== fold 4 ==\n",
      "[0]\tvalidation_0-mae:11.49014\n",
      "[2062]\tvalidation_0-mae:0.37295\n"
     ]
    },
    {
     "name": "stderr",
     "output_type": "stream",
     "text": [
      " 39%|███▉      | 7/18 [07:20<11:20, 61.89s/it]"
     ]
    },
    {
     "name": "stdout",
     "output_type": "stream",
     "text": [
      "====================y_3====================\n",
      "== fold 0 ==\n",
      "[0]\tvalidation_0-mae:0.49661\n",
      "[2010]\tvalidation_0-mae:0.21205\n",
      "== fold 1 ==\n",
      "[0]\tvalidation_0-mae:0.52882\n",
      "[1683]\tvalidation_0-mae:0.21776\n",
      "== fold 2 ==\n",
      "[0]\tvalidation_0-mae:0.52847\n",
      "[1548]\tvalidation_0-mae:0.22016\n",
      "== fold 3 ==\n",
      "[0]\tvalidation_0-mae:0.49444\n",
      "[1473]\tvalidation_0-mae:0.21790\n",
      "== fold 4 ==\n",
      "[0]\tvalidation_0-mae:0.54011\n",
      "[1757]\tvalidation_0-mae:0.22390\n"
     ]
    },
    {
     "name": "stderr",
     "output_type": "stream",
     "text": [
      " 44%|████▍     | 8/18 [08:16<09:59, 59.96s/it]"
     ]
    },
    {
     "name": "stdout",
     "output_type": "stream",
     "text": [
      "====================z_3====================\n",
      "== fold 0 ==\n",
      "[0]\tvalidation_0-mae:0.11533\n",
      "[460]\tvalidation_0-mae:0.11209\n",
      "== fold 1 ==\n",
      "[0]\tvalidation_0-mae:0.11418\n",
      "[521]\tvalidation_0-mae:0.10985\n",
      "== fold 2 ==\n",
      "[0]\tvalidation_0-mae:0.11767\n",
      "[474]\tvalidation_0-mae:0.11366\n",
      "== fold 3 ==\n",
      "[0]\tvalidation_0-mae:0.12030\n",
      "[641]\tvalidation_0-mae:0.11651\n",
      "== fold 4 ==\n",
      "[0]\tvalidation_0-mae:0.11713\n",
      "[362]\tvalidation_0-mae:0.11371\n"
     ]
    },
    {
     "name": "stderr",
     "output_type": "stream",
     "text": [
      " 50%|█████     | 9/18 [08:35<07:03, 47.11s/it]"
     ]
    },
    {
     "name": "stdout",
     "output_type": "stream",
     "text": [
      "====================x_2====================\n",
      "== fold 0 ==\n",
      "[0]\tvalidation_0-mae:8.68598\n",
      "[1667]\tvalidation_0-mae:0.23298\n",
      "== fold 1 ==\n",
      "[0]\tvalidation_0-mae:8.70024\n",
      "[2581]\tvalidation_0-mae:0.23865\n",
      "== fold 2 ==\n",
      "[0]\tvalidation_0-mae:8.79932\n",
      "[3435]\tvalidation_0-mae:0.23523\n",
      "== fold 3 ==\n",
      "[0]\tvalidation_0-mae:8.74253\n",
      "[2187]\tvalidation_0-mae:0.23697\n",
      "== fold 4 ==\n",
      "[0]\tvalidation_0-mae:8.54056\n",
      "[1725]\tvalidation_0-mae:0.23952\n"
     ]
    },
    {
     "name": "stderr",
     "output_type": "stream",
     "text": [
      " 56%|█████▌    | 10/18 [09:50<07:25, 55.70s/it]"
     ]
    },
    {
     "name": "stdout",
     "output_type": "stream",
     "text": [
      "====================y_2====================\n",
      "== fold 0 ==\n",
      "[0]\tvalidation_0-mae:0.30712\n",
      "[1872]\tvalidation_0-mae:0.12904\n",
      "== fold 1 ==\n",
      "[0]\tvalidation_0-mae:0.32426\n",
      "[2012]\tvalidation_0-mae:0.13055\n",
      "== fold 2 ==\n",
      "[0]\tvalidation_0-mae:0.32630\n",
      "[1731]\tvalidation_0-mae:0.13390\n",
      "== fold 3 ==\n",
      "[0]\tvalidation_0-mae:0.30386\n",
      "[1586]\tvalidation_0-mae:0.13224\n",
      "== fold 4 ==\n",
      "[0]\tvalidation_0-mae:0.33216\n",
      "[1800]\tvalidation_0-mae:0.13598\n"
     ]
    },
    {
     "name": "stderr",
     "output_type": "stream",
     "text": [
      " 61%|██████    | 11/18 [10:53<06:45, 57.97s/it]"
     ]
    },
    {
     "name": "stdout",
     "output_type": "stream",
     "text": [
      "====================z_2====================\n",
      "== fold 0 ==\n",
      "[0]\tvalidation_0-mae:0.08423\n",
      "[401]\tvalidation_0-mae:0.08225\n",
      "== fold 1 ==\n",
      "[0]\tvalidation_0-mae:0.08306\n",
      "[597]\tvalidation_0-mae:0.08014\n",
      "== fold 2 ==\n",
      "[0]\tvalidation_0-mae:0.08593\n",
      "[491]\tvalidation_0-mae:0.08332\n",
      "== fold 3 ==\n",
      "[0]\tvalidation_0-mae:0.08781\n",
      "[832]\tvalidation_0-mae:0.08522\n",
      "== fold 4 ==\n",
      "[0]\tvalidation_0-mae:0.08491\n",
      "[670]\tvalidation_0-mae:0.08253\n"
     ]
    },
    {
     "name": "stderr",
     "output_type": "stream",
     "text": [
      " 67%|██████▋   | 12/18 [11:15<04:42, 47.02s/it]"
     ]
    },
    {
     "name": "stdout",
     "output_type": "stream",
     "text": [
      "====================x_1====================\n",
      "== fold 0 ==\n",
      "[0]\tvalidation_0-mae:5.69131\n",
      "[1527]\tvalidation_0-mae:0.13818\n",
      "== fold 1 ==\n",
      "[0]\tvalidation_0-mae:5.70207\n",
      "[1754]\tvalidation_0-mae:0.13845\n",
      "== fold 2 ==\n",
      "[0]\tvalidation_0-mae:5.76657\n",
      "[1291]\tvalidation_0-mae:0.13919\n",
      "== fold 3 ==\n",
      "[0]\tvalidation_0-mae:5.72881\n",
      "[2013]\tvalidation_0-mae:0.13818\n",
      "== fold 4 ==\n",
      "[0]\tvalidation_0-mae:5.59519\n",
      "[2531]\tvalidation_0-mae:0.13929\n"
     ]
    },
    {
     "name": "stderr",
     "output_type": "stream",
     "text": [
      " 72%|███████▏  | 13/18 [12:20<04:22, 52.58s/it]"
     ]
    },
    {
     "name": "stdout",
     "output_type": "stream",
     "text": [
      "====================y_1====================\n",
      "== fold 0 ==\n",
      "[0]\tvalidation_0-mae:0.16012\n",
      "[1495]\tvalidation_0-mae:0.07266\n",
      "== fold 1 ==\n",
      "[0]\tvalidation_0-mae:0.16660\n",
      "[1514]\tvalidation_0-mae:0.07166\n",
      "== fold 2 ==\n",
      "[0]\tvalidation_0-mae:0.16936\n",
      "[1642]\tvalidation_0-mae:0.07423\n",
      "== fold 3 ==\n",
      "[0]\tvalidation_0-mae:0.15779\n",
      "[1650]\tvalidation_0-mae:0.07331\n",
      "== fold 4 ==\n",
      "[0]\tvalidation_0-mae:0.17225\n",
      "[1598]\tvalidation_0-mae:0.07508\n"
     ]
    },
    {
     "name": "stderr",
     "output_type": "stream",
     "text": [
      " 78%|███████▊  | 14/18 [13:12<03:30, 52.51s/it]"
     ]
    },
    {
     "name": "stdout",
     "output_type": "stream",
     "text": [
      "====================z_1====================\n",
      "== fold 0 ==\n",
      "[0]\tvalidation_0-mae:0.05454\n",
      "[358]\tvalidation_0-mae:0.05341\n",
      "== fold 1 ==\n",
      "[0]\tvalidation_0-mae:0.05378\n",
      "[466]\tvalidation_0-mae:0.05214\n",
      "== fold 2 ==\n",
      "[0]\tvalidation_0-mae:0.05570\n",
      "[701]\tvalidation_0-mae:0.05419\n",
      "== fold 3 ==\n",
      "[0]\tvalidation_0-mae:0.05644\n",
      "[1202]\tvalidation_0-mae:0.05489\n",
      "== fold 4 ==\n",
      "[0]\tvalidation_0-mae:0.05472\n",
      "[596]\tvalidation_0-mae:0.05335\n"
     ]
    },
    {
     "name": "stderr",
     "output_type": "stream",
     "text": [
      " 83%|████████▎ | 15/18 [13:37<02:12, 44.02s/it]"
     ]
    },
    {
     "name": "stdout",
     "output_type": "stream",
     "text": [
      "====================x_0====================\n",
      "== fold 0 ==\n",
      "[0]\tvalidation_0-mae:2.69628\n",
      "[1260]\tvalidation_0-mae:0.06355\n",
      "== fold 1 ==\n",
      "[0]\tvalidation_0-mae:2.70247\n",
      "[1331]\tvalidation_0-mae:0.06334\n",
      "== fold 2 ==\n",
      "[0]\tvalidation_0-mae:2.73223\n",
      "[1649]\tvalidation_0-mae:0.06575\n",
      "== fold 3 ==\n",
      "[0]\tvalidation_0-mae:2.71458\n",
      "[1776]\tvalidation_0-mae:0.06487\n",
      "== fold 4 ==\n",
      "[0]\tvalidation_0-mae:2.65165\n",
      "[1849]\tvalidation_0-mae:0.06465\n"
     ]
    },
    {
     "name": "stderr",
     "output_type": "stream",
     "text": [
      " 89%|████████▉ | 16/18 [14:28<01:32, 46.10s/it]"
     ]
    },
    {
     "name": "stdout",
     "output_type": "stream",
     "text": [
      "====================y_0====================\n",
      "== fold 0 ==\n",
      "[0]\tvalidation_0-mae:0.05734\n",
      "[1563]\tvalidation_0-mae:0.03171\n",
      "== fold 1 ==\n",
      "[0]\tvalidation_0-mae:0.05896\n",
      "[786]\tvalidation_0-mae:0.03160\n",
      "== fold 2 ==\n",
      "[0]\tvalidation_0-mae:0.06033\n",
      "[1310]\tvalidation_0-mae:0.03235\n",
      "== fold 3 ==\n",
      "[0]\tvalidation_0-mae:0.05630\n",
      "[1614]\tvalidation_0-mae:0.03187\n",
      "== fold 4 ==\n",
      "[0]\tvalidation_0-mae:0.06149\n",
      "[1337]\tvalidation_0-mae:0.03315\n"
     ]
    },
    {
     "name": "stderr",
     "output_type": "stream",
     "text": [
      " 94%|█████████▍| 17/18 [15:13<00:45, 45.89s/it]"
     ]
    },
    {
     "name": "stdout",
     "output_type": "stream",
     "text": [
      "====================z_0====================\n",
      "== fold 0 ==\n",
      "[0]\tvalidation_0-mae:0.02615\n",
      "[401]\tvalidation_0-mae:0.02559\n",
      "== fold 1 ==\n",
      "[0]\tvalidation_0-mae:0.02583\n",
      "[475]\tvalidation_0-mae:0.02514\n",
      "== fold 2 ==\n",
      "[0]\tvalidation_0-mae:0.02682\n",
      "[376]\tvalidation_0-mae:0.02618\n",
      "== fold 3 ==\n",
      "[0]\tvalidation_0-mae:0.02685\n",
      "[683]\tvalidation_0-mae:0.02625\n",
      "== fold 4 ==\n",
      "[0]\tvalidation_0-mae:0.02609\n",
      "[454]\tvalidation_0-mae:0.02551\n"
     ]
    },
    {
     "name": "stderr",
     "output_type": "stream",
     "text": [
      "100%|██████████| 18/18 [15:31<00:00, 51.73s/it]\n"
     ]
    }
   ],
   "source": [
    "from penguinml.gbdt.xgboost import fit_xgb, inference_xgb\n",
    "from tqdm import tqdm\n",
    "\n",
    "dfs = []\n",
    "for c in tqdm(sorted(TARGET_COLS, key=lambda x: x.split(\"_\")[1], reverse=True)):\n",
    "    print(\"==\" * 10 + c + \"==\" * 10)\n",
    "    this_df = train.filter(pl.col(\"target_name_original\") == c)\n",
    "    oof, models = fit_xgb(\n",
    "        data=this_df,\n",
    "        features=features,\n",
    "        params=CFG[MODEL_NAME][\"params\"],\n",
    "        target_col=\"target\",\n",
    "        fold_col=\"fold\",\n",
    "        target_type=\"regression\",\n",
    "        verbose=50000,\n",
    "    )\n",
    "    this_df = this_df.with_columns(pl.Series(\"oof\", oof))\n",
    "    dfs.append(this_df)\n",
    "train = pl.concat(dfs)"
   ]
  },
  {
   "cell_type": "code",
   "execution_count": 15,
   "metadata": {},
   "outputs": [
    {
     "name": "stdout",
     "output_type": "stream",
     "text": [
      "MAE: 0.21828784498770645\n"
     ]
    }
   ],
   "source": [
    "mae = np.abs(train[\"oof\"] - train[\"target\"]).mean()\n",
    "print(f\"MAE: {mae}\")"
   ]
  },
  {
   "cell_type": "code",
   "execution_count": 16,
   "metadata": {},
   "outputs": [
    {
     "data": {
      "text/html": [
       "<div><style>\n",
       ".dataframe > thead > tr,\n",
       ".dataframe > tbody > tr {\n",
       "  text-align: right;\n",
       "  white-space: pre-wrap;\n",
       "}\n",
       "</style>\n",
       "<small>shape: (5, 19)</small><table border=\"1\" class=\"dataframe\"><thead><tr><th>ID</th><th>oof_x_5</th><th>oof_y_5</th><th>oof_z_5</th><th>oof_x_4</th><th>oof_y_4</th><th>oof_z_4</th><th>oof_x_3</th><th>oof_y_3</th><th>oof_z_3</th><th>oof_x_2</th><th>oof_y_2</th><th>oof_z_2</th><th>oof_x_1</th><th>oof_y_1</th><th>oof_z_1</th><th>oof_x_0</th><th>oof_y_0</th><th>oof_z_0</th></tr><tr><td>str</td><td>f32</td><td>f32</td><td>f32</td><td>f32</td><td>f32</td><td>f32</td><td>f32</td><td>f32</td><td>f32</td><td>f32</td><td>f32</td><td>f32</td><td>f32</td><td>f32</td><td>f32</td><td>f32</td><td>f32</td><td>f32</td></tr></thead><tbody><tr><td>&quot;00066be8e20318869c38c66be46663…</td><td>21.870636</td><td>-0.40243</td><td>0.140438</td><td>18.210474</td><td>-0.282908</td><td>0.133933</td><td>13.613016</td><td>-0.100169</td><td>0.067414</td><td>9.795164</td><td>-0.071299</td><td>0.052183</td><td>5.879181</td><td>-0.033015</td><td>0.023066</td><td>2.645556</td><td>-0.002747</td><td>0.016497</td></tr><tr><td>&quot;00066be8e20318869c38c66be46663…</td><td>31.578716</td><td>-0.569545</td><td>0.12726</td><td>26.52356</td><td>-0.576579</td><td>0.152131</td><td>21.183722</td><td>-0.427999</td><td>0.091575</td><td>15.8291</td><td>-0.386211</td><td>0.053785</td><td>10.585698</td><td>-0.235717</td><td>0.036184</td><td>5.036321</td><td>-0.069186</td><td>0.023402</td></tr><tr><td>&quot;00066be8e20318869c38c66be46663…</td><td>31.899765</td><td>-0.341625</td><td>0.100391</td><td>26.644663</td><td>-0.390511</td><td>0.1468</td><td>21.071726</td><td>-0.178021</td><td>0.078273</td><td>15.45903</td><td>-0.147338</td><td>0.039608</td><td>10.14452</td><td>-0.074818</td><td>0.026445</td><td>4.71555</td><td>-0.023173</td><td>0.013426</td></tr><tr><td>&quot;000fb056f97572d384bae4f5fc1e0f…</td><td>14.755453</td><td>-0.692768</td><td>0.056329</td><td>11.750469</td><td>-0.56795</td><td>0.045361</td><td>9.07926</td><td>-0.342746</td><td>0.023428</td><td>6.328568</td><td>-0.299098</td><td>0.016049</td><td>3.768057</td><td>-0.12705</td><td>0.009206</td><td>1.601007</td><td>-0.049232</td><td>0.003031</td></tr><tr><td>&quot;000fb056f97572d384bae4f5fc1e0f…</td><td>17.830925</td><td>1.074196</td><td>-0.000891</td><td>14.914308</td><td>0.789287</td><td>-0.007057</td><td>11.813318</td><td>0.491941</td><td>-0.000635</td><td>8.814574</td><td>0.264492</td><td>0.002926</td><td>5.745161</td><td>0.107982</td><td>0.008025</td><td>2.719719</td><td>0.020252</td><td>0.001921</td></tr></tbody></table></div>"
      ],
      "text/plain": [
       "shape: (5, 19)\n",
       "┌─────────────┬───────────┬───────────┬───────────┬───┬──────────┬──────────┬───────────┬──────────┐\n",
       "│ ID          ┆ oof_x_5   ┆ oof_y_5   ┆ oof_z_5   ┆ … ┆ oof_z_1  ┆ oof_x_0  ┆ oof_y_0   ┆ oof_z_0  │\n",
       "│ ---         ┆ ---       ┆ ---       ┆ ---       ┆   ┆ ---      ┆ ---      ┆ ---       ┆ ---      │\n",
       "│ str         ┆ f32       ┆ f32       ┆ f32       ┆   ┆ f32      ┆ f32      ┆ f32       ┆ f32      │\n",
       "╞═════════════╪═══════════╪═══════════╪═══════════╪═══╪══════════╪══════════╪═══════════╪══════════╡\n",
       "│ 00066be8e20 ┆ 21.870636 ┆ -0.40243  ┆ 0.140438  ┆ … ┆ 0.023066 ┆ 2.645556 ┆ -0.002747 ┆ 0.016497 │\n",
       "│ 318869c38c6 ┆           ┆           ┆           ┆   ┆          ┆          ┆           ┆          │\n",
       "│ 6be46663…   ┆           ┆           ┆           ┆   ┆          ┆          ┆           ┆          │\n",
       "│ 00066be8e20 ┆ 31.578716 ┆ -0.569545 ┆ 0.12726   ┆ … ┆ 0.036184 ┆ 5.036321 ┆ -0.069186 ┆ 0.023402 │\n",
       "│ 318869c38c6 ┆           ┆           ┆           ┆   ┆          ┆          ┆           ┆          │\n",
       "│ 6be46663…   ┆           ┆           ┆           ┆   ┆          ┆          ┆           ┆          │\n",
       "│ 00066be8e20 ┆ 31.899765 ┆ -0.341625 ┆ 0.100391  ┆ … ┆ 0.026445 ┆ 4.71555  ┆ -0.023173 ┆ 0.013426 │\n",
       "│ 318869c38c6 ┆           ┆           ┆           ┆   ┆          ┆          ┆           ┆          │\n",
       "│ 6be46663…   ┆           ┆           ┆           ┆   ┆          ┆          ┆           ┆          │\n",
       "│ 000fb056f97 ┆ 14.755453 ┆ -0.692768 ┆ 0.056329  ┆ … ┆ 0.009206 ┆ 1.601007 ┆ -0.049232 ┆ 0.003031 │\n",
       "│ 572d384bae4 ┆           ┆           ┆           ┆   ┆          ┆          ┆           ┆          │\n",
       "│ f5fc1e0f…   ┆           ┆           ┆           ┆   ┆          ┆          ┆           ┆          │\n",
       "│ 000fb056f97 ┆ 17.830925 ┆ 1.074196  ┆ -0.000891 ┆ … ┆ 0.008025 ┆ 2.719719 ┆ 0.020252  ┆ 0.001921 │\n",
       "│ 572d384bae4 ┆           ┆           ┆           ┆   ┆          ┆          ┆           ┆          │\n",
       "│ f5fc1e0f…   ┆           ┆           ┆           ┆   ┆          ┆          ┆           ┆          │\n",
       "└─────────────┴───────────┴───────────┴───────────┴───┴──────────┴──────────┴───────────┴──────────┘"
      ]
     },
     "execution_count": 16,
     "metadata": {},
     "output_type": "execute_result"
    }
   ],
   "source": [
    "rev_dict = {v: \"oof_\" + k for k, v in CATEGORY_MAPPING[\"target_name\"].items()}\n",
    "oof_df = (\n",
    "    train.select([\"ID\", \"target_name\", \"oof\"])\n",
    "    .with_columns(pl.col(\"target_name\").replace_strict(rev_dict))\n",
    "    .pivot(index=\"ID\", columns=\"target_name\", values=\"oof\")\n",
    ")\n",
    "oof_df.head()"
   ]
  },
  {
   "cell_type": "code",
   "execution_count": 17,
   "metadata": {},
   "outputs": [],
   "source": [
    "oof_df.write_csv(os.path.join(CFG[\"output_dir\"], \"oof.csv\"))"
   ]
  },
  {
   "cell_type": "code",
   "execution_count": null,
   "metadata": {},
   "outputs": [],
   "source": []
  }
 ],
 "metadata": {
  "kernelspec": {
   "display_name": "base",
   "language": "python",
   "name": "python3"
  },
  "language_info": {
   "codemirror_mode": {
    "name": "ipython",
    "version": 3
   },
   "file_extension": ".py",
   "mimetype": "text/x-python",
   "name": "python",
   "nbconvert_exporter": "python",
   "pygments_lexer": "ipython3",
   "version": "3.10.14"
  }
 },
 "nbformat": 4,
 "nbformat_minor": 2
}
