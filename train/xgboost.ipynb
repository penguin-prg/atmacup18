{
 "cells": [
  {
   "cell_type": "code",
   "execution_count": 1,
   "metadata": {},
   "outputs": [
    {
     "name": "stdout",
     "output_type": "stream",
     "text": [
      "rm: cannot remove '/kaggle/working/*': No such file or directory\n",
      "/kaggle/working\n"
     ]
    }
   ],
   "source": [
    "!rm -r /kaggle/working/*\n",
    "%cd /kaggle/working"
   ]
  },
  {
   "cell_type": "code",
   "execution_count": 2,
   "metadata": {},
   "outputs": [],
   "source": [
    "import os\n",
    "import sys\n",
    "\n",
    "PACKAGE_DIR = \"/kaggle/src\"\n",
    "sys.path.append(PACKAGE_DIR)\n",
    "sys.path.append(os.path.join(PACKAGE_DIR, \"Penguin-ML-Library\"))"
   ]
  },
  {
   "cell_type": "code",
   "execution_count": 3,
   "metadata": {},
   "outputs": [
    {
     "name": "stderr",
     "output_type": "stream",
     "text": [
      "2024-11-16 07:14:39.911887: I tensorflow/core/util/port.cc:113] oneDNN custom operations are on. You may see slightly different numerical results due to floating-point round-off errors from different computation orders. To turn them off, set the environment variable `TF_ENABLE_ONEDNN_OPTS=0`.\n",
      "2024-11-16 07:14:39.939514: I tensorflow/core/platform/cpu_feature_guard.cc:210] This TensorFlow binary is optimized to use available CPU instructions in performance-critical operations.\n",
      "To enable the following instructions: AVX2 AVX_VNNI FMA, in other operations, rebuild TensorFlow with the appropriate compiler flags.\n"
     ]
    },
    {
     "name": "stdout",
     "output_type": "stream",
     "text": [
      "exp_004\n"
     ]
    },
    {
     "name": "stderr",
     "output_type": "stream",
     "text": [
      "/opt/conda/lib/python3.10/pty.py:89: RuntimeWarning: os.fork() was called. os.fork() is incompatible with multithreaded code, and JAX is multithreaded, so this will likely lead to a deadlock.\n",
      "  pid, fd = os.forkpty()\n",
      "set seed: 46\n"
     ]
    }
   ],
   "source": [
    "import yaml\n",
    "from penguinml.utils.logger import get_logger, init_logger\n",
    "from penguinml.utils.set_seed import seed_base\n",
    "\n",
    "MODEL_NAME = \"xgboost\"\n",
    "CFG = yaml.safe_load(open(os.path.join(PACKAGE_DIR, \"config.yaml\"), \"r\"))\n",
    "print(CFG[MODEL_NAME][\"execution\"][\"exp_id\"])\n",
    "CFG[\"output_dir\"] = f\"/kaggle/output/{CFG[MODEL_NAME]['execution']['exp_id']}\"\n",
    "!rm -r {CFG[\"output_dir\"]}\n",
    "os.makedirs(CFG[\"output_dir\"], exist_ok=True)\n",
    "\n",
    "init_logger(f\"{ CFG[MODEL_NAME]['execution']['exp_id']}.log\")\n",
    "logger = get_logger(\"main\")\n",
    "seed_base(CFG[MODEL_NAME][\"execution\"][\"seed\"])"
   ]
  },
  {
   "cell_type": "code",
   "execution_count": 4,
   "metadata": {},
   "outputs": [],
   "source": [
    "import warnings\n",
    "\n",
    "import numpy as np\n",
    "import polars as pl\n",
    "\n",
    "warnings.filterwarnings(\"ignore\")"
   ]
  },
  {
   "cell_type": "code",
   "execution_count": 5,
   "metadata": {},
   "outputs": [
    {
     "name": "stdout",
     "output_type": "stream",
     "text": [
      "(43371, 32)\n"
     ]
    },
    {
     "data": {
      "text/html": [
       "<div><style>\n",
       ".dataframe > thead > tr,\n",
       ".dataframe > tbody > tr {\n",
       "  text-align: right;\n",
       "  white-space: pre-wrap;\n",
       "}\n",
       "</style>\n",
       "<small>shape: (1, 32)</small><table border=\"1\" class=\"dataframe\"><thead><tr><th>ID</th><th>vEgo</th><th>aEgo</th><th>steeringAngleDeg</th><th>steeringTorque</th><th>brake</th><th>brakePressed</th><th>gas</th><th>gasPressed</th><th>gearShifter</th><th>leftBlinker</th><th>rightBlinker</th><th>x_0</th><th>y_0</th><th>z_0</th><th>x_1</th><th>y_1</th><th>z_1</th><th>x_2</th><th>y_2</th><th>z_2</th><th>x_3</th><th>y_3</th><th>z_3</th><th>x_4</th><th>y_4</th><th>z_4</th><th>x_5</th><th>y_5</th><th>z_5</th><th>sceneID</th><th>offset</th></tr><tr><td>str</td><td>f64</td><td>f64</td><td>f64</td><td>f64</td><td>f64</td><td>bool</td><td>f64</td><td>bool</td><td>str</td><td>bool</td><td>bool</td><td>f64</td><td>f64</td><td>f64</td><td>f64</td><td>f64</td><td>f64</td><td>f64</td><td>f64</td><td>f64</td><td>f64</td><td>f64</td><td>f64</td><td>f64</td><td>f64</td><td>f64</td><td>f64</td><td>f64</td><td>f64</td><td>str</td><td>f32</td></tr></thead><tbody><tr><td>&quot;00066be8e20318869c38c66be46663…</td><td>5.701526</td><td>1.538456</td><td>-2.165777</td><td>-139.0</td><td>0.0</td><td>false</td><td>0.25</td><td>true</td><td>&quot;drive&quot;</td><td>false</td><td>false</td><td>2.82959</td><td>0.032226</td><td>0.045187</td><td>6.231999</td><td>0.065895</td><td>0.107974</td><td>9.785009</td><td>0.124972</td><td>0.203649</td><td>13.485472</td><td>0.163448</td><td>0.302818</td><td>17.574227</td><td>0.174289</td><td>0.406331</td><td>21.951269</td><td>0.199503</td><td>0.485079</td><td>&quot;00066be8e20318869c38c66be46663…</td><td>320.0</td></tr></tbody></table></div>"
      ],
      "text/plain": [
       "shape: (1, 32)\n",
       "┌─────────────┬──────────┬──────────┬─────────────┬───┬──────────┬──────────┬─────────────┬────────┐\n",
       "│ ID          ┆ vEgo     ┆ aEgo     ┆ steeringAng ┆ … ┆ y_5      ┆ z_5      ┆ sceneID     ┆ offset │\n",
       "│ ---         ┆ ---      ┆ ---      ┆ leDeg       ┆   ┆ ---      ┆ ---      ┆ ---         ┆ ---    │\n",
       "│ str         ┆ f64      ┆ f64      ┆ ---         ┆   ┆ f64      ┆ f64      ┆ str         ┆ f32    │\n",
       "│             ┆          ┆          ┆ f64         ┆   ┆          ┆          ┆             ┆        │\n",
       "╞═════════════╪══════════╪══════════╪═════════════╪═══╪══════════╪══════════╪═════════════╪════════╡\n",
       "│ 00066be8e20 ┆ 5.701526 ┆ 1.538456 ┆ -2.165777   ┆ … ┆ 0.199503 ┆ 0.485079 ┆ 00066be8e20 ┆ 320.0  │\n",
       "│ 318869c38c6 ┆          ┆          ┆             ┆   ┆          ┆          ┆ 318869c38c6 ┆        │\n",
       "│ 6be46663…   ┆          ┆          ┆             ┆   ┆          ┆          ┆ 6be46663…   ┆        │\n",
       "└─────────────┴──────────┴──────────┴─────────────┴───┴──────────┴──────────┴─────────────┴────────┘"
      ]
     },
     "execution_count": 5,
     "metadata": {},
     "output_type": "execute_result"
    }
   ],
   "source": [
    "train = pl.read_csv(os.path.join(CFG[\"dataset\"][\"competition_dir\"], \"train_features.csv\"))\n",
    "train = (\n",
    "    train.with_columns(\n",
    "        pl.col(\"ID\").str.split_exact(\"_\", n=1).struct.rename_fields([\"sceneID\", \"offset\"]).alias(\"fields\")\n",
    "    )\n",
    "    .unnest(\"fields\")\n",
    "    .with_columns(pl.col(\"offset\").cast(pl.Float32))\n",
    ")\n",
    "print(train.shape)\n",
    "train.head(1)"
   ]
  },
  {
   "cell_type": "markdown",
   "metadata": {},
   "source": [
    "## 特徴量生成\n"
   ]
  },
  {
   "cell_type": "code",
   "execution_count": 6,
   "metadata": {},
   "outputs": [],
   "source": [
    "from penguinml.utils.contena import FeatureContena\n",
    "\n",
    "features = FeatureContena()\n",
    "features.add_num_features(\n",
    "    [\n",
    "        \"vEgo\",\n",
    "        \"aEgo\",\n",
    "        \"steeringAngleDeg\",\n",
    "        \"steeringTorque\",\n",
    "        \"brake\",\n",
    "        \"brakePressed\",\n",
    "        \"gas\",\n",
    "        \"gasPressed\",\n",
    "        \"leftBlinker\",\n",
    "        \"rightBlinker\",\n",
    "        \"offset\",\n",
    "    ]\n",
    ")\n",
    "features.add_cat_features([\"gearShifter\"])"
   ]
  },
  {
   "cell_type": "markdown",
   "metadata": {},
   "source": [
    "## ターゲット列を分解\n"
   ]
  },
  {
   "cell_type": "code",
   "execution_count": 7,
   "metadata": {},
   "outputs": [
    {
     "data": {
      "text/html": [
       "<div><style>\n",
       ".dataframe > thead > tr,\n",
       ".dataframe > tbody > tr {\n",
       "  text-align: right;\n",
       "  white-space: pre-wrap;\n",
       "}\n",
       "</style>\n",
       "<small>shape: (1, 17)</small><table border=\"1\" class=\"dataframe\"><thead><tr><th>ID</th><th>target_name</th><th>target</th><th>vEgo</th><th>aEgo</th><th>steeringAngleDeg</th><th>steeringTorque</th><th>brake</th><th>brakePressed</th><th>gas</th><th>gasPressed</th><th>gearShifter</th><th>leftBlinker</th><th>rightBlinker</th><th>sceneID</th><th>offset</th><th>dt</th></tr><tr><td>str</td><td>str</td><td>f64</td><td>f64</td><td>f64</td><td>f64</td><td>f64</td><td>f64</td><td>bool</td><td>f64</td><td>bool</td><td>str</td><td>bool</td><td>bool</td><td>str</td><td>f32</td><td>f32</td></tr></thead><tbody><tr><td>&quot;00066be8e20318869c38c66be46663…</td><td>&quot;x_0&quot;</td><td>2.82959</td><td>5.701526</td><td>1.538456</td><td>-2.165777</td><td>-139.0</td><td>0.0</td><td>false</td><td>0.25</td><td>true</td><td>&quot;drive&quot;</td><td>false</td><td>false</td><td>&quot;00066be8e20318869c38c66be46663…</td><td>320.0</td><td>0.5</td></tr></tbody></table></div>"
      ],
      "text/plain": [
       "shape: (1, 17)\n",
       "┌──────────────┬─────────────┬─────────┬──────────┬───┬──────────────┬──────────────┬────────┬─────┐\n",
       "│ ID           ┆ target_name ┆ target  ┆ vEgo     ┆ … ┆ rightBlinker ┆ sceneID      ┆ offset ┆ dt  │\n",
       "│ ---          ┆ ---         ┆ ---     ┆ ---      ┆   ┆ ---          ┆ ---          ┆ ---    ┆ --- │\n",
       "│ str          ┆ str         ┆ f64     ┆ f64      ┆   ┆ bool         ┆ str          ┆ f32    ┆ f32 │\n",
       "╞══════════════╪═════════════╪═════════╪══════════╪═══╪══════════════╪══════════════╪════════╪═════╡\n",
       "│ 00066be8e203 ┆ x_0         ┆ 2.82959 ┆ 5.701526 ┆ … ┆ false        ┆ 00066be8e203 ┆ 320.0  ┆ 0.5 │\n",
       "│ 18869c38c66b ┆             ┆         ┆          ┆   ┆              ┆ 18869c38c66b ┆        ┆     │\n",
       "│ e46663…      ┆             ┆         ┆          ┆   ┆              ┆ e46663…      ┆        ┆     │\n",
       "└──────────────┴─────────────┴─────────┴──────────┴───┴──────────────┴──────────────┴────────┴─────┘"
      ]
     },
     "execution_count": 7,
     "metadata": {},
     "output_type": "execute_result"
    }
   ],
   "source": [
    "from const import TARGET_COLS\n",
    "\n",
    "train = (\n",
    "    train.unpivot(index=\"ID\", on=TARGET_COLS, variable_name=\"target_name\", value_name=\"target\")\n",
    "    .join(\n",
    "        train.drop(TARGET_COLS),\n",
    "        on=\"ID\",\n",
    "        how=\"left\",\n",
    "    )\n",
    "    .with_columns(\n",
    "        (\n",
    "            pl.col(\"target_name\").map_elements(lambda x: float(x.split(\"_\")[1]), return_dtype=pl.Float32) * 0.5 + 0.5\n",
    "        ).alias(\"dt\")\n",
    "    )\n",
    ")\n",
    "features.add_cat_feature(\"target_name\")\n",
    "train.head(1)"
   ]
  },
  {
   "cell_type": "code",
   "execution_count": 8,
   "metadata": {},
   "outputs": [],
   "source": [
    "# dt秒後の特徴\n",
    "train = train.with_columns(\n",
    "    # vt\n",
    "    (pl.col(\"vEgo\") * pl.col(\"dt\").cast(pl.Float32)).alias(\"linear_movement@dt\"),\n",
    "    # vt + 0.5at^2\n",
    "    ((pl.col(\"vEgo\") + 0.5 * pl.col(\"aEgo\") * pl.col(\"dt\").cast(pl.Float32) ** 2).alias(\"movement@dt\")),\n",
    "    # v + at\n",
    "    (pl.col(\"vEgo\") + pl.col(\"aEgo\") * pl.col(\"dt\").cast(pl.Float32)).alias(\"velocity@dt\"),\n",
    ")\n",
    "features.add_num_features([\"linear_movement@dt\", \"movement@dt\", \"velocity@dt\"])"
   ]
  },
  {
   "cell_type": "code",
   "execution_count": 9,
   "metadata": {},
   "outputs": [],
   "source": [
    "from const import CATEGORY_MAPPING\n",
    "\n",
    "for c in features.num_features():\n",
    "    train = train.with_columns(pl.col(c).cast(pl.Float32))\n",
    "\n",
    "for c in features.cat_features():\n",
    "    mapping = CATEGORY_MAPPING[c]\n",
    "    train = train.with_columns(pl.col(c).replace_strict(mapping).cast(pl.Int32))"
   ]
  },
  {
   "cell_type": "markdown",
   "metadata": {},
   "source": [
    "## CV Split\n"
   ]
  },
  {
   "cell_type": "code",
   "execution_count": 10,
   "metadata": {},
   "outputs": [],
   "source": [
    "train_folds = pl.read_csv(CFG[\"dataset\"][\"train_fold_path\"])\n",
    "train = train.join(train_folds, on=\"sceneID\", how=\"left\")\n",
    "assert train[\"fold\"].null_count() == 0"
   ]
  },
  {
   "cell_type": "markdown",
   "metadata": {},
   "source": [
    "## Training\n"
   ]
  },
  {
   "cell_type": "code",
   "execution_count": 11,
   "metadata": {},
   "outputs": [
    {
     "name": "stdout",
     "output_type": "stream",
     "text": [
      "== fold 0 ==\n",
      "[0]\tvalidation_0-mae:5.36709\n",
      "[500]\tvalidation_0-mae:0.34263\n",
      "[1000]\tvalidation_0-mae:0.27618\n",
      "[1500]\tvalidation_0-mae:0.25792\n",
      "[2000]\tvalidation_0-mae:0.25247\n",
      "[2500]\tvalidation_0-mae:0.24894\n",
      "[3000]\tvalidation_0-mae:0.24735\n",
      "[3500]\tvalidation_0-mae:0.24625\n",
      "[4000]\tvalidation_0-mae:0.24567\n",
      "[4500]\tvalidation_0-mae:0.24534\n",
      "[5000]\tvalidation_0-mae:0.24511\n",
      "[5500]\tvalidation_0-mae:0.24490\n",
      "[6000]\tvalidation_0-mae:0.24478\n",
      "[6500]\tvalidation_0-mae:0.24457\n",
      "[7000]\tvalidation_0-mae:0.24434\n",
      "[7500]\tvalidation_0-mae:0.24415\n",
      "[8000]\tvalidation_0-mae:0.24404\n",
      "[8500]\tvalidation_0-mae:0.24389\n",
      "[9000]\tvalidation_0-mae:0.24369\n",
      "[9500]\tvalidation_0-mae:0.24354\n",
      "[10000]\tvalidation_0-mae:0.24340\n",
      "[10500]\tvalidation_0-mae:0.24332\n",
      "[11000]\tvalidation_0-mae:0.24318\n",
      "[11500]\tvalidation_0-mae:0.24309\n",
      "[12000]\tvalidation_0-mae:0.24297\n",
      "[12500]\tvalidation_0-mae:0.24291\n",
      "[13000]\tvalidation_0-mae:0.24280\n",
      "[13500]\tvalidation_0-mae:0.24264\n",
      "[14000]\tvalidation_0-mae:0.24257\n",
      "[14500]\tvalidation_0-mae:0.24251\n",
      "[15000]\tvalidation_0-mae:0.24248\n",
      "[15500]\tvalidation_0-mae:0.24241\n",
      "[16000]\tvalidation_0-mae:0.24233\n",
      "[16500]\tvalidation_0-mae:0.24226\n",
      "[17000]\tvalidation_0-mae:0.24218\n",
      "[17500]\tvalidation_0-mae:0.24215\n",
      "[18000]\tvalidation_0-mae:0.24210\n",
      "[18500]\tvalidation_0-mae:0.24203\n",
      "[19000]\tvalidation_0-mae:0.24200\n",
      "[19500]\tvalidation_0-mae:0.24193\n",
      "[20000]\tvalidation_0-mae:0.24187\n"
     ]
    },
    {
     "ename": "KeyboardInterrupt",
     "evalue": "",
     "output_type": "error",
     "traceback": [
      "\u001b[0;31m---------------------------------------------------------------------------\u001b[0m",
      "\u001b[0;31mKeyboardInterrupt\u001b[0m                         Traceback (most recent call last)",
      "Cell \u001b[0;32mIn[11], line 3\u001b[0m\n\u001b[1;32m      1\u001b[0m \u001b[38;5;28;01mfrom\u001b[39;00m \u001b[38;5;21;01mpenguinml\u001b[39;00m\u001b[38;5;21;01m.\u001b[39;00m\u001b[38;5;21;01mgbdt\u001b[39;00m\u001b[38;5;21;01m.\u001b[39;00m\u001b[38;5;21;01mxgboost\u001b[39;00m \u001b[38;5;28;01mimport\u001b[39;00m fit_xgb, inference_xgb\n\u001b[0;32m----> 3\u001b[0m oof, models \u001b[38;5;241m=\u001b[39m \u001b[43mfit_xgb\u001b[49m\u001b[43m(\u001b[49m\n\u001b[1;32m      4\u001b[0m \u001b[43m    \u001b[49m\u001b[43mdata\u001b[49m\u001b[38;5;241;43m=\u001b[39;49m\u001b[43mtrain\u001b[49m\u001b[43m,\u001b[49m\n\u001b[1;32m      5\u001b[0m \u001b[43m    \u001b[49m\u001b[43mfeatures\u001b[49m\u001b[38;5;241;43m=\u001b[39;49m\u001b[43mfeatures\u001b[49m\u001b[43m,\u001b[49m\n\u001b[1;32m      6\u001b[0m \u001b[43m    \u001b[49m\u001b[43mparams\u001b[49m\u001b[38;5;241;43m=\u001b[39;49m\u001b[43mCFG\u001b[49m\u001b[43m[\u001b[49m\u001b[43mMODEL_NAME\u001b[49m\u001b[43m]\u001b[49m\u001b[43m[\u001b[49m\u001b[38;5;124;43m\"\u001b[39;49m\u001b[38;5;124;43mparams\u001b[39;49m\u001b[38;5;124;43m\"\u001b[39;49m\u001b[43m]\u001b[49m\u001b[43m,\u001b[49m\n\u001b[1;32m      7\u001b[0m \u001b[43m    \u001b[49m\u001b[43mtarget_col\u001b[49m\u001b[38;5;241;43m=\u001b[39;49m\u001b[38;5;124;43m\"\u001b[39;49m\u001b[38;5;124;43mtarget\u001b[39;49m\u001b[38;5;124;43m\"\u001b[39;49m\u001b[43m,\u001b[49m\n\u001b[1;32m      8\u001b[0m \u001b[43m    \u001b[49m\u001b[43mfold_col\u001b[49m\u001b[38;5;241;43m=\u001b[39;49m\u001b[38;5;124;43m\"\u001b[39;49m\u001b[38;5;124;43mfold\u001b[39;49m\u001b[38;5;124;43m\"\u001b[39;49m\u001b[43m,\u001b[49m\n\u001b[1;32m      9\u001b[0m \u001b[43m    \u001b[49m\u001b[43mtarget_type\u001b[49m\u001b[38;5;241;43m=\u001b[39;49m\u001b[38;5;124;43m\"\u001b[39;49m\u001b[38;5;124;43mregression\u001b[39;49m\u001b[38;5;124;43m\"\u001b[39;49m\u001b[43m,\u001b[49m\n\u001b[1;32m     10\u001b[0m \u001b[43m    \u001b[49m\u001b[43mverbose\u001b[49m\u001b[38;5;241;43m=\u001b[39;49m\u001b[38;5;241;43m500\u001b[39;49m\u001b[43m,\u001b[49m\n\u001b[1;32m     11\u001b[0m \u001b[43m)\u001b[49m\n",
      "File \u001b[0;32m/kaggle/src/Penguin-ML-Library/penguinml/gbdt/xgboost.py:99\u001b[0m, in \u001b[0;36mfit_xgb\u001b[0;34m(data, features, params, target_col, fold_col, target_type, es_rounds, verbose, val_folds, only_train, save_dir)\u001b[0m\n\u001b[1;32m     96\u001b[0m     eval_set \u001b[38;5;241m=\u001b[39m [(X_val, y_val)]\n\u001b[1;32m     98\u001b[0m \u001b[38;5;66;03m# 学習\u001b[39;00m\n\u001b[0;32m---> 99\u001b[0m model \u001b[38;5;241m=\u001b[39m \u001b[43mmodel\u001b[49m\u001b[38;5;241;43m.\u001b[39;49m\u001b[43mfit\u001b[49m\u001b[43m(\u001b[49m\n\u001b[1;32m    100\u001b[0m \u001b[43m    \u001b[49m\u001b[43mX\u001b[49m\u001b[38;5;241;43m=\u001b[39;49m\u001b[43mdata\u001b[49m\u001b[38;5;241;43m.\u001b[39;49m\u001b[43mfilter\u001b[49m\u001b[43m(\u001b[49m\u001b[43mpl\u001b[49m\u001b[38;5;241;43m.\u001b[39;49m\u001b[43mcol\u001b[49m\u001b[43m(\u001b[49m\u001b[43mfold_col\u001b[49m\u001b[43m)\u001b[49m\u001b[43m \u001b[49m\u001b[38;5;241;43m!=\u001b[39;49m\u001b[43m \u001b[49m\u001b[43mval_fold\u001b[49m\u001b[43m)\u001b[49m\u001b[38;5;241;43m.\u001b[39;49m\u001b[43mselect\u001b[49m\u001b[43m(\u001b[49m\u001b[43mfeatures\u001b[49m\u001b[38;5;241;43m.\u001b[39;49m\u001b[43mall_features\u001b[49m\u001b[43m(\u001b[49m\u001b[43m)\u001b[49m\u001b[43m)\u001b[49m\u001b[43m,\u001b[49m\n\u001b[1;32m    101\u001b[0m \u001b[43m    \u001b[49m\u001b[43my\u001b[49m\u001b[38;5;241;43m=\u001b[39;49m\u001b[43mdata\u001b[49m\u001b[38;5;241;43m.\u001b[39;49m\u001b[43mfilter\u001b[49m\u001b[43m(\u001b[49m\u001b[43mpl\u001b[49m\u001b[38;5;241;43m.\u001b[39;49m\u001b[43mcol\u001b[49m\u001b[43m(\u001b[49m\u001b[43mfold_col\u001b[49m\u001b[43m)\u001b[49m\u001b[43m \u001b[49m\u001b[38;5;241;43m!=\u001b[39;49m\u001b[43m \u001b[49m\u001b[43mval_fold\u001b[49m\u001b[43m)\u001b[49m\u001b[43m[\u001b[49m\u001b[43mtarget_col\u001b[49m\u001b[43m]\u001b[49m\u001b[43m,\u001b[49m\n\u001b[1;32m    102\u001b[0m \u001b[43m    \u001b[49m\u001b[43meval_set\u001b[49m\u001b[38;5;241;43m=\u001b[39;49m\u001b[43meval_set\u001b[49m\u001b[43m,\u001b[49m\n\u001b[1;32m    103\u001b[0m \u001b[43m    \u001b[49m\u001b[43mearly_stopping_rounds\u001b[49m\u001b[38;5;241;43m=\u001b[39;49m\u001b[43mes_rounds\u001b[49m\u001b[43m,\u001b[49m\n\u001b[1;32m    104\u001b[0m \u001b[43m    \u001b[49m\u001b[43mverbose\u001b[49m\u001b[38;5;241;43m=\u001b[39;49m\u001b[43mverbose\u001b[49m\u001b[43m,\u001b[49m\n\u001b[1;32m    105\u001b[0m \u001b[43m\u001b[49m\u001b[43m)\u001b[49m\n\u001b[1;32m    106\u001b[0m models\u001b[38;5;241m.\u001b[39mappend(model)\n\u001b[1;32m    108\u001b[0m \u001b[38;5;66;03m# 推論して保存\u001b[39;00m\n",
      "File \u001b[0;32m/opt/conda/lib/python3.10/site-packages/xgboost/core.py:730\u001b[0m, in \u001b[0;36mrequire_keyword_args.<locals>.throw_if.<locals>.inner_f\u001b[0;34m(*args, **kwargs)\u001b[0m\n\u001b[1;32m    728\u001b[0m \u001b[38;5;28;01mfor\u001b[39;00m k, arg \u001b[38;5;129;01min\u001b[39;00m \u001b[38;5;28mzip\u001b[39m(sig\u001b[38;5;241m.\u001b[39mparameters, args):\n\u001b[1;32m    729\u001b[0m     kwargs[k] \u001b[38;5;241m=\u001b[39m arg\n\u001b[0;32m--> 730\u001b[0m \u001b[38;5;28;01mreturn\u001b[39;00m \u001b[43mfunc\u001b[49m\u001b[43m(\u001b[49m\u001b[38;5;241;43m*\u001b[39;49m\u001b[38;5;241;43m*\u001b[39;49m\u001b[43mkwargs\u001b[49m\u001b[43m)\u001b[49m\n",
      "File \u001b[0;32m/opt/conda/lib/python3.10/site-packages/xgboost/sklearn.py:1090\u001b[0m, in \u001b[0;36mXGBModel.fit\u001b[0;34m(self, X, y, sample_weight, base_margin, eval_set, eval_metric, early_stopping_rounds, verbose, xgb_model, sample_weight_eval_set, base_margin_eval_set, feature_weights, callbacks)\u001b[0m\n\u001b[1;32m   1079\u001b[0m     obj \u001b[38;5;241m=\u001b[39m \u001b[38;5;28;01mNone\u001b[39;00m\n\u001b[1;32m   1081\u001b[0m (\n\u001b[1;32m   1082\u001b[0m     model,\n\u001b[1;32m   1083\u001b[0m     metric,\n\u001b[0;32m   (...)\u001b[0m\n\u001b[1;32m   1088\u001b[0m     xgb_model, eval_metric, params, early_stopping_rounds, callbacks\n\u001b[1;32m   1089\u001b[0m )\n\u001b[0;32m-> 1090\u001b[0m \u001b[38;5;28mself\u001b[39m\u001b[38;5;241m.\u001b[39m_Booster \u001b[38;5;241m=\u001b[39m \u001b[43mtrain\u001b[49m\u001b[43m(\u001b[49m\n\u001b[1;32m   1091\u001b[0m \u001b[43m    \u001b[49m\u001b[43mparams\u001b[49m\u001b[43m,\u001b[49m\n\u001b[1;32m   1092\u001b[0m \u001b[43m    \u001b[49m\u001b[43mtrain_dmatrix\u001b[49m\u001b[43m,\u001b[49m\n\u001b[1;32m   1093\u001b[0m \u001b[43m    \u001b[49m\u001b[38;5;28;43mself\u001b[39;49m\u001b[38;5;241;43m.\u001b[39;49m\u001b[43mget_num_boosting_rounds\u001b[49m\u001b[43m(\u001b[49m\u001b[43m)\u001b[49m\u001b[43m,\u001b[49m\n\u001b[1;32m   1094\u001b[0m \u001b[43m    \u001b[49m\u001b[43mevals\u001b[49m\u001b[38;5;241;43m=\u001b[39;49m\u001b[43mevals\u001b[49m\u001b[43m,\u001b[49m\n\u001b[1;32m   1095\u001b[0m \u001b[43m    \u001b[49m\u001b[43mearly_stopping_rounds\u001b[49m\u001b[38;5;241;43m=\u001b[39;49m\u001b[43mearly_stopping_rounds\u001b[49m\u001b[43m,\u001b[49m\n\u001b[1;32m   1096\u001b[0m \u001b[43m    \u001b[49m\u001b[43mevals_result\u001b[49m\u001b[38;5;241;43m=\u001b[39;49m\u001b[43mevals_result\u001b[49m\u001b[43m,\u001b[49m\n\u001b[1;32m   1097\u001b[0m \u001b[43m    \u001b[49m\u001b[43mobj\u001b[49m\u001b[38;5;241;43m=\u001b[39;49m\u001b[43mobj\u001b[49m\u001b[43m,\u001b[49m\n\u001b[1;32m   1098\u001b[0m \u001b[43m    \u001b[49m\u001b[43mcustom_metric\u001b[49m\u001b[38;5;241;43m=\u001b[39;49m\u001b[43mmetric\u001b[49m\u001b[43m,\u001b[49m\n\u001b[1;32m   1099\u001b[0m \u001b[43m    \u001b[49m\u001b[43mverbose_eval\u001b[49m\u001b[38;5;241;43m=\u001b[39;49m\u001b[43mverbose\u001b[49m\u001b[43m,\u001b[49m\n\u001b[1;32m   1100\u001b[0m \u001b[43m    \u001b[49m\u001b[43mxgb_model\u001b[49m\u001b[38;5;241;43m=\u001b[39;49m\u001b[43mmodel\u001b[49m\u001b[43m,\u001b[49m\n\u001b[1;32m   1101\u001b[0m \u001b[43m    \u001b[49m\u001b[43mcallbacks\u001b[49m\u001b[38;5;241;43m=\u001b[39;49m\u001b[43mcallbacks\u001b[49m\u001b[43m,\u001b[49m\n\u001b[1;32m   1102\u001b[0m \u001b[43m\u001b[49m\u001b[43m)\u001b[49m\n\u001b[1;32m   1104\u001b[0m \u001b[38;5;28mself\u001b[39m\u001b[38;5;241m.\u001b[39m_set_evaluation_result(evals_result)\n\u001b[1;32m   1105\u001b[0m \u001b[38;5;28;01mreturn\u001b[39;00m \u001b[38;5;28mself\u001b[39m\n",
      "File \u001b[0;32m/opt/conda/lib/python3.10/site-packages/xgboost/core.py:730\u001b[0m, in \u001b[0;36mrequire_keyword_args.<locals>.throw_if.<locals>.inner_f\u001b[0;34m(*args, **kwargs)\u001b[0m\n\u001b[1;32m    728\u001b[0m \u001b[38;5;28;01mfor\u001b[39;00m k, arg \u001b[38;5;129;01min\u001b[39;00m \u001b[38;5;28mzip\u001b[39m(sig\u001b[38;5;241m.\u001b[39mparameters, args):\n\u001b[1;32m    729\u001b[0m     kwargs[k] \u001b[38;5;241m=\u001b[39m arg\n\u001b[0;32m--> 730\u001b[0m \u001b[38;5;28;01mreturn\u001b[39;00m \u001b[43mfunc\u001b[49m\u001b[43m(\u001b[49m\u001b[38;5;241;43m*\u001b[39;49m\u001b[38;5;241;43m*\u001b[39;49m\u001b[43mkwargs\u001b[49m\u001b[43m)\u001b[49m\n",
      "File \u001b[0;32m/opt/conda/lib/python3.10/site-packages/xgboost/training.py:181\u001b[0m, in \u001b[0;36mtrain\u001b[0;34m(params, dtrain, num_boost_round, evals, obj, feval, maximize, early_stopping_rounds, evals_result, verbose_eval, xgb_model, callbacks, custom_metric)\u001b[0m\n\u001b[1;32m    179\u001b[0m \u001b[38;5;28;01mif\u001b[39;00m cb_container\u001b[38;5;241m.\u001b[39mbefore_iteration(bst, i, dtrain, evals):\n\u001b[1;32m    180\u001b[0m     \u001b[38;5;28;01mbreak\u001b[39;00m\n\u001b[0;32m--> 181\u001b[0m \u001b[43mbst\u001b[49m\u001b[38;5;241;43m.\u001b[39;49m\u001b[43mupdate\u001b[49m\u001b[43m(\u001b[49m\u001b[43mdtrain\u001b[49m\u001b[43m,\u001b[49m\u001b[43m \u001b[49m\u001b[43mi\u001b[49m\u001b[43m,\u001b[49m\u001b[43m \u001b[49m\u001b[43mobj\u001b[49m\u001b[43m)\u001b[49m\n\u001b[1;32m    182\u001b[0m \u001b[38;5;28;01mif\u001b[39;00m cb_container\u001b[38;5;241m.\u001b[39mafter_iteration(bst, i, dtrain, evals):\n\u001b[1;32m    183\u001b[0m     \u001b[38;5;28;01mbreak\u001b[39;00m\n",
      "File \u001b[0;32m/opt/conda/lib/python3.10/site-packages/xgboost/core.py:2051\u001b[0m, in \u001b[0;36mBooster.update\u001b[0;34m(self, dtrain, iteration, fobj)\u001b[0m\n\u001b[1;32m   2047\u001b[0m \u001b[38;5;28mself\u001b[39m\u001b[38;5;241m.\u001b[39m_assign_dmatrix_features(dtrain)\n\u001b[1;32m   2049\u001b[0m \u001b[38;5;28;01mif\u001b[39;00m fobj \u001b[38;5;129;01mis\u001b[39;00m \u001b[38;5;28;01mNone\u001b[39;00m:\n\u001b[1;32m   2050\u001b[0m     _check_call(\n\u001b[0;32m-> 2051\u001b[0m         \u001b[43m_LIB\u001b[49m\u001b[38;5;241;43m.\u001b[39;49m\u001b[43mXGBoosterUpdateOneIter\u001b[49m\u001b[43m(\u001b[49m\n\u001b[1;32m   2052\u001b[0m \u001b[43m            \u001b[49m\u001b[38;5;28;43mself\u001b[39;49m\u001b[38;5;241;43m.\u001b[39;49m\u001b[43mhandle\u001b[49m\u001b[43m,\u001b[49m\u001b[43m \u001b[49m\u001b[43mctypes\u001b[49m\u001b[38;5;241;43m.\u001b[39;49m\u001b[43mc_int\u001b[49m\u001b[43m(\u001b[49m\u001b[43miteration\u001b[49m\u001b[43m)\u001b[49m\u001b[43m,\u001b[49m\u001b[43m \u001b[49m\u001b[43mdtrain\u001b[49m\u001b[38;5;241;43m.\u001b[39;49m\u001b[43mhandle\u001b[49m\n\u001b[1;32m   2053\u001b[0m \u001b[43m        \u001b[49m\u001b[43m)\u001b[49m\n\u001b[1;32m   2054\u001b[0m     )\n\u001b[1;32m   2055\u001b[0m \u001b[38;5;28;01melse\u001b[39;00m:\n\u001b[1;32m   2056\u001b[0m     pred \u001b[38;5;241m=\u001b[39m \u001b[38;5;28mself\u001b[39m\u001b[38;5;241m.\u001b[39mpredict(dtrain, output_margin\u001b[38;5;241m=\u001b[39m\u001b[38;5;28;01mTrue\u001b[39;00m, training\u001b[38;5;241m=\u001b[39m\u001b[38;5;28;01mTrue\u001b[39;00m)\n",
      "\u001b[0;31mKeyboardInterrupt\u001b[0m: "
     ]
    }
   ],
   "source": [
    "from penguinml.gbdt.xgboost import fit_xgb, inference_xgb\n",
    "\n",
    "oof, models = fit_xgb(\n",
    "    data=train,\n",
    "    features=features,\n",
    "    params=CFG[MODEL_NAME][\"params\"],\n",
    "    target_col=\"target\",\n",
    "    fold_col=\"fold\",\n",
    "    target_type=\"regression\",\n",
    "    verbose=500,\n",
    ")"
   ]
  },
  {
   "cell_type": "code",
   "execution_count": null,
   "metadata": {},
   "outputs": [
    {
     "name": "stdout",
     "output_type": "stream",
     "text": [
      "MAE: 0.24828348654153745\n"
     ]
    }
   ],
   "source": [
    "train = train.with_columns(pl.Series(\"oof\", oof))\n",
    "mae = np.abs(train[\"oof\"] - train[\"target\"]).mean()\n",
    "print(f\"MAE: {mae}\")"
   ]
  },
  {
   "cell_type": "code",
   "execution_count": null,
   "metadata": {},
   "outputs": [
    {
     "data": {
      "text/html": [
       "<div><style>\n",
       ".dataframe > thead > tr,\n",
       ".dataframe > tbody > tr {\n",
       "  text-align: right;\n",
       "  white-space: pre-wrap;\n",
       "}\n",
       "</style>\n",
       "<small>shape: (5, 19)</small><table border=\"1\" class=\"dataframe\"><thead><tr><th>ID</th><th>oof_x_0</th><th>oof_y_0</th><th>oof_z_0</th><th>oof_x_1</th><th>oof_y_1</th><th>oof_z_1</th><th>oof_x_2</th><th>oof_y_2</th><th>oof_z_2</th><th>oof_x_3</th><th>oof_y_3</th><th>oof_z_3</th><th>oof_x_4</th><th>oof_y_4</th><th>oof_z_4</th><th>oof_x_5</th><th>oof_y_5</th><th>oof_z_5</th></tr><tr><td>str</td><td>f32</td><td>f32</td><td>f32</td><td>f32</td><td>f32</td><td>f32</td><td>f32</td><td>f32</td><td>f32</td><td>f32</td><td>f32</td><td>f32</td><td>f32</td><td>f32</td><td>f32</td><td>f32</td><td>f32</td><td>f32</td></tr></thead><tbody><tr><td>&quot;00066be8e20318869c38c66be46663…</td><td>2.656915</td><td>0.001131</td><td>0.009627</td><td>5.893553</td><td>-0.010587</td><td>0.030023</td><td>9.18194</td><td>-0.036831</td><td>0.040837</td><td>12.965926</td><td>-0.099607</td><td>0.094276</td><td>16.847355</td><td>-0.057929</td><td>0.116801</td><td>20.483335</td><td>-0.18686</td><td>0.146723</td></tr><tr><td>&quot;00066be8e20318869c38c66be46663…</td><td>5.027689</td><td>-0.044807</td><td>0.008551</td><td>10.35842</td><td>-0.186432</td><td>0.031583</td><td>15.757709</td><td>-0.385246</td><td>0.046305</td><td>21.02219</td><td>-0.590052</td><td>0.082346</td><td>26.734488</td><td>-0.719339</td><td>0.048438</td><td>31.204971</td><td>-0.587725</td><td>0.085927</td></tr><tr><td>&quot;00066be8e20318869c38c66be46663…</td><td>4.740214</td><td>-0.001124</td><td>0.015612</td><td>9.973149</td><td>-0.036259</td><td>0.011427</td><td>15.391037</td><td>-0.088586</td><td>0.026512</td><td>21.105867</td><td>-0.172469</td><td>0.036474</td><td>26.358244</td><td>-0.23055</td><td>0.038452</td><td>31.845316</td><td>-0.236904</td><td>0.03241</td></tr><tr><td>&quot;000fb056f97572d384bae4f5fc1e0f…</td><td>2.677717</td><td>0.02272</td><td>-0.019507</td><td>5.756206</td><td>0.108209</td><td>-0.021867</td><td>8.625203</td><td>0.347694</td><td>-0.053708</td><td>11.449796</td><td>0.729984</td><td>-0.0566</td><td>14.311791</td><td>0.583957</td><td>-0.027609</td><td>16.829885</td><td>1.22661</td><td>-0.022912</td></tr><tr><td>&quot;000fb056f97572d384bae4f5fc1e0f…</td><td>1.635082</td><td>-0.028752</td><td>0.032027</td><td>3.728339</td><td>-0.162773</td><td>0.070247</td><td>6.176766</td><td>-0.300228</td><td>0.078904</td><td>8.936589</td><td>-0.53805</td><td>0.103499</td><td>11.993236</td><td>-1.031518</td><td>0.151469</td><td>15.168142</td><td>-0.66102</td><td>0.173373</td></tr></tbody></table></div>"
      ],
      "text/plain": [
       "shape: (5, 19)\n",
       "┌───────────┬──────────┬───────────┬───────────┬───┬───────────┬───────────┬───────────┬───────────┐\n",
       "│ ID        ┆ oof_x_0  ┆ oof_y_0   ┆ oof_z_0   ┆ … ┆ oof_z_4   ┆ oof_x_5   ┆ oof_y_5   ┆ oof_z_5   │\n",
       "│ ---       ┆ ---      ┆ ---       ┆ ---       ┆   ┆ ---       ┆ ---       ┆ ---       ┆ ---       │\n",
       "│ str       ┆ f32      ┆ f32       ┆ f32       ┆   ┆ f32       ┆ f32       ┆ f32       ┆ f32       │\n",
       "╞═══════════╪══════════╪═══════════╪═══════════╪═══╪═══════════╪═══════════╪═══════════╪═══════════╡\n",
       "│ 00066be8e ┆ 2.656915 ┆ 0.001131  ┆ 0.009627  ┆ … ┆ 0.116801  ┆ 20.483335 ┆ -0.18686  ┆ 0.146723  │\n",
       "│ 20318869c ┆          ┆           ┆           ┆   ┆           ┆           ┆           ┆           │\n",
       "│ 38c66be46 ┆          ┆           ┆           ┆   ┆           ┆           ┆           ┆           │\n",
       "│ 663…      ┆          ┆           ┆           ┆   ┆           ┆           ┆           ┆           │\n",
       "│ 00066be8e ┆ 5.027689 ┆ -0.044807 ┆ 0.008551  ┆ … ┆ 0.048438  ┆ 31.204971 ┆ -0.587725 ┆ 0.085927  │\n",
       "│ 20318869c ┆          ┆           ┆           ┆   ┆           ┆           ┆           ┆           │\n",
       "│ 38c66be46 ┆          ┆           ┆           ┆   ┆           ┆           ┆           ┆           │\n",
       "│ 663…      ┆          ┆           ┆           ┆   ┆           ┆           ┆           ┆           │\n",
       "│ 00066be8e ┆ 4.740214 ┆ -0.001124 ┆ 0.015612  ┆ … ┆ 0.038452  ┆ 31.845316 ┆ -0.236904 ┆ 0.03241   │\n",
       "│ 20318869c ┆          ┆           ┆           ┆   ┆           ┆           ┆           ┆           │\n",
       "│ 38c66be46 ┆          ┆           ┆           ┆   ┆           ┆           ┆           ┆           │\n",
       "│ 663…      ┆          ┆           ┆           ┆   ┆           ┆           ┆           ┆           │\n",
       "│ 000fb056f ┆ 2.677717 ┆ 0.02272   ┆ -0.019507 ┆ … ┆ -0.027609 ┆ 16.829885 ┆ 1.22661   ┆ -0.022912 │\n",
       "│ 97572d384 ┆          ┆           ┆           ┆   ┆           ┆           ┆           ┆           │\n",
       "│ bae4f5fc1 ┆          ┆           ┆           ┆   ┆           ┆           ┆           ┆           │\n",
       "│ e0f…      ┆          ┆           ┆           ┆   ┆           ┆           ┆           ┆           │\n",
       "│ 000fb056f ┆ 1.635082 ┆ -0.028752 ┆ 0.032027  ┆ … ┆ 0.151469  ┆ 15.168142 ┆ -0.66102  ┆ 0.173373  │\n",
       "│ 97572d384 ┆          ┆           ┆           ┆   ┆           ┆           ┆           ┆           │\n",
       "│ bae4f5fc1 ┆          ┆           ┆           ┆   ┆           ┆           ┆           ┆           │\n",
       "│ e0f…      ┆          ┆           ┆           ┆   ┆           ┆           ┆           ┆           │\n",
       "└───────────┴──────────┴───────────┴───────────┴───┴───────────┴───────────┴───────────┴───────────┘"
      ]
     },
     "execution_count": 12,
     "metadata": {},
     "output_type": "execute_result"
    }
   ],
   "source": [
    "rev_dict = {v: \"oof_\" + k for k, v in CATEGORY_MAPPING[\"target_name\"].items()}\n",
    "oof_df = (\n",
    "    train.select([\"ID\", \"target_name\", \"oof\"])\n",
    "    .with_columns(pl.col(\"target_name\").replace_strict(rev_dict))\n",
    "    .pivot(index=\"ID\", columns=\"target_name\", values=\"oof\")\n",
    ")\n",
    "oof_df.head()"
   ]
  },
  {
   "cell_type": "code",
   "execution_count": null,
   "metadata": {},
   "outputs": [],
   "source": [
    "oof_df.write_csv(os.path.join(CFG[\"output_dir\"], \"oof.csv\"))"
   ]
  },
  {
   "cell_type": "code",
   "execution_count": null,
   "metadata": {},
   "outputs": [],
   "source": []
  }
 ],
 "metadata": {
  "kernelspec": {
   "display_name": "base",
   "language": "python",
   "name": "python3"
  },
  "language_info": {
   "codemirror_mode": {
    "name": "ipython",
    "version": 3
   },
   "file_extension": ".py",
   "mimetype": "text/x-python",
   "name": "python",
   "nbconvert_exporter": "python",
   "pygments_lexer": "ipython3",
   "version": "3.10.14"
  }
 },
 "nbformat": 4,
 "nbformat_minor": 2
}
