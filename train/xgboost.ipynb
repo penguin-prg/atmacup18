{
 "cells": [
  {
   "cell_type": "code",
   "execution_count": 12,
   "metadata": {},
   "outputs": [
    {
     "name": "stdout",
     "output_type": "stream",
     "text": [
      "/kaggle/working\n"
     ]
    }
   ],
   "source": [
    "!rm -r /kaggle/working/*\n",
    "%cd /kaggle/working"
   ]
  },
  {
   "cell_type": "code",
   "execution_count": 13,
   "metadata": {},
   "outputs": [],
   "source": [
    "import os\n",
    "import sys\n",
    "\n",
    "PACKAGE_DIR = \"/kaggle/src\"\n",
    "sys.path.append(PACKAGE_DIR)\n",
    "sys.path.append(os.path.join(PACKAGE_DIR, \"Penguin-ML-Library\"))"
   ]
  },
  {
   "cell_type": "code",
   "execution_count": 14,
   "metadata": {},
   "outputs": [
    {
     "name": "stdout",
     "output_type": "stream",
     "text": [
      "exp_004\n"
     ]
    },
    {
     "name": "stderr",
     "output_type": "stream",
     "text": [
      "set seed: 46\n"
     ]
    }
   ],
   "source": [
    "import yaml\n",
    "from penguinml.utils.logger import get_logger, init_logger\n",
    "from penguinml.utils.set_seed import seed_base\n",
    "\n",
    "MODEL_NAME = \"xgboost\"\n",
    "CFG = yaml.safe_load(open(os.path.join(PACKAGE_DIR, \"config.yaml\"), \"r\"))\n",
    "print(CFG[MODEL_NAME][\"execution\"][\"exp_id\"])\n",
    "CFG[\"output_dir\"] = f\"/kaggle/output/{CFG[MODEL_NAME]['execution']['exp_id']}\"\n",
    "!rm -r {CFG[\"output_dir\"]}\n",
    "os.makedirs(CFG[\"output_dir\"], exist_ok=True)\n",
    "\n",
    "init_logger(f\"{ CFG[MODEL_NAME]['execution']['exp_id']}.log\")\n",
    "logger = get_logger(\"main\")\n",
    "seed_base(CFG[MODEL_NAME][\"execution\"][\"seed\"])"
   ]
  },
  {
   "cell_type": "code",
   "execution_count": 15,
   "metadata": {},
   "outputs": [],
   "source": [
    "import warnings\n",
    "\n",
    "import numpy as np\n",
    "import polars as pl\n",
    "\n",
    "warnings.filterwarnings(\"ignore\")"
   ]
  },
  {
   "cell_type": "code",
   "execution_count": 16,
   "metadata": {},
   "outputs": [
    {
     "name": "stdout",
     "output_type": "stream",
     "text": [
      "(43371, 32)\n"
     ]
    },
    {
     "data": {
      "text/html": [
       "<div><style>\n",
       ".dataframe > thead > tr,\n",
       ".dataframe > tbody > tr {\n",
       "  text-align: right;\n",
       "  white-space: pre-wrap;\n",
       "}\n",
       "</style>\n",
       "<small>shape: (1, 32)</small><table border=\"1\" class=\"dataframe\"><thead><tr><th>ID</th><th>vEgo</th><th>aEgo</th><th>steeringAngleDeg</th><th>steeringTorque</th><th>brake</th><th>brakePressed</th><th>gas</th><th>gasPressed</th><th>gearShifter</th><th>leftBlinker</th><th>rightBlinker</th><th>x_0</th><th>y_0</th><th>z_0</th><th>x_1</th><th>y_1</th><th>z_1</th><th>x_2</th><th>y_2</th><th>z_2</th><th>x_3</th><th>y_3</th><th>z_3</th><th>x_4</th><th>y_4</th><th>z_4</th><th>x_5</th><th>y_5</th><th>z_5</th><th>sceneID</th><th>offset</th></tr><tr><td>str</td><td>f64</td><td>f64</td><td>f64</td><td>f64</td><td>f64</td><td>bool</td><td>f64</td><td>bool</td><td>str</td><td>bool</td><td>bool</td><td>f64</td><td>f64</td><td>f64</td><td>f64</td><td>f64</td><td>f64</td><td>f64</td><td>f64</td><td>f64</td><td>f64</td><td>f64</td><td>f64</td><td>f64</td><td>f64</td><td>f64</td><td>f64</td><td>f64</td><td>f64</td><td>str</td><td>f32</td></tr></thead><tbody><tr><td>&quot;00066be8e20318869c38c66be46663…</td><td>5.701526</td><td>1.538456</td><td>-2.165777</td><td>-139.0</td><td>0.0</td><td>false</td><td>0.25</td><td>true</td><td>&quot;drive&quot;</td><td>false</td><td>false</td><td>2.82959</td><td>0.032226</td><td>0.045187</td><td>6.231999</td><td>0.065895</td><td>0.107974</td><td>9.785009</td><td>0.124972</td><td>0.203649</td><td>13.485472</td><td>0.163448</td><td>0.302818</td><td>17.574227</td><td>0.174289</td><td>0.406331</td><td>21.951269</td><td>0.199503</td><td>0.485079</td><td>&quot;00066be8e20318869c38c66be46663…</td><td>320.0</td></tr></tbody></table></div>"
      ],
      "text/plain": [
       "shape: (1, 32)\n",
       "┌─────────────┬──────────┬──────────┬─────────────┬───┬──────────┬──────────┬─────────────┬────────┐\n",
       "│ ID          ┆ vEgo     ┆ aEgo     ┆ steeringAng ┆ … ┆ y_5      ┆ z_5      ┆ sceneID     ┆ offset │\n",
       "│ ---         ┆ ---      ┆ ---      ┆ leDeg       ┆   ┆ ---      ┆ ---      ┆ ---         ┆ ---    │\n",
       "│ str         ┆ f64      ┆ f64      ┆ ---         ┆   ┆ f64      ┆ f64      ┆ str         ┆ f32    │\n",
       "│             ┆          ┆          ┆ f64         ┆   ┆          ┆          ┆             ┆        │\n",
       "╞═════════════╪══════════╪══════════╪═════════════╪═══╪══════════╪══════════╪═════════════╪════════╡\n",
       "│ 00066be8e20 ┆ 5.701526 ┆ 1.538456 ┆ -2.165777   ┆ … ┆ 0.199503 ┆ 0.485079 ┆ 00066be8e20 ┆ 320.0  │\n",
       "│ 318869c38c6 ┆          ┆          ┆             ┆   ┆          ┆          ┆ 318869c38c6 ┆        │\n",
       "│ 6be46663…   ┆          ┆          ┆             ┆   ┆          ┆          ┆ 6be46663…   ┆        │\n",
       "└─────────────┴──────────┴──────────┴─────────────┴───┴──────────┴──────────┴─────────────┴────────┘"
      ]
     },
     "execution_count": 16,
     "metadata": {},
     "output_type": "execute_result"
    }
   ],
   "source": [
    "train = pl.read_csv(os.path.join(CFG[\"dataset\"][\"competition_dir\"], \"train_features.csv\"))\n",
    "train = (\n",
    "    train.with_columns(\n",
    "        pl.col(\"ID\").str.split_exact(\"_\", n=1).struct.rename_fields([\"sceneID\", \"offset\"]).alias(\"fields\")\n",
    "    )\n",
    "    .unnest(\"fields\")\n",
    "    .with_columns(pl.col(\"offset\").cast(pl.Float32))\n",
    ")\n",
    "print(train.shape)\n",
    "train.head(1)"
   ]
  },
  {
   "cell_type": "markdown",
   "metadata": {},
   "source": [
    "## 特徴量生成\n"
   ]
  },
  {
   "cell_type": "code",
   "execution_count": 17,
   "metadata": {},
   "outputs": [],
   "source": [
    "from penguinml.utils.contena import FeatureContena\n",
    "\n",
    "features = FeatureContena()\n",
    "features.add_num_features(\n",
    "    [\n",
    "        \"vEgo\",\n",
    "        \"aEgo\",\n",
    "        \"steeringAngleDeg\",\n",
    "        \"steeringTorque\",\n",
    "        \"brake\",\n",
    "        \"brakePressed\",\n",
    "        \"gas\",\n",
    "        \"gasPressed\",\n",
    "        \"leftBlinker\",\n",
    "        \"rightBlinker\",\n",
    "        \"offset\",\n",
    "    ]\n",
    ")\n",
    "features.add_cat_features([\"gearShifter\"])"
   ]
  },
  {
   "cell_type": "code",
   "execution_count": 18,
   "metadata": {},
   "outputs": [],
   "source": [
    "# train = train.with_columns(\n",
    "#     (pl.col(\"vEgo\") / pl.col(\"aEgo\")).alias(\"vEgo/aEgo\"),\n",
    "# )\n",
    "# features.add_num_features([\"vEgo/aEgo\"])"
   ]
  },
  {
   "cell_type": "markdown",
   "metadata": {},
   "source": [
    "## ターゲット列を分解\n"
   ]
  },
  {
   "cell_type": "code",
   "execution_count": 19,
   "metadata": {},
   "outputs": [
    {
     "data": {
      "text/html": [
       "<div><style>\n",
       ".dataframe > thead > tr,\n",
       ".dataframe > tbody > tr {\n",
       "  text-align: right;\n",
       "  white-space: pre-wrap;\n",
       "}\n",
       "</style>\n",
       "<small>shape: (1, 18)</small><table border=\"1\" class=\"dataframe\"><thead><tr><th>ID</th><th>target_name</th><th>target</th><th>vEgo</th><th>aEgo</th><th>steeringAngleDeg</th><th>steeringTorque</th><th>brake</th><th>brakePressed</th><th>gas</th><th>gasPressed</th><th>gearShifter</th><th>leftBlinker</th><th>rightBlinker</th><th>sceneID</th><th>offset</th><th>dt</th><th>xyz</th></tr><tr><td>str</td><td>str</td><td>f64</td><td>f64</td><td>f64</td><td>f64</td><td>f64</td><td>f64</td><td>bool</td><td>f64</td><td>bool</td><td>str</td><td>bool</td><td>bool</td><td>str</td><td>f32</td><td>f32</td><td>str</td></tr></thead><tbody><tr><td>&quot;00066be8e20318869c38c66be46663…</td><td>&quot;x_0&quot;</td><td>2.82959</td><td>5.701526</td><td>1.538456</td><td>-2.165777</td><td>-139.0</td><td>0.0</td><td>false</td><td>0.25</td><td>true</td><td>&quot;drive&quot;</td><td>false</td><td>false</td><td>&quot;00066be8e20318869c38c66be46663…</td><td>320.0</td><td>0.5</td><td>&quot;x&quot;</td></tr></tbody></table></div>"
      ],
      "text/plain": [
       "shape: (1, 18)\n",
       "┌───────────────────┬─────────────┬─────────┬──────────┬───┬──────────────────┬────────┬─────┬─────┐\n",
       "│ ID                ┆ target_name ┆ target  ┆ vEgo     ┆ … ┆ sceneID          ┆ offset ┆ dt  ┆ xyz │\n",
       "│ ---               ┆ ---         ┆ ---     ┆ ---      ┆   ┆ ---              ┆ ---    ┆ --- ┆ --- │\n",
       "│ str               ┆ str         ┆ f64     ┆ f64      ┆   ┆ str              ┆ f32    ┆ f32 ┆ str │\n",
       "╞═══════════════════╪═════════════╪═════════╪══════════╪═══╪══════════════════╪════════╪═════╪═════╡\n",
       "│ 00066be8e20318869 ┆ x_0         ┆ 2.82959 ┆ 5.701526 ┆ … ┆ 00066be8e2031886 ┆ 320.0  ┆ 0.5 ┆ x   │\n",
       "│ c38c66be46663…    ┆             ┆         ┆          ┆   ┆ 9c38c66be46663…  ┆        ┆     ┆     │\n",
       "└───────────────────┴─────────────┴─────────┴──────────┴───┴──────────────────┴────────┴─────┴─────┘"
      ]
     },
     "execution_count": 19,
     "metadata": {},
     "output_type": "execute_result"
    }
   ],
   "source": [
    "from const import TARGET_COLS\n",
    "\n",
    "train = (\n",
    "    train.unpivot(index=\"ID\", on=TARGET_COLS, variable_name=\"target_name\", value_name=\"target\")\n",
    "    .join(\n",
    "        train.drop(TARGET_COLS),\n",
    "        on=\"ID\",\n",
    "        how=\"left\",\n",
    "    )\n",
    "    .with_columns(\n",
    "        (\n",
    "            pl.col(\"target_name\").map_elements(lambda x: float(x.split(\"_\")[1]), return_dtype=pl.Float32) * 0.5 + 0.5\n",
    "        ).alias(\"dt\"),\n",
    "        pl.col(\"target_name\").map_elements(lambda x: x.split(\"_\")[0], return_dtype=str).alias(\"xyz\"),\n",
    "    )\n",
    ")\n",
    "features.add_cat_features([\"target_name\", \"xyz\"])\n",
    "train.head(1)"
   ]
  },
  {
   "cell_type": "code",
   "execution_count": 20,
   "metadata": {},
   "outputs": [],
   "source": [
    "# dt秒後の特徴\n",
    "train = train.with_columns(\n",
    "    # vt\n",
    "    (pl.col(\"vEgo\") * pl.col(\"dt\").cast(pl.Float32)).alias(\"linear_movement@dt\"),\n",
    "    # vt + 0.5at^2\n",
    "    ((pl.col(\"vEgo\") + 0.5 * pl.col(\"aEgo\") * pl.col(\"dt\").cast(pl.Float32) ** 2).alias(\"movement@dt\")),\n",
    "    # v + at\n",
    "    (pl.col(\"vEgo\") + pl.col(\"aEgo\") * pl.col(\"dt\").cast(pl.Float32)).alias(\"velocity@dt\"),\n",
    "    # # cos\n",
    "    # (pl.col(\"steeringAngleDeg\").map_elements(lambda x: np.cos(np.deg2rad(x)), return_dtype=pl.Float32)).alias(\"cos\"),\n",
    "    # # sin\n",
    "    # (pl.col(\"steeringAngleDeg\").map_elements(lambda x: np.sin(np.deg2rad(x)), return_dtype=pl.Float32)).alias(\"sin\"),\n",
    ").with_columns(\n",
    "    # (pl.col(\"movement@dt\") * pl.col(\"cos\")).alias(\"movement@dt*cos\"),\n",
    "    # (pl.col(\"movement@dt\") * pl.col(\"sin\")).alias(\"movement@dt*sin\"),\n",
    "    # (pl.col(\"linear_movement@dt\") * pl.col(\"cos\")).alias(\"linear_movement@dt*cos\"),\n",
    "    # (pl.col(\"linear_movement@dt\") * pl.col(\"sin\")).alias(\"linear_movement@dt*sin\"),\n",
    "    # (pl.col(\"velocity@dt\") * pl.col(\"cos\")).alias(\"velocity@dt*cos\"),\n",
    "    # (pl.col(\"velocity@dt\") * pl.col(\"sin\")).alias(\"velocity@dt*sin\"),\n",
    ")\n",
    "\n",
    "features.add_num_features(\n",
    "    [\n",
    "        \"linear_movement@dt\",\n",
    "        \"movement@dt\",\n",
    "        \"velocity@dt\",\n",
    "        # \"cos\",\n",
    "        # \"sin\",\n",
    "        # \"movement@dt*cos\",\n",
    "        # \"movement@dt*sin\",\n",
    "        # \"linear_movement@dt*cos\",\n",
    "        # \"linear_movement@dt*sin\",\n",
    "        # \"velocity@dt*cos\",\n",
    "        # \"velocity@dt*sin\",\n",
    "    ]\n",
    ")"
   ]
  },
  {
   "cell_type": "code",
   "execution_count": 21,
   "metadata": {},
   "outputs": [],
   "source": [
    "# シーン内の集約特徴量\n",
    "train = train.with_columns(\n",
    "    pl.col(\"offset\").max().over(\"sceneID\").alias(\"offset_max\"),\n",
    "    pl.col(\"offset\").min().over(\"sceneID\").alias(\"offset_min\"),\n",
    "    pl.col(\"movement@dt\").mean().over(\"sceneID\").alias(\"movement@dt_mean\"),\n",
    ")\n",
    "features.add_num_features([\"offset_max\", \"offset_min\", \"movement@dt_mean\"])"
   ]
  },
  {
   "cell_type": "code",
   "execution_count": 22,
   "metadata": {},
   "outputs": [],
   "source": [
    "from const import CATEGORY_MAPPING\n",
    "\n",
    "for c in features.num_features():\n",
    "    train = train.with_columns(pl.col(c).cast(pl.Float32))\n",
    "\n",
    "for c in features.cat_features():\n",
    "    mapping = CATEGORY_MAPPING[c]\n",
    "    train = train.with_columns(pl.col(c).replace_strict(mapping).cast(pl.Int32))"
   ]
  },
  {
   "cell_type": "markdown",
   "metadata": {},
   "source": [
    "## CV Split\n"
   ]
  },
  {
   "cell_type": "code",
   "execution_count": 23,
   "metadata": {},
   "outputs": [],
   "source": [
    "train_folds = pl.read_csv(CFG[\"dataset\"][\"train_fold_path\"])\n",
    "train = train.join(train_folds, on=\"sceneID\", how=\"left\")\n",
    "assert train[\"fold\"].null_count() == 0"
   ]
  },
  {
   "cell_type": "markdown",
   "metadata": {},
   "source": [
    "## Training\n"
   ]
  },
  {
   "cell_type": "code",
   "execution_count": 24,
   "metadata": {},
   "outputs": [
    {
     "name": "stdout",
     "output_type": "stream",
     "text": [
      "== fold 0 ==\n",
      "[0]\tvalidation_0-mae:5.29697\n",
      "[500]\tvalidation_0-mae:0.25255\n",
      "[1000]\tvalidation_0-mae:0.24417\n",
      "[1500]\tvalidation_0-mae:0.24074\n",
      "[2000]\tvalidation_0-mae:0.23887\n",
      "[2500]\tvalidation_0-mae:0.23744\n",
      "[3000]\tvalidation_0-mae:0.23631\n",
      "[3500]\tvalidation_0-mae:0.23568\n",
      "[4000]\tvalidation_0-mae:0.23514\n",
      "[4500]\tvalidation_0-mae:0.23489\n",
      "[5000]\tvalidation_0-mae:0.23459\n",
      "[5500]\tvalidation_0-mae:0.23447\n",
      "[6000]\tvalidation_0-mae:0.23437\n",
      "[6500]\tvalidation_0-mae:0.23428\n",
      "[7000]\tvalidation_0-mae:0.23415\n",
      "[7500]\tvalidation_0-mae:0.23411\n",
      "[8000]\tvalidation_0-mae:0.23406\n",
      "[8500]\tvalidation_0-mae:0.23401\n",
      "[9000]\tvalidation_0-mae:0.23398\n",
      "[9500]\tvalidation_0-mae:0.23393\n",
      "[10000]\tvalidation_0-mae:0.23386\n",
      "[10500]\tvalidation_0-mae:0.23382\n",
      "[11000]\tvalidation_0-mae:0.23380\n",
      "[11500]\tvalidation_0-mae:0.23376\n",
      "[12000]\tvalidation_0-mae:0.23374\n",
      "[12500]\tvalidation_0-mae:0.23373\n",
      "[13000]\tvalidation_0-mae:0.23372\n",
      "[13500]\tvalidation_0-mae:0.23369\n",
      "[13782]\tvalidation_0-mae:0.23368\n",
      "== fold 1 ==\n",
      "[0]\tvalidation_0-mae:5.19917\n",
      "[500]\tvalidation_0-mae:0.25691\n",
      "[1000]\tvalidation_0-mae:0.24835\n",
      "[1500]\tvalidation_0-mae:0.24479\n",
      "[2000]\tvalidation_0-mae:0.24292\n",
      "[2500]\tvalidation_0-mae:0.24175\n",
      "[3000]\tvalidation_0-mae:0.24091\n",
      "[3500]\tvalidation_0-mae:0.24037\n",
      "[4000]\tvalidation_0-mae:0.23992\n",
      "[4500]\tvalidation_0-mae:0.23962\n",
      "[5000]\tvalidation_0-mae:0.23943\n",
      "[5500]\tvalidation_0-mae:0.23929\n",
      "[6000]\tvalidation_0-mae:0.23916\n",
      "[6500]\tvalidation_0-mae:0.23903\n",
      "[7000]\tvalidation_0-mae:0.23892\n",
      "[7500]\tvalidation_0-mae:0.23887\n",
      "[8000]\tvalidation_0-mae:0.23883\n",
      "[8500]\tvalidation_0-mae:0.23877\n",
      "[9000]\tvalidation_0-mae:0.23872\n",
      "[9500]\tvalidation_0-mae:0.23866\n",
      "[10000]\tvalidation_0-mae:0.23861\n",
      "[10500]\tvalidation_0-mae:0.23852\n",
      "[11000]\tvalidation_0-mae:0.23846\n",
      "[11500]\tvalidation_0-mae:0.23841\n",
      "[11813]\tvalidation_0-mae:0.23840\n",
      "== fold 2 ==\n",
      "[0]\tvalidation_0-mae:5.29866\n",
      "[500]\tvalidation_0-mae:0.25692\n",
      "[1000]\tvalidation_0-mae:0.24911\n",
      "[1500]\tvalidation_0-mae:0.24581\n",
      "[2000]\tvalidation_0-mae:0.24396\n",
      "[2500]\tvalidation_0-mae:0.24268\n",
      "[3000]\tvalidation_0-mae:0.24177\n",
      "[3500]\tvalidation_0-mae:0.24135\n",
      "[4000]\tvalidation_0-mae:0.24086\n",
      "[4500]\tvalidation_0-mae:0.24058\n",
      "[5000]\tvalidation_0-mae:0.24032\n",
      "[5500]\tvalidation_0-mae:0.24019\n",
      "[6000]\tvalidation_0-mae:0.24007\n",
      "[6500]\tvalidation_0-mae:0.23998\n",
      "[7000]\tvalidation_0-mae:0.23993\n",
      "[7500]\tvalidation_0-mae:0.23990\n",
      "[8000]\tvalidation_0-mae:0.23986\n",
      "[8500]\tvalidation_0-mae:0.23983\n",
      "[9000]\tvalidation_0-mae:0.23980\n",
      "[9500]\tvalidation_0-mae:0.23976\n",
      "[10000]\tvalidation_0-mae:0.23973\n",
      "[10500]\tvalidation_0-mae:0.23969\n",
      "[11000]\tvalidation_0-mae:0.23966\n",
      "[11500]\tvalidation_0-mae:0.23961\n",
      "[12000]\tvalidation_0-mae:0.23959\n",
      "[12500]\tvalidation_0-mae:0.23958\n",
      "[13000]\tvalidation_0-mae:0.23953\n",
      "[13500]\tvalidation_0-mae:0.23949\n",
      "[14000]\tvalidation_0-mae:0.23947\n",
      "[14500]\tvalidation_0-mae:0.23944\n",
      "[15000]\tvalidation_0-mae:0.23943\n",
      "[15500]\tvalidation_0-mae:0.23941\n",
      "[16000]\tvalidation_0-mae:0.23939\n",
      "[16500]\tvalidation_0-mae:0.23937\n",
      "[17000]\tvalidation_0-mae:0.23935\n",
      "[17500]\tvalidation_0-mae:0.23934\n",
      "[18000]\tvalidation_0-mae:0.23932\n",
      "[18500]\tvalidation_0-mae:0.23931\n",
      "[19000]\tvalidation_0-mae:0.23929\n",
      "[19500]\tvalidation_0-mae:0.23926\n",
      "[20000]\tvalidation_0-mae:0.23924\n",
      "[20500]\tvalidation_0-mae:0.23923\n",
      "[21000]\tvalidation_0-mae:0.23921\n",
      "[21500]\tvalidation_0-mae:0.23920\n",
      "[22000]\tvalidation_0-mae:0.23918\n",
      "[22500]\tvalidation_0-mae:0.23916\n",
      "[23000]\tvalidation_0-mae:0.23914\n",
      "[23481]\tvalidation_0-mae:0.23913\n",
      "== fold 3 ==\n",
      "[0]\tvalidation_0-mae:5.33192\n",
      "[500]\tvalidation_0-mae:0.25408\n",
      "[1000]\tvalidation_0-mae:0.24654\n",
      "[1500]\tvalidation_0-mae:0.24336\n",
      "[2000]\tvalidation_0-mae:0.24148\n",
      "[2500]\tvalidation_0-mae:0.24026\n",
      "[3000]\tvalidation_0-mae:0.23949\n",
      "[3500]\tvalidation_0-mae:0.23881\n",
      "[4000]\tvalidation_0-mae:0.23848\n",
      "[4500]\tvalidation_0-mae:0.23822\n",
      "[5000]\tvalidation_0-mae:0.23792\n",
      "[5500]\tvalidation_0-mae:0.23774\n",
      "[6000]\tvalidation_0-mae:0.23766\n",
      "[6500]\tvalidation_0-mae:0.23753\n",
      "[7000]\tvalidation_0-mae:0.23745\n",
      "[7500]\tvalidation_0-mae:0.23738\n",
      "[8000]\tvalidation_0-mae:0.23731\n",
      "[8500]\tvalidation_0-mae:0.23725\n",
      "[9000]\tvalidation_0-mae:0.23720\n",
      "[9500]\tvalidation_0-mae:0.23716\n",
      "[10000]\tvalidation_0-mae:0.23713\n",
      "[10500]\tvalidation_0-mae:0.23709\n",
      "[10693]\tvalidation_0-mae:0.23709\n",
      "== fold 4 ==\n",
      "[0]\tvalidation_0-mae:5.17086\n",
      "[500]\tvalidation_0-mae:0.26138\n",
      "[1000]\tvalidation_0-mae:0.25188\n",
      "[1500]\tvalidation_0-mae:0.24856\n",
      "[2000]\tvalidation_0-mae:0.24630\n",
      "[2500]\tvalidation_0-mae:0.24503\n",
      "[3000]\tvalidation_0-mae:0.24429\n",
      "[3500]\tvalidation_0-mae:0.24361\n",
      "[4000]\tvalidation_0-mae:0.24336\n",
      "[4500]\tvalidation_0-mae:0.24301\n",
      "[5000]\tvalidation_0-mae:0.24272\n",
      "[5500]\tvalidation_0-mae:0.24253\n",
      "[6000]\tvalidation_0-mae:0.24241\n",
      "[6500]\tvalidation_0-mae:0.24233\n",
      "[7000]\tvalidation_0-mae:0.24227\n",
      "[7500]\tvalidation_0-mae:0.24223\n",
      "[8000]\tvalidation_0-mae:0.24219\n",
      "[8500]\tvalidation_0-mae:0.24211\n",
      "[9000]\tvalidation_0-mae:0.24208\n",
      "[9500]\tvalidation_0-mae:0.24203\n",
      "[10000]\tvalidation_0-mae:0.24199\n",
      "[10500]\tvalidation_0-mae:0.24195\n",
      "[11000]\tvalidation_0-mae:0.24189\n",
      "[11500]\tvalidation_0-mae:0.24181\n",
      "[12000]\tvalidation_0-mae:0.24173\n",
      "[12500]\tvalidation_0-mae:0.24169\n",
      "[13000]\tvalidation_0-mae:0.24163\n",
      "[13500]\tvalidation_0-mae:0.24160\n",
      "[14000]\tvalidation_0-mae:0.24156\n",
      "[14500]\tvalidation_0-mae:0.24153\n",
      "[15000]\tvalidation_0-mae:0.24152\n",
      "[15500]\tvalidation_0-mae:0.24150\n",
      "[16000]\tvalidation_0-mae:0.24147\n",
      "[16500]\tvalidation_0-mae:0.24144\n",
      "[17000]\tvalidation_0-mae:0.24142\n",
      "[17500]\tvalidation_0-mae:0.24141\n",
      "[18000]\tvalidation_0-mae:0.24139\n",
      "[18500]\tvalidation_0-mae:0.24139\n",
      "[18740]\tvalidation_0-mae:0.24139\n"
     ]
    }
   ],
   "source": [
    "from penguinml.gbdt.xgboost import fit_xgb, inference_xgb\n",
    "\n",
    "oof, models = fit_xgb(\n",
    "    data=train,\n",
    "    features=features,\n",
    "    params=CFG[MODEL_NAME][\"params\"],\n",
    "    target_col=\"target\",\n",
    "    fold_col=\"fold\",\n",
    "    target_type=\"regression\",\n",
    "    verbose=500,\n",
    ")"
   ]
  },
  {
   "cell_type": "code",
   "execution_count": 25,
   "metadata": {},
   "outputs": [
    {
     "name": "stdout",
     "output_type": "stream",
     "text": [
      "MAE: 0.23793598021436901\n"
     ]
    }
   ],
   "source": [
    "train = train.with_columns(pl.Series(\"oof\", oof))\n",
    "mae = np.abs(train[\"oof\"] - train[\"target\"]).mean()\n",
    "print(f\"MAE: {mae}\")"
   ]
  },
  {
   "cell_type": "code",
   "execution_count": 26,
   "metadata": {},
   "outputs": [
    {
     "data": {
      "text/html": [
       "<div><style>\n",
       ".dataframe > thead > tr,\n",
       ".dataframe > tbody > tr {\n",
       "  text-align: right;\n",
       "  white-space: pre-wrap;\n",
       "}\n",
       "</style>\n",
       "<small>shape: (5, 19)</small><table border=\"1\" class=\"dataframe\"><thead><tr><th>ID</th><th>oof_x_0</th><th>oof_y_0</th><th>oof_z_0</th><th>oof_x_1</th><th>oof_y_1</th><th>oof_z_1</th><th>oof_x_2</th><th>oof_y_2</th><th>oof_z_2</th><th>oof_x_3</th><th>oof_y_3</th><th>oof_z_3</th><th>oof_x_4</th><th>oof_y_4</th><th>oof_z_4</th><th>oof_x_5</th><th>oof_y_5</th><th>oof_z_5</th></tr><tr><td>str</td><td>f32</td><td>f32</td><td>f32</td><td>f32</td><td>f32</td><td>f32</td><td>f32</td><td>f32</td><td>f32</td><td>f32</td><td>f32</td><td>f32</td><td>f32</td><td>f32</td><td>f32</td><td>f32</td><td>f32</td><td>f32</td></tr></thead><tbody><tr><td>&quot;00066be8e20318869c38c66be46663…</td><td>2.610721</td><td>0.01667</td><td>0.036748</td><td>5.754883</td><td>-0.000767</td><td>0.070798</td><td>9.273259</td><td>-0.053855</td><td>0.086155</td><td>13.400752</td><td>-0.093539</td><td>0.10472</td><td>17.349228</td><td>-0.124245</td><td>0.154924</td><td>21.129898</td><td>-0.159528</td><td>0.194338</td></tr><tr><td>&quot;00066be8e20318869c38c66be46663…</td><td>4.948875</td><td>-0.109268</td><td>0.018639</td><td>10.379826</td><td>-0.232712</td><td>0.02561</td><td>16.258934</td><td>-0.489957</td><td>0.01099</td><td>21.829414</td><td>-0.671362</td><td>0.027392</td><td>27.149614</td><td>-0.981284</td><td>0.015576</td><td>32.848</td><td>-1.012712</td><td>0.066774</td></tr><tr><td>&quot;00066be8e20318869c38c66be46663…</td><td>4.719566</td><td>-0.013497</td><td>0.050126</td><td>10.139306</td><td>-0.051783</td><td>0.079614</td><td>15.471722</td><td>-0.11778</td><td>0.083318</td><td>20.711473</td><td>-0.164968</td><td>0.102695</td><td>26.159332</td><td>-0.239052</td><td>0.10897</td><td>31.790152</td><td>-0.297961</td><td>0.123865</td></tr><tr><td>&quot;000fb056f97572d384bae4f5fc1e0f…</td><td>2.774982</td><td>0.015447</td><td>-0.005652</td><td>5.806592</td><td>0.145121</td><td>0.003463</td><td>8.874857</td><td>0.343834</td><td>-0.012123</td><td>11.639286</td><td>0.574048</td><td>-0.012894</td><td>14.452477</td><td>0.90752</td><td>-0.030548</td><td>17.002306</td><td>1.135498</td><td>-0.028062</td></tr><tr><td>&quot;000fb056f97572d384bae4f5fc1e0f…</td><td>1.612542</td><td>-0.037148</td><td>0.012182</td><td>3.61493</td><td>-0.138384</td><td>0.033436</td><td>6.43594</td><td>-0.304285</td><td>0.058137</td><td>9.121244</td><td>-0.434751</td><td>0.082854</td><td>11.567533</td><td>-0.589202</td><td>0.109267</td><td>14.99752</td><td>-0.869779</td><td>0.116967</td></tr></tbody></table></div>"
      ],
      "text/plain": [
       "shape: (5, 19)\n",
       "┌───────────┬──────────┬───────────┬───────────┬───┬───────────┬───────────┬───────────┬───────────┐\n",
       "│ ID        ┆ oof_x_0  ┆ oof_y_0   ┆ oof_z_0   ┆ … ┆ oof_z_4   ┆ oof_x_5   ┆ oof_y_5   ┆ oof_z_5   │\n",
       "│ ---       ┆ ---      ┆ ---       ┆ ---       ┆   ┆ ---       ┆ ---       ┆ ---       ┆ ---       │\n",
       "│ str       ┆ f32      ┆ f32       ┆ f32       ┆   ┆ f32       ┆ f32       ┆ f32       ┆ f32       │\n",
       "╞═══════════╪══════════╪═══════════╪═══════════╪═══╪═══════════╪═══════════╪═══════════╪═══════════╡\n",
       "│ 00066be8e ┆ 2.610721 ┆ 0.01667   ┆ 0.036748  ┆ … ┆ 0.154924  ┆ 21.129898 ┆ -0.159528 ┆ 0.194338  │\n",
       "│ 20318869c ┆          ┆           ┆           ┆   ┆           ┆           ┆           ┆           │\n",
       "│ 38c66be46 ┆          ┆           ┆           ┆   ┆           ┆           ┆           ┆           │\n",
       "│ 663…      ┆          ┆           ┆           ┆   ┆           ┆           ┆           ┆           │\n",
       "│ 00066be8e ┆ 4.948875 ┆ -0.109268 ┆ 0.018639  ┆ … ┆ 0.015576  ┆ 32.848    ┆ -1.012712 ┆ 0.066774  │\n",
       "│ 20318869c ┆          ┆           ┆           ┆   ┆           ┆           ┆           ┆           │\n",
       "│ 38c66be46 ┆          ┆           ┆           ┆   ┆           ┆           ┆           ┆           │\n",
       "│ 663…      ┆          ┆           ┆           ┆   ┆           ┆           ┆           ┆           │\n",
       "│ 00066be8e ┆ 4.719566 ┆ -0.013497 ┆ 0.050126  ┆ … ┆ 0.10897   ┆ 31.790152 ┆ -0.297961 ┆ 0.123865  │\n",
       "│ 20318869c ┆          ┆           ┆           ┆   ┆           ┆           ┆           ┆           │\n",
       "│ 38c66be46 ┆          ┆           ┆           ┆   ┆           ┆           ┆           ┆           │\n",
       "│ 663…      ┆          ┆           ┆           ┆   ┆           ┆           ┆           ┆           │\n",
       "│ 000fb056f ┆ 2.774982 ┆ 0.015447  ┆ -0.005652 ┆ … ┆ -0.030548 ┆ 17.002306 ┆ 1.135498  ┆ -0.028062 │\n",
       "│ 97572d384 ┆          ┆           ┆           ┆   ┆           ┆           ┆           ┆           │\n",
       "│ bae4f5fc1 ┆          ┆           ┆           ┆   ┆           ┆           ┆           ┆           │\n",
       "│ e0f…      ┆          ┆           ┆           ┆   ┆           ┆           ┆           ┆           │\n",
       "│ 000fb056f ┆ 1.612542 ┆ -0.037148 ┆ 0.012182  ┆ … ┆ 0.109267  ┆ 14.99752  ┆ -0.869779 ┆ 0.116967  │\n",
       "│ 97572d384 ┆          ┆           ┆           ┆   ┆           ┆           ┆           ┆           │\n",
       "│ bae4f5fc1 ┆          ┆           ┆           ┆   ┆           ┆           ┆           ┆           │\n",
       "│ e0f…      ┆          ┆           ┆           ┆   ┆           ┆           ┆           ┆           │\n",
       "└───────────┴──────────┴───────────┴───────────┴───┴───────────┴───────────┴───────────┴───────────┘"
      ]
     },
     "execution_count": 26,
     "metadata": {},
     "output_type": "execute_result"
    }
   ],
   "source": [
    "rev_dict = {v: \"oof_\" + k for k, v in CATEGORY_MAPPING[\"target_name\"].items()}\n",
    "oof_df = (\n",
    "    train.select([\"ID\", \"target_name\", \"oof\"])\n",
    "    .with_columns(pl.col(\"target_name\").replace_strict(rev_dict))\n",
    "    .pivot(index=\"ID\", columns=\"target_name\", values=\"oof\")\n",
    ")\n",
    "oof_df.head()"
   ]
  },
  {
   "cell_type": "code",
   "execution_count": 27,
   "metadata": {},
   "outputs": [],
   "source": [
    "oof_df.write_csv(os.path.join(CFG[\"output_dir\"], \"oof.csv\"))"
   ]
  },
  {
   "cell_type": "code",
   "execution_count": null,
   "metadata": {},
   "outputs": [],
   "source": []
  }
 ],
 "metadata": {
  "kernelspec": {
   "display_name": "base",
   "language": "python",
   "name": "python3"
  },
  "language_info": {
   "codemirror_mode": {
    "name": "ipython",
    "version": 3
   },
   "file_extension": ".py",
   "mimetype": "text/x-python",
   "name": "python",
   "nbconvert_exporter": "python",
   "pygments_lexer": "ipython3",
   "version": "3.10.14"
  }
 },
 "nbformat": 4,
 "nbformat_minor": 2
}
