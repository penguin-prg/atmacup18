{
 "cells": [
  {
   "cell_type": "code",
   "execution_count": 1,
   "metadata": {},
   "outputs": [
    {
     "name": "stdout",
     "output_type": "stream",
     "text": [
      "/kaggle/working\n"
     ]
    }
   ],
   "source": [
    "!rm -r /kaggle/working/*\n",
    "%cd /kaggle/working"
   ]
  },
  {
   "cell_type": "code",
   "execution_count": 2,
   "metadata": {},
   "outputs": [],
   "source": [
    "import os\n",
    "import sys\n",
    "\n",
    "PACKAGE_DIR = \"/kaggle/src\"\n",
    "sys.path.append(PACKAGE_DIR)\n",
    "sys.path.append(os.path.join(PACKAGE_DIR, \"Penguin-ML-Library\"))"
   ]
  },
  {
   "cell_type": "code",
   "execution_count": 3,
   "metadata": {},
   "outputs": [
    {
     "name": "stderr",
     "output_type": "stream",
     "text": [
      "2024-11-15 10:25:19.476521: I tensorflow/core/util/port.cc:113] oneDNN custom operations are on. You may see slightly different numerical results due to floating-point round-off errors from different computation orders. To turn them off, set the environment variable `TF_ENABLE_ONEDNN_OPTS=0`.\n",
      "2024-11-15 10:25:19.501146: I tensorflow/core/platform/cpu_feature_guard.cc:210] This TensorFlow binary is optimized to use available CPU instructions in performance-critical operations.\n",
      "To enable the following instructions: AVX2 AVX_VNNI FMA, in other operations, rebuild TensorFlow with the appropriate compiler flags.\n"
     ]
    },
    {
     "name": "stdout",
     "output_type": "stream",
     "text": [
      "exp_001\n"
     ]
    },
    {
     "name": "stderr",
     "output_type": "stream",
     "text": [
      "/opt/conda/lib/python3.10/pty.py:89: RuntimeWarning: os.fork() was called. os.fork() is incompatible with multithreaded code, and JAX is multithreaded, so this will likely lead to a deadlock.\n",
      "  pid, fd = os.forkpty()\n",
      "set seed: 46\n"
     ]
    }
   ],
   "source": [
    "import yaml\n",
    "from penguinml.utils.logger import get_logger, init_logger\n",
    "from penguinml.utils.set_seed import seed_base\n",
    "\n",
    "MODEL_NAME = \"xgboost\"\n",
    "CFG = yaml.safe_load(open(os.path.join(PACKAGE_DIR, \"config.yaml\"), \"r\"))\n",
    "print(CFG[MODEL_NAME][\"execution\"][\"exp_id\"])\n",
    "CFG[\"output_dir\"] = f\"/kaggle/output/{CFG[MODEL_NAME]['execution']['exp_id']}\"\n",
    "!rm -r {CFG[\"output_dir\"]}\n",
    "os.makedirs(CFG[\"output_dir\"], exist_ok=True)\n",
    "\n",
    "init_logger(f\"{ CFG[MODEL_NAME]['execution']['exp_id']}.log\")\n",
    "logger = get_logger(\"main\")\n",
    "seed_base(CFG[MODEL_NAME][\"execution\"][\"seed\"])"
   ]
  },
  {
   "cell_type": "code",
   "execution_count": 4,
   "metadata": {},
   "outputs": [],
   "source": [
    "import warnings\n",
    "\n",
    "import numpy as np\n",
    "import polars as pl\n",
    "\n",
    "warnings.filterwarnings(\"ignore\")"
   ]
  },
  {
   "cell_type": "code",
   "execution_count": 5,
   "metadata": {},
   "outputs": [
    {
     "name": "stdout",
     "output_type": "stream",
     "text": [
      "(43371, 32)\n"
     ]
    },
    {
     "data": {
      "text/html": [
       "<div><style>\n",
       ".dataframe > thead > tr,\n",
       ".dataframe > tbody > tr {\n",
       "  text-align: right;\n",
       "  white-space: pre-wrap;\n",
       "}\n",
       "</style>\n",
       "<small>shape: (1, 32)</small><table border=\"1\" class=\"dataframe\"><thead><tr><th>ID</th><th>vEgo</th><th>aEgo</th><th>steeringAngleDeg</th><th>steeringTorque</th><th>brake</th><th>brakePressed</th><th>gas</th><th>gasPressed</th><th>gearShifter</th><th>leftBlinker</th><th>rightBlinker</th><th>x_0</th><th>y_0</th><th>z_0</th><th>x_1</th><th>y_1</th><th>z_1</th><th>x_2</th><th>y_2</th><th>z_2</th><th>x_3</th><th>y_3</th><th>z_3</th><th>x_4</th><th>y_4</th><th>z_4</th><th>x_5</th><th>y_5</th><th>z_5</th><th>sceneID</th><th>offset</th></tr><tr><td>str</td><td>f64</td><td>f64</td><td>f64</td><td>f64</td><td>f64</td><td>bool</td><td>f64</td><td>bool</td><td>str</td><td>bool</td><td>bool</td><td>f64</td><td>f64</td><td>f64</td><td>f64</td><td>f64</td><td>f64</td><td>f64</td><td>f64</td><td>f64</td><td>f64</td><td>f64</td><td>f64</td><td>f64</td><td>f64</td><td>f64</td><td>f64</td><td>f64</td><td>f64</td><td>str</td><td>f32</td></tr></thead><tbody><tr><td>&quot;00066be8e20318869c38c66be46663…</td><td>5.701526</td><td>1.538456</td><td>-2.165777</td><td>-139.0</td><td>0.0</td><td>false</td><td>0.25</td><td>true</td><td>&quot;drive&quot;</td><td>false</td><td>false</td><td>2.82959</td><td>0.032226</td><td>0.045187</td><td>6.231999</td><td>0.065895</td><td>0.107974</td><td>9.785009</td><td>0.124972</td><td>0.203649</td><td>13.485472</td><td>0.163448</td><td>0.302818</td><td>17.574227</td><td>0.174289</td><td>0.406331</td><td>21.951269</td><td>0.199503</td><td>0.485079</td><td>&quot;00066be8e20318869c38c66be46663…</td><td>320.0</td></tr></tbody></table></div>"
      ],
      "text/plain": [
       "shape: (1, 32)\n",
       "┌─────────────┬──────────┬──────────┬─────────────┬───┬──────────┬──────────┬─────────────┬────────┐\n",
       "│ ID          ┆ vEgo     ┆ aEgo     ┆ steeringAng ┆ … ┆ y_5      ┆ z_5      ┆ sceneID     ┆ offset │\n",
       "│ ---         ┆ ---      ┆ ---      ┆ leDeg       ┆   ┆ ---      ┆ ---      ┆ ---         ┆ ---    │\n",
       "│ str         ┆ f64      ┆ f64      ┆ ---         ┆   ┆ f64      ┆ f64      ┆ str         ┆ f32    │\n",
       "│             ┆          ┆          ┆ f64         ┆   ┆          ┆          ┆             ┆        │\n",
       "╞═════════════╪══════════╪══════════╪═════════════╪═══╪══════════╪══════════╪═════════════╪════════╡\n",
       "│ 00066be8e20 ┆ 5.701526 ┆ 1.538456 ┆ -2.165777   ┆ … ┆ 0.199503 ┆ 0.485079 ┆ 00066be8e20 ┆ 320.0  │\n",
       "│ 318869c38c6 ┆          ┆          ┆             ┆   ┆          ┆          ┆ 318869c38c6 ┆        │\n",
       "│ 6be46663…   ┆          ┆          ┆             ┆   ┆          ┆          ┆ 6be46663…   ┆        │\n",
       "└─────────────┴──────────┴──────────┴─────────────┴───┴──────────┴──────────┴─────────────┴────────┘"
      ]
     },
     "execution_count": 5,
     "metadata": {},
     "output_type": "execute_result"
    }
   ],
   "source": [
    "train = pl.read_csv(os.path.join(CFG[\"dataset\"][\"competition_dir\"], \"train_features.csv\"))\n",
    "train = (\n",
    "    train.with_columns(\n",
    "        pl.col(\"ID\").str.split_exact(\"_\", n=1).struct.rename_fields([\"sceneID\", \"offset\"]).alias(\"fields\")\n",
    "    )\n",
    "    .unnest(\"fields\")\n",
    "    .with_columns(pl.col(\"offset\").cast(pl.Float32))\n",
    ")\n",
    "print(train.shape)\n",
    "train.head(1)"
   ]
  },
  {
   "cell_type": "markdown",
   "metadata": {},
   "source": [
    "## 特徴量生成\n"
   ]
  },
  {
   "cell_type": "code",
   "execution_count": 6,
   "metadata": {},
   "outputs": [],
   "source": [
    "from penguinml.utils.contena import FeatureContena\n",
    "\n",
    "features = FeatureContena()\n",
    "features.add_num_features(\n",
    "    [\n",
    "        \"vEgo\",\n",
    "        \"aEgo\",\n",
    "        \"steeringAngleDeg\",\n",
    "        \"steeringTorque\",\n",
    "        \"brake\",\n",
    "        \"brakePressed\",\n",
    "        \"gas\",\n",
    "        \"gasPressed\",\n",
    "        \"leftBlinker\",\n",
    "        \"rightBlinker\",\n",
    "        \"offset\",\n",
    "    ]\n",
    ")\n",
    "features.add_cat_features([\"gearShifter\"])"
   ]
  },
  {
   "cell_type": "markdown",
   "metadata": {},
   "source": [
    "## ターゲット列を分解\n"
   ]
  },
  {
   "cell_type": "code",
   "execution_count": 7,
   "metadata": {},
   "outputs": [
    {
     "data": {
      "text/html": [
       "<div><style>\n",
       ".dataframe > thead > tr,\n",
       ".dataframe > tbody > tr {\n",
       "  text-align: right;\n",
       "  white-space: pre-wrap;\n",
       "}\n",
       "</style>\n",
       "<small>shape: (1, 16)</small><table border=\"1\" class=\"dataframe\"><thead><tr><th>ID</th><th>target_name</th><th>target</th><th>vEgo</th><th>aEgo</th><th>steeringAngleDeg</th><th>steeringTorque</th><th>brake</th><th>brakePressed</th><th>gas</th><th>gasPressed</th><th>gearShifter</th><th>leftBlinker</th><th>rightBlinker</th><th>sceneID</th><th>offset</th></tr><tr><td>str</td><td>str</td><td>f64</td><td>f64</td><td>f64</td><td>f64</td><td>f64</td><td>f64</td><td>bool</td><td>f64</td><td>bool</td><td>str</td><td>bool</td><td>bool</td><td>str</td><td>f32</td></tr></thead><tbody><tr><td>&quot;00066be8e20318869c38c66be46663…</td><td>&quot;x_0&quot;</td><td>2.82959</td><td>5.701526</td><td>1.538456</td><td>-2.165777</td><td>-139.0</td><td>0.0</td><td>false</td><td>0.25</td><td>true</td><td>&quot;drive&quot;</td><td>false</td><td>false</td><td>&quot;00066be8e20318869c38c66be46663…</td><td>320.0</td></tr></tbody></table></div>"
      ],
      "text/plain": [
       "shape: (1, 16)\n",
       "┌────────────┬────────────┬─────────┬──────────┬───┬────────────┬────────────┬────────────┬────────┐\n",
       "│ ID         ┆ target_nam ┆ target  ┆ vEgo     ┆ … ┆ leftBlinke ┆ rightBlink ┆ sceneID    ┆ offset │\n",
       "│ ---        ┆ e          ┆ ---     ┆ ---      ┆   ┆ r          ┆ er         ┆ ---        ┆ ---    │\n",
       "│ str        ┆ ---        ┆ f64     ┆ f64      ┆   ┆ ---        ┆ ---        ┆ str        ┆ f32    │\n",
       "│            ┆ str        ┆         ┆          ┆   ┆ bool       ┆ bool       ┆            ┆        │\n",
       "╞════════════╪════════════╪═════════╪══════════╪═══╪════════════╪════════════╪════════════╪════════╡\n",
       "│ 00066be8e2 ┆ x_0        ┆ 2.82959 ┆ 5.701526 ┆ … ┆ false      ┆ false      ┆ 00066be8e2 ┆ 320.0  │\n",
       "│ 0318869c38 ┆            ┆         ┆          ┆   ┆            ┆            ┆ 0318869c38 ┆        │\n",
       "│ c66be46663 ┆            ┆         ┆          ┆   ┆            ┆            ┆ c66be46663 ┆        │\n",
       "│ …          ┆            ┆         ┆          ┆   ┆            ┆            ┆ …          ┆        │\n",
       "└────────────┴────────────┴─────────┴──────────┴───┴────────────┴────────────┴────────────┴────────┘"
      ]
     },
     "execution_count": 7,
     "metadata": {},
     "output_type": "execute_result"
    }
   ],
   "source": [
    "from const import TARGET_COLS\n",
    "\n",
    "train = train.unpivot(index=\"ID\", on=TARGET_COLS, variable_name=\"target_name\", value_name=\"target\").join(\n",
    "    train.drop(TARGET_COLS),\n",
    "    on=\"ID\",\n",
    "    how=\"left\",\n",
    ")\n",
    "features.add_cat_feature(\"target_name\")\n",
    "train.head(1)"
   ]
  },
  {
   "cell_type": "code",
   "execution_count": 8,
   "metadata": {},
   "outputs": [],
   "source": [
    "from const import CATEGORY_MAPPING\n",
    "\n",
    "for c in features.num_features():\n",
    "    train = train.with_columns(pl.col(c).cast(pl.Float32))\n",
    "\n",
    "for c in features.cat_features():\n",
    "    mapping = CATEGORY_MAPPING[c]\n",
    "    train = train.with_columns(pl.col(c).replace_strict(mapping).cast(pl.Int32))"
   ]
  },
  {
   "cell_type": "markdown",
   "metadata": {},
   "source": [
    "## CV Split\n"
   ]
  },
  {
   "cell_type": "code",
   "execution_count": 9,
   "metadata": {},
   "outputs": [],
   "source": [
    "train_folds = pl.read_csv(CFG[\"dataset\"][\"train_fold_path\"])\n",
    "train = train.join(train_folds, on=\"sceneID\", how=\"left\")\n",
    "assert train[\"fold\"].null_count() == 0"
   ]
  },
  {
   "cell_type": "markdown",
   "metadata": {},
   "source": [
    "## Training\n"
   ]
  },
  {
   "cell_type": "code",
   "execution_count": 10,
   "metadata": {},
   "outputs": [
    {
     "name": "stdout",
     "output_type": "stream",
     "text": [
      "== fold 0 ==\n",
      "[0]\tvalidation_0-mae:5.26351\n",
      "[500]\tvalidation_0-mae:0.29186\n",
      "[1000]\tvalidation_0-mae:0.26967\n",
      "[1500]\tvalidation_0-mae:0.26426\n",
      "[2000]\tvalidation_0-mae:0.26151\n",
      "[2500]\tvalidation_0-mae:0.26014\n",
      "[3000]\tvalidation_0-mae:0.25873\n",
      "[3500]\tvalidation_0-mae:0.25801\n",
      "[4000]\tvalidation_0-mae:0.25749\n",
      "[4500]\tvalidation_0-mae:0.25701\n",
      "[5000]\tvalidation_0-mae:0.25641\n",
      "[5500]\tvalidation_0-mae:0.25590\n",
      "[6000]\tvalidation_0-mae:0.25560\n",
      "[6500]\tvalidation_0-mae:0.25541\n",
      "[7000]\tvalidation_0-mae:0.25517\n",
      "[7500]\tvalidation_0-mae:0.25499\n",
      "[8000]\tvalidation_0-mae:0.25473\n",
      "[8500]\tvalidation_0-mae:0.25462\n",
      "[9000]\tvalidation_0-mae:0.25411\n",
      "[9500]\tvalidation_0-mae:0.25393\n",
      "[9999]\tvalidation_0-mae:0.25383\n",
      "== fold 1 ==\n",
      "[0]\tvalidation_0-mae:5.16328\n",
      "[500]\tvalidation_0-mae:0.30580\n",
      "[1000]\tvalidation_0-mae:0.28256\n",
      "[1500]\tvalidation_0-mae:0.27388\n",
      "[2000]\tvalidation_0-mae:0.27032\n",
      "[2500]\tvalidation_0-mae:0.26842\n",
      "[3000]\tvalidation_0-mae:0.26724\n",
      "[3500]\tvalidation_0-mae:0.26644\n",
      "[4000]\tvalidation_0-mae:0.26597\n",
      "[4500]\tvalidation_0-mae:0.26551\n",
      "[5000]\tvalidation_0-mae:0.26507\n",
      "[5500]\tvalidation_0-mae:0.26466\n",
      "[6000]\tvalidation_0-mae:0.26432\n",
      "[6500]\tvalidation_0-mae:0.26398\n",
      "[7000]\tvalidation_0-mae:0.26358\n",
      "[7500]\tvalidation_0-mae:0.26337\n",
      "[8000]\tvalidation_0-mae:0.26315\n",
      "[8500]\tvalidation_0-mae:0.26294\n",
      "[9000]\tvalidation_0-mae:0.26263\n",
      "[9500]\tvalidation_0-mae:0.26244\n",
      "[9999]\tvalidation_0-mae:0.26237\n",
      "== fold 2 ==\n",
      "[0]\tvalidation_0-mae:5.26369\n",
      "[500]\tvalidation_0-mae:0.30824\n",
      "[1000]\tvalidation_0-mae:0.28168\n",
      "[1500]\tvalidation_0-mae:0.27541\n",
      "[2000]\tvalidation_0-mae:0.27281\n",
      "[2500]\tvalidation_0-mae:0.27156\n",
      "[3000]\tvalidation_0-mae:0.27054\n",
      "[3500]\tvalidation_0-mae:0.26981\n",
      "[4000]\tvalidation_0-mae:0.26952\n",
      "[4500]\tvalidation_0-mae:0.26914\n",
      "[5000]\tvalidation_0-mae:0.26872\n",
      "[5500]\tvalidation_0-mae:0.26815\n",
      "[6000]\tvalidation_0-mae:0.26777\n",
      "[6500]\tvalidation_0-mae:0.26758\n",
      "[7000]\tvalidation_0-mae:0.26734\n",
      "[7500]\tvalidation_0-mae:0.26719\n",
      "[8000]\tvalidation_0-mae:0.26695\n",
      "[8500]\tvalidation_0-mae:0.26681\n",
      "[9000]\tvalidation_0-mae:0.26668\n",
      "[9500]\tvalidation_0-mae:0.26649\n",
      "[9999]\tvalidation_0-mae:0.26635\n",
      "== fold 3 ==\n",
      "[0]\tvalidation_0-mae:5.29656\n",
      "[500]\tvalidation_0-mae:0.28874\n",
      "[1000]\tvalidation_0-mae:0.26857\n",
      "[1500]\tvalidation_0-mae:0.26292\n",
      "[2000]\tvalidation_0-mae:0.26016\n",
      "[2500]\tvalidation_0-mae:0.25874\n",
      "[3000]\tvalidation_0-mae:0.25773\n",
      "[3500]\tvalidation_0-mae:0.25713\n",
      "[4000]\tvalidation_0-mae:0.25684\n",
      "[4500]\tvalidation_0-mae:0.25654\n",
      "[5000]\tvalidation_0-mae:0.25626\n",
      "[5500]\tvalidation_0-mae:0.25600\n",
      "[6000]\tvalidation_0-mae:0.25557\n",
      "[6500]\tvalidation_0-mae:0.25524\n",
      "[7000]\tvalidation_0-mae:0.25508\n",
      "[7500]\tvalidation_0-mae:0.25493\n",
      "[8000]\tvalidation_0-mae:0.25474\n",
      "[8500]\tvalidation_0-mae:0.25460\n",
      "[9000]\tvalidation_0-mae:0.25439\n",
      "[9500]\tvalidation_0-mae:0.25422\n",
      "[9999]\tvalidation_0-mae:0.25415\n",
      "== fold 4 ==\n",
      "[0]\tvalidation_0-mae:5.13758\n",
      "[500]\tvalidation_0-mae:0.30221\n",
      "[1000]\tvalidation_0-mae:0.27689\n",
      "[1500]\tvalidation_0-mae:0.26965\n",
      "[2000]\tvalidation_0-mae:0.26680\n",
      "[2500]\tvalidation_0-mae:0.26533\n",
      "[3000]\tvalidation_0-mae:0.26427\n",
      "[3500]\tvalidation_0-mae:0.26322\n",
      "[4000]\tvalidation_0-mae:0.26279\n",
      "[4500]\tvalidation_0-mae:0.26241\n",
      "[5000]\tvalidation_0-mae:0.26194\n",
      "[5500]\tvalidation_0-mae:0.26175\n",
      "[6000]\tvalidation_0-mae:0.26134\n",
      "[6500]\tvalidation_0-mae:0.26113\n",
      "[7000]\tvalidation_0-mae:0.26098\n",
      "[7500]\tvalidation_0-mae:0.26085\n",
      "[8000]\tvalidation_0-mae:0.26067\n",
      "[8500]\tvalidation_0-mae:0.26049\n",
      "[9000]\tvalidation_0-mae:0.26020\n",
      "[9500]\tvalidation_0-mae:0.25993\n",
      "[9999]\tvalidation_0-mae:0.25978\n"
     ]
    }
   ],
   "source": [
    "from penguinml.gbdt.xgboost import fit_xgb, inference_xgb\n",
    "\n",
    "oof, models = fit_xgb(\n",
    "    data=train,\n",
    "    features=features,\n",
    "    params=CFG[MODEL_NAME][\"params\"],\n",
    "    target_col=\"target\",\n",
    "    fold_col=\"fold\",\n",
    "    target_type=\"regression\",\n",
    "    verbose=500,\n",
    ")"
   ]
  },
  {
   "cell_type": "code",
   "execution_count": 13,
   "metadata": {},
   "outputs": [
    {
     "name": "stdout",
     "output_type": "stream",
     "text": [
      "MAE: 0.259294006694998\n"
     ]
    }
   ],
   "source": [
    "train = train.with_columns(pl.Series(\"oof\", oof))\n",
    "mae = np.abs(train[\"oof\"] - train[\"target\"]).mean()\n",
    "print(f\"MAE: {mae}\")"
   ]
  },
  {
   "cell_type": "code",
   "execution_count": null,
   "metadata": {},
   "outputs": [],
   "source": []
  }
 ],
 "metadata": {
  "kernelspec": {
   "display_name": "base",
   "language": "python",
   "name": "python3"
  },
  "language_info": {
   "codemirror_mode": {
    "name": "ipython",
    "version": 3
   },
   "file_extension": ".py",
   "mimetype": "text/x-python",
   "name": "python",
   "nbconvert_exporter": "python",
   "pygments_lexer": "ipython3",
   "version": "3.10.14"
  }
 },
 "nbformat": 4,
 "nbformat_minor": 2
}
