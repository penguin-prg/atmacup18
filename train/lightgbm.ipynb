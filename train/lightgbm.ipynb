{
 "cells": [
  {
   "cell_type": "code",
   "execution_count": 1,
   "metadata": {},
   "outputs": [
    {
     "name": "stdout",
     "output_type": "stream",
     "text": [
      "/kaggle/working\n"
     ]
    }
   ],
   "source": [
    "!rm -r /kaggle/working/*\n",
    "%cd /kaggle/working"
   ]
  },
  {
   "cell_type": "code",
   "execution_count": 2,
   "metadata": {},
   "outputs": [],
   "source": [
    "import os\n",
    "import sys\n",
    "\n",
    "PACKAGE_DIR = \"/kaggle/src\"\n",
    "sys.path.append(PACKAGE_DIR)\n",
    "sys.path.append(os.path.join(PACKAGE_DIR, \"Penguin-ML-Library\"))"
   ]
  },
  {
   "cell_type": "code",
   "execution_count": 3,
   "metadata": {},
   "outputs": [
    {
     "name": "stderr",
     "output_type": "stream",
     "text": [
      "2024-11-16 14:36:29.368347: I tensorflow/core/util/port.cc:113] oneDNN custom operations are on. You may see slightly different numerical results due to floating-point round-off errors from different computation orders. To turn them off, set the environment variable `TF_ENABLE_ONEDNN_OPTS=0`.\n",
      "2024-11-16 14:36:29.396694: I tensorflow/core/platform/cpu_feature_guard.cc:210] This TensorFlow binary is optimized to use available CPU instructions in performance-critical operations.\n",
      "To enable the following instructions: AVX2 AVX_VNNI FMA, in other operations, rebuild TensorFlow with the appropriate compiler flags.\n"
     ]
    },
    {
     "name": "stdout",
     "output_type": "stream",
     "text": [
      "exp_007\n"
     ]
    },
    {
     "name": "stderr",
     "output_type": "stream",
     "text": [
      "/opt/conda/lib/python3.10/pty.py:89: RuntimeWarning: os.fork() was called. os.fork() is incompatible with multithreaded code, and JAX is multithreaded, so this will likely lead to a deadlock.\n",
      "  pid, fd = os.forkpty()\n",
      "set seed: 46\n"
     ]
    }
   ],
   "source": [
    "import yaml\n",
    "from penguinml.utils.logger import get_logger, init_logger\n",
    "from penguinml.utils.set_seed import seed_base\n",
    "\n",
    "MODEL_NAME = \"lightgbm\"\n",
    "CFG = yaml.safe_load(open(os.path.join(PACKAGE_DIR, \"config.yaml\"), \"r\"))\n",
    "print(CFG[MODEL_NAME][\"execution\"][\"exp_id\"])\n",
    "CFG[\"output_dir\"] = f\"/kaggle/output/{CFG[MODEL_NAME]['execution']['exp_id']}\"\n",
    "!rm -r {CFG[\"output_dir\"]}\n",
    "os.makedirs(CFG[\"output_dir\"], exist_ok=True)\n",
    "\n",
    "init_logger(f\"{ CFG[MODEL_NAME]['execution']['exp_id']}.log\")\n",
    "logger = get_logger(\"main\")\n",
    "seed_base(CFG[MODEL_NAME][\"execution\"][\"seed\"])"
   ]
  },
  {
   "cell_type": "code",
   "execution_count": 4,
   "metadata": {},
   "outputs": [
    {
     "name": "stdout",
     "output_type": "stream",
     "text": [
      "(43371, 32)\n"
     ]
    },
    {
     "data": {
      "text/html": [
       "<div><style>\n",
       ".dataframe > thead > tr,\n",
       ".dataframe > tbody > tr {\n",
       "  text-align: right;\n",
       "  white-space: pre-wrap;\n",
       "}\n",
       "</style>\n",
       "<small>shape: (1, 32)</small><table border=\"1\" class=\"dataframe\"><thead><tr><th>ID</th><th>vEgo</th><th>aEgo</th><th>steeringAngleDeg</th><th>steeringTorque</th><th>brake</th><th>brakePressed</th><th>gas</th><th>gasPressed</th><th>gearShifter</th><th>leftBlinker</th><th>rightBlinker</th><th>x_0</th><th>y_0</th><th>z_0</th><th>x_1</th><th>y_1</th><th>z_1</th><th>x_2</th><th>y_2</th><th>z_2</th><th>x_3</th><th>y_3</th><th>z_3</th><th>x_4</th><th>y_4</th><th>z_4</th><th>x_5</th><th>y_5</th><th>z_5</th><th>sceneID</th><th>offset</th></tr><tr><td>str</td><td>f64</td><td>f64</td><td>f64</td><td>f64</td><td>f64</td><td>bool</td><td>f64</td><td>bool</td><td>str</td><td>bool</td><td>bool</td><td>f64</td><td>f64</td><td>f64</td><td>f64</td><td>f64</td><td>f64</td><td>f64</td><td>f64</td><td>f64</td><td>f64</td><td>f64</td><td>f64</td><td>f64</td><td>f64</td><td>f64</td><td>f64</td><td>f64</td><td>f64</td><td>str</td><td>f32</td></tr></thead><tbody><tr><td>&quot;00066be8e20318869c38c66be46663…</td><td>5.701526</td><td>1.538456</td><td>-2.165777</td><td>-139.0</td><td>0.0</td><td>false</td><td>0.25</td><td>true</td><td>&quot;drive&quot;</td><td>false</td><td>false</td><td>2.82959</td><td>0.032226</td><td>0.045187</td><td>6.231999</td><td>0.065895</td><td>0.107974</td><td>9.785009</td><td>0.124972</td><td>0.203649</td><td>13.485472</td><td>0.163448</td><td>0.302818</td><td>17.574227</td><td>0.174289</td><td>0.406331</td><td>21.951269</td><td>0.199503</td><td>0.485079</td><td>&quot;00066be8e20318869c38c66be46663…</td><td>320.0</td></tr></tbody></table></div>"
      ],
      "text/plain": [
       "shape: (1, 32)\n",
       "┌─────────────┬──────────┬──────────┬─────────────┬───┬──────────┬──────────┬─────────────┬────────┐\n",
       "│ ID          ┆ vEgo     ┆ aEgo     ┆ steeringAng ┆ … ┆ y_5      ┆ z_5      ┆ sceneID     ┆ offset │\n",
       "│ ---         ┆ ---      ┆ ---      ┆ leDeg       ┆   ┆ ---      ┆ ---      ┆ ---         ┆ ---    │\n",
       "│ str         ┆ f64      ┆ f64      ┆ ---         ┆   ┆ f64      ┆ f64      ┆ str         ┆ f32    │\n",
       "│             ┆          ┆          ┆ f64         ┆   ┆          ┆          ┆             ┆        │\n",
       "╞═════════════╪══════════╪══════════╪═════════════╪═══╪══════════╪══════════╪═════════════╪════════╡\n",
       "│ 00066be8e20 ┆ 5.701526 ┆ 1.538456 ┆ -2.165777   ┆ … ┆ 0.199503 ┆ 0.485079 ┆ 00066be8e20 ┆ 320.0  │\n",
       "│ 318869c38c6 ┆          ┆          ┆             ┆   ┆          ┆          ┆ 318869c38c6 ┆        │\n",
       "│ 6be46663…   ┆          ┆          ┆             ┆   ┆          ┆          ┆ 6be46663…   ┆        │\n",
       "└─────────────┴──────────┴──────────┴─────────────┴───┴──────────┴──────────┴─────────────┴────────┘"
      ]
     },
     "execution_count": 4,
     "metadata": {},
     "output_type": "execute_result"
    }
   ],
   "source": [
    "import warnings\n",
    "\n",
    "import numpy as np\n",
    "import polars as pl\n",
    "from IPython.display import clear_output, display\n",
    "from penguinml.gbdt.lightgbm import fit_lgb, inference_lgb\n",
    "from tqdm import tqdm\n",
    "\n",
    "from const import TARGET_COLS\n",
    "from feature_engineering import feature_engineer\n",
    "\n",
    "warnings.filterwarnings(\"ignore\")\n",
    "pl.Config.set_tbl_rows(20)\n",
    "\n",
    "train = pl.read_csv(os.path.join(CFG[\"dataset\"][\"competition_dir\"], \"train_features.csv\"))\n",
    "train = (\n",
    "    train.with_columns(\n",
    "        pl.col(\"ID\").str.split_exact(\"_\", n=1).struct.rename_fields([\"sceneID\", \"offset\"]).alias(\"fields\")\n",
    "    )\n",
    "    .unnest(\"fields\")\n",
    "    .with_columns(pl.col(\"offset\").cast(pl.Float32))\n",
    ")\n",
    "print(train.shape)\n",
    "train.head(1)"
   ]
  },
  {
   "cell_type": "markdown",
   "metadata": {},
   "source": [
    "## 特徴量生成\n"
   ]
  },
  {
   "cell_type": "code",
   "execution_count": 5,
   "metadata": {},
   "outputs": [
    {
     "name": "stdout",
     "output_type": "stream",
     "text": [
      "105\n"
     ]
    }
   ],
   "source": [
    "train, features = feature_engineer(train)\n",
    "print(len(features))"
   ]
  },
  {
   "cell_type": "markdown",
   "metadata": {},
   "source": [
    "## CV Split\n"
   ]
  },
  {
   "cell_type": "code",
   "execution_count": 6,
   "metadata": {},
   "outputs": [],
   "source": [
    "train_folds = pl.read_csv(CFG[\"dataset\"][\"train_fold_path\"])\n",
    "train = train.join(train_folds, on=\"sceneID\", how=\"left\")\n",
    "assert train[\"fold\"].null_count() == 0"
   ]
  },
  {
   "cell_type": "markdown",
   "metadata": {},
   "source": [
    "## Training\n"
   ]
  },
  {
   "cell_type": "code",
   "execution_count": 7,
   "metadata": {},
   "outputs": [
    {
     "data": {
      "text/html": [
       "<div><style>\n",
       ".dataframe > thead > tr,\n",
       ".dataframe > tbody > tr {\n",
       "  text-align: right;\n",
       "  white-space: pre-wrap;\n",
       "}\n",
       "</style>\n",
       "<small>shape: (18, 7)</small><table border=\"1\" class=\"dataframe\"><thead><tr><th>target</th><th>cv</th><th>fold0</th><th>fold1</th><th>fold2</th><th>fold3</th><th>fold4</th></tr><tr><td>str</td><td>f64</td><td>f64</td><td>f64</td><td>f64</td><td>f64</td><td>f64</td></tr></thead><tbody><tr><td>&quot;x_0&quot;</td><td>0.062228</td><td>0.061607</td><td>0.060437</td><td>0.064051</td><td>0.062018</td><td>0.063028</td></tr><tr><td>&quot;x_1&quot;</td><td>0.133217</td><td>0.132209</td><td>0.131223</td><td>0.134886</td><td>0.132583</td><td>0.135185</td></tr><tr><td>&quot;x_2&quot;</td><td>0.227647</td><td>0.22636</td><td>0.225528</td><td>0.228695</td><td>0.225839</td><td>0.231812</td></tr><tr><td>&quot;x_3&quot;</td><td>0.353711</td><td>0.350247</td><td>0.356753</td><td>0.35488</td><td>0.349608</td><td>0.357069</td></tr><tr><td>&quot;x_4&quot;</td><td>0.506266</td><td>0.500229</td><td>0.51357</td><td>0.504939</td><td>0.50326</td><td>0.509334</td></tr><tr><td>&quot;x_5&quot;</td><td>0.681033</td><td>0.669134</td><td>0.695178</td><td>0.683182</td><td>0.672523</td><td>0.685152</td></tr><tr><td>&quot;y_0&quot;</td><td>0.031854</td><td>0.031677</td><td>0.031167</td><td>0.032066</td><td>0.031526</td><td>0.032835</td></tr><tr><td>&quot;y_1&quot;</td><td>0.07273</td><td>0.072389</td><td>0.070941</td><td>0.073313</td><td>0.072118</td><td>0.074888</td></tr><tr><td>&quot;y_2&quot;</td><td>0.130772</td><td>0.12823</td><td>0.129308</td><td>0.132541</td><td>0.129663</td><td>0.134119</td></tr><tr><td>&quot;y_3&quot;</td><td>0.216024</td><td>0.209624</td><td>0.215428</td><td>0.219016</td><td>0.214693</td><td>0.221362</td></tr><tr><td>&quot;y_4&quot;</td><td>0.331375</td><td>0.322486</td><td>0.330795</td><td>0.334353</td><td>0.328482</td><td>0.340757</td></tr><tr><td>&quot;y_5&quot;</td><td>0.478555</td><td>0.462919</td><td>0.480879</td><td>0.48081</td><td>0.475824</td><td>0.492346</td></tr><tr><td>&quot;z_0&quot;</td><td>0.025681</td><td>0.025571</td><td>0.025143</td><td>0.026096</td><td>0.026172</td><td>0.025422</td></tr><tr><td>&quot;z_1&quot;</td><td>0.053463</td><td>0.053215</td><td>0.052014</td><td>0.054031</td><td>0.054805</td><td>0.053248</td></tr><tr><td>&quot;z_2&quot;</td><td>0.082515</td><td>0.0819</td><td>0.080245</td><td>0.083163</td><td>0.085047</td><td>0.082218</td></tr><tr><td>&quot;z_3&quot;</td><td>0.112894</td><td>0.111844</td><td>0.109778</td><td>0.113347</td><td>0.116155</td><td>0.113343</td></tr><tr><td>&quot;z_4&quot;</td><td>0.144481</td><td>0.143044</td><td>0.14088</td><td>0.144938</td><td>0.14864</td><td>0.144904</td></tr><tr><td>&quot;z_5&quot;</td><td>0.177492</td><td>0.176372</td><td>0.17344</td><td>0.178147</td><td>0.181674</td><td>0.177827</td></tr></tbody></table></div>"
      ],
      "text/plain": [
       "shape: (18, 7)\n",
       "┌────────┬──────────┬──────────┬──────────┬──────────┬──────────┬──────────┐\n",
       "│ target ┆ cv       ┆ fold0    ┆ fold1    ┆ fold2    ┆ fold3    ┆ fold4    │\n",
       "│ ---    ┆ ---      ┆ ---      ┆ ---      ┆ ---      ┆ ---      ┆ ---      │\n",
       "│ str    ┆ f64      ┆ f64      ┆ f64      ┆ f64      ┆ f64      ┆ f64      │\n",
       "╞════════╪══════════╪══════════╪══════════╪══════════╪══════════╪══════════╡\n",
       "│ x_0    ┆ 0.062228 ┆ 0.061607 ┆ 0.060437 ┆ 0.064051 ┆ 0.062018 ┆ 0.063028 │\n",
       "│ x_1    ┆ 0.133217 ┆ 0.132209 ┆ 0.131223 ┆ 0.134886 ┆ 0.132583 ┆ 0.135185 │\n",
       "│ x_2    ┆ 0.227647 ┆ 0.22636  ┆ 0.225528 ┆ 0.228695 ┆ 0.225839 ┆ 0.231812 │\n",
       "│ x_3    ┆ 0.353711 ┆ 0.350247 ┆ 0.356753 ┆ 0.35488  ┆ 0.349608 ┆ 0.357069 │\n",
       "│ x_4    ┆ 0.506266 ┆ 0.500229 ┆ 0.51357  ┆ 0.504939 ┆ 0.50326  ┆ 0.509334 │\n",
       "│ x_5    ┆ 0.681033 ┆ 0.669134 ┆ 0.695178 ┆ 0.683182 ┆ 0.672523 ┆ 0.685152 │\n",
       "│ y_0    ┆ 0.031854 ┆ 0.031677 ┆ 0.031167 ┆ 0.032066 ┆ 0.031526 ┆ 0.032835 │\n",
       "│ y_1    ┆ 0.07273  ┆ 0.072389 ┆ 0.070941 ┆ 0.073313 ┆ 0.072118 ┆ 0.074888 │\n",
       "│ y_2    ┆ 0.130772 ┆ 0.12823  ┆ 0.129308 ┆ 0.132541 ┆ 0.129663 ┆ 0.134119 │\n",
       "│ y_3    ┆ 0.216024 ┆ 0.209624 ┆ 0.215428 ┆ 0.219016 ┆ 0.214693 ┆ 0.221362 │\n",
       "│ y_4    ┆ 0.331375 ┆ 0.322486 ┆ 0.330795 ┆ 0.334353 ┆ 0.328482 ┆ 0.340757 │\n",
       "│ y_5    ┆ 0.478555 ┆ 0.462919 ┆ 0.480879 ┆ 0.48081  ┆ 0.475824 ┆ 0.492346 │\n",
       "│ z_0    ┆ 0.025681 ┆ 0.025571 ┆ 0.025143 ┆ 0.026096 ┆ 0.026172 ┆ 0.025422 │\n",
       "│ z_1    ┆ 0.053463 ┆ 0.053215 ┆ 0.052014 ┆ 0.054031 ┆ 0.054805 ┆ 0.053248 │\n",
       "│ z_2    ┆ 0.082515 ┆ 0.0819   ┆ 0.080245 ┆ 0.083163 ┆ 0.085047 ┆ 0.082218 │\n",
       "│ z_3    ┆ 0.112894 ┆ 0.111844 ┆ 0.109778 ┆ 0.113347 ┆ 0.116155 ┆ 0.113343 │\n",
       "│ z_4    ┆ 0.144481 ┆ 0.143044 ┆ 0.14088  ┆ 0.144938 ┆ 0.14864  ┆ 0.144904 │\n",
       "│ z_5    ┆ 0.177492 ┆ 0.176372 ┆ 0.17344  ┆ 0.178147 ┆ 0.181674 ┆ 0.177827 │\n",
       "└────────┴──────────┴──────────┴──────────┴──────────┴──────────┴──────────┘"
      ]
     },
     "metadata": {},
     "output_type": "display_data"
    }
   ],
   "source": [
    "dfs = []\n",
    "scores = []\n",
    "for c in tqdm(sorted(TARGET_COLS, key=lambda x: x.split(\"_\")[1], reverse=True)):\n",
    "    this_df = train.filter(pl.col(\"target_name_original\") == c)\n",
    "    oof, models = fit_lgb(\n",
    "        data=this_df,\n",
    "        features=features,\n",
    "        params=CFG[MODEL_NAME][\"params\"],\n",
    "        target_col=\"target\",\n",
    "        fold_col=\"fold\",\n",
    "        target_type=\"regression\",\n",
    "        verbose=50000,\n",
    "    )\n",
    "    this_df = this_df.with_columns(pl.Series(\"oof\", oof))\n",
    "    dfs.append(this_df)\n",
    "\n",
    "    i = int(c.split(\"_\")[1])\n",
    "    xyz = c.split(\"_\")[0]\n",
    "    mae = np.abs(this_df[\"oof\"] - this_df[\"target\"]).mean()\n",
    "    score = {\"target\": c, \"cv\": mae} | {\n",
    "        f\"fold{fold}\": np.abs(\n",
    "            this_df.filter(pl.col(\"fold\") == fold)[\"oof\"] - this_df.filter(pl.col(\"fold\") == fold)[\"target\"]\n",
    "        ).mean()\n",
    "        for fold in range(5)\n",
    "    }\n",
    "    scores.append(score)\n",
    "\n",
    "    clear_output()\n",
    "    display(pl.DataFrame(scores).sort(\"target\"))\n",
    "\n",
    "train = pl.concat(dfs)\n",
    "clear_output()\n",
    "display(pl.DataFrame(scores).sort(\"target\"))"
   ]
  },
  {
   "cell_type": "code",
   "execution_count": 8,
   "metadata": {},
   "outputs": [
    {
     "name": "stdout",
     "output_type": "stream",
     "text": [
      "MAE: 0.21232987001744488\n"
     ]
    }
   ],
   "source": [
    "mae = np.abs(train[\"oof\"] - train[\"target\"]).mean()\n",
    "print(f\"MAE: {mae}\")"
   ]
  },
  {
   "cell_type": "code",
   "execution_count": 9,
   "metadata": {},
   "outputs": [
    {
     "data": {
      "text/html": [
       "<div><style>\n",
       ".dataframe > thead > tr,\n",
       ".dataframe > tbody > tr {\n",
       "  text-align: right;\n",
       "  white-space: pre-wrap;\n",
       "}\n",
       "</style>\n",
       "<small>shape: (5, 19)</small><table border=\"1\" class=\"dataframe\"><thead><tr><th>ID</th><th>x_5</th><th>y_5</th><th>z_5</th><th>x_4</th><th>y_4</th><th>z_4</th><th>x_3</th><th>y_3</th><th>z_3</th><th>x_2</th><th>y_2</th><th>z_2</th><th>x_1</th><th>y_1</th><th>z_1</th><th>x_0</th><th>y_0</th><th>z_0</th></tr><tr><td>str</td><td>f64</td><td>f64</td><td>f64</td><td>f64</td><td>f64</td><td>f64</td><td>f64</td><td>f64</td><td>f64</td><td>f64</td><td>f64</td><td>f64</td><td>f64</td><td>f64</td><td>f64</td><td>f64</td><td>f64</td><td>f64</td></tr></thead><tbody><tr><td>&quot;00066be8e20318869c38c66be46663…</td><td>22.038067</td><td>-0.558047</td><td>0.165707</td><td>18.227562</td><td>-0.355071</td><td>0.090493</td><td>13.738854</td><td>-0.133294</td><td>0.06545</td><td>9.386853</td><td>-0.083747</td><td>0.040578</td><td>5.896475</td><td>-0.02493</td><td>0.017988</td><td>2.687078</td><td>0.005774</td><td>0.010114</td></tr><tr><td>&quot;00066be8e20318869c38c66be46663…</td><td>31.710907</td><td>-0.764475</td><td>0.161883</td><td>26.851383</td><td>-0.632574</td><td>0.113349</td><td>21.139854</td><td>-0.597363</td><td>0.125833</td><td>15.80733</td><td>-0.394979</td><td>0.079982</td><td>10.555211</td><td>-0.232158</td><td>0.039127</td><td>4.989698</td><td>-0.068797</td><td>0.019064</td></tr><tr><td>&quot;00066be8e20318869c38c66be46663…</td><td>32.007977</td><td>-0.346182</td><td>0.096317</td><td>26.674847</td><td>-0.325944</td><td>0.053631</td><td>21.30284</td><td>-0.226537</td><td>0.066925</td><td>15.554021</td><td>-0.112965</td><td>0.052491</td><td>10.008571</td><td>-0.069704</td><td>0.016693</td><td>4.713456</td><td>-0.018526</td><td>0.012189</td></tr><tr><td>&quot;000fb056f97572d384bae4f5fc1e0f…</td><td>14.176632</td><td>-0.837255</td><td>0.09058</td><td>11.271188</td><td>-0.646364</td><td>0.062475</td><td>8.824808</td><td>-0.374933</td><td>0.046369</td><td>6.080137</td><td>-0.208632</td><td>0.021687</td><td>3.688029</td><td>-0.123612</td><td>0.010476</td><td>1.569126</td><td>-0.048624</td><td>0.002188</td></tr><tr><td>&quot;000fb056f97572d384bae4f5fc1e0f…</td><td>17.894393</td><td>1.179346</td><td>0.008142</td><td>14.965732</td><td>0.795913</td><td>0.007926</td><td>11.874545</td><td>0.493164</td><td>0.008657</td><td>8.831929</td><td>0.292942</td><td>-0.009191</td><td>5.835719</td><td>0.114583</td><td>0.004302</td><td>2.763021</td><td>0.022862</td><td>0.004882</td></tr></tbody></table></div>"
      ],
      "text/plain": [
       "shape: (5, 19)\n",
       "┌──────────────┬───────────┬───────────┬──────────┬───┬──────────┬──────────┬───────────┬──────────┐\n",
       "│ ID           ┆ x_5       ┆ y_5       ┆ z_5      ┆ … ┆ z_1      ┆ x_0      ┆ y_0       ┆ z_0      │\n",
       "│ ---          ┆ ---       ┆ ---       ┆ ---      ┆   ┆ ---      ┆ ---      ┆ ---       ┆ ---      │\n",
       "│ str          ┆ f64       ┆ f64       ┆ f64      ┆   ┆ f64      ┆ f64      ┆ f64       ┆ f64      │\n",
       "╞══════════════╪═══════════╪═══════════╪══════════╪═══╪══════════╪══════════╪═══════════╪══════════╡\n",
       "│ 00066be8e203 ┆ 22.038067 ┆ -0.558047 ┆ 0.165707 ┆ … ┆ 0.017988 ┆ 2.687078 ┆ 0.005774  ┆ 0.010114 │\n",
       "│ 18869c38c66b ┆           ┆           ┆          ┆   ┆          ┆          ┆           ┆          │\n",
       "│ e46663…      ┆           ┆           ┆          ┆   ┆          ┆          ┆           ┆          │\n",
       "│ 00066be8e203 ┆ 31.710907 ┆ -0.764475 ┆ 0.161883 ┆ … ┆ 0.039127 ┆ 4.989698 ┆ -0.068797 ┆ 0.019064 │\n",
       "│ 18869c38c66b ┆           ┆           ┆          ┆   ┆          ┆          ┆           ┆          │\n",
       "│ e46663…      ┆           ┆           ┆          ┆   ┆          ┆          ┆           ┆          │\n",
       "│ 00066be8e203 ┆ 32.007977 ┆ -0.346182 ┆ 0.096317 ┆ … ┆ 0.016693 ┆ 4.713456 ┆ -0.018526 ┆ 0.012189 │\n",
       "│ 18869c38c66b ┆           ┆           ┆          ┆   ┆          ┆          ┆           ┆          │\n",
       "│ e46663…      ┆           ┆           ┆          ┆   ┆          ┆          ┆           ┆          │\n",
       "│ 000fb056f975 ┆ 14.176632 ┆ -0.837255 ┆ 0.09058  ┆ … ┆ 0.010476 ┆ 1.569126 ┆ -0.048624 ┆ 0.002188 │\n",
       "│ 72d384bae4f5 ┆           ┆           ┆          ┆   ┆          ┆          ┆           ┆          │\n",
       "│ fc1e0f…      ┆           ┆           ┆          ┆   ┆          ┆          ┆           ┆          │\n",
       "│ 000fb056f975 ┆ 17.894393 ┆ 1.179346  ┆ 0.008142 ┆ … ┆ 0.004302 ┆ 2.763021 ┆ 0.022862  ┆ 0.004882 │\n",
       "│ 72d384bae4f5 ┆           ┆           ┆          ┆   ┆          ┆          ┆           ┆          │\n",
       "│ fc1e0f…      ┆           ┆           ┆          ┆   ┆          ┆          ┆           ┆          │\n",
       "└──────────────┴───────────┴───────────┴──────────┴───┴──────────┴──────────┴───────────┴──────────┘"
      ]
     },
     "execution_count": 9,
     "metadata": {},
     "output_type": "execute_result"
    }
   ],
   "source": [
    "oof_df = (\n",
    "    train.select([\"ID\", \"target_name_original\", \"oof\"])\n",
    "    .with_columns(pl.col(\"target_name_original\"))\n",
    "    .pivot(index=\"ID\", columns=\"target_name_original\", values=\"oof\")\n",
    ")\n",
    "oof_df.head()"
   ]
  },
  {
   "cell_type": "code",
   "execution_count": 10,
   "metadata": {},
   "outputs": [],
   "source": [
    "oof_df.write_csv(os.path.join(CFG[\"output_dir\"], \"oof.csv\"))"
   ]
  },
  {
   "cell_type": "code",
   "execution_count": null,
   "metadata": {},
   "outputs": [],
   "source": []
  }
 ],
 "metadata": {
  "kernelspec": {
   "display_name": "base",
   "language": "python",
   "name": "python3"
  },
  "language_info": {
   "codemirror_mode": {
    "name": "ipython",
    "version": 3
   },
   "file_extension": ".py",
   "mimetype": "text/x-python",
   "name": "python",
   "nbconvert_exporter": "python",
   "pygments_lexer": "ipython3",
   "version": "3.10.14"
  }
 },
 "nbformat": 4,
 "nbformat_minor": 2
}
