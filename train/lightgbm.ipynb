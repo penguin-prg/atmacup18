{
 "cells": [
  {
   "cell_type": "code",
   "execution_count": 1,
   "metadata": {},
   "outputs": [
    {
     "name": "stdout",
     "output_type": "stream",
     "text": [
      "/kaggle/working\n"
     ]
    }
   ],
   "source": [
    "!rm -r /kaggle/working/*\n",
    "%cd /kaggle/working"
   ]
  },
  {
   "cell_type": "code",
   "execution_count": 2,
   "metadata": {},
   "outputs": [],
   "source": [
    "import os\n",
    "import sys\n",
    "\n",
    "PACKAGE_DIR = \"/kaggle/src\"\n",
    "sys.path.append(PACKAGE_DIR)\n",
    "sys.path.append(os.path.join(PACKAGE_DIR, \"Penguin-ML-Library\"))"
   ]
  },
  {
   "cell_type": "code",
   "execution_count": 3,
   "metadata": {},
   "outputs": [
    {
     "name": "stderr",
     "output_type": "stream",
     "text": [
      "2024-11-20 11:00:07.226051: I tensorflow/core/util/port.cc:113] oneDNN custom operations are on. You may see slightly different numerical results due to floating-point round-off errors from different computation orders. To turn them off, set the environment variable `TF_ENABLE_ONEDNN_OPTS=0`.\n",
      "2024-11-20 11:00:07.251738: I tensorflow/core/platform/cpu_feature_guard.cc:210] This TensorFlow binary is optimized to use available CPU instructions in performance-critical operations.\n",
      "To enable the following instructions: AVX2 AVX_VNNI FMA, in other operations, rebuild TensorFlow with the appropriate compiler flags.\n"
     ]
    },
    {
     "name": "stdout",
     "output_type": "stream",
     "text": [
      "exp_015\n"
     ]
    },
    {
     "name": "stderr",
     "output_type": "stream",
     "text": [
      "/opt/conda/lib/python3.10/pty.py:89: RuntimeWarning: os.fork() was called. os.fork() is incompatible with multithreaded code, and JAX is multithreaded, so this will likely lead to a deadlock.\n",
      "  pid, fd = os.forkpty()\n",
      "set seed: 46\n"
     ]
    }
   ],
   "source": [
    "import yaml\n",
    "from penguinml.utils.logger import get_logger, init_logger\n",
    "from penguinml.utils.set_seed import seed_base\n",
    "\n",
    "MODEL_NAME = \"lightgbm\"\n",
    "CFG = yaml.safe_load(open(os.path.join(PACKAGE_DIR, \"config.yaml\"), \"r\"))\n",
    "print(CFG[MODEL_NAME][\"execution\"][\"exp_id\"])\n",
    "CFG[\"output_dir\"] = f\"/kaggle/output/{CFG[MODEL_NAME]['execution']['exp_id']}\"\n",
    "!rm -r {CFG[\"output_dir\"]}\n",
    "os.makedirs(CFG[\"output_dir\"], exist_ok=True)\n",
    "\n",
    "init_logger(f\"{ CFG[MODEL_NAME]['execution']['exp_id']}.log\")\n",
    "logger = get_logger(\"main\")\n",
    "seed_base(CFG[MODEL_NAME][\"execution\"][\"seed\"])"
   ]
  },
  {
   "cell_type": "code",
   "execution_count": 4,
   "metadata": {},
   "outputs": [
    {
     "name": "stdout",
     "output_type": "stream",
     "text": [
      "(45098, 33)\n"
     ]
    },
    {
     "data": {
      "text/html": [
       "<div><style>\n",
       ".dataframe > thead > tr,\n",
       ".dataframe > tbody > tr {\n",
       "  text-align: right;\n",
       "  white-space: pre-wrap;\n",
       "}\n",
       "</style>\n",
       "<small>shape: (1, 33)</small><table border=\"1\" class=\"dataframe\"><thead><tr><th>ID</th><th>vEgo</th><th>aEgo</th><th>steeringAngleDeg</th><th>steeringTorque</th><th>brake</th><th>brakePressed</th><th>gas</th><th>gasPressed</th><th>gearShifter</th><th>leftBlinker</th><th>rightBlinker</th><th>x_0</th><th>y_0</th><th>z_0</th><th>x_1</th><th>y_1</th><th>z_1</th><th>x_2</th><th>y_2</th><th>z_2</th><th>x_3</th><th>y_3</th><th>z_3</th><th>x_4</th><th>y_4</th><th>z_4</th><th>x_5</th><th>y_5</th><th>z_5</th><th>sceneID</th><th>offset</th><th>submit</th></tr><tr><td>str</td><td>f64</td><td>f64</td><td>f64</td><td>f64</td><td>f64</td><td>bool</td><td>f64</td><td>bool</td><td>str</td><td>bool</td><td>bool</td><td>f64</td><td>f64</td><td>f64</td><td>f64</td><td>f64</td><td>f64</td><td>f64</td><td>f64</td><td>f64</td><td>f64</td><td>f64</td><td>f64</td><td>f64</td><td>f64</td><td>f64</td><td>f64</td><td>f64</td><td>f64</td><td>str</td><td>f32</td><td>bool</td></tr></thead><tbody><tr><td>&quot;00066be8e20318869c38c66be46663…</td><td>5.701526</td><td>1.538456</td><td>-2.165777</td><td>-139.0</td><td>0.0</td><td>false</td><td>0.25</td><td>true</td><td>&quot;drive&quot;</td><td>false</td><td>false</td><td>2.82959</td><td>0.032226</td><td>0.045187</td><td>6.231999</td><td>0.065895</td><td>0.107974</td><td>9.785009</td><td>0.124972</td><td>0.203649</td><td>13.485472</td><td>0.163448</td><td>0.302818</td><td>17.574227</td><td>0.174289</td><td>0.406331</td><td>21.951269</td><td>0.199503</td><td>0.485079</td><td>&quot;00066be8e20318869c38c66be46663…</td><td>320.0</td><td>false</td></tr></tbody></table></div>"
      ],
      "text/plain": [
       "shape: (1, 33)\n",
       "┌──────────────┬──────────┬──────────┬──────────────┬───┬──────────┬─────────────┬────────┬────────┐\n",
       "│ ID           ┆ vEgo     ┆ aEgo     ┆ steeringAngl ┆ … ┆ z_5      ┆ sceneID     ┆ offset ┆ submit │\n",
       "│ ---          ┆ ---      ┆ ---      ┆ eDeg         ┆   ┆ ---      ┆ ---         ┆ ---    ┆ ---    │\n",
       "│ str          ┆ f64      ┆ f64      ┆ ---          ┆   ┆ f64      ┆ str         ┆ f32    ┆ bool   │\n",
       "│              ┆          ┆          ┆ f64          ┆   ┆          ┆             ┆        ┆        │\n",
       "╞══════════════╪══════════╪══════════╪══════════════╪═══╪══════════╪═════════════╪════════╪════════╡\n",
       "│ 00066be8e203 ┆ 5.701526 ┆ 1.538456 ┆ -2.165777    ┆ … ┆ 0.485079 ┆ 00066be8e20 ┆ 320.0  ┆ false  │\n",
       "│ 18869c38c66b ┆          ┆          ┆              ┆   ┆          ┆ 318869c38c6 ┆        ┆        │\n",
       "│ e46663…      ┆          ┆          ┆              ┆   ┆          ┆ 6be46663…   ┆        ┆        │\n",
       "└──────────────┴──────────┴──────────┴──────────────┴───┴──────────┴─────────────┴────────┴────────┘"
      ]
     },
     "execution_count": 4,
     "metadata": {},
     "output_type": "execute_result"
    }
   ],
   "source": [
    "import warnings\n",
    "\n",
    "import numpy as np\n",
    "import polars as pl\n",
    "from IPython.display import clear_output, display\n",
    "from penguinml.gbdt.lightgbm import fit_lgb, inference_lgb\n",
    "from tqdm import tqdm\n",
    "\n",
    "from const import TARGET_COLS\n",
    "from feature_engineering import feature_engineer\n",
    "\n",
    "warnings.filterwarnings(\"ignore\")\n",
    "pl.Config.set_tbl_rows(20)\n",
    "\n",
    "train = pl.read_csv(os.path.join(CFG[\"dataset\"][\"competition_dir\"], \"train_features.csv\"))\n",
    "train = (\n",
    "    train.with_columns(\n",
    "        pl.col(\"ID\").str.split_exact(\"_\", n=1).struct.rename_fields([\"sceneID\", \"offset\"]).alias(\"fields\")\n",
    "    )\n",
    "    .unnest(\"fields\")\n",
    "    .with_columns(\n",
    "        pl.col(\"offset\").cast(pl.Float32),\n",
    "        pl.lit(False).alias(\"submit\"),\n",
    "    )\n",
    "    # .sample(fraction=0.01)\n",
    ")\n",
    "test = pl.read_csv(os.path.join(CFG[\"dataset\"][\"competition_dir\"], \"test_features.csv\"))\n",
    "test = (\n",
    "    test.with_columns(\n",
    "        pl.col(\"ID\").str.split_exact(\"_\", n=1).struct.rename_fields([\"sceneID\", \"offset\"]).alias(\"fields\")\n",
    "    )\n",
    "    .unnest(\"fields\")\n",
    "    .with_columns(\n",
    "        pl.col(\"offset\").cast(pl.Float32),\n",
    "        pl.lit(True).alias(\"submit\"),\n",
    "    )\n",
    ")\n",
    "train = pl.concat([train, test], how=\"diagonal\")\n",
    "print(train.shape)\n",
    "train.head(1)"
   ]
  },
  {
   "cell_type": "markdown",
   "metadata": {},
   "source": [
    "## 特徴量生成\n"
   ]
  },
  {
   "cell_type": "code",
   "execution_count": 5,
   "metadata": {},
   "outputs": [
    {
     "name": "stdout",
     "output_type": "stream",
     "text": [
      "105\n"
     ]
    }
   ],
   "source": [
    "train, features = feature_engineer(train)\n",
    "print(len(features))"
   ]
  },
  {
   "cell_type": "code",
   "execution_count": 6,
   "metadata": {},
   "outputs": [
    {
     "name": "stderr",
     "output_type": "stream",
     "text": [
      "100%|██████████| 45098/45098 [00:00<00:00, 81664.31it/s]\n"
     ]
    }
   ],
   "source": [
    "# YOLOの検出結果\n",
    "import json\n",
    "from glob import glob\n",
    "\n",
    "yolo_paths = glob(\"/kaggle/input/yolo-det/det/*.json\")\n",
    "yolo_dfs = []\n",
    "for path in tqdm(yolo_paths):\n",
    "    ID = os.path.basename(path).split(\".\")[0]\n",
    "    with open(path, \"r\") as f:\n",
    "        data = json.load(f)\n",
    "\n",
    "    yolo_feature = {\n",
    "        \"ID\": ID,\n",
    "        \"num_objects\": len(data),\n",
    "    }\n",
    "    for bbox in data:\n",
    "        if bbox[\"x1\"] == bbox[\"x2\"] or bbox[\"y1\"] == bbox[\"y2\"]:\n",
    "            continue\n",
    "\n",
    "        if bbox[\"cls\"] != \"car\":\n",
    "            continue\n",
    "\n",
    "        # count\n",
    "        if bbox[\"cls\"] not in yolo_feature:\n",
    "            yolo_feature[bbox[\"cls\"]] = 0\n",
    "        yolo_feature[bbox[\"cls\"]] += 1\n",
    "\n",
    "        # 最も横方向が中央にあるものの情報\n",
    "        if f\"center_x_{bbox['cls']}\" not in yolo_feature:\n",
    "            yolo_feature[f\"center_x_{bbox['cls']}\"] = -1\n",
    "        current_dist = abs(yolo_feature[f\"center_x_{bbox['cls']}\"] - 64)\n",
    "        now_center_x = (bbox[\"x1\"] + bbox[\"x2\"]) / 2\n",
    "        now_dist = abs(now_center_x - 64)\n",
    "        if now_dist < current_dist:\n",
    "            yolo_feature[f\"center_x_{bbox['cls']}\"] = now_center_x\n",
    "            yolo_feature[f\"center_y_{bbox['cls']}\"] = (bbox[\"y1\"] + bbox[\"y2\"]) / 2\n",
    "            yolo_feature[f\"width_{bbox['cls']}\"] = bbox[\"x2\"] - bbox[\"x1\"]\n",
    "            yolo_feature[f\"height_{bbox['cls']}\"] = bbox[\"y2\"] - bbox[\"y1\"]\n",
    "            yolo_feature[f\"bottom_{bbox['cls']}\"] = bbox[\"y2\"]\n",
    "            yolo_feature[f\"area_{bbox['cls']}\"] = (bbox[\"x2\"] - bbox[\"x1\"]) * (bbox[\"y2\"] - bbox[\"y1\"])\n",
    "            yolo_feature[f\"aspect_ratio_{bbox['cls']}\"] = (bbox[\"x2\"] - bbox[\"x1\"]) / (bbox[\"y2\"] - bbox[\"y1\"])\n",
    "            yolo_feature[f\"conf_{bbox['cls']}\"] = bbox[\"conf\"]\n",
    "    yolo_dfs.append(yolo_feature)\n",
    "yolo_df = pl.DataFrame(yolo_dfs)"
   ]
  },
  {
   "cell_type": "code",
   "execution_count": 7,
   "metadata": {},
   "outputs": [],
   "source": [
    "train = train.join(yolo_df, on=\"ID\", how=\"left\")\n",
    "features.add_num_features(yolo_df.columns[1:])"
   ]
  },
  {
   "cell_type": "code",
   "execution_count": 8,
   "metadata": {},
   "outputs": [
    {
     "data": {
      "text/plain": [
       "115"
      ]
     },
     "execution_count": 8,
     "metadata": {},
     "output_type": "execute_result"
    }
   ],
   "source": [
    "len(features)"
   ]
  },
  {
   "cell_type": "markdown",
   "metadata": {},
   "source": [
    "## CV Split\n"
   ]
  },
  {
   "cell_type": "code",
   "execution_count": 9,
   "metadata": {},
   "outputs": [],
   "source": [
    "train_folds = pl.read_csv(CFG[\"dataset\"][\"train_fold_path\"])\n",
    "train = train.join(train_folds, on=\"sceneID\", how=\"left\")\n",
    "# assert train[\"fold\"].null_count() == 0"
   ]
  },
  {
   "cell_type": "markdown",
   "metadata": {},
   "source": [
    "## Training\n"
   ]
  },
  {
   "cell_type": "code",
   "execution_count": 10,
   "metadata": {},
   "outputs": [
    {
     "data": {
      "text/html": [
       "<div><style>\n",
       ".dataframe > thead > tr,\n",
       ".dataframe > tbody > tr {\n",
       "  text-align: right;\n",
       "  white-space: pre-wrap;\n",
       "}\n",
       "</style>\n",
       "<small>shape: (18, 7)</small><table border=\"1\" class=\"dataframe\"><thead><tr><th>target</th><th>cv</th><th>fold0</th><th>fold1</th><th>fold2</th><th>fold3</th><th>fold4</th></tr><tr><td>str</td><td>f64</td><td>f64</td><td>f64</td><td>f64</td><td>f64</td><td>f64</td></tr></thead><tbody><tr><td>&quot;x_0&quot;</td><td>0.061581</td><td>0.061073</td><td>0.060015</td><td>0.063305</td><td>0.06101</td><td>0.062505</td></tr><tr><td>&quot;x_1&quot;</td><td>0.130709</td><td>0.130119</td><td>0.129176</td><td>0.132793</td><td>0.129463</td><td>0.131992</td></tr><tr><td>&quot;x_2&quot;</td><td>0.223579</td><td>0.222053</td><td>0.223639</td><td>0.224486</td><td>0.220674</td><td>0.227041</td></tr><tr><td>&quot;x_3&quot;</td><td>0.347487</td><td>0.344095</td><td>0.34955</td><td>0.349762</td><td>0.342804</td><td>0.351222</td></tr><tr><td>&quot;x_4&quot;</td><td>0.496314</td><td>0.492074</td><td>0.497459</td><td>0.498866</td><td>0.492115</td><td>0.501058</td></tr><tr><td>&quot;x_5&quot;</td><td>0.664857</td><td>0.657511</td><td>0.665983</td><td>0.668059</td><td>0.656885</td><td>0.675845</td></tr><tr><td>&quot;y_0&quot;</td><td>0.032619</td><td>0.032543</td><td>0.032042</td><td>0.032734</td><td>0.032108</td><td>0.033669</td></tr><tr><td>&quot;y_1&quot;</td><td>0.07307</td><td>0.073208</td><td>0.071566</td><td>0.073867</td><td>0.072185</td><td>0.074524</td></tr><tr><td>&quot;y_2&quot;</td><td>0.130187</td><td>0.129474</td><td>0.128777</td><td>0.131261</td><td>0.129454</td><td>0.131968</td></tr><tr><td>&quot;y_3&quot;</td><td>0.214295</td><td>0.21143</td><td>0.213703</td><td>0.215971</td><td>0.212941</td><td>0.217429</td></tr><tr><td>&quot;y_4&quot;</td><td>0.328729</td><td>0.321517</td><td>0.329115</td><td>0.330987</td><td>0.325911</td><td>0.336118</td></tr><tr><td>&quot;y_5&quot;</td><td>0.475655</td><td>0.46234</td><td>0.477344</td><td>0.481113</td><td>0.472635</td><td>0.484842</td></tr><tr><td>&quot;z_0&quot;</td><td>0.025836</td><td>0.025768</td><td>0.025337</td><td>0.026274</td><td>0.026325</td><td>0.025476</td></tr><tr><td>&quot;z_1&quot;</td><td>0.053657</td><td>0.053531</td><td>0.052299</td><td>0.054323</td><td>0.054897</td><td>0.053234</td></tr><tr><td>&quot;z_2&quot;</td><td>0.082401</td><td>0.081872</td><td>0.080033</td><td>0.083146</td><td>0.084809</td><td>0.082144</td></tr><tr><td>&quot;z_3&quot;</td><td>0.112233</td><td>0.111126</td><td>0.109156</td><td>0.112988</td><td>0.115383</td><td>0.112512</td></tr><tr><td>&quot;z_4&quot;</td><td>0.142943</td><td>0.141304</td><td>0.139365</td><td>0.143662</td><td>0.146894</td><td>0.143491</td></tr><tr><td>&quot;z_5&quot;</td><td>0.174907</td><td>0.173118</td><td>0.171077</td><td>0.175524</td><td>0.179307</td><td>0.175507</td></tr></tbody></table></div>"
      ],
      "text/plain": [
       "shape: (18, 7)\n",
       "┌────────┬──────────┬──────────┬──────────┬──────────┬──────────┬──────────┐\n",
       "│ target ┆ cv       ┆ fold0    ┆ fold1    ┆ fold2    ┆ fold3    ┆ fold4    │\n",
       "│ ---    ┆ ---      ┆ ---      ┆ ---      ┆ ---      ┆ ---      ┆ ---      │\n",
       "│ str    ┆ f64      ┆ f64      ┆ f64      ┆ f64      ┆ f64      ┆ f64      │\n",
       "╞════════╪══════════╪══════════╪══════════╪══════════╪══════════╪══════════╡\n",
       "│ x_0    ┆ 0.061581 ┆ 0.061073 ┆ 0.060015 ┆ 0.063305 ┆ 0.06101  ┆ 0.062505 │\n",
       "│ x_1    ┆ 0.130709 ┆ 0.130119 ┆ 0.129176 ┆ 0.132793 ┆ 0.129463 ┆ 0.131992 │\n",
       "│ x_2    ┆ 0.223579 ┆ 0.222053 ┆ 0.223639 ┆ 0.224486 ┆ 0.220674 ┆ 0.227041 │\n",
       "│ x_3    ┆ 0.347487 ┆ 0.344095 ┆ 0.34955  ┆ 0.349762 ┆ 0.342804 ┆ 0.351222 │\n",
       "│ x_4    ┆ 0.496314 ┆ 0.492074 ┆ 0.497459 ┆ 0.498866 ┆ 0.492115 ┆ 0.501058 │\n",
       "│ x_5    ┆ 0.664857 ┆ 0.657511 ┆ 0.665983 ┆ 0.668059 ┆ 0.656885 ┆ 0.675845 │\n",
       "│ y_0    ┆ 0.032619 ┆ 0.032543 ┆ 0.032042 ┆ 0.032734 ┆ 0.032108 ┆ 0.033669 │\n",
       "│ y_1    ┆ 0.07307  ┆ 0.073208 ┆ 0.071566 ┆ 0.073867 ┆ 0.072185 ┆ 0.074524 │\n",
       "│ y_2    ┆ 0.130187 ┆ 0.129474 ┆ 0.128777 ┆ 0.131261 ┆ 0.129454 ┆ 0.131968 │\n",
       "│ y_3    ┆ 0.214295 ┆ 0.21143  ┆ 0.213703 ┆ 0.215971 ┆ 0.212941 ┆ 0.217429 │\n",
       "│ y_4    ┆ 0.328729 ┆ 0.321517 ┆ 0.329115 ┆ 0.330987 ┆ 0.325911 ┆ 0.336118 │\n",
       "│ y_5    ┆ 0.475655 ┆ 0.46234  ┆ 0.477344 ┆ 0.481113 ┆ 0.472635 ┆ 0.484842 │\n",
       "│ z_0    ┆ 0.025836 ┆ 0.025768 ┆ 0.025337 ┆ 0.026274 ┆ 0.026325 ┆ 0.025476 │\n",
       "│ z_1    ┆ 0.053657 ┆ 0.053531 ┆ 0.052299 ┆ 0.054323 ┆ 0.054897 ┆ 0.053234 │\n",
       "│ z_2    ┆ 0.082401 ┆ 0.081872 ┆ 0.080033 ┆ 0.083146 ┆ 0.084809 ┆ 0.082144 │\n",
       "│ z_3    ┆ 0.112233 ┆ 0.111126 ┆ 0.109156 ┆ 0.112988 ┆ 0.115383 ┆ 0.112512 │\n",
       "│ z_4    ┆ 0.142943 ┆ 0.141304 ┆ 0.139365 ┆ 0.143662 ┆ 0.146894 ┆ 0.143491 │\n",
       "│ z_5    ┆ 0.174907 ┆ 0.173118 ┆ 0.171077 ┆ 0.175524 ┆ 0.179307 ┆ 0.175507 │\n",
       "└────────┴──────────┴──────────┴──────────┴──────────┴──────────┴──────────┘"
      ]
     },
     "metadata": {},
     "output_type": "display_data"
    }
   ],
   "source": [
    "dfs = []\n",
    "test_dfs = []\n",
    "scores = []\n",
    "for c in tqdm(sorted(TARGET_COLS, key=lambda x: x.split(\"_\")[1], reverse=True)):\n",
    "    this_df = train.filter(pl.col(\"target_name_original\") == c)\n",
    "    this_train_df = this_df.filter(~pl.col(\"submit\"))\n",
    "    this_test_df = this_df.filter(pl.col(\"submit\"))\n",
    "\n",
    "    oof, models = fit_lgb(\n",
    "        data=this_train_df,\n",
    "        features=features,\n",
    "        params=CFG[MODEL_NAME][\"params\"],\n",
    "        target_col=\"target\",\n",
    "        fold_col=\"fold\",\n",
    "        target_type=\"regression\",\n",
    "        verbose=50000,\n",
    "    )\n",
    "    this_train_df = this_train_df.with_columns(pl.Series(\"oof\", oof))\n",
    "    dfs.append(this_train_df)\n",
    "\n",
    "    i = int(c.split(\"_\")[1])\n",
    "    xyz = c.split(\"_\")[0]\n",
    "    mae = np.abs(this_train_df[\"oof\"] - this_train_df[\"target\"]).mean()\n",
    "    score = {\"target\": c, \"cv\": mae} | {\n",
    "        f\"fold{fold}\": np.abs(\n",
    "            this_train_df.filter(pl.col(\"fold\") == fold)[\"oof\"]\n",
    "            - this_train_df.filter(pl.col(\"fold\") == fold)[\"target\"]\n",
    "        ).mean()\n",
    "        for fold in range(5)\n",
    "    }\n",
    "    scores.append(score)\n",
    "\n",
    "    # inference\n",
    "    preds = inference_lgb(\n",
    "        feat_df=this_test_df.select(features.all_features()),\n",
    "        models=models,\n",
    "        agg_func=np.mean,  # TODO: medの方がいいかも\n",
    "    )\n",
    "    this_test_df = this_test_df.with_columns(pl.Series(\"pred\", preds))\n",
    "    test_dfs.append(this_test_df)\n",
    "\n",
    "    clear_output()\n",
    "    display(pl.DataFrame(scores).sort(\"target\"))\n",
    "\n",
    "train = pl.concat(dfs)\n",
    "test = pl.concat(test_dfs)\n",
    "clear_output()\n",
    "display(pl.DataFrame(scores).sort(\"target\"))"
   ]
  },
  {
   "cell_type": "code",
   "execution_count": 11,
   "metadata": {},
   "outputs": [
    {
     "name": "stdout",
     "output_type": "stream",
     "text": [
      "MAE: 0.20950319991039687\n"
     ]
    }
   ],
   "source": [
    "mae = np.abs(train[\"oof\"] - train[\"target\"]).mean()\n",
    "print(f\"MAE: {mae}\")"
   ]
  },
  {
   "cell_type": "code",
   "execution_count": 12,
   "metadata": {},
   "outputs": [],
   "source": [
    "oof_df = (\n",
    "    train.select([\"ID\", \"target_name_original\", \"oof\"])\n",
    "    .with_columns(pl.col(\"target_name_original\"))\n",
    "    .pivot(index=\"ID\", columns=\"target_name_original\", values=\"oof\")\n",
    "    .sort(\"ID\")\n",
    ")\n",
    "submission = (\n",
    "    test.select([\"ID\", \"target_name_original\", \"pred\"])\n",
    "    .with_columns(pl.col(\"target_name_original\"))\n",
    "    .pivot(index=\"ID\", columns=\"target_name_original\", values=\"pred\")\n",
    "    .sort(\"ID\")\n",
    ")"
   ]
  },
  {
   "cell_type": "code",
   "execution_count": 13,
   "metadata": {},
   "outputs": [
    {
     "data": {
      "text/html": [
       "<div><style>\n",
       ".dataframe > thead > tr,\n",
       ".dataframe > tbody > tr {\n",
       "  text-align: right;\n",
       "  white-space: pre-wrap;\n",
       "}\n",
       "</style>\n",
       "<small>shape: (5, 19)</small><table border=\"1\" class=\"dataframe\"><thead><tr><th>ID</th><th>x_5</th><th>y_5</th><th>z_5</th><th>x_4</th><th>y_4</th><th>z_4</th><th>x_3</th><th>y_3</th><th>z_3</th><th>x_2</th><th>y_2</th><th>z_2</th><th>x_1</th><th>y_1</th><th>z_1</th><th>x_0</th><th>y_0</th><th>z_0</th></tr><tr><td>str</td><td>f64</td><td>f64</td><td>f64</td><td>f64</td><td>f64</td><td>f64</td><td>f64</td><td>f64</td><td>f64</td><td>f64</td><td>f64</td><td>f64</td><td>f64</td><td>f64</td><td>f64</td><td>f64</td><td>f64</td><td>f64</td></tr></thead><tbody><tr><td>&quot;00066be8e20318869c38c66be46663…</td><td>21.404294</td><td>-0.548819</td><td>0.143728</td><td>17.272427</td><td>-0.373115</td><td>0.097867</td><td>13.30097</td><td>-0.25679</td><td>0.071258</td><td>9.453123</td><td>-0.077115</td><td>0.047243</td><td>5.900888</td><td>-0.026699</td><td>0.022536</td><td>2.632121</td><td>-0.005711</td><td>0.007567</td></tr><tr><td>&quot;00066be8e20318869c38c66be46663…</td><td>31.318925</td><td>-1.174317</td><td>0.190615</td><td>26.115334</td><td>-0.9014</td><td>0.152871</td><td>21.237533</td><td>-0.620643</td><td>0.113286</td><td>15.842749</td><td>-0.4343</td><td>0.079549</td><td>10.522006</td><td>-0.230986</td><td>0.037295</td><td>5.015785</td><td>-0.071778</td><td>0.015378</td></tr><tr><td>&quot;00066be8e20318869c38c66be46663…</td><td>32.168402</td><td>-0.575897</td><td>0.110945</td><td>26.553537</td><td>-0.519629</td><td>0.070444</td><td>20.871066</td><td>-0.381524</td><td>0.05382</td><td>15.465241</td><td>-0.178955</td><td>0.039162</td><td>10.097823</td><td>-0.084873</td><td>0.021224</td><td>4.743197</td><td>-0.021383</td><td>0.00826</td></tr><tr><td>&quot;000fb056f97572d384bae4f5fc1e0f…</td><td>18.199935</td><td>1.340657</td><td>0.013465</td><td>15.115479</td><td>0.961828</td><td>0.010586</td><td>11.84321</td><td>0.577857</td><td>0.00853</td><td>8.79012</td><td>0.284482</td><td>0.01477</td><td>5.839181</td><td>0.101221</td><td>0.008654</td><td>2.766731</td><td>0.017821</td><td>0.003586</td></tr><tr><td>&quot;000fb056f97572d384bae4f5fc1e0f…</td><td>15.070288</td><td>-0.626997</td><td>0.075161</td><td>11.859069</td><td>-0.431743</td><td>0.056891</td><td>8.986238</td><td>-0.312678</td><td>0.038545</td><td>6.228007</td><td>-0.266809</td><td>0.022853</td><td>3.659009</td><td>-0.136095</td><td>0.00897</td><td>1.577929</td><td>-0.043281</td><td>0.002934</td></tr></tbody></table></div>"
      ],
      "text/plain": [
       "shape: (5, 19)\n",
       "┌──────────────┬───────────┬───────────┬──────────┬───┬──────────┬──────────┬───────────┬──────────┐\n",
       "│ ID           ┆ x_5       ┆ y_5       ┆ z_5      ┆ … ┆ z_1      ┆ x_0      ┆ y_0       ┆ z_0      │\n",
       "│ ---          ┆ ---       ┆ ---       ┆ ---      ┆   ┆ ---      ┆ ---      ┆ ---       ┆ ---      │\n",
       "│ str          ┆ f64       ┆ f64       ┆ f64      ┆   ┆ f64      ┆ f64      ┆ f64       ┆ f64      │\n",
       "╞══════════════╪═══════════╪═══════════╪══════════╪═══╪══════════╪══════════╪═══════════╪══════════╡\n",
       "│ 00066be8e203 ┆ 21.404294 ┆ -0.548819 ┆ 0.143728 ┆ … ┆ 0.022536 ┆ 2.632121 ┆ -0.005711 ┆ 0.007567 │\n",
       "│ 18869c38c66b ┆           ┆           ┆          ┆   ┆          ┆          ┆           ┆          │\n",
       "│ e46663…      ┆           ┆           ┆          ┆   ┆          ┆          ┆           ┆          │\n",
       "│ 00066be8e203 ┆ 31.318925 ┆ -1.174317 ┆ 0.190615 ┆ … ┆ 0.037295 ┆ 5.015785 ┆ -0.071778 ┆ 0.015378 │\n",
       "│ 18869c38c66b ┆           ┆           ┆          ┆   ┆          ┆          ┆           ┆          │\n",
       "│ e46663…      ┆           ┆           ┆          ┆   ┆          ┆          ┆           ┆          │\n",
       "│ 00066be8e203 ┆ 32.168402 ┆ -0.575897 ┆ 0.110945 ┆ … ┆ 0.021224 ┆ 4.743197 ┆ -0.021383 ┆ 0.00826  │\n",
       "│ 18869c38c66b ┆           ┆           ┆          ┆   ┆          ┆          ┆           ┆          │\n",
       "│ e46663…      ┆           ┆           ┆          ┆   ┆          ┆          ┆           ┆          │\n",
       "│ 000fb056f975 ┆ 18.199935 ┆ 1.340657  ┆ 0.013465 ┆ … ┆ 0.008654 ┆ 2.766731 ┆ 0.017821  ┆ 0.003586 │\n",
       "│ 72d384bae4f5 ┆           ┆           ┆          ┆   ┆          ┆          ┆           ┆          │\n",
       "│ fc1e0f…      ┆           ┆           ┆          ┆   ┆          ┆          ┆           ┆          │\n",
       "│ 000fb056f975 ┆ 15.070288 ┆ -0.626997 ┆ 0.075161 ┆ … ┆ 0.00897  ┆ 1.577929 ┆ -0.043281 ┆ 0.002934 │\n",
       "│ 72d384bae4f5 ┆           ┆           ┆          ┆   ┆          ┆          ┆           ┆          │\n",
       "│ fc1e0f…      ┆           ┆           ┆          ┆   ┆          ┆          ┆           ┆          │\n",
       "└──────────────┴───────────┴───────────┴──────────┴───┴──────────┴──────────┴───────────┴──────────┘"
      ]
     },
     "execution_count": 13,
     "metadata": {},
     "output_type": "execute_result"
    }
   ],
   "source": [
    "oof_df.write_csv(os.path.join(CFG[\"output_dir\"], \"oof.csv\"))\n",
    "oof_df.head()"
   ]
  },
  {
   "cell_type": "code",
   "execution_count": 14,
   "metadata": {},
   "outputs": [
    {
     "data": {
      "text/html": [
       "<div><style>\n",
       ".dataframe > thead > tr,\n",
       ".dataframe > tbody > tr {\n",
       "  text-align: right;\n",
       "  white-space: pre-wrap;\n",
       "}\n",
       "</style>\n",
       "<small>shape: (5, 19)</small><table border=\"1\" class=\"dataframe\"><thead><tr><th>ID</th><th>x_5</th><th>y_5</th><th>z_5</th><th>x_4</th><th>y_4</th><th>z_4</th><th>x_3</th><th>y_3</th><th>z_3</th><th>x_2</th><th>y_2</th><th>z_2</th><th>x_1</th><th>y_1</th><th>z_1</th><th>x_0</th><th>y_0</th><th>z_0</th></tr><tr><td>str</td><td>f64</td><td>f64</td><td>f64</td><td>f64</td><td>f64</td><td>f64</td><td>f64</td><td>f64</td><td>f64</td><td>f64</td><td>f64</td><td>f64</td><td>f64</td><td>f64</td><td>f64</td><td>f64</td><td>f64</td><td>f64</td></tr></thead><tbody><tr><td>&quot;012baccc145d400c896cb82065a93d…</td><td>8.894346</td><td>-0.211703</td><td>0.003102</td><td>7.463917</td><td>-0.241834</td><td>0.015837</td><td>6.055315</td><td>-0.181995</td><td>0.013442</td><td>4.528247</td><td>-0.160721</td><td>0.013288</td><td>3.009286</td><td>-0.089467</td><td>0.007055</td><td>1.473111</td><td>-0.045972</td><td>0.003985</td></tr><tr><td>&quot;012baccc145d400c896cb82065a93d…</td><td>4.869843</td><td>4.233012</td><td>0.003207</td><td>4.042703</td><td>3.371983</td><td>0.00587</td><td>3.395709</td><td>2.390243</td><td>-0.007166</td><td>2.727319</td><td>1.708474</td><td>-0.00101</td><td>1.821111</td><td>1.008175</td><td>-0.003333</td><td>0.957628</td><td>0.377173</td><td>-0.000307</td></tr><tr><td>&quot;012baccc145d400c896cb82065a93d…</td><td>9.093722</td><td>-0.051671</td><td>0.004188</td><td>7.436154</td><td>-0.018273</td><td>0.013927</td><td>6.156919</td><td>-0.044696</td><td>0.012126</td><td>4.715283</td><td>-0.066803</td><td>0.011577</td><td>3.169109</td><td>-0.051066</td><td>0.009505</td><td>1.562905</td><td>-0.006655</td><td>0.006301</td></tr><tr><td>&quot;012baccc145d400c896cb82065a93d…</td><td>4.8481</td><td>2.127355</td><td>-0.021652</td><td>3.908397</td><td>1.313031</td><td>-0.016852</td><td>3.180643</td><td>0.854329</td><td>-0.016125</td><td>2.456781</td><td>0.48514</td><td>-0.010247</td><td>1.68152</td><td>0.248885</td><td>-0.007206</td><td>0.849306</td><td>0.075631</td><td>-0.001467</td></tr><tr><td>&quot;01d738e799d260a10f6324f78023b3…</td><td>2.060174</td><td>0.009736</td><td>-0.043525</td><td>2.059221</td><td>-0.00878</td><td>-0.031389</td><td>2.041783</td><td>-0.013679</td><td>-0.028416</td><td>1.824939</td><td>-0.015205</td><td>-0.014188</td><td>1.45983</td><td>-0.017157</td><td>-0.002993</td><td>0.837501</td><td>-0.004008</td><td>-0.001507</td></tr></tbody></table></div>"
      ],
      "text/plain": [
       "shape: (5, 19)\n",
       "┌────────────┬──────────┬───────────┬───────────┬───┬───────────┬──────────┬───────────┬───────────┐\n",
       "│ ID         ┆ x_5      ┆ y_5       ┆ z_5       ┆ … ┆ z_1       ┆ x_0      ┆ y_0       ┆ z_0       │\n",
       "│ ---        ┆ ---      ┆ ---       ┆ ---       ┆   ┆ ---       ┆ ---      ┆ ---       ┆ ---       │\n",
       "│ str        ┆ f64      ┆ f64       ┆ f64       ┆   ┆ f64       ┆ f64      ┆ f64       ┆ f64       │\n",
       "╞════════════╪══════════╪═══════════╪═══════════╪═══╪═══════════╪══════════╪═══════════╪═══════════╡\n",
       "│ 012baccc14 ┆ 8.894346 ┆ -0.211703 ┆ 0.003102  ┆ … ┆ 0.007055  ┆ 1.473111 ┆ -0.045972 ┆ 0.003985  │\n",
       "│ 5d400c896c ┆          ┆           ┆           ┆   ┆           ┆          ┆           ┆           │\n",
       "│ b82065a93d ┆          ┆           ┆           ┆   ┆           ┆          ┆           ┆           │\n",
       "│ …          ┆          ┆           ┆           ┆   ┆           ┆          ┆           ┆           │\n",
       "│ 012baccc14 ┆ 4.869843 ┆ 4.233012  ┆ 0.003207  ┆ … ┆ -0.003333 ┆ 0.957628 ┆ 0.377173  ┆ -0.000307 │\n",
       "│ 5d400c896c ┆          ┆           ┆           ┆   ┆           ┆          ┆           ┆           │\n",
       "│ b82065a93d ┆          ┆           ┆           ┆   ┆           ┆          ┆           ┆           │\n",
       "│ …          ┆          ┆           ┆           ┆   ┆           ┆          ┆           ┆           │\n",
       "│ 012baccc14 ┆ 9.093722 ┆ -0.051671 ┆ 0.004188  ┆ … ┆ 0.009505  ┆ 1.562905 ┆ -0.006655 ┆ 0.006301  │\n",
       "│ 5d400c896c ┆          ┆           ┆           ┆   ┆           ┆          ┆           ┆           │\n",
       "│ b82065a93d ┆          ┆           ┆           ┆   ┆           ┆          ┆           ┆           │\n",
       "│ …          ┆          ┆           ┆           ┆   ┆           ┆          ┆           ┆           │\n",
       "│ 012baccc14 ┆ 4.8481   ┆ 2.127355  ┆ -0.021652 ┆ … ┆ -0.007206 ┆ 0.849306 ┆ 0.075631  ┆ -0.001467 │\n",
       "│ 5d400c896c ┆          ┆           ┆           ┆   ┆           ┆          ┆           ┆           │\n",
       "│ b82065a93d ┆          ┆           ┆           ┆   ┆           ┆          ┆           ┆           │\n",
       "│ …          ┆          ┆           ┆           ┆   ┆           ┆          ┆           ┆           │\n",
       "│ 01d738e799 ┆ 2.060174 ┆ 0.009736  ┆ -0.043525 ┆ … ┆ -0.002993 ┆ 0.837501 ┆ -0.004008 ┆ -0.001507 │\n",
       "│ d260a10f63 ┆          ┆           ┆           ┆   ┆           ┆          ┆           ┆           │\n",
       "│ 24f78023b3 ┆          ┆           ┆           ┆   ┆           ┆          ┆           ┆           │\n",
       "│ …          ┆          ┆           ┆           ┆   ┆           ┆          ┆           ┆           │\n",
       "└────────────┴──────────┴───────────┴───────────┴───┴───────────┴──────────┴───────────┴───────────┘"
      ]
     },
     "execution_count": 14,
     "metadata": {},
     "output_type": "execute_result"
    }
   ],
   "source": [
    "submission.write_csv(os.path.join(CFG[\"output_dir\"], \"submission.csv\"))\n",
    "submission.head()"
   ]
  },
  {
   "cell_type": "code",
   "execution_count": null,
   "metadata": {},
   "outputs": [],
   "source": []
  }
 ],
 "metadata": {
  "kernelspec": {
   "display_name": "base",
   "language": "python",
   "name": "python3"
  },
  "language_info": {
   "codemirror_mode": {
    "name": "ipython",
    "version": 3
   },
   "file_extension": ".py",
   "mimetype": "text/x-python",
   "name": "python",
   "nbconvert_exporter": "python",
   "pygments_lexer": "ipython3",
   "version": "3.10.14"
  }
 },
 "nbformat": 4,
 "nbformat_minor": 2
}
