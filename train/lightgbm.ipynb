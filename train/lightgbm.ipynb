{
 "cells": [
  {
   "cell_type": "code",
   "execution_count": 1,
   "metadata": {},
   "outputs": [
    {
     "name": "stdout",
     "output_type": "stream",
     "text": [
      "/kaggle/working\n"
     ]
    }
   ],
   "source": [
    "!rm -r /kaggle/working/*\n",
    "%cd /kaggle/working"
   ]
  },
  {
   "cell_type": "code",
   "execution_count": 2,
   "metadata": {},
   "outputs": [],
   "source": [
    "import os\n",
    "import sys\n",
    "\n",
    "PACKAGE_DIR = \"/kaggle/src\"\n",
    "sys.path.append(PACKAGE_DIR)\n",
    "sys.path.append(os.path.join(PACKAGE_DIR, \"Penguin-ML-Library\"))"
   ]
  },
  {
   "cell_type": "code",
   "execution_count": 3,
   "metadata": {},
   "outputs": [
    {
     "name": "stderr",
     "output_type": "stream",
     "text": [
      "2024-11-16 13:50:59.774433: I tensorflow/core/util/port.cc:113] oneDNN custom operations are on. You may see slightly different numerical results due to floating-point round-off errors from different computation orders. To turn them off, set the environment variable `TF_ENABLE_ONEDNN_OPTS=0`.\n",
      "2024-11-16 13:50:59.800056: I tensorflow/core/platform/cpu_feature_guard.cc:210] This TensorFlow binary is optimized to use available CPU instructions in performance-critical operations.\n",
      "To enable the following instructions: AVX2 AVX_VNNI FMA, in other operations, rebuild TensorFlow with the appropriate compiler flags.\n"
     ]
    },
    {
     "name": "stdout",
     "output_type": "stream",
     "text": [
      "exp_006\n"
     ]
    },
    {
     "name": "stderr",
     "output_type": "stream",
     "text": [
      "/opt/conda/lib/python3.10/pty.py:89: RuntimeWarning: os.fork() was called. os.fork() is incompatible with multithreaded code, and JAX is multithreaded, so this will likely lead to a deadlock.\n",
      "  pid, fd = os.forkpty()\n",
      "set seed: 46\n"
     ]
    }
   ],
   "source": [
    "import yaml\n",
    "from penguinml.utils.logger import get_logger, init_logger\n",
    "from penguinml.utils.set_seed import seed_base\n",
    "\n",
    "MODEL_NAME = \"lightgbm\"\n",
    "CFG = yaml.safe_load(open(os.path.join(PACKAGE_DIR, \"config.yaml\"), \"r\"))\n",
    "print(CFG[MODEL_NAME][\"execution\"][\"exp_id\"])\n",
    "CFG[\"output_dir\"] = f\"/kaggle/output/{CFG[MODEL_NAME]['execution']['exp_id']}\"\n",
    "!rm -r {CFG[\"output_dir\"]}\n",
    "os.makedirs(CFG[\"output_dir\"], exist_ok=True)\n",
    "\n",
    "init_logger(f\"{ CFG[MODEL_NAME]['execution']['exp_id']}.log\")\n",
    "logger = get_logger(\"main\")\n",
    "seed_base(CFG[MODEL_NAME][\"execution\"][\"seed\"])"
   ]
  },
  {
   "cell_type": "code",
   "execution_count": 4,
   "metadata": {},
   "outputs": [
    {
     "name": "stdout",
     "output_type": "stream",
     "text": [
      "(43371, 32)\n"
     ]
    },
    {
     "data": {
      "text/html": [
       "<div><style>\n",
       ".dataframe > thead > tr,\n",
       ".dataframe > tbody > tr {\n",
       "  text-align: right;\n",
       "  white-space: pre-wrap;\n",
       "}\n",
       "</style>\n",
       "<small>shape: (1, 32)</small><table border=\"1\" class=\"dataframe\"><thead><tr><th>ID</th><th>vEgo</th><th>aEgo</th><th>steeringAngleDeg</th><th>steeringTorque</th><th>brake</th><th>brakePressed</th><th>gas</th><th>gasPressed</th><th>gearShifter</th><th>leftBlinker</th><th>rightBlinker</th><th>x_0</th><th>y_0</th><th>z_0</th><th>x_1</th><th>y_1</th><th>z_1</th><th>x_2</th><th>y_2</th><th>z_2</th><th>x_3</th><th>y_3</th><th>z_3</th><th>x_4</th><th>y_4</th><th>z_4</th><th>x_5</th><th>y_5</th><th>z_5</th><th>sceneID</th><th>offset</th></tr><tr><td>str</td><td>f64</td><td>f64</td><td>f64</td><td>f64</td><td>f64</td><td>bool</td><td>f64</td><td>bool</td><td>str</td><td>bool</td><td>bool</td><td>f64</td><td>f64</td><td>f64</td><td>f64</td><td>f64</td><td>f64</td><td>f64</td><td>f64</td><td>f64</td><td>f64</td><td>f64</td><td>f64</td><td>f64</td><td>f64</td><td>f64</td><td>f64</td><td>f64</td><td>f64</td><td>str</td><td>f32</td></tr></thead><tbody><tr><td>&quot;00066be8e20318869c38c66be46663…</td><td>5.701526</td><td>1.538456</td><td>-2.165777</td><td>-139.0</td><td>0.0</td><td>false</td><td>0.25</td><td>true</td><td>&quot;drive&quot;</td><td>false</td><td>false</td><td>2.82959</td><td>0.032226</td><td>0.045187</td><td>6.231999</td><td>0.065895</td><td>0.107974</td><td>9.785009</td><td>0.124972</td><td>0.203649</td><td>13.485472</td><td>0.163448</td><td>0.302818</td><td>17.574227</td><td>0.174289</td><td>0.406331</td><td>21.951269</td><td>0.199503</td><td>0.485079</td><td>&quot;00066be8e20318869c38c66be46663…</td><td>320.0</td></tr></tbody></table></div>"
      ],
      "text/plain": [
       "shape: (1, 32)\n",
       "┌─────────────┬──────────┬──────────┬─────────────┬───┬──────────┬──────────┬─────────────┬────────┐\n",
       "│ ID          ┆ vEgo     ┆ aEgo     ┆ steeringAng ┆ … ┆ y_5      ┆ z_5      ┆ sceneID     ┆ offset │\n",
       "│ ---         ┆ ---      ┆ ---      ┆ leDeg       ┆   ┆ ---      ┆ ---      ┆ ---         ┆ ---    │\n",
       "│ str         ┆ f64      ┆ f64      ┆ ---         ┆   ┆ f64      ┆ f64      ┆ str         ┆ f32    │\n",
       "│             ┆          ┆          ┆ f64         ┆   ┆          ┆          ┆             ┆        │\n",
       "╞═════════════╪══════════╪══════════╪═════════════╪═══╪══════════╪══════════╪═════════════╪════════╡\n",
       "│ 00066be8e20 ┆ 5.701526 ┆ 1.538456 ┆ -2.165777   ┆ … ┆ 0.199503 ┆ 0.485079 ┆ 00066be8e20 ┆ 320.0  │\n",
       "│ 318869c38c6 ┆          ┆          ┆             ┆   ┆          ┆          ┆ 318869c38c6 ┆        │\n",
       "│ 6be46663…   ┆          ┆          ┆             ┆   ┆          ┆          ┆ 6be46663…   ┆        │\n",
       "└─────────────┴──────────┴──────────┴─────────────┴───┴──────────┴──────────┴─────────────┴────────┘"
      ]
     },
     "execution_count": 4,
     "metadata": {},
     "output_type": "execute_result"
    }
   ],
   "source": [
    "import warnings\n",
    "\n",
    "import numpy as np\n",
    "import polars as pl\n",
    "from IPython.display import clear_output, display\n",
    "from penguinml.gbdt.lightgbm import fit_lgb, inference_lgb\n",
    "from tqdm import tqdm\n",
    "\n",
    "from const import TARGET_COLS\n",
    "from feature_engineering import feature_engineer\n",
    "\n",
    "warnings.filterwarnings(\"ignore\")\n",
    "pl.Config.set_tbl_rows(20)\n",
    "\n",
    "train = pl.read_csv(os.path.join(CFG[\"dataset\"][\"competition_dir\"], \"train_features.csv\"))\n",
    "train = (\n",
    "    train.with_columns(\n",
    "        pl.col(\"ID\").str.split_exact(\"_\", n=1).struct.rename_fields([\"sceneID\", \"offset\"]).alias(\"fields\")\n",
    "    )\n",
    "    .unnest(\"fields\")\n",
    "    .with_columns(pl.col(\"offset\").cast(pl.Float32))\n",
    ")\n",
    "print(train.shape)\n",
    "train.head(1)"
   ]
  },
  {
   "cell_type": "markdown",
   "metadata": {},
   "source": [
    "## 特徴量生成\n"
   ]
  },
  {
   "cell_type": "code",
   "execution_count": 5,
   "metadata": {},
   "outputs": [],
   "source": [
    "train, features = feature_engineer(train)"
   ]
  },
  {
   "cell_type": "markdown",
   "metadata": {},
   "source": [
    "## CV Split\n"
   ]
  },
  {
   "cell_type": "code",
   "execution_count": 6,
   "metadata": {},
   "outputs": [],
   "source": [
    "train_folds = pl.read_csv(CFG[\"dataset\"][\"train_fold_path\"])\n",
    "train = train.join(train_folds, on=\"sceneID\", how=\"left\")\n",
    "assert train[\"fold\"].null_count() == 0"
   ]
  },
  {
   "cell_type": "markdown",
   "metadata": {},
   "source": [
    "## Training\n"
   ]
  },
  {
   "cell_type": "code",
   "execution_count": null,
   "metadata": {},
   "outputs": [
    {
     "data": {
      "text/html": [
       "<div><style>\n",
       ".dataframe > thead > tr,\n",
       ".dataframe > tbody > tr {\n",
       "  text-align: right;\n",
       "  white-space: pre-wrap;\n",
       "}\n",
       "</style>\n",
       "<small>shape: (18, 7)</small><table border=\"1\" class=\"dataframe\"><thead><tr><th>target</th><th>cv</th><th>fold0</th><th>fold1</th><th>fold2</th><th>fold3</th><th>fold4</th></tr><tr><td>str</td><td>f64</td><td>f64</td><td>f64</td><td>f64</td><td>f64</td><td>f64</td></tr></thead><tbody><tr><td>&quot;x_0&quot;</td><td>0.063883</td><td>0.063559</td><td>0.062202</td><td>0.065506</td><td>0.063717</td><td>0.064429</td></tr><tr><td>&quot;x_1&quot;</td><td>0.137001</td><td>0.135529</td><td>0.135043</td><td>0.138745</td><td>0.136518</td><td>0.139172</td></tr><tr><td>&quot;x_2&quot;</td><td>0.232062</td><td>0.229925</td><td>0.230675</td><td>0.232332</td><td>0.229519</td><td>0.237857</td></tr><tr><td>&quot;x_3&quot;</td><td>0.360112</td><td>0.356194</td><td>0.364038</td><td>0.360692</td><td>0.353767</td><td>0.365868</td></tr><tr><td>&quot;x_4&quot;</td><td>0.513969</td><td>0.505727</td><td>0.519416</td><td>0.514782</td><td>0.51125</td><td>0.518673</td></tr><tr><td>&quot;x_5&quot;</td><td>0.690449</td><td>0.682297</td><td>0.699715</td><td>0.688853</td><td>0.682781</td><td>0.6986</td></tr><tr><td>&quot;y_0&quot;</td><td>0.032201</td><td>0.031942</td><td>0.031407</td><td>0.032722</td><td>0.031838</td><td>0.033096</td></tr><tr><td>&quot;y_1&quot;</td><td>0.073227</td><td>0.072919</td><td>0.07085</td><td>0.074316</td><td>0.072983</td><td>0.07507</td></tr><tr><td>&quot;y_2&quot;</td><td>0.131989</td><td>0.129664</td><td>0.129739</td><td>0.133781</td><td>0.131383</td><td>0.13538</td></tr><tr><td>&quot;y_3&quot;</td><td>0.217331</td><td>0.212352</td><td>0.216447</td><td>0.219276</td><td>0.21536</td><td>0.22322</td></tr><tr><td>&quot;y_4&quot;</td><td>0.334225</td><td>0.323633</td><td>0.33419</td><td>0.337008</td><td>0.332366</td><td>0.343928</td></tr><tr><td>&quot;y_5&quot;</td><td>0.483314</td><td>0.466744</td><td>0.484508</td><td>0.485832</td><td>0.479718</td><td>0.49977</td></tr><tr><td>&quot;z_0&quot;</td><td>0.025885</td><td>0.02575</td><td>0.02534</td><td>0.026307</td><td>0.026417</td><td>0.025612</td></tr><tr><td>&quot;z_1&quot;</td><td>0.053841</td><td>0.053643</td><td>0.052526</td><td>0.054284</td><td>0.055234</td><td>0.053517</td></tr><tr><td>&quot;z_2&quot;</td><td>0.083025</td><td>0.082469</td><td>0.080717</td><td>0.083646</td><td>0.085575</td><td>0.082716</td></tr><tr><td>&quot;z_3&quot;</td><td>0.113452</td><td>0.112329</td><td>0.110431</td><td>0.113916</td><td>0.116881</td><td>0.113704</td></tr><tr><td>&quot;z_4&quot;</td><td>0.14516</td><td>0.143788</td><td>0.141738</td><td>0.145386</td><td>0.149358</td><td>0.145529</td></tr><tr><td>&quot;z_5&quot;</td><td>0.178187</td><td>0.177243</td><td>0.174483</td><td>0.178122</td><td>0.182591</td><td>0.178494</td></tr></tbody></table></div>"
      ],
      "text/plain": [
       "shape: (18, 7)\n",
       "┌────────┬──────────┬──────────┬──────────┬──────────┬──────────┬──────────┐\n",
       "│ target ┆ cv       ┆ fold0    ┆ fold1    ┆ fold2    ┆ fold3    ┆ fold4    │\n",
       "│ ---    ┆ ---      ┆ ---      ┆ ---      ┆ ---      ┆ ---      ┆ ---      │\n",
       "│ str    ┆ f64      ┆ f64      ┆ f64      ┆ f64      ┆ f64      ┆ f64      │\n",
       "╞════════╪══════════╪══════════╪══════════╪══════════╪══════════╪══════════╡\n",
       "│ x_0    ┆ 0.063883 ┆ 0.063559 ┆ 0.062202 ┆ 0.065506 ┆ 0.063717 ┆ 0.064429 │\n",
       "│ x_1    ┆ 0.137001 ┆ 0.135529 ┆ 0.135043 ┆ 0.138745 ┆ 0.136518 ┆ 0.139172 │\n",
       "│ x_2    ┆ 0.232062 ┆ 0.229925 ┆ 0.230675 ┆ 0.232332 ┆ 0.229519 ┆ 0.237857 │\n",
       "│ x_3    ┆ 0.360112 ┆ 0.356194 ┆ 0.364038 ┆ 0.360692 ┆ 0.353767 ┆ 0.365868 │\n",
       "│ x_4    ┆ 0.513969 ┆ 0.505727 ┆ 0.519416 ┆ 0.514782 ┆ 0.51125  ┆ 0.518673 │\n",
       "│ x_5    ┆ 0.690449 ┆ 0.682297 ┆ 0.699715 ┆ 0.688853 ┆ 0.682781 ┆ 0.6986   │\n",
       "│ y_0    ┆ 0.032201 ┆ 0.031942 ┆ 0.031407 ┆ 0.032722 ┆ 0.031838 ┆ 0.033096 │\n",
       "│ y_1    ┆ 0.073227 ┆ 0.072919 ┆ 0.07085  ┆ 0.074316 ┆ 0.072983 ┆ 0.07507  │\n",
       "│ y_2    ┆ 0.131989 ┆ 0.129664 ┆ 0.129739 ┆ 0.133781 ┆ 0.131383 ┆ 0.13538  │\n",
       "│ y_3    ┆ 0.217331 ┆ 0.212352 ┆ 0.216447 ┆ 0.219276 ┆ 0.21536  ┆ 0.22322  │\n",
       "│ y_4    ┆ 0.334225 ┆ 0.323633 ┆ 0.33419  ┆ 0.337008 ┆ 0.332366 ┆ 0.343928 │\n",
       "│ y_5    ┆ 0.483314 ┆ 0.466744 ┆ 0.484508 ┆ 0.485832 ┆ 0.479718 ┆ 0.49977  │\n",
       "│ z_0    ┆ 0.025885 ┆ 0.02575  ┆ 0.02534  ┆ 0.026307 ┆ 0.026417 ┆ 0.025612 │\n",
       "│ z_1    ┆ 0.053841 ┆ 0.053643 ┆ 0.052526 ┆ 0.054284 ┆ 0.055234 ┆ 0.053517 │\n",
       "│ z_2    ┆ 0.083025 ┆ 0.082469 ┆ 0.080717 ┆ 0.083646 ┆ 0.085575 ┆ 0.082716 │\n",
       "│ z_3    ┆ 0.113452 ┆ 0.112329 ┆ 0.110431 ┆ 0.113916 ┆ 0.116881 ┆ 0.113704 │\n",
       "│ z_4    ┆ 0.14516  ┆ 0.143788 ┆ 0.141738 ┆ 0.145386 ┆ 0.149358 ┆ 0.145529 │\n",
       "│ z_5    ┆ 0.178187 ┆ 0.177243 ┆ 0.174483 ┆ 0.178122 ┆ 0.182591 ┆ 0.178494 │\n",
       "└────────┴──────────┴──────────┴──────────┴──────────┴──────────┴──────────┘"
      ]
     },
     "metadata": {},
     "output_type": "display_data"
    }
   ],
   "source": [
    "dfs = []\n",
    "scores = []\n",
    "for c in tqdm(sorted(TARGET_COLS, key=lambda x: x.split(\"_\")[1], reverse=True)):\n",
    "    this_df = train.filter(pl.col(\"target_name_original\") == c)\n",
    "    oof, models = fit_lgb(\n",
    "        data=this_df,\n",
    "        features=features,\n",
    "        params=CFG[MODEL_NAME][\"params\"],\n",
    "        target_col=\"target\",\n",
    "        fold_col=\"fold\",\n",
    "        target_type=\"regression\",\n",
    "        verbose=50000,\n",
    "    )\n",
    "    this_df = this_df.with_columns(pl.Series(\"oof\", oof))\n",
    "    dfs.append(this_df)\n",
    "\n",
    "    i = int(c.split(\"_\")[1])\n",
    "    xyz = c.split(\"_\")[0]\n",
    "    mae = np.abs(this_df[\"oof\"] - this_df[\"target\"]).mean()\n",
    "    score = {\"target\": c, \"cv\": mae} | {\n",
    "        f\"fold{fold}\": np.abs(\n",
    "            this_df.filter(pl.col(\"fold\") == fold)[\"oof\"] - this_df.filter(pl.col(\"fold\") == fold)[\"target\"]\n",
    "        ).mean()\n",
    "        for fold in range(5)\n",
    "    }\n",
    "    scores.append(score)\n",
    "\n",
    "    clear_output()\n",
    "    display(pl.DataFrame(scores).sort(\"target\"))\n",
    "\n",
    "train = pl.concat(dfs)\n",
    "clear_output()\n",
    "display(pl.DataFrame(scores).sort(\"target\"))"
   ]
  },
  {
   "cell_type": "code",
   "execution_count": 8,
   "metadata": {},
   "outputs": [
    {
     "name": "stdout",
     "output_type": "stream",
     "text": [
      "MAE: 0.2149617660813801\n"
     ]
    }
   ],
   "source": [
    "mae = np.abs(train[\"oof\"] - train[\"target\"]).mean()\n",
    "print(f\"MAE: {mae}\")"
   ]
  },
  {
   "cell_type": "code",
   "execution_count": 9,
   "metadata": {},
   "outputs": [
    {
     "data": {
      "text/html": [
       "<div><style>\n",
       ".dataframe > thead > tr,\n",
       ".dataframe > tbody > tr {\n",
       "  text-align: right;\n",
       "  white-space: pre-wrap;\n",
       "}\n",
       "</style>\n",
       "<small>shape: (5, 19)</small><table border=\"1\" class=\"dataframe\"><thead><tr><th>ID</th><th>x_5</th><th>y_5</th><th>z_5</th><th>x_4</th><th>y_4</th><th>z_4</th><th>x_3</th><th>y_3</th><th>z_3</th><th>x_2</th><th>y_2</th><th>z_2</th><th>x_1</th><th>y_1</th><th>z_1</th><th>x_0</th><th>y_0</th><th>z_0</th></tr><tr><td>str</td><td>f64</td><td>f64</td><td>f64</td><td>f64</td><td>f64</td><td>f64</td><td>f64</td><td>f64</td><td>f64</td><td>f64</td><td>f64</td><td>f64</td><td>f64</td><td>f64</td><td>f64</td><td>f64</td><td>f64</td><td>f64</td></tr></thead><tbody><tr><td>&quot;00066be8e20318869c38c66be46663…</td><td>22.333394</td><td>-0.495721</td><td>0.170445</td><td>17.974801</td><td>-0.307298</td><td>0.122692</td><td>13.554547</td><td>-0.13487</td><td>0.086634</td><td>9.204076</td><td>-0.022538</td><td>0.069425</td><td>5.938599</td><td>-0.033567</td><td>0.023516</td><td>2.689897</td><td>-0.00109</td><td>0.017039</td></tr><tr><td>&quot;00066be8e20318869c38c66be46663…</td><td>32.103596</td><td>-0.770213</td><td>0.151166</td><td>26.710388</td><td>-0.718927</td><td>0.117289</td><td>21.452011</td><td>-0.384485</td><td>0.106703</td><td>16.046806</td><td>-0.403307</td><td>0.080189</td><td>10.593637</td><td>-0.241345</td><td>0.032359</td><td>5.046198</td><td>-0.074474</td><td>0.023015</td></tr><tr><td>&quot;00066be8e20318869c38c66be46663…</td><td>32.494253</td><td>-0.262193</td><td>0.161021</td><td>26.561009</td><td>-0.260789</td><td>0.117969</td><td>20.986193</td><td>-0.154247</td><td>0.114744</td><td>15.655412</td><td>-0.075275</td><td>0.080898</td><td>10.146153</td><td>-0.056597</td><td>0.033953</td><td>4.774744</td><td>-0.025693</td><td>0.022368</td></tr><tr><td>&quot;000fb056f97572d384bae4f5fc1e0f…</td><td>14.445091</td><td>-0.763033</td><td>0.080021</td><td>11.329737</td><td>-0.521458</td><td>0.046855</td><td>8.814815</td><td>-0.357669</td><td>0.035565</td><td>5.838932</td><td>-0.246986</td><td>0.020457</td><td>3.700123</td><td>-0.116017</td><td>0.009566</td><td>1.616424</td><td>-0.054994</td><td>0.002238</td></tr><tr><td>&quot;000fb056f97572d384bae4f5fc1e0f…</td><td>17.821408</td><td>1.2289</td><td>-0.034571</td><td>15.286568</td><td>0.829962</td><td>-0.024545</td><td>11.962893</td><td>0.569597</td><td>-0.015602</td><td>8.838489</td><td>0.281422</td><td>-0.007811</td><td>5.789547</td><td>0.109082</td><td>-0.000321</td><td>2.798834</td><td>0.019786</td><td>-0.001079</td></tr></tbody></table></div>"
      ],
      "text/plain": [
       "shape: (5, 19)\n",
       "┌───────────┬───────────┬───────────┬───────────┬───┬───────────┬──────────┬───────────┬───────────┐\n",
       "│ ID        ┆ x_5       ┆ y_5       ┆ z_5       ┆ … ┆ z_1       ┆ x_0      ┆ y_0       ┆ z_0       │\n",
       "│ ---       ┆ ---       ┆ ---       ┆ ---       ┆   ┆ ---       ┆ ---      ┆ ---       ┆ ---       │\n",
       "│ str       ┆ f64       ┆ f64       ┆ f64       ┆   ┆ f64       ┆ f64      ┆ f64       ┆ f64       │\n",
       "╞═══════════╪═══════════╪═══════════╪═══════════╪═══╪═══════════╪══════════╪═══════════╪═══════════╡\n",
       "│ 00066be8e ┆ 22.333394 ┆ -0.495721 ┆ 0.170445  ┆ … ┆ 0.023516  ┆ 2.689897 ┆ -0.00109  ┆ 0.017039  │\n",
       "│ 20318869c ┆           ┆           ┆           ┆   ┆           ┆          ┆           ┆           │\n",
       "│ 38c66be46 ┆           ┆           ┆           ┆   ┆           ┆          ┆           ┆           │\n",
       "│ 663…      ┆           ┆           ┆           ┆   ┆           ┆          ┆           ┆           │\n",
       "│ 00066be8e ┆ 32.103596 ┆ -0.770213 ┆ 0.151166  ┆ … ┆ 0.032359  ┆ 5.046198 ┆ -0.074474 ┆ 0.023015  │\n",
       "│ 20318869c ┆           ┆           ┆           ┆   ┆           ┆          ┆           ┆           │\n",
       "│ 38c66be46 ┆           ┆           ┆           ┆   ┆           ┆          ┆           ┆           │\n",
       "│ 663…      ┆           ┆           ┆           ┆   ┆           ┆          ┆           ┆           │\n",
       "│ 00066be8e ┆ 32.494253 ┆ -0.262193 ┆ 0.161021  ┆ … ┆ 0.033953  ┆ 4.774744 ┆ -0.025693 ┆ 0.022368  │\n",
       "│ 20318869c ┆           ┆           ┆           ┆   ┆           ┆          ┆           ┆           │\n",
       "│ 38c66be46 ┆           ┆           ┆           ┆   ┆           ┆          ┆           ┆           │\n",
       "│ 663…      ┆           ┆           ┆           ┆   ┆           ┆          ┆           ┆           │\n",
       "│ 000fb056f ┆ 14.445091 ┆ -0.763033 ┆ 0.080021  ┆ … ┆ 0.009566  ┆ 1.616424 ┆ -0.054994 ┆ 0.002238  │\n",
       "│ 97572d384 ┆           ┆           ┆           ┆   ┆           ┆          ┆           ┆           │\n",
       "│ bae4f5fc1 ┆           ┆           ┆           ┆   ┆           ┆          ┆           ┆           │\n",
       "│ e0f…      ┆           ┆           ┆           ┆   ┆           ┆          ┆           ┆           │\n",
       "│ 000fb056f ┆ 17.821408 ┆ 1.2289    ┆ -0.034571 ┆ … ┆ -0.000321 ┆ 2.798834 ┆ 0.019786  ┆ -0.001079 │\n",
       "│ 97572d384 ┆           ┆           ┆           ┆   ┆           ┆          ┆           ┆           │\n",
       "│ bae4f5fc1 ┆           ┆           ┆           ┆   ┆           ┆          ┆           ┆           │\n",
       "│ e0f…      ┆           ┆           ┆           ┆   ┆           ┆          ┆           ┆           │\n",
       "└───────────┴───────────┴───────────┴───────────┴───┴───────────┴──────────┴───────────┴───────────┘"
      ]
     },
     "execution_count": 9,
     "metadata": {},
     "output_type": "execute_result"
    }
   ],
   "source": [
    "oof_df = (\n",
    "    train.select([\"ID\", \"target_name_original\", \"oof\"])\n",
    "    .with_columns(pl.col(\"target_name_original\"))\n",
    "    .pivot(index=\"ID\", columns=\"target_name_original\", values=\"oof\")\n",
    ")\n",
    "oof_df.head()"
   ]
  },
  {
   "cell_type": "code",
   "execution_count": 10,
   "metadata": {},
   "outputs": [],
   "source": [
    "oof_df.write_csv(os.path.join(CFG[\"output_dir\"], \"oof.csv\"))"
   ]
  },
  {
   "cell_type": "code",
   "execution_count": null,
   "metadata": {},
   "outputs": [],
   "source": []
  }
 ],
 "metadata": {
  "kernelspec": {
   "display_name": "base",
   "language": "python",
   "name": "python3"
  },
  "language_info": {
   "codemirror_mode": {
    "name": "ipython",
    "version": 3
   },
   "file_extension": ".py",
   "mimetype": "text/x-python",
   "name": "python",
   "nbconvert_exporter": "python",
   "pygments_lexer": "ipython3",
   "version": "3.10.14"
  }
 },
 "nbformat": 4,
 "nbformat_minor": 2
}
