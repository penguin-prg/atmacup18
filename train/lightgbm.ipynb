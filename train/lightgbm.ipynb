{
 "cells": [
  {
   "cell_type": "code",
   "execution_count": 1,
   "metadata": {},
   "outputs": [
    {
     "name": "stdout",
     "output_type": "stream",
     "text": [
      "/kaggle/working\n"
     ]
    }
   ],
   "source": [
    "!rm -r /kaggle/working/*\n",
    "%cd /kaggle/working"
   ]
  },
  {
   "cell_type": "code",
   "execution_count": 2,
   "metadata": {},
   "outputs": [],
   "source": [
    "import os\n",
    "import sys\n",
    "\n",
    "PACKAGE_DIR = \"/kaggle/src\"\n",
    "sys.path.append(PACKAGE_DIR)\n",
    "sys.path.append(os.path.join(PACKAGE_DIR, \"Penguin-ML-Library\"))"
   ]
  },
  {
   "cell_type": "code",
   "execution_count": 3,
   "metadata": {},
   "outputs": [
    {
     "name": "stderr",
     "output_type": "stream",
     "text": [
      "2024-11-20 09:07:34.999859: I tensorflow/core/util/port.cc:113] oneDNN custom operations are on. You may see slightly different numerical results due to floating-point round-off errors from different computation orders. To turn them off, set the environment variable `TF_ENABLE_ONEDNN_OPTS=0`.\n",
      "2024-11-20 09:07:35.027056: I tensorflow/core/platform/cpu_feature_guard.cc:210] This TensorFlow binary is optimized to use available CPU instructions in performance-critical operations.\n",
      "To enable the following instructions: AVX2 AVX_VNNI FMA, in other operations, rebuild TensorFlow with the appropriate compiler flags.\n"
     ]
    },
    {
     "name": "stdout",
     "output_type": "stream",
     "text": [
      "exp_010\n"
     ]
    },
    {
     "name": "stderr",
     "output_type": "stream",
     "text": [
      "/opt/conda/lib/python3.10/pty.py:89: RuntimeWarning: os.fork() was called. os.fork() is incompatible with multithreaded code, and JAX is multithreaded, so this will likely lead to a deadlock.\n",
      "  pid, fd = os.forkpty()\n",
      "set seed: 46\n"
     ]
    }
   ],
   "source": [
    "import yaml\n",
    "from penguinml.utils.logger import get_logger, init_logger\n",
    "from penguinml.utils.set_seed import seed_base\n",
    "\n",
    "MODEL_NAME = \"lightgbm\"\n",
    "CFG = yaml.safe_load(open(os.path.join(PACKAGE_DIR, \"config.yaml\"), \"r\"))\n",
    "print(CFG[MODEL_NAME][\"execution\"][\"exp_id\"])\n",
    "CFG[\"output_dir\"] = f\"/kaggle/output/{CFG[MODEL_NAME]['execution']['exp_id']}\"\n",
    "!rm -r {CFG[\"output_dir\"]}\n",
    "os.makedirs(CFG[\"output_dir\"], exist_ok=True)\n",
    "\n",
    "init_logger(f\"{ CFG[MODEL_NAME]['execution']['exp_id']}.log\")\n",
    "logger = get_logger(\"main\")\n",
    "seed_base(CFG[MODEL_NAME][\"execution\"][\"seed\"])"
   ]
  },
  {
   "cell_type": "code",
   "execution_count": 4,
   "metadata": {},
   "outputs": [
    {
     "name": "stdout",
     "output_type": "stream",
     "text": [
      "(45098, 33)\n"
     ]
    },
    {
     "data": {
      "text/html": [
       "<div><style>\n",
       ".dataframe > thead > tr,\n",
       ".dataframe > tbody > tr {\n",
       "  text-align: right;\n",
       "  white-space: pre-wrap;\n",
       "}\n",
       "</style>\n",
       "<small>shape: (1, 33)</small><table border=\"1\" class=\"dataframe\"><thead><tr><th>ID</th><th>vEgo</th><th>aEgo</th><th>steeringAngleDeg</th><th>steeringTorque</th><th>brake</th><th>brakePressed</th><th>gas</th><th>gasPressed</th><th>gearShifter</th><th>leftBlinker</th><th>rightBlinker</th><th>x_0</th><th>y_0</th><th>z_0</th><th>x_1</th><th>y_1</th><th>z_1</th><th>x_2</th><th>y_2</th><th>z_2</th><th>x_3</th><th>y_3</th><th>z_3</th><th>x_4</th><th>y_4</th><th>z_4</th><th>x_5</th><th>y_5</th><th>z_5</th><th>sceneID</th><th>offset</th><th>submit</th></tr><tr><td>str</td><td>f64</td><td>f64</td><td>f64</td><td>f64</td><td>f64</td><td>bool</td><td>f64</td><td>bool</td><td>str</td><td>bool</td><td>bool</td><td>f64</td><td>f64</td><td>f64</td><td>f64</td><td>f64</td><td>f64</td><td>f64</td><td>f64</td><td>f64</td><td>f64</td><td>f64</td><td>f64</td><td>f64</td><td>f64</td><td>f64</td><td>f64</td><td>f64</td><td>f64</td><td>str</td><td>f32</td><td>bool</td></tr></thead><tbody><tr><td>&quot;00066be8e20318869c38c66be46663…</td><td>5.701526</td><td>1.538456</td><td>-2.165777</td><td>-139.0</td><td>0.0</td><td>false</td><td>0.25</td><td>true</td><td>&quot;drive&quot;</td><td>false</td><td>false</td><td>2.82959</td><td>0.032226</td><td>0.045187</td><td>6.231999</td><td>0.065895</td><td>0.107974</td><td>9.785009</td><td>0.124972</td><td>0.203649</td><td>13.485472</td><td>0.163448</td><td>0.302818</td><td>17.574227</td><td>0.174289</td><td>0.406331</td><td>21.951269</td><td>0.199503</td><td>0.485079</td><td>&quot;00066be8e20318869c38c66be46663…</td><td>320.0</td><td>false</td></tr></tbody></table></div>"
      ],
      "text/plain": [
       "shape: (1, 33)\n",
       "┌──────────────┬──────────┬──────────┬──────────────┬───┬──────────┬─────────────┬────────┬────────┐\n",
       "│ ID           ┆ vEgo     ┆ aEgo     ┆ steeringAngl ┆ … ┆ z_5      ┆ sceneID     ┆ offset ┆ submit │\n",
       "│ ---          ┆ ---      ┆ ---      ┆ eDeg         ┆   ┆ ---      ┆ ---         ┆ ---    ┆ ---    │\n",
       "│ str          ┆ f64      ┆ f64      ┆ ---          ┆   ┆ f64      ┆ str         ┆ f32    ┆ bool   │\n",
       "│              ┆          ┆          ┆ f64          ┆   ┆          ┆             ┆        ┆        │\n",
       "╞══════════════╪══════════╪══════════╪══════════════╪═══╪══════════╪═════════════╪════════╪════════╡\n",
       "│ 00066be8e203 ┆ 5.701526 ┆ 1.538456 ┆ -2.165777    ┆ … ┆ 0.485079 ┆ 00066be8e20 ┆ 320.0  ┆ false  │\n",
       "│ 18869c38c66b ┆          ┆          ┆              ┆   ┆          ┆ 318869c38c6 ┆        ┆        │\n",
       "│ e46663…      ┆          ┆          ┆              ┆   ┆          ┆ 6be46663…   ┆        ┆        │\n",
       "└──────────────┴──────────┴──────────┴──────────────┴───┴──────────┴─────────────┴────────┴────────┘"
      ]
     },
     "execution_count": 4,
     "metadata": {},
     "output_type": "execute_result"
    }
   ],
   "source": [
    "import warnings\n",
    "\n",
    "import numpy as np\n",
    "import polars as pl\n",
    "from IPython.display import clear_output, display\n",
    "from penguinml.gbdt.lightgbm import fit_lgb, inference_lgb\n",
    "from tqdm import tqdm\n",
    "\n",
    "from const import TARGET_COLS\n",
    "from feature_engineering import feature_engineer\n",
    "\n",
    "warnings.filterwarnings(\"ignore\")\n",
    "pl.Config.set_tbl_rows(20)\n",
    "\n",
    "train = pl.read_csv(os.path.join(CFG[\"dataset\"][\"competition_dir\"], \"train_features.csv\"))\n",
    "train = (\n",
    "    train.with_columns(\n",
    "        pl.col(\"ID\").str.split_exact(\"_\", n=1).struct.rename_fields([\"sceneID\", \"offset\"]).alias(\"fields\")\n",
    "    )\n",
    "    .unnest(\"fields\")\n",
    "    .with_columns(\n",
    "        pl.col(\"offset\").cast(pl.Float32),\n",
    "        pl.lit(False).alias(\"submit\"),\n",
    "    )\n",
    "    # .sample(fraction=0.01)\n",
    ")\n",
    "test = pl.read_csv(os.path.join(CFG[\"dataset\"][\"competition_dir\"], \"test_features.csv\"))\n",
    "test = (\n",
    "    test.with_columns(\n",
    "        pl.col(\"ID\").str.split_exact(\"_\", n=1).struct.rename_fields([\"sceneID\", \"offset\"]).alias(\"fields\")\n",
    "    )\n",
    "    .unnest(\"fields\")\n",
    "    .with_columns(\n",
    "        pl.col(\"offset\").cast(pl.Float32),\n",
    "        pl.lit(True).alias(\"submit\"),\n",
    "    )\n",
    ")\n",
    "train = pl.concat([train, test], how=\"diagonal\")\n",
    "print(train.shape)\n",
    "train.head(1)"
   ]
  },
  {
   "cell_type": "markdown",
   "metadata": {},
   "source": [
    "## 特徴量生成\n"
   ]
  },
  {
   "cell_type": "code",
   "execution_count": 5,
   "metadata": {},
   "outputs": [
    {
     "name": "stdout",
     "output_type": "stream",
     "text": [
      "105\n"
     ]
    }
   ],
   "source": [
    "train, features = feature_engineer(train)\n",
    "print(len(features))"
   ]
  },
  {
   "cell_type": "code",
   "execution_count": 7,
   "metadata": {},
   "outputs": [
    {
     "name": "stderr",
     "output_type": "stream",
     "text": [
      "100%|██████████| 45098/45098 [00:00<00:00, 80060.81it/s]\n"
     ]
    }
   ],
   "source": [
    "# YOLOの検出結果\n",
    "import json\n",
    "from glob import glob\n",
    "\n",
    "yolo_paths = glob(\"/kaggle/input/yolo-det/det/*.json\")\n",
    "yolo_dfs = []\n",
    "for path in tqdm(yolo_paths):\n",
    "    ID = os.path.basename(path).split(\".\")[0]\n",
    "    with open(path, \"r\") as f:\n",
    "        data = json.load(f)\n",
    "\n",
    "    yolo_feature = {\n",
    "        \"ID\": ID,\n",
    "        \"num_objects\": len(data),\n",
    "    }\n",
    "    for bbox in data:\n",
    "        if bbox[\"x1\"] == bbox[\"x2\"] or bbox[\"y1\"] == bbox[\"y2\"]:\n",
    "            continue\n",
    "\n",
    "        if bbox[\"cls\"] != \"car\":\n",
    "            continue\n",
    "\n",
    "        # count\n",
    "        if bbox[\"cls\"] not in yolo_feature:\n",
    "            yolo_feature[bbox[\"cls\"]] = 0\n",
    "        yolo_feature[bbox[\"cls\"]] += 1\n",
    "\n",
    "        # 最も横方向が中央にあるものの情報\n",
    "        if f\"center_x_{bbox['cls']}\" not in yolo_feature:\n",
    "            yolo_feature[f\"center_x_{bbox['cls']}\"] = -1\n",
    "        current_dist = abs(yolo_feature[f\"center_x_{bbox['cls']}\"] - 64)\n",
    "        now_center_x = (bbox[\"x1\"] + bbox[\"x2\"]) / 2\n",
    "        now_dist = abs(now_center_x - 64)\n",
    "        if now_dist < current_dist:\n",
    "            yolo_feature[f\"center_x_{bbox['cls']}\"] = now_center_x\n",
    "            yolo_feature[f\"center_y_{bbox['cls']}\"] = (bbox[\"y1\"] + bbox[\"y2\"]) / 2\n",
    "            yolo_feature[f\"width_{bbox['cls']}\"] = bbox[\"x2\"] - bbox[\"x1\"]\n",
    "            yolo_feature[f\"height_{bbox['cls']}\"] = bbox[\"y2\"] - bbox[\"y1\"]\n",
    "            yolo_feature[f\"bottom_{bbox['cls']}\"] = bbox[\"y2\"]\n",
    "            yolo_feature[f\"area_{bbox['cls']}\"] = (bbox[\"x2\"] - bbox[\"x1\"]) * (bbox[\"y2\"] - bbox[\"y1\"])\n",
    "            yolo_feature[f\"aspect_ratio_{bbox['cls']}\"] = (bbox[\"x2\"] - bbox[\"x1\"]) / (bbox[\"y2\"] - bbox[\"y1\"])\n",
    "            yolo_feature[f\"conf_{bbox['cls']}\"] = bbox[\"conf\"]\n",
    "    yolo_dfs.append(yolo_feature)\n",
    "yolo_df = pl.DataFrame(yolo_dfs)"
   ]
  },
  {
   "cell_type": "code",
   "execution_count": 8,
   "metadata": {},
   "outputs": [],
   "source": [
    "train = train.join(yolo_df, on=\"ID\", how=\"left\")\n",
    "features.add_num_features(yolo_df.columns[1:])"
   ]
  },
  {
   "cell_type": "code",
   "execution_count": 9,
   "metadata": {},
   "outputs": [
    {
     "data": {
      "text/plain": [
       "115"
      ]
     },
     "execution_count": 9,
     "metadata": {},
     "output_type": "execute_result"
    }
   ],
   "source": [
    "len(features)"
   ]
  },
  {
   "cell_type": "markdown",
   "metadata": {},
   "source": [
    "## CV Split\n"
   ]
  },
  {
   "cell_type": "code",
   "execution_count": 10,
   "metadata": {},
   "outputs": [],
   "source": [
    "train_folds = pl.read_csv(CFG[\"dataset\"][\"train_fold_path\"])\n",
    "train = train.join(train_folds, on=\"sceneID\", how=\"left\")\n",
    "# assert train[\"fold\"].null_count() == 0"
   ]
  },
  {
   "cell_type": "markdown",
   "metadata": {},
   "source": [
    "## Training\n"
   ]
  },
  {
   "cell_type": "code",
   "execution_count": 11,
   "metadata": {},
   "outputs": [
    {
     "data": {
      "text/html": [
       "<div><style>\n",
       ".dataframe > thead > tr,\n",
       ".dataframe > tbody > tr {\n",
       "  text-align: right;\n",
       "  white-space: pre-wrap;\n",
       "}\n",
       "</style>\n",
       "<small>shape: (18, 7)</small><table border=\"1\" class=\"dataframe\"><thead><tr><th>target</th><th>cv</th><th>fold0</th><th>fold1</th><th>fold2</th><th>fold3</th><th>fold4</th></tr><tr><td>str</td><td>f64</td><td>f64</td><td>f64</td><td>f64</td><td>f64</td><td>f64</td></tr></thead><tbody><tr><td>&quot;x_0&quot;</td><td>0.061642</td><td>0.060916</td><td>0.060064</td><td>0.063404</td><td>0.061368</td><td>0.06246</td></tr><tr><td>&quot;x_1&quot;</td><td>0.131888</td><td>0.130869</td><td>0.130292</td><td>0.133656</td><td>0.130826</td><td>0.133797</td></tr><tr><td>&quot;x_2&quot;</td><td>0.224992</td><td>0.22221</td><td>0.224633</td><td>0.226127</td><td>0.2232</td><td>0.228789</td></tr><tr><td>&quot;x_3&quot;</td><td>0.351859</td><td>0.3472</td><td>0.353043</td><td>0.353461</td><td>0.349018</td><td>0.356574</td></tr><tr><td>&quot;x_4&quot;</td><td>0.505184</td><td>0.502032</td><td>0.509341</td><td>0.503765</td><td>0.502003</td><td>0.508781</td></tr><tr><td>&quot;x_5&quot;</td><td>0.679321</td><td>0.670433</td><td>0.687408</td><td>0.679472</td><td>0.676129</td><td>0.683163</td></tr><tr><td>&quot;y_0&quot;</td><td>0.031866</td><td>0.031667</td><td>0.031266</td><td>0.032187</td><td>0.031475</td><td>0.032733</td></tr><tr><td>&quot;y_1&quot;</td><td>0.072683</td><td>0.072262</td><td>0.071038</td><td>0.073153</td><td>0.072133</td><td>0.074826</td></tr><tr><td>&quot;y_2&quot;</td><td>0.130384</td><td>0.128706</td><td>0.128929</td><td>0.131818</td><td>0.128974</td><td>0.133495</td></tr><tr><td>&quot;y_3&quot;</td><td>0.214925</td><td>0.209272</td><td>0.215275</td><td>0.216409</td><td>0.213124</td><td>0.220543</td></tr><tr><td>&quot;y_4&quot;</td><td>0.330787</td><td>0.322197</td><td>0.329966</td><td>0.333876</td><td>0.329055</td><td>0.338843</td></tr><tr><td>&quot;y_5&quot;</td><td>0.476138</td><td>0.461911</td><td>0.477342</td><td>0.47984</td><td>0.473491</td><td>0.488106</td></tr><tr><td>&quot;z_0&quot;</td><td>0.025598</td><td>0.025433</td><td>0.025054</td><td>0.026077</td><td>0.026077</td><td>0.02535</td></tr><tr><td>&quot;z_1&quot;</td><td>0.053073</td><td>0.052823</td><td>0.05174</td><td>0.053652</td><td>0.054311</td><td>0.052838</td></tr><tr><td>&quot;z_2&quot;</td><td>0.081493</td><td>0.080767</td><td>0.079249</td><td>0.082252</td><td>0.083909</td><td>0.08129</td></tr><tr><td>&quot;z_3&quot;</td><td>0.111026</td><td>0.109668</td><td>0.108066</td><td>0.111656</td><td>0.114053</td><td>0.111685</td></tr><tr><td>&quot;z_4&quot;</td><td>0.141346</td><td>0.139581</td><td>0.138034</td><td>0.141672</td><td>0.145136</td><td>0.142309</td></tr><tr><td>&quot;z_5&quot;</td><td>0.173062</td><td>0.170977</td><td>0.169643</td><td>0.173187</td><td>0.177293</td><td>0.174211</td></tr></tbody></table></div>"
      ],
      "text/plain": [
       "shape: (18, 7)\n",
       "┌────────┬──────────┬──────────┬──────────┬──────────┬──────────┬──────────┐\n",
       "│ target ┆ cv       ┆ fold0    ┆ fold1    ┆ fold2    ┆ fold3    ┆ fold4    │\n",
       "│ ---    ┆ ---      ┆ ---      ┆ ---      ┆ ---      ┆ ---      ┆ ---      │\n",
       "│ str    ┆ f64      ┆ f64      ┆ f64      ┆ f64      ┆ f64      ┆ f64      │\n",
       "╞════════╪══════════╪══════════╪══════════╪══════════╪══════════╪══════════╡\n",
       "│ x_0    ┆ 0.061642 ┆ 0.060916 ┆ 0.060064 ┆ 0.063404 ┆ 0.061368 ┆ 0.06246  │\n",
       "│ x_1    ┆ 0.131888 ┆ 0.130869 ┆ 0.130292 ┆ 0.133656 ┆ 0.130826 ┆ 0.133797 │\n",
       "│ x_2    ┆ 0.224992 ┆ 0.22221  ┆ 0.224633 ┆ 0.226127 ┆ 0.2232   ┆ 0.228789 │\n",
       "│ x_3    ┆ 0.351859 ┆ 0.3472   ┆ 0.353043 ┆ 0.353461 ┆ 0.349018 ┆ 0.356574 │\n",
       "│ x_4    ┆ 0.505184 ┆ 0.502032 ┆ 0.509341 ┆ 0.503765 ┆ 0.502003 ┆ 0.508781 │\n",
       "│ x_5    ┆ 0.679321 ┆ 0.670433 ┆ 0.687408 ┆ 0.679472 ┆ 0.676129 ┆ 0.683163 │\n",
       "│ y_0    ┆ 0.031866 ┆ 0.031667 ┆ 0.031266 ┆ 0.032187 ┆ 0.031475 ┆ 0.032733 │\n",
       "│ y_1    ┆ 0.072683 ┆ 0.072262 ┆ 0.071038 ┆ 0.073153 ┆ 0.072133 ┆ 0.074826 │\n",
       "│ y_2    ┆ 0.130384 ┆ 0.128706 ┆ 0.128929 ┆ 0.131818 ┆ 0.128974 ┆ 0.133495 │\n",
       "│ y_3    ┆ 0.214925 ┆ 0.209272 ┆ 0.215275 ┆ 0.216409 ┆ 0.213124 ┆ 0.220543 │\n",
       "│ y_4    ┆ 0.330787 ┆ 0.322197 ┆ 0.329966 ┆ 0.333876 ┆ 0.329055 ┆ 0.338843 │\n",
       "│ y_5    ┆ 0.476138 ┆ 0.461911 ┆ 0.477342 ┆ 0.47984  ┆ 0.473491 ┆ 0.488106 │\n",
       "│ z_0    ┆ 0.025598 ┆ 0.025433 ┆ 0.025054 ┆ 0.026077 ┆ 0.026077 ┆ 0.02535  │\n",
       "│ z_1    ┆ 0.053073 ┆ 0.052823 ┆ 0.05174  ┆ 0.053652 ┆ 0.054311 ┆ 0.052838 │\n",
       "│ z_2    ┆ 0.081493 ┆ 0.080767 ┆ 0.079249 ┆ 0.082252 ┆ 0.083909 ┆ 0.08129  │\n",
       "│ z_3    ┆ 0.111026 ┆ 0.109668 ┆ 0.108066 ┆ 0.111656 ┆ 0.114053 ┆ 0.111685 │\n",
       "│ z_4    ┆ 0.141346 ┆ 0.139581 ┆ 0.138034 ┆ 0.141672 ┆ 0.145136 ┆ 0.142309 │\n",
       "│ z_5    ┆ 0.173062 ┆ 0.170977 ┆ 0.169643 ┆ 0.173187 ┆ 0.177293 ┆ 0.174211 │\n",
       "└────────┴──────────┴──────────┴──────────┴──────────┴──────────┴──────────┘"
      ]
     },
     "metadata": {},
     "output_type": "display_data"
    }
   ],
   "source": [
    "dfs = []\n",
    "test_dfs = []\n",
    "scores = []\n",
    "for c in tqdm(sorted(TARGET_COLS, key=lambda x: x.split(\"_\")[1], reverse=True)):\n",
    "    this_df = train.filter(pl.col(\"target_name_original\") == c)\n",
    "    this_train_df = this_df.filter(~pl.col(\"submit\"))\n",
    "    this_test_df = this_df.filter(pl.col(\"submit\"))\n",
    "\n",
    "    oof, models = fit_lgb(\n",
    "        data=this_train_df,\n",
    "        features=features,\n",
    "        params=CFG[MODEL_NAME][\"params\"],\n",
    "        target_col=\"target\",\n",
    "        fold_col=\"fold\",\n",
    "        target_type=\"regression\",\n",
    "        verbose=50000,\n",
    "    )\n",
    "    this_train_df = this_train_df.with_columns(pl.Series(\"oof\", oof))\n",
    "    dfs.append(this_train_df)\n",
    "\n",
    "    i = int(c.split(\"_\")[1])\n",
    "    xyz = c.split(\"_\")[0]\n",
    "    mae = np.abs(this_train_df[\"oof\"] - this_train_df[\"target\"]).mean()\n",
    "    score = {\"target\": c, \"cv\": mae} | {\n",
    "        f\"fold{fold}\": np.abs(\n",
    "            this_train_df.filter(pl.col(\"fold\") == fold)[\"oof\"]\n",
    "            - this_train_df.filter(pl.col(\"fold\") == fold)[\"target\"]\n",
    "        ).mean()\n",
    "        for fold in range(5)\n",
    "    }\n",
    "    scores.append(score)\n",
    "\n",
    "    # inference\n",
    "    preds = inference_lgb(\n",
    "        feat_df=this_test_df.select(features.all_features()),\n",
    "        models=models,\n",
    "        agg_func=np.mean,  # TODO: medの方がいいかも\n",
    "    )\n",
    "    this_test_df = this_test_df.with_columns(pl.Series(\"pred\", preds))\n",
    "    test_dfs.append(this_test_df)\n",
    "\n",
    "    clear_output()\n",
    "    display(pl.DataFrame(scores).sort(\"target\"))\n",
    "\n",
    "train = pl.concat(dfs)\n",
    "test = pl.concat(test_dfs)\n",
    "clear_output()\n",
    "display(pl.DataFrame(scores).sort(\"target\"))"
   ]
  },
  {
   "cell_type": "code",
   "execution_count": 12,
   "metadata": {},
   "outputs": [
    {
     "name": "stdout",
     "output_type": "stream",
     "text": [
      "MAE: 0.2109593054477809\n"
     ]
    }
   ],
   "source": [
    "mae = np.abs(train[\"oof\"] - train[\"target\"]).mean()\n",
    "print(f\"MAE: {mae}\")"
   ]
  },
  {
   "cell_type": "code",
   "execution_count": 13,
   "metadata": {},
   "outputs": [],
   "source": [
    "oof_df = (\n",
    "    train.select([\"ID\", \"target_name_original\", \"oof\"])\n",
    "    .with_columns(pl.col(\"target_name_original\"))\n",
    "    .pivot(index=\"ID\", columns=\"target_name_original\", values=\"oof\")\n",
    "    .sort(\"ID\")\n",
    ")\n",
    "submission = (\n",
    "    test.select([\"ID\", \"target_name_original\", \"pred\"])\n",
    "    .with_columns(pl.col(\"target_name_original\"))\n",
    "    .pivot(index=\"ID\", columns=\"target_name_original\", values=\"pred\")\n",
    "    .sort(\"ID\")\n",
    ")"
   ]
  },
  {
   "cell_type": "code",
   "execution_count": 14,
   "metadata": {},
   "outputs": [
    {
     "data": {
      "text/html": [
       "<div><style>\n",
       ".dataframe > thead > tr,\n",
       ".dataframe > tbody > tr {\n",
       "  text-align: right;\n",
       "  white-space: pre-wrap;\n",
       "}\n",
       "</style>\n",
       "<small>shape: (5, 19)</small><table border=\"1\" class=\"dataframe\"><thead><tr><th>ID</th><th>x_5</th><th>y_5</th><th>z_5</th><th>x_4</th><th>y_4</th><th>z_4</th><th>x_3</th><th>y_3</th><th>z_3</th><th>x_2</th><th>y_2</th><th>z_2</th><th>x_1</th><th>y_1</th><th>z_1</th><th>x_0</th><th>y_0</th><th>z_0</th></tr><tr><td>str</td><td>f64</td><td>f64</td><td>f64</td><td>f64</td><td>f64</td><td>f64</td><td>f64</td><td>f64</td><td>f64</td><td>f64</td><td>f64</td><td>f64</td><td>f64</td><td>f64</td><td>f64</td><td>f64</td><td>f64</td><td>f64</td></tr></thead><tbody><tr><td>&quot;00066be8e20318869c38c66be46663…</td><td>22.688056</td><td>-0.583073</td><td>0.166723</td><td>18.291352</td><td>-0.350866</td><td>0.128665</td><td>13.763765</td><td>-0.111687</td><td>0.080638</td><td>9.514796</td><td>-0.061318</td><td>0.058638</td><td>5.913339</td><td>-0.007898</td><td>0.025936</td><td>2.630653</td><td>-0.000919</td><td>0.010597</td></tr><tr><td>&quot;00066be8e20318869c38c66be46663…</td><td>31.61414</td><td>-1.264948</td><td>0.158804</td><td>26.528651</td><td>-0.893639</td><td>0.146638</td><td>21.220759</td><td>-0.646737</td><td>0.106837</td><td>15.88075</td><td>-0.490686</td><td>0.084539</td><td>10.53155</td><td>-0.237475</td><td>0.051871</td><td>5.030351</td><td>-0.073149</td><td>0.02123</td></tr><tr><td>&quot;00066be8e20318869c38c66be46663…</td><td>31.932585</td><td>-0.403885</td><td>0.088157</td><td>26.706545</td><td>-0.326399</td><td>0.077558</td><td>21.124439</td><td>-0.2575</td><td>0.053034</td><td>15.55707</td><td>-0.15827</td><td>0.054337</td><td>10.100031</td><td>-0.081149</td><td>0.025321</td><td>4.727233</td><td>-0.0233</td><td>0.011485</td></tr><tr><td>&quot;000fb056f97572d384bae4f5fc1e0f…</td><td>18.074964</td><td>1.113538</td><td>0.005801</td><td>15.249245</td><td>0.780063</td><td>-0.008914</td><td>11.856317</td><td>0.525219</td><td>-0.002196</td><td>8.86522</td><td>0.290896</td><td>0.006711</td><td>5.843844</td><td>0.122961</td><td>0.011625</td><td>2.782703</td><td>0.020068</td><td>0.00504</td></tr><tr><td>&quot;000fb056f97572d384bae4f5fc1e0f…</td><td>13.919083</td><td>-0.850258</td><td>0.087098</td><td>11.235675</td><td>-0.599973</td><td>0.059565</td><td>8.706441</td><td>-0.423881</td><td>0.041888</td><td>6.150948</td><td>-0.263046</td><td>0.025553</td><td>3.707369</td><td>-0.139703</td><td>0.00913</td><td>1.554488</td><td>-0.043868</td><td>0.003815</td></tr></tbody></table></div>"
      ],
      "text/plain": [
       "shape: (5, 19)\n",
       "┌──────────────┬───────────┬───────────┬──────────┬───┬──────────┬──────────┬───────────┬──────────┐\n",
       "│ ID           ┆ x_5       ┆ y_5       ┆ z_5      ┆ … ┆ z_1      ┆ x_0      ┆ y_0       ┆ z_0      │\n",
       "│ ---          ┆ ---       ┆ ---       ┆ ---      ┆   ┆ ---      ┆ ---      ┆ ---       ┆ ---      │\n",
       "│ str          ┆ f64       ┆ f64       ┆ f64      ┆   ┆ f64      ┆ f64      ┆ f64       ┆ f64      │\n",
       "╞══════════════╪═══════════╪═══════════╪══════════╪═══╪══════════╪══════════╪═══════════╪══════════╡\n",
       "│ 00066be8e203 ┆ 22.688056 ┆ -0.583073 ┆ 0.166723 ┆ … ┆ 0.025936 ┆ 2.630653 ┆ -0.000919 ┆ 0.010597 │\n",
       "│ 18869c38c66b ┆           ┆           ┆          ┆   ┆          ┆          ┆           ┆          │\n",
       "│ e46663…      ┆           ┆           ┆          ┆   ┆          ┆          ┆           ┆          │\n",
       "│ 00066be8e203 ┆ 31.61414  ┆ -1.264948 ┆ 0.158804 ┆ … ┆ 0.051871 ┆ 5.030351 ┆ -0.073149 ┆ 0.02123  │\n",
       "│ 18869c38c66b ┆           ┆           ┆          ┆   ┆          ┆          ┆           ┆          │\n",
       "│ e46663…      ┆           ┆           ┆          ┆   ┆          ┆          ┆           ┆          │\n",
       "│ 00066be8e203 ┆ 31.932585 ┆ -0.403885 ┆ 0.088157 ┆ … ┆ 0.025321 ┆ 4.727233 ┆ -0.0233   ┆ 0.011485 │\n",
       "│ 18869c38c66b ┆           ┆           ┆          ┆   ┆          ┆          ┆           ┆          │\n",
       "│ e46663…      ┆           ┆           ┆          ┆   ┆          ┆          ┆           ┆          │\n",
       "│ 000fb056f975 ┆ 18.074964 ┆ 1.113538  ┆ 0.005801 ┆ … ┆ 0.011625 ┆ 2.782703 ┆ 0.020068  ┆ 0.00504  │\n",
       "│ 72d384bae4f5 ┆           ┆           ┆          ┆   ┆          ┆          ┆           ┆          │\n",
       "│ fc1e0f…      ┆           ┆           ┆          ┆   ┆          ┆          ┆           ┆          │\n",
       "│ 000fb056f975 ┆ 13.919083 ┆ -0.850258 ┆ 0.087098 ┆ … ┆ 0.00913  ┆ 1.554488 ┆ -0.043868 ┆ 0.003815 │\n",
       "│ 72d384bae4f5 ┆           ┆           ┆          ┆   ┆          ┆          ┆           ┆          │\n",
       "│ fc1e0f…      ┆           ┆           ┆          ┆   ┆          ┆          ┆           ┆          │\n",
       "└──────────────┴───────────┴───────────┴──────────┴───┴──────────┴──────────┴───────────┴──────────┘"
      ]
     },
     "execution_count": 14,
     "metadata": {},
     "output_type": "execute_result"
    }
   ],
   "source": [
    "oof_df.write_csv(os.path.join(CFG[\"output_dir\"], \"oof.csv\"))\n",
    "oof_df.head()"
   ]
  },
  {
   "cell_type": "code",
   "execution_count": 15,
   "metadata": {},
   "outputs": [
    {
     "data": {
      "text/html": [
       "<div><style>\n",
       ".dataframe > thead > tr,\n",
       ".dataframe > tbody > tr {\n",
       "  text-align: right;\n",
       "  white-space: pre-wrap;\n",
       "}\n",
       "</style>\n",
       "<small>shape: (5, 19)</small><table border=\"1\" class=\"dataframe\"><thead><tr><th>ID</th><th>x_5</th><th>y_5</th><th>z_5</th><th>x_4</th><th>y_4</th><th>z_4</th><th>x_3</th><th>y_3</th><th>z_3</th><th>x_2</th><th>y_2</th><th>z_2</th><th>x_1</th><th>y_1</th><th>z_1</th><th>x_0</th><th>y_0</th><th>z_0</th></tr><tr><td>str</td><td>f64</td><td>f64</td><td>f64</td><td>f64</td><td>f64</td><td>f64</td><td>f64</td><td>f64</td><td>f64</td><td>f64</td><td>f64</td><td>f64</td><td>f64</td><td>f64</td><td>f64</td><td>f64</td><td>f64</td><td>f64</td></tr></thead><tbody><tr><td>&quot;012baccc145d400c896cb82065a93d…</td><td>9.186043</td><td>-0.185926</td><td>0.028913</td><td>7.558025</td><td>-0.156769</td><td>0.022406</td><td>6.22061</td><td>-0.157573</td><td>0.016847</td><td>4.612872</td><td>-0.128117</td><td>0.012314</td><td>3.109224</td><td>-0.09446</td><td>0.006935</td><td>1.485909</td><td>-0.039148</td><td>0.002069</td></tr><tr><td>&quot;012baccc145d400c896cb82065a93d…</td><td>5.038744</td><td>4.78314</td><td>0.016615</td><td>4.156984</td><td>3.720656</td><td>0.013657</td><td>3.542033</td><td>2.81844</td><td>0.004138</td><td>2.903178</td><td>1.851287</td><td>-0.002926</td><td>2.045891</td><td>1.055126</td><td>-0.000955</td><td>1.005804</td><td>0.411867</td><td>-0.002919</td></tr><tr><td>&quot;012baccc145d400c896cb82065a93d…</td><td>8.783626</td><td>-0.008953</td><td>0.011074</td><td>7.18713</td><td>0.017534</td><td>0.01291</td><td>6.085115</td><td>0.016486</td><td>0.004613</td><td>4.720412</td><td>0.016866</td><td>0.006486</td><td>3.231803</td><td>0.008528</td><td>0.003771</td><td>1.602638</td><td>0.00474</td><td>0.001099</td></tr><tr><td>&quot;012baccc145d400c896cb82065a93d…</td><td>4.423906</td><td>1.914628</td><td>-0.031154</td><td>3.947476</td><td>1.231154</td><td>-0.022403</td><td>3.127608</td><td>0.745722</td><td>-0.01115</td><td>2.430591</td><td>0.396082</td><td>-0.012398</td><td>1.663854</td><td>0.193832</td><td>-0.007027</td><td>0.858036</td><td>0.061191</td><td>-0.003623</td></tr><tr><td>&quot;01d738e799d260a10f6324f78023b3…</td><td>2.21316</td><td>-0.041349</td><td>-0.056893</td><td>2.142568</td><td>-0.025726</td><td>-0.054206</td><td>2.044318</td><td>-0.01643</td><td>-0.032966</td><td>1.748449</td><td>-0.009183</td><td>-0.019585</td><td>1.467794</td><td>-0.000802</td><td>-0.009651</td><td>0.847401</td><td>-0.001399</td><td>-0.005109</td></tr></tbody></table></div>"
      ],
      "text/plain": [
       "shape: (5, 19)\n",
       "┌────────────┬──────────┬───────────┬───────────┬───┬───────────┬──────────┬───────────┬───────────┐\n",
       "│ ID         ┆ x_5      ┆ y_5       ┆ z_5       ┆ … ┆ z_1       ┆ x_0      ┆ y_0       ┆ z_0       │\n",
       "│ ---        ┆ ---      ┆ ---       ┆ ---       ┆   ┆ ---       ┆ ---      ┆ ---       ┆ ---       │\n",
       "│ str        ┆ f64      ┆ f64       ┆ f64       ┆   ┆ f64       ┆ f64      ┆ f64       ┆ f64       │\n",
       "╞════════════╪══════════╪═══════════╪═══════════╪═══╪═══════════╪══════════╪═══════════╪═══════════╡\n",
       "│ 012baccc14 ┆ 9.186043 ┆ -0.185926 ┆ 0.028913  ┆ … ┆ 0.006935  ┆ 1.485909 ┆ -0.039148 ┆ 0.002069  │\n",
       "│ 5d400c896c ┆          ┆           ┆           ┆   ┆           ┆          ┆           ┆           │\n",
       "│ b82065a93d ┆          ┆           ┆           ┆   ┆           ┆          ┆           ┆           │\n",
       "│ …          ┆          ┆           ┆           ┆   ┆           ┆          ┆           ┆           │\n",
       "│ 012baccc14 ┆ 5.038744 ┆ 4.78314   ┆ 0.016615  ┆ … ┆ -0.000955 ┆ 1.005804 ┆ 0.411867  ┆ -0.002919 │\n",
       "│ 5d400c896c ┆          ┆           ┆           ┆   ┆           ┆          ┆           ┆           │\n",
       "│ b82065a93d ┆          ┆           ┆           ┆   ┆           ┆          ┆           ┆           │\n",
       "│ …          ┆          ┆           ┆           ┆   ┆           ┆          ┆           ┆           │\n",
       "│ 012baccc14 ┆ 8.783626 ┆ -0.008953 ┆ 0.011074  ┆ … ┆ 0.003771  ┆ 1.602638 ┆ 0.00474   ┆ 0.001099  │\n",
       "│ 5d400c896c ┆          ┆           ┆           ┆   ┆           ┆          ┆           ┆           │\n",
       "│ b82065a93d ┆          ┆           ┆           ┆   ┆           ┆          ┆           ┆           │\n",
       "│ …          ┆          ┆           ┆           ┆   ┆           ┆          ┆           ┆           │\n",
       "│ 012baccc14 ┆ 4.423906 ┆ 1.914628  ┆ -0.031154 ┆ … ┆ -0.007027 ┆ 0.858036 ┆ 0.061191  ┆ -0.003623 │\n",
       "│ 5d400c896c ┆          ┆           ┆           ┆   ┆           ┆          ┆           ┆           │\n",
       "│ b82065a93d ┆          ┆           ┆           ┆   ┆           ┆          ┆           ┆           │\n",
       "│ …          ┆          ┆           ┆           ┆   ┆           ┆          ┆           ┆           │\n",
       "│ 01d738e799 ┆ 2.21316  ┆ -0.041349 ┆ -0.056893 ┆ … ┆ -0.009651 ┆ 0.847401 ┆ -0.001399 ┆ -0.005109 │\n",
       "│ d260a10f63 ┆          ┆           ┆           ┆   ┆           ┆          ┆           ┆           │\n",
       "│ 24f78023b3 ┆          ┆           ┆           ┆   ┆           ┆          ┆           ┆           │\n",
       "│ …          ┆          ┆           ┆           ┆   ┆           ┆          ┆           ┆           │\n",
       "└────────────┴──────────┴───────────┴───────────┴───┴───────────┴──────────┴───────────┴───────────┘"
      ]
     },
     "execution_count": 15,
     "metadata": {},
     "output_type": "execute_result"
    }
   ],
   "source": [
    "submission.write_csv(os.path.join(CFG[\"output_dir\"], \"submission.csv\"))\n",
    "submission.head()"
   ]
  },
  {
   "cell_type": "code",
   "execution_count": null,
   "metadata": {},
   "outputs": [],
   "source": []
  }
 ],
 "metadata": {
  "kernelspec": {
   "display_name": "base",
   "language": "python",
   "name": "python3"
  },
  "language_info": {
   "codemirror_mode": {
    "name": "ipython",
    "version": 3
   },
   "file_extension": ".py",
   "mimetype": "text/x-python",
   "name": "python",
   "nbconvert_exporter": "python",
   "pygments_lexer": "ipython3",
   "version": "3.10.14"
  }
 },
 "nbformat": 4,
 "nbformat_minor": 2
}
