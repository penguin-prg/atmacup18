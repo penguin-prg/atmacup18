{
 "cells": [
  {
   "cell_type": "code",
   "execution_count": 1,
   "metadata": {},
   "outputs": [
    {
     "name": "stdout",
     "output_type": "stream",
     "text": [
      "/kaggle/working\n"
     ]
    }
   ],
   "source": [
    "!rm -r /kaggle/working/*\n",
    "%cd /kaggle/working"
   ]
  },
  {
   "cell_type": "code",
   "execution_count": 2,
   "metadata": {},
   "outputs": [],
   "source": [
    "import os\n",
    "import sys\n",
    "\n",
    "PACKAGE_DIR = \"/kaggle/src\"\n",
    "sys.path.append(PACKAGE_DIR)\n",
    "sys.path.append(os.path.join(PACKAGE_DIR, \"Penguin-ML-Library\"))"
   ]
  },
  {
   "cell_type": "code",
   "execution_count": 3,
   "metadata": {},
   "outputs": [
    {
     "name": "stderr",
     "output_type": "stream",
     "text": [
      "2024-11-16 14:55:24.779087: I tensorflow/core/util/port.cc:113] oneDNN custom operations are on. You may see slightly different numerical results due to floating-point round-off errors from different computation orders. To turn them off, set the environment variable `TF_ENABLE_ONEDNN_OPTS=0`.\n",
      "2024-11-16 14:55:24.805894: I tensorflow/core/platform/cpu_feature_guard.cc:210] This TensorFlow binary is optimized to use available CPU instructions in performance-critical operations.\n",
      "To enable the following instructions: AVX2 AVX_VNNI FMA, in other operations, rebuild TensorFlow with the appropriate compiler flags.\n"
     ]
    },
    {
     "name": "stdout",
     "output_type": "stream",
     "text": [
      "exp_008\n"
     ]
    },
    {
     "name": "stderr",
     "output_type": "stream",
     "text": [
      "/opt/conda/lib/python3.10/pty.py:89: RuntimeWarning: os.fork() was called. os.fork() is incompatible with multithreaded code, and JAX is multithreaded, so this will likely lead to a deadlock.\n",
      "  pid, fd = os.forkpty()\n",
      "set seed: 46\n"
     ]
    }
   ],
   "source": [
    "import yaml\n",
    "from penguinml.utils.logger import get_logger, init_logger\n",
    "from penguinml.utils.set_seed import seed_base\n",
    "\n",
    "MODEL_NAME = \"lightgbm\"\n",
    "CFG = yaml.safe_load(open(os.path.join(PACKAGE_DIR, \"config.yaml\"), \"r\"))\n",
    "print(CFG[MODEL_NAME][\"execution\"][\"exp_id\"])\n",
    "CFG[\"output_dir\"] = f\"/kaggle/output/{CFG[MODEL_NAME]['execution']['exp_id']}\"\n",
    "!rm -r {CFG[\"output_dir\"]}\n",
    "os.makedirs(CFG[\"output_dir\"], exist_ok=True)\n",
    "\n",
    "init_logger(f\"{ CFG[MODEL_NAME]['execution']['exp_id']}.log\")\n",
    "logger = get_logger(\"main\")\n",
    "seed_base(CFG[MODEL_NAME][\"execution\"][\"seed\"])"
   ]
  },
  {
   "cell_type": "code",
   "execution_count": 4,
   "metadata": {},
   "outputs": [
    {
     "name": "stdout",
     "output_type": "stream",
     "text": [
      "(43371, 32)\n"
     ]
    },
    {
     "data": {
      "text/html": [
       "<div><style>\n",
       ".dataframe > thead > tr,\n",
       ".dataframe > tbody > tr {\n",
       "  text-align: right;\n",
       "  white-space: pre-wrap;\n",
       "}\n",
       "</style>\n",
       "<small>shape: (1, 32)</small><table border=\"1\" class=\"dataframe\"><thead><tr><th>ID</th><th>vEgo</th><th>aEgo</th><th>steeringAngleDeg</th><th>steeringTorque</th><th>brake</th><th>brakePressed</th><th>gas</th><th>gasPressed</th><th>gearShifter</th><th>leftBlinker</th><th>rightBlinker</th><th>x_0</th><th>y_0</th><th>z_0</th><th>x_1</th><th>y_1</th><th>z_1</th><th>x_2</th><th>y_2</th><th>z_2</th><th>x_3</th><th>y_3</th><th>z_3</th><th>x_4</th><th>y_4</th><th>z_4</th><th>x_5</th><th>y_5</th><th>z_5</th><th>sceneID</th><th>offset</th></tr><tr><td>str</td><td>f64</td><td>f64</td><td>f64</td><td>f64</td><td>f64</td><td>bool</td><td>f64</td><td>bool</td><td>str</td><td>bool</td><td>bool</td><td>f64</td><td>f64</td><td>f64</td><td>f64</td><td>f64</td><td>f64</td><td>f64</td><td>f64</td><td>f64</td><td>f64</td><td>f64</td><td>f64</td><td>f64</td><td>f64</td><td>f64</td><td>f64</td><td>f64</td><td>f64</td><td>str</td><td>f32</td></tr></thead><tbody><tr><td>&quot;00066be8e20318869c38c66be46663…</td><td>5.701526</td><td>1.538456</td><td>-2.165777</td><td>-139.0</td><td>0.0</td><td>false</td><td>0.25</td><td>true</td><td>&quot;drive&quot;</td><td>false</td><td>false</td><td>2.82959</td><td>0.032226</td><td>0.045187</td><td>6.231999</td><td>0.065895</td><td>0.107974</td><td>9.785009</td><td>0.124972</td><td>0.203649</td><td>13.485472</td><td>0.163448</td><td>0.302818</td><td>17.574227</td><td>0.174289</td><td>0.406331</td><td>21.951269</td><td>0.199503</td><td>0.485079</td><td>&quot;00066be8e20318869c38c66be46663…</td><td>320.0</td></tr></tbody></table></div>"
      ],
      "text/plain": [
       "shape: (1, 32)\n",
       "┌─────────────┬──────────┬──────────┬─────────────┬───┬──────────┬──────────┬─────────────┬────────┐\n",
       "│ ID          ┆ vEgo     ┆ aEgo     ┆ steeringAng ┆ … ┆ y_5      ┆ z_5      ┆ sceneID     ┆ offset │\n",
       "│ ---         ┆ ---      ┆ ---      ┆ leDeg       ┆   ┆ ---      ┆ ---      ┆ ---         ┆ ---    │\n",
       "│ str         ┆ f64      ┆ f64      ┆ ---         ┆   ┆ f64      ┆ f64      ┆ str         ┆ f32    │\n",
       "│             ┆          ┆          ┆ f64         ┆   ┆          ┆          ┆             ┆        │\n",
       "╞═════════════╪══════════╪══════════╪═════════════╪═══╪══════════╪══════════╪═════════════╪════════╡\n",
       "│ 00066be8e20 ┆ 5.701526 ┆ 1.538456 ┆ -2.165777   ┆ … ┆ 0.199503 ┆ 0.485079 ┆ 00066be8e20 ┆ 320.0  │\n",
       "│ 318869c38c6 ┆          ┆          ┆             ┆   ┆          ┆          ┆ 318869c38c6 ┆        │\n",
       "│ 6be46663…   ┆          ┆          ┆             ┆   ┆          ┆          ┆ 6be46663…   ┆        │\n",
       "└─────────────┴──────────┴──────────┴─────────────┴───┴──────────┴──────────┴─────────────┴────────┘"
      ]
     },
     "execution_count": 4,
     "metadata": {},
     "output_type": "execute_result"
    }
   ],
   "source": [
    "import warnings\n",
    "\n",
    "import numpy as np\n",
    "import polars as pl\n",
    "from IPython.display import clear_output, display\n",
    "from penguinml.gbdt.lightgbm import fit_lgb, inference_lgb\n",
    "from tqdm import tqdm\n",
    "\n",
    "from const import TARGET_COLS\n",
    "from feature_engineering import feature_engineer\n",
    "\n",
    "warnings.filterwarnings(\"ignore\")\n",
    "pl.Config.set_tbl_rows(20)\n",
    "\n",
    "train = pl.read_csv(os.path.join(CFG[\"dataset\"][\"competition_dir\"], \"train_features.csv\"))\n",
    "train = (\n",
    "    train.with_columns(\n",
    "        pl.col(\"ID\").str.split_exact(\"_\", n=1).struct.rename_fields([\"sceneID\", \"offset\"]).alias(\"fields\")\n",
    "    )\n",
    "    .unnest(\"fields\")\n",
    "    .with_columns(pl.col(\"offset\").cast(pl.Float32))\n",
    ")\n",
    "print(train.shape)\n",
    "train.head(1)"
   ]
  },
  {
   "cell_type": "markdown",
   "metadata": {},
   "source": [
    "## 特徴量生成\n"
   ]
  },
  {
   "cell_type": "code",
   "execution_count": 5,
   "metadata": {},
   "outputs": [
    {
     "name": "stdout",
     "output_type": "stream",
     "text": [
      "105\n"
     ]
    }
   ],
   "source": [
    "train, features = feature_engineer(train)\n",
    "print(len(features))"
   ]
  },
  {
   "cell_type": "markdown",
   "metadata": {},
   "source": [
    "## CV Split\n"
   ]
  },
  {
   "cell_type": "code",
   "execution_count": 6,
   "metadata": {},
   "outputs": [],
   "source": [
    "train_folds = pl.read_csv(CFG[\"dataset\"][\"train_fold_path\"])\n",
    "train = train.join(train_folds, on=\"sceneID\", how=\"left\")\n",
    "assert train[\"fold\"].null_count() == 0"
   ]
  },
  {
   "cell_type": "markdown",
   "metadata": {},
   "source": [
    "## Training\n"
   ]
  },
  {
   "cell_type": "code",
   "execution_count": 7,
   "metadata": {},
   "outputs": [
    {
     "data": {
      "text/html": [
       "<div><style>\n",
       ".dataframe > thead > tr,\n",
       ".dataframe > tbody > tr {\n",
       "  text-align: right;\n",
       "  white-space: pre-wrap;\n",
       "}\n",
       "</style>\n",
       "<small>shape: (18, 7)</small><table border=\"1\" class=\"dataframe\"><thead><tr><th>target</th><th>cv</th><th>fold0</th><th>fold1</th><th>fold2</th><th>fold3</th><th>fold4</th></tr><tr><td>str</td><td>f64</td><td>f64</td><td>f64</td><td>f64</td><td>f64</td><td>f64</td></tr></thead><tbody><tr><td>&quot;x_0&quot;</td><td>0.061511</td><td>0.06091</td><td>0.060079</td><td>0.063295</td><td>0.061225</td><td>0.062046</td></tr><tr><td>&quot;x_1&quot;</td><td>0.131055</td><td>0.130114</td><td>0.129888</td><td>0.132783</td><td>0.129897</td><td>0.132596</td></tr><tr><td>&quot;x_2&quot;</td><td>0.223683</td><td>0.220524</td><td>0.222937</td><td>0.224705</td><td>0.222019</td><td>0.228229</td></tr><tr><td>&quot;x_3&quot;</td><td>0.350755</td><td>0.344214</td><td>0.353736</td><td>0.354047</td><td>0.34791</td><td>0.353871</td></tr><tr><td>&quot;x_4&quot;</td><td>0.503678</td><td>0.496198</td><td>0.511236</td><td>0.50406</td><td>0.499329</td><td>0.507566</td></tr><tr><td>&quot;x_5&quot;</td><td>0.677177</td><td>0.665286</td><td>0.689209</td><td>0.674559</td><td>0.67423</td><td>0.682601</td></tr><tr><td>&quot;y_0&quot;</td><td>0.031838</td><td>0.031707</td><td>0.031125</td><td>0.032146</td><td>0.031402</td><td>0.032808</td></tr><tr><td>&quot;y_1&quot;</td><td>0.072552</td><td>0.072208</td><td>0.070447</td><td>0.073614</td><td>0.072142</td><td>0.07435</td></tr><tr><td>&quot;y_2&quot;</td><td>0.13077</td><td>0.12929</td><td>0.128907</td><td>0.131902</td><td>0.129427</td><td>0.134322</td></tr><tr><td>&quot;y_3&quot;</td><td>0.215854</td><td>0.211024</td><td>0.214873</td><td>0.218005</td><td>0.213476</td><td>0.221894</td></tr><tr><td>&quot;y_4&quot;</td><td>0.332319</td><td>0.322718</td><td>0.331576</td><td>0.334804</td><td>0.33018</td><td>0.342318</td></tr><tr><td>&quot;y_5&quot;</td><td>0.481528</td><td>0.46821</td><td>0.482895</td><td>0.481991</td><td>0.479517</td><td>0.495026</td></tr><tr><td>&quot;z_0&quot;</td><td>0.025686</td><td>0.025555</td><td>0.025152</td><td>0.026088</td><td>0.026176</td><td>0.025459</td></tr><tr><td>&quot;z_1&quot;</td><td>0.053469</td><td>0.053273</td><td>0.051993</td><td>0.054079</td><td>0.054777</td><td>0.053225</td></tr><tr><td>&quot;z_2&quot;</td><td>0.082556</td><td>0.081851</td><td>0.080258</td><td>0.083152</td><td>0.085129</td><td>0.082388</td></tr><tr><td>&quot;z_3&quot;</td><td>0.112898</td><td>0.111601</td><td>0.10987</td><td>0.113448</td><td>0.116194</td><td>0.113376</td></tr><tr><td>&quot;z_4&quot;</td><td>0.144392</td><td>0.142989</td><td>0.140783</td><td>0.144953</td><td>0.14846</td><td>0.144776</td></tr><tr><td>&quot;z_5&quot;</td><td>0.177505</td><td>0.176314</td><td>0.173555</td><td>0.178048</td><td>0.181896</td><td>0.177714</td></tr></tbody></table></div>"
      ],
      "text/plain": [
       "shape: (18, 7)\n",
       "┌────────┬──────────┬──────────┬──────────┬──────────┬──────────┬──────────┐\n",
       "│ target ┆ cv       ┆ fold0    ┆ fold1    ┆ fold2    ┆ fold3    ┆ fold4    │\n",
       "│ ---    ┆ ---      ┆ ---      ┆ ---      ┆ ---      ┆ ---      ┆ ---      │\n",
       "│ str    ┆ f64      ┆ f64      ┆ f64      ┆ f64      ┆ f64      ┆ f64      │\n",
       "╞════════╪══════════╪══════════╪══════════╪══════════╪══════════╪══════════╡\n",
       "│ x_0    ┆ 0.061511 ┆ 0.06091  ┆ 0.060079 ┆ 0.063295 ┆ 0.061225 ┆ 0.062046 │\n",
       "│ x_1    ┆ 0.131055 ┆ 0.130114 ┆ 0.129888 ┆ 0.132783 ┆ 0.129897 ┆ 0.132596 │\n",
       "│ x_2    ┆ 0.223683 ┆ 0.220524 ┆ 0.222937 ┆ 0.224705 ┆ 0.222019 ┆ 0.228229 │\n",
       "│ x_3    ┆ 0.350755 ┆ 0.344214 ┆ 0.353736 ┆ 0.354047 ┆ 0.34791  ┆ 0.353871 │\n",
       "│ x_4    ┆ 0.503678 ┆ 0.496198 ┆ 0.511236 ┆ 0.50406  ┆ 0.499329 ┆ 0.507566 │\n",
       "│ x_5    ┆ 0.677177 ┆ 0.665286 ┆ 0.689209 ┆ 0.674559 ┆ 0.67423  ┆ 0.682601 │\n",
       "│ y_0    ┆ 0.031838 ┆ 0.031707 ┆ 0.031125 ┆ 0.032146 ┆ 0.031402 ┆ 0.032808 │\n",
       "│ y_1    ┆ 0.072552 ┆ 0.072208 ┆ 0.070447 ┆ 0.073614 ┆ 0.072142 ┆ 0.07435  │\n",
       "│ y_2    ┆ 0.13077  ┆ 0.12929  ┆ 0.128907 ┆ 0.131902 ┆ 0.129427 ┆ 0.134322 │\n",
       "│ y_3    ┆ 0.215854 ┆ 0.211024 ┆ 0.214873 ┆ 0.218005 ┆ 0.213476 ┆ 0.221894 │\n",
       "│ y_4    ┆ 0.332319 ┆ 0.322718 ┆ 0.331576 ┆ 0.334804 ┆ 0.33018  ┆ 0.342318 │\n",
       "│ y_5    ┆ 0.481528 ┆ 0.46821  ┆ 0.482895 ┆ 0.481991 ┆ 0.479517 ┆ 0.495026 │\n",
       "│ z_0    ┆ 0.025686 ┆ 0.025555 ┆ 0.025152 ┆ 0.026088 ┆ 0.026176 ┆ 0.025459 │\n",
       "│ z_1    ┆ 0.053469 ┆ 0.053273 ┆ 0.051993 ┆ 0.054079 ┆ 0.054777 ┆ 0.053225 │\n",
       "│ z_2    ┆ 0.082556 ┆ 0.081851 ┆ 0.080258 ┆ 0.083152 ┆ 0.085129 ┆ 0.082388 │\n",
       "│ z_3    ┆ 0.112898 ┆ 0.111601 ┆ 0.10987  ┆ 0.113448 ┆ 0.116194 ┆ 0.113376 │\n",
       "│ z_4    ┆ 0.144392 ┆ 0.142989 ┆ 0.140783 ┆ 0.144953 ┆ 0.14846  ┆ 0.144776 │\n",
       "│ z_5    ┆ 0.177505 ┆ 0.176314 ┆ 0.173555 ┆ 0.178048 ┆ 0.181896 ┆ 0.177714 │\n",
       "└────────┴──────────┴──────────┴──────────┴──────────┴──────────┴──────────┘"
      ]
     },
     "metadata": {},
     "output_type": "display_data"
    }
   ],
   "source": [
    "dfs = []\n",
    "scores = []\n",
    "for c in tqdm(sorted(TARGET_COLS, key=lambda x: x.split(\"_\")[1], reverse=True)):\n",
    "    this_df = train.filter(pl.col(\"target_name_original\") == c)\n",
    "    oof, models = fit_lgb(\n",
    "        data=this_df,\n",
    "        features=features,\n",
    "        params=CFG[MODEL_NAME][\"params\"],\n",
    "        target_col=\"target\",\n",
    "        fold_col=\"fold\",\n",
    "        target_type=\"regression\",\n",
    "        verbose=50000,\n",
    "    )\n",
    "    this_df = this_df.with_columns(pl.Series(\"oof\", oof))\n",
    "    dfs.append(this_df)\n",
    "\n",
    "    i = int(c.split(\"_\")[1])\n",
    "    xyz = c.split(\"_\")[0]\n",
    "    mae = np.abs(this_df[\"oof\"] - this_df[\"target\"]).mean()\n",
    "    score = {\"target\": c, \"cv\": mae} | {\n",
    "        f\"fold{fold}\": np.abs(\n",
    "            this_df.filter(pl.col(\"fold\") == fold)[\"oof\"] - this_df.filter(pl.col(\"fold\") == fold)[\"target\"]\n",
    "        ).mean()\n",
    "        for fold in range(5)\n",
    "    }\n",
    "    scores.append(score)\n",
    "\n",
    "    clear_output()\n",
    "    display(pl.DataFrame(scores).sort(\"target\"))\n",
    "\n",
    "train = pl.concat(dfs)\n",
    "clear_output()\n",
    "display(pl.DataFrame(scores).sort(\"target\"))"
   ]
  },
  {
   "cell_type": "code",
   "execution_count": 8,
   "metadata": {},
   "outputs": [
    {
     "name": "stdout",
     "output_type": "stream",
     "text": [
      "MAE: 0.21162359966297\n"
     ]
    }
   ],
   "source": [
    "mae = np.abs(train[\"oof\"] - train[\"target\"]).mean()\n",
    "print(f\"MAE: {mae}\")"
   ]
  },
  {
   "cell_type": "code",
   "execution_count": 9,
   "metadata": {},
   "outputs": [
    {
     "data": {
      "text/html": [
       "<div><style>\n",
       ".dataframe > thead > tr,\n",
       ".dataframe > tbody > tr {\n",
       "  text-align: right;\n",
       "  white-space: pre-wrap;\n",
       "}\n",
       "</style>\n",
       "<small>shape: (5, 19)</small><table border=\"1\" class=\"dataframe\"><thead><tr><th>ID</th><th>x_5</th><th>y_5</th><th>z_5</th><th>x_4</th><th>y_4</th><th>z_4</th><th>x_3</th><th>y_3</th><th>z_3</th><th>x_2</th><th>y_2</th><th>z_2</th><th>x_1</th><th>y_1</th><th>z_1</th><th>x_0</th><th>y_0</th><th>z_0</th></tr><tr><td>str</td><td>f64</td><td>f64</td><td>f64</td><td>f64</td><td>f64</td><td>f64</td><td>f64</td><td>f64</td><td>f64</td><td>f64</td><td>f64</td><td>f64</td><td>f64</td><td>f64</td><td>f64</td><td>f64</td><td>f64</td><td>f64</td></tr></thead><tbody><tr><td>&quot;00066be8e20318869c38c66be46663…</td><td>22.35674</td><td>-0.456798</td><td>0.146584</td><td>17.936957</td><td>-0.278599</td><td>0.106408</td><td>13.764888</td><td>-0.137275</td><td>0.068394</td><td>9.480743</td><td>-0.050536</td><td>0.035936</td><td>5.892587</td><td>-0.011993</td><td>0.026173</td><td>2.632299</td><td>0.004788</td><td>0.010252</td></tr><tr><td>&quot;00066be8e20318869c38c66be46663…</td><td>31.81184</td><td>-1.064219</td><td>0.125836</td><td>26.638608</td><td>-0.793587</td><td>0.105055</td><td>21.152229</td><td>-0.590548</td><td>0.130085</td><td>15.927082</td><td>-0.405887</td><td>0.068538</td><td>10.537369</td><td>-0.232908</td><td>0.0517</td><td>5.033422</td><td>-0.069232</td><td>0.016553</td></tr><tr><td>&quot;00066be8e20318869c38c66be46663…</td><td>31.707277</td><td>-0.389097</td><td>0.09333</td><td>26.699995</td><td>-0.302631</td><td>0.08712</td><td>21.053409</td><td>-0.217911</td><td>0.073546</td><td>15.576728</td><td>-0.13273</td><td>0.046212</td><td>10.079985</td><td>-0.06933</td><td>0.024713</td><td>4.741966</td><td>-0.017355</td><td>0.010333</td></tr><tr><td>&quot;000fb056f97572d384bae4f5fc1e0f…</td><td>14.126661</td><td>-0.753213</td><td>0.095061</td><td>11.369666</td><td>-0.632695</td><td>0.060883</td><td>8.930776</td><td>-0.427208</td><td>0.043425</td><td>6.061875</td><td>-0.201565</td><td>0.017495</td><td>3.630051</td><td>-0.138451</td><td>0.008878</td><td>1.57467</td><td>-0.051497</td><td>0.002661</td></tr><tr><td>&quot;000fb056f97572d384bae4f5fc1e0f…</td><td>17.446935</td><td>1.109709</td><td>0.005715</td><td>14.892217</td><td>0.757805</td><td>0.000914</td><td>11.850949</td><td>0.53762</td><td>0.00266</td><td>8.822493</td><td>0.261482</td><td>-0.001341</td><td>5.807395</td><td>0.109379</td><td>0.004992</td><td>2.76567</td><td>0.020997</td><td>0.003377</td></tr></tbody></table></div>"
      ],
      "text/plain": [
       "shape: (5, 19)\n",
       "┌──────────────┬───────────┬───────────┬──────────┬───┬──────────┬──────────┬───────────┬──────────┐\n",
       "│ ID           ┆ x_5       ┆ y_5       ┆ z_5      ┆ … ┆ z_1      ┆ x_0      ┆ y_0       ┆ z_0      │\n",
       "│ ---          ┆ ---       ┆ ---       ┆ ---      ┆   ┆ ---      ┆ ---      ┆ ---       ┆ ---      │\n",
       "│ str          ┆ f64       ┆ f64       ┆ f64      ┆   ┆ f64      ┆ f64      ┆ f64       ┆ f64      │\n",
       "╞══════════════╪═══════════╪═══════════╪══════════╪═══╪══════════╪══════════╪═══════════╪══════════╡\n",
       "│ 00066be8e203 ┆ 22.35674  ┆ -0.456798 ┆ 0.146584 ┆ … ┆ 0.026173 ┆ 2.632299 ┆ 0.004788  ┆ 0.010252 │\n",
       "│ 18869c38c66b ┆           ┆           ┆          ┆   ┆          ┆          ┆           ┆          │\n",
       "│ e46663…      ┆           ┆           ┆          ┆   ┆          ┆          ┆           ┆          │\n",
       "│ 00066be8e203 ┆ 31.81184  ┆ -1.064219 ┆ 0.125836 ┆ … ┆ 0.0517   ┆ 5.033422 ┆ -0.069232 ┆ 0.016553 │\n",
       "│ 18869c38c66b ┆           ┆           ┆          ┆   ┆          ┆          ┆           ┆          │\n",
       "│ e46663…      ┆           ┆           ┆          ┆   ┆          ┆          ┆           ┆          │\n",
       "│ 00066be8e203 ┆ 31.707277 ┆ -0.389097 ┆ 0.09333  ┆ … ┆ 0.024713 ┆ 4.741966 ┆ -0.017355 ┆ 0.010333 │\n",
       "│ 18869c38c66b ┆           ┆           ┆          ┆   ┆          ┆          ┆           ┆          │\n",
       "│ e46663…      ┆           ┆           ┆          ┆   ┆          ┆          ┆           ┆          │\n",
       "│ 000fb056f975 ┆ 14.126661 ┆ -0.753213 ┆ 0.095061 ┆ … ┆ 0.008878 ┆ 1.57467  ┆ -0.051497 ┆ 0.002661 │\n",
       "│ 72d384bae4f5 ┆           ┆           ┆          ┆   ┆          ┆          ┆           ┆          │\n",
       "│ fc1e0f…      ┆           ┆           ┆          ┆   ┆          ┆          ┆           ┆          │\n",
       "│ 000fb056f975 ┆ 17.446935 ┆ 1.109709  ┆ 0.005715 ┆ … ┆ 0.004992 ┆ 2.76567  ┆ 0.020997  ┆ 0.003377 │\n",
       "│ 72d384bae4f5 ┆           ┆           ┆          ┆   ┆          ┆          ┆           ┆          │\n",
       "│ fc1e0f…      ┆           ┆           ┆          ┆   ┆          ┆          ┆           ┆          │\n",
       "└──────────────┴───────────┴───────────┴──────────┴───┴──────────┴──────────┴───────────┴──────────┘"
      ]
     },
     "execution_count": 9,
     "metadata": {},
     "output_type": "execute_result"
    }
   ],
   "source": [
    "oof_df = (\n",
    "    train.select([\"ID\", \"target_name_original\", \"oof\"])\n",
    "    .with_columns(pl.col(\"target_name_original\"))\n",
    "    .pivot(index=\"ID\", columns=\"target_name_original\", values=\"oof\")\n",
    ")\n",
    "oof_df.head()"
   ]
  },
  {
   "cell_type": "code",
   "execution_count": 10,
   "metadata": {},
   "outputs": [],
   "source": [
    "oof_df.write_csv(os.path.join(CFG[\"output_dir\"], \"oof.csv\"))"
   ]
  },
  {
   "cell_type": "code",
   "execution_count": null,
   "metadata": {},
   "outputs": [],
   "source": []
  }
 ],
 "metadata": {
  "kernelspec": {
   "display_name": "base",
   "language": "python",
   "name": "python3"
  },
  "language_info": {
   "codemirror_mode": {
    "name": "ipython",
    "version": 3
   },
   "file_extension": ".py",
   "mimetype": "text/x-python",
   "name": "python",
   "nbconvert_exporter": "python",
   "pygments_lexer": "ipython3",
   "version": "3.10.14"
  }
 },
 "nbformat": 4,
 "nbformat_minor": 2
}
